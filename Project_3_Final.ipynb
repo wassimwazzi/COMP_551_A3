{
  "nbformat": 4,
  "nbformat_minor": 0,
  "metadata": {
    "colab": {
      "name": "Project 3 Final.ipynb",
      "provenance": [],
      "collapsed_sections": [
        "Lmijh2lKWTgC",
        "EWnKpTc-MJWs",
        "oILqk_lkv2yt",
        "IvlYDN4w1XOu",
        "5Fi71gLcsPfT",
        "8MfAGaixtZgf"
      ],
      "machine_shape": "hm"
    },
    "kernelspec": {
      "name": "python3",
      "display_name": "Python 3"
    },
    "language_info": {
      "name": "python"
    },
    "accelerator": "GPU",
    "widgets": {
      "application/vnd.jupyter.widget-state+json": {
        "15d08de0422946e1a90f8f44356e8d7a": {
          "model_module": "@jupyter-widgets/controls",
          "model_name": "HBoxModel",
          "model_module_version": "1.5.0",
          "state": {
            "_view_name": "HBoxView",
            "_dom_classes": [],
            "_model_name": "HBoxModel",
            "_view_module": "@jupyter-widgets/controls",
            "_model_module_version": "1.5.0",
            "_view_count": null,
            "_view_module_version": "1.5.0",
            "box_style": "",
            "layout": "IPY_MODEL_4a3222fe4c184ce39d04171c754831ae",
            "_model_module": "@jupyter-widgets/controls",
            "children": [
              "IPY_MODEL_641e23420cf84753bf4aaa27c88a374f",
              "IPY_MODEL_4c2f66bdb0ac48a6bbd4aee2cb662f30",
              "IPY_MODEL_65f5b497b85f445a9180d5307e23ad27"
            ]
          }
        },
        "4a3222fe4c184ce39d04171c754831ae": {
          "model_module": "@jupyter-widgets/base",
          "model_name": "LayoutModel",
          "model_module_version": "1.2.0",
          "state": {
            "_view_name": "LayoutView",
            "grid_template_rows": null,
            "right": null,
            "justify_content": null,
            "_view_module": "@jupyter-widgets/base",
            "overflow": null,
            "_model_module_version": "1.2.0",
            "_view_count": null,
            "flex_flow": null,
            "width": null,
            "min_width": null,
            "border": null,
            "align_items": null,
            "bottom": null,
            "_model_module": "@jupyter-widgets/base",
            "top": null,
            "grid_column": null,
            "overflow_y": null,
            "overflow_x": null,
            "grid_auto_flow": null,
            "grid_area": null,
            "grid_template_columns": null,
            "flex": null,
            "_model_name": "LayoutModel",
            "justify_items": null,
            "grid_row": null,
            "max_height": null,
            "align_content": null,
            "visibility": null,
            "align_self": null,
            "height": null,
            "min_height": null,
            "padding": null,
            "grid_auto_rows": null,
            "grid_gap": null,
            "max_width": null,
            "order": null,
            "_view_module_version": "1.2.0",
            "grid_template_areas": null,
            "object_position": null,
            "object_fit": null,
            "grid_auto_columns": null,
            "margin": null,
            "display": null,
            "left": null
          }
        },
        "641e23420cf84753bf4aaa27c88a374f": {
          "model_module": "@jupyter-widgets/controls",
          "model_name": "HTMLModel",
          "model_module_version": "1.5.0",
          "state": {
            "_view_name": "HTMLView",
            "style": "IPY_MODEL_16e68bc394824f9496a20181195b8523",
            "_dom_classes": [],
            "description": "",
            "_model_name": "HTMLModel",
            "placeholder": "​",
            "_view_module": "@jupyter-widgets/controls",
            "_model_module_version": "1.5.0",
            "value": "100%",
            "_view_count": null,
            "_view_module_version": "1.5.0",
            "description_tooltip": null,
            "_model_module": "@jupyter-widgets/controls",
            "layout": "IPY_MODEL_1b31e41fee54475b886ffa4fef1fbebe"
          }
        },
        "4c2f66bdb0ac48a6bbd4aee2cb662f30": {
          "model_module": "@jupyter-widgets/controls",
          "model_name": "FloatProgressModel",
          "model_module_version": "1.5.0",
          "state": {
            "_view_name": "ProgressView",
            "style": "IPY_MODEL_9b08091e184a4a5ca65aac9ef11b0fe6",
            "_dom_classes": [],
            "description": "",
            "_model_name": "FloatProgressModel",
            "bar_style": "success",
            "max": 1407,
            "_view_module": "@jupyter-widgets/controls",
            "_model_module_version": "1.5.0",
            "value": 1407,
            "_view_count": null,
            "_view_module_version": "1.5.0",
            "orientation": "horizontal",
            "min": 0,
            "description_tooltip": null,
            "_model_module": "@jupyter-widgets/controls",
            "layout": "IPY_MODEL_9f825e6bbac440e29a024fa863c182f0"
          }
        },
        "65f5b497b85f445a9180d5307e23ad27": {
          "model_module": "@jupyter-widgets/controls",
          "model_name": "HTMLModel",
          "model_module_version": "1.5.0",
          "state": {
            "_view_name": "HTMLView",
            "style": "IPY_MODEL_3d54fbcc704545d7a9e9932c4edd2697",
            "_dom_classes": [],
            "description": "",
            "_model_name": "HTMLModel",
            "placeholder": "​",
            "_view_module": "@jupyter-widgets/controls",
            "_model_module_version": "1.5.0",
            "value": " 1407/1407 [01:55&lt;00:00, 12.46it/s]",
            "_view_count": null,
            "_view_module_version": "1.5.0",
            "description_tooltip": null,
            "_model_module": "@jupyter-widgets/controls",
            "layout": "IPY_MODEL_0fa9267a0e7d497aacb70c8429cfc6f6"
          }
        },
        "16e68bc394824f9496a20181195b8523": {
          "model_module": "@jupyter-widgets/controls",
          "model_name": "DescriptionStyleModel",
          "model_module_version": "1.5.0",
          "state": {
            "_view_name": "StyleView",
            "_model_name": "DescriptionStyleModel",
            "description_width": "",
            "_view_module": "@jupyter-widgets/base",
            "_model_module_version": "1.5.0",
            "_view_count": null,
            "_view_module_version": "1.2.0",
            "_model_module": "@jupyter-widgets/controls"
          }
        },
        "1b31e41fee54475b886ffa4fef1fbebe": {
          "model_module": "@jupyter-widgets/base",
          "model_name": "LayoutModel",
          "model_module_version": "1.2.0",
          "state": {
            "_view_name": "LayoutView",
            "grid_template_rows": null,
            "right": null,
            "justify_content": null,
            "_view_module": "@jupyter-widgets/base",
            "overflow": null,
            "_model_module_version": "1.2.0",
            "_view_count": null,
            "flex_flow": null,
            "width": null,
            "min_width": null,
            "border": null,
            "align_items": null,
            "bottom": null,
            "_model_module": "@jupyter-widgets/base",
            "top": null,
            "grid_column": null,
            "overflow_y": null,
            "overflow_x": null,
            "grid_auto_flow": null,
            "grid_area": null,
            "grid_template_columns": null,
            "flex": null,
            "_model_name": "LayoutModel",
            "justify_items": null,
            "grid_row": null,
            "max_height": null,
            "align_content": null,
            "visibility": null,
            "align_self": null,
            "height": null,
            "min_height": null,
            "padding": null,
            "grid_auto_rows": null,
            "grid_gap": null,
            "max_width": null,
            "order": null,
            "_view_module_version": "1.2.0",
            "grid_template_areas": null,
            "object_position": null,
            "object_fit": null,
            "grid_auto_columns": null,
            "margin": null,
            "display": null,
            "left": null
          }
        },
        "9b08091e184a4a5ca65aac9ef11b0fe6": {
          "model_module": "@jupyter-widgets/controls",
          "model_name": "ProgressStyleModel",
          "model_module_version": "1.5.0",
          "state": {
            "_view_name": "StyleView",
            "_model_name": "ProgressStyleModel",
            "description_width": "",
            "_view_module": "@jupyter-widgets/base",
            "_model_module_version": "1.5.0",
            "_view_count": null,
            "_view_module_version": "1.2.0",
            "bar_color": null,
            "_model_module": "@jupyter-widgets/controls"
          }
        },
        "9f825e6bbac440e29a024fa863c182f0": {
          "model_module": "@jupyter-widgets/base",
          "model_name": "LayoutModel",
          "model_module_version": "1.2.0",
          "state": {
            "_view_name": "LayoutView",
            "grid_template_rows": null,
            "right": null,
            "justify_content": null,
            "_view_module": "@jupyter-widgets/base",
            "overflow": null,
            "_model_module_version": "1.2.0",
            "_view_count": null,
            "flex_flow": null,
            "width": null,
            "min_width": null,
            "border": null,
            "align_items": null,
            "bottom": null,
            "_model_module": "@jupyter-widgets/base",
            "top": null,
            "grid_column": null,
            "overflow_y": null,
            "overflow_x": null,
            "grid_auto_flow": null,
            "grid_area": null,
            "grid_template_columns": null,
            "flex": null,
            "_model_name": "LayoutModel",
            "justify_items": null,
            "grid_row": null,
            "max_height": null,
            "align_content": null,
            "visibility": null,
            "align_self": null,
            "height": null,
            "min_height": null,
            "padding": null,
            "grid_auto_rows": null,
            "grid_gap": null,
            "max_width": null,
            "order": null,
            "_view_module_version": "1.2.0",
            "grid_template_areas": null,
            "object_position": null,
            "object_fit": null,
            "grid_auto_columns": null,
            "margin": null,
            "display": null,
            "left": null
          }
        },
        "3d54fbcc704545d7a9e9932c4edd2697": {
          "model_module": "@jupyter-widgets/controls",
          "model_name": "DescriptionStyleModel",
          "model_module_version": "1.5.0",
          "state": {
            "_view_name": "StyleView",
            "_model_name": "DescriptionStyleModel",
            "description_width": "",
            "_view_module": "@jupyter-widgets/base",
            "_model_module_version": "1.5.0",
            "_view_count": null,
            "_view_module_version": "1.2.0",
            "_model_module": "@jupyter-widgets/controls"
          }
        },
        "0fa9267a0e7d497aacb70c8429cfc6f6": {
          "model_module": "@jupyter-widgets/base",
          "model_name": "LayoutModel",
          "model_module_version": "1.2.0",
          "state": {
            "_view_name": "LayoutView",
            "grid_template_rows": null,
            "right": null,
            "justify_content": null,
            "_view_module": "@jupyter-widgets/base",
            "overflow": null,
            "_model_module_version": "1.2.0",
            "_view_count": null,
            "flex_flow": null,
            "width": null,
            "min_width": null,
            "border": null,
            "align_items": null,
            "bottom": null,
            "_model_module": "@jupyter-widgets/base",
            "top": null,
            "grid_column": null,
            "overflow_y": null,
            "overflow_x": null,
            "grid_auto_flow": null,
            "grid_area": null,
            "grid_template_columns": null,
            "flex": null,
            "_model_name": "LayoutModel",
            "justify_items": null,
            "grid_row": null,
            "max_height": null,
            "align_content": null,
            "visibility": null,
            "align_self": null,
            "height": null,
            "min_height": null,
            "padding": null,
            "grid_auto_rows": null,
            "grid_gap": null,
            "max_width": null,
            "order": null,
            "_view_module_version": "1.2.0",
            "grid_template_areas": null,
            "object_position": null,
            "object_fit": null,
            "grid_auto_columns": null,
            "margin": null,
            "display": null,
            "left": null
          }
        },
        "dd3fff7ddf8442d197078c6b6f8bdbcb": {
          "model_module": "@jupyter-widgets/controls",
          "model_name": "HBoxModel",
          "model_module_version": "1.5.0",
          "state": {
            "_view_name": "HBoxView",
            "_dom_classes": [],
            "_model_name": "HBoxModel",
            "_view_module": "@jupyter-widgets/controls",
            "_model_module_version": "1.5.0",
            "_view_count": null,
            "_view_module_version": "1.5.0",
            "box_style": "",
            "layout": "IPY_MODEL_70c001d41a34472c9ad6554fd079bd33",
            "_model_module": "@jupyter-widgets/controls",
            "children": [
              "IPY_MODEL_a9f83ffa24ff43aa97c05fbe4de90d60",
              "IPY_MODEL_8780982c235047d3aba95f8532de96a6",
              "IPY_MODEL_970d662663094d37a74c1cee8083a3d7"
            ]
          }
        },
        "70c001d41a34472c9ad6554fd079bd33": {
          "model_module": "@jupyter-widgets/base",
          "model_name": "LayoutModel",
          "model_module_version": "1.2.0",
          "state": {
            "_view_name": "LayoutView",
            "grid_template_rows": null,
            "right": null,
            "justify_content": null,
            "_view_module": "@jupyter-widgets/base",
            "overflow": null,
            "_model_module_version": "1.2.0",
            "_view_count": null,
            "flex_flow": null,
            "width": null,
            "min_width": null,
            "border": null,
            "align_items": null,
            "bottom": null,
            "_model_module": "@jupyter-widgets/base",
            "top": null,
            "grid_column": null,
            "overflow_y": null,
            "overflow_x": null,
            "grid_auto_flow": null,
            "grid_area": null,
            "grid_template_columns": null,
            "flex": null,
            "_model_name": "LayoutModel",
            "justify_items": null,
            "grid_row": null,
            "max_height": null,
            "align_content": null,
            "visibility": null,
            "align_self": null,
            "height": null,
            "min_height": null,
            "padding": null,
            "grid_auto_rows": null,
            "grid_gap": null,
            "max_width": null,
            "order": null,
            "_view_module_version": "1.2.0",
            "grid_template_areas": null,
            "object_position": null,
            "object_fit": null,
            "grid_auto_columns": null,
            "margin": null,
            "display": null,
            "left": null
          }
        },
        "a9f83ffa24ff43aa97c05fbe4de90d60": {
          "model_module": "@jupyter-widgets/controls",
          "model_name": "HTMLModel",
          "model_module_version": "1.5.0",
          "state": {
            "_view_name": "HTMLView",
            "style": "IPY_MODEL_ee7927e5169143dfb5e6de0cd94163c9",
            "_dom_classes": [],
            "description": "",
            "_model_name": "HTMLModel",
            "placeholder": "​",
            "_view_module": "@jupyter-widgets/controls",
            "_model_module_version": "1.5.0",
            "value": "100%",
            "_view_count": null,
            "_view_module_version": "1.5.0",
            "description_tooltip": null,
            "_model_module": "@jupyter-widgets/controls",
            "layout": "IPY_MODEL_10873bdd077c4218b0e88cdbcab278ab"
          }
        },
        "8780982c235047d3aba95f8532de96a6": {
          "model_module": "@jupyter-widgets/controls",
          "model_name": "FloatProgressModel",
          "model_module_version": "1.5.0",
          "state": {
            "_view_name": "ProgressView",
            "style": "IPY_MODEL_e9c690d78b6545969df5f782c97e67bf",
            "_dom_classes": [],
            "description": "",
            "_model_name": "FloatProgressModel",
            "bar_style": "success",
            "max": 1407,
            "_view_module": "@jupyter-widgets/controls",
            "_model_module_version": "1.5.0",
            "value": 1407,
            "_view_count": null,
            "_view_module_version": "1.5.0",
            "orientation": "horizontal",
            "min": 0,
            "description_tooltip": null,
            "_model_module": "@jupyter-widgets/controls",
            "layout": "IPY_MODEL_aa22693f30c148b8bd29827b1b1b2627"
          }
        },
        "970d662663094d37a74c1cee8083a3d7": {
          "model_module": "@jupyter-widgets/controls",
          "model_name": "HTMLModel",
          "model_module_version": "1.5.0",
          "state": {
            "_view_name": "HTMLView",
            "style": "IPY_MODEL_61e118413b6144d687482cd18d56d23d",
            "_dom_classes": [],
            "description": "",
            "_model_name": "HTMLModel",
            "placeholder": "​",
            "_view_module": "@jupyter-widgets/controls",
            "_model_module_version": "1.5.0",
            "value": " 1407/1407 [01:54&lt;00:00, 12.22it/s]",
            "_view_count": null,
            "_view_module_version": "1.5.0",
            "description_tooltip": null,
            "_model_module": "@jupyter-widgets/controls",
            "layout": "IPY_MODEL_fc7e754be04b475f819ac8c3211de806"
          }
        },
        "ee7927e5169143dfb5e6de0cd94163c9": {
          "model_module": "@jupyter-widgets/controls",
          "model_name": "DescriptionStyleModel",
          "model_module_version": "1.5.0",
          "state": {
            "_view_name": "StyleView",
            "_model_name": "DescriptionStyleModel",
            "description_width": "",
            "_view_module": "@jupyter-widgets/base",
            "_model_module_version": "1.5.0",
            "_view_count": null,
            "_view_module_version": "1.2.0",
            "_model_module": "@jupyter-widgets/controls"
          }
        },
        "10873bdd077c4218b0e88cdbcab278ab": {
          "model_module": "@jupyter-widgets/base",
          "model_name": "LayoutModel",
          "model_module_version": "1.2.0",
          "state": {
            "_view_name": "LayoutView",
            "grid_template_rows": null,
            "right": null,
            "justify_content": null,
            "_view_module": "@jupyter-widgets/base",
            "overflow": null,
            "_model_module_version": "1.2.0",
            "_view_count": null,
            "flex_flow": null,
            "width": null,
            "min_width": null,
            "border": null,
            "align_items": null,
            "bottom": null,
            "_model_module": "@jupyter-widgets/base",
            "top": null,
            "grid_column": null,
            "overflow_y": null,
            "overflow_x": null,
            "grid_auto_flow": null,
            "grid_area": null,
            "grid_template_columns": null,
            "flex": null,
            "_model_name": "LayoutModel",
            "justify_items": null,
            "grid_row": null,
            "max_height": null,
            "align_content": null,
            "visibility": null,
            "align_self": null,
            "height": null,
            "min_height": null,
            "padding": null,
            "grid_auto_rows": null,
            "grid_gap": null,
            "max_width": null,
            "order": null,
            "_view_module_version": "1.2.0",
            "grid_template_areas": null,
            "object_position": null,
            "object_fit": null,
            "grid_auto_columns": null,
            "margin": null,
            "display": null,
            "left": null
          }
        },
        "e9c690d78b6545969df5f782c97e67bf": {
          "model_module": "@jupyter-widgets/controls",
          "model_name": "ProgressStyleModel",
          "model_module_version": "1.5.0",
          "state": {
            "_view_name": "StyleView",
            "_model_name": "ProgressStyleModel",
            "description_width": "",
            "_view_module": "@jupyter-widgets/base",
            "_model_module_version": "1.5.0",
            "_view_count": null,
            "_view_module_version": "1.2.0",
            "bar_color": null,
            "_model_module": "@jupyter-widgets/controls"
          }
        },
        "aa22693f30c148b8bd29827b1b1b2627": {
          "model_module": "@jupyter-widgets/base",
          "model_name": "LayoutModel",
          "model_module_version": "1.2.0",
          "state": {
            "_view_name": "LayoutView",
            "grid_template_rows": null,
            "right": null,
            "justify_content": null,
            "_view_module": "@jupyter-widgets/base",
            "overflow": null,
            "_model_module_version": "1.2.0",
            "_view_count": null,
            "flex_flow": null,
            "width": null,
            "min_width": null,
            "border": null,
            "align_items": null,
            "bottom": null,
            "_model_module": "@jupyter-widgets/base",
            "top": null,
            "grid_column": null,
            "overflow_y": null,
            "overflow_x": null,
            "grid_auto_flow": null,
            "grid_area": null,
            "grid_template_columns": null,
            "flex": null,
            "_model_name": "LayoutModel",
            "justify_items": null,
            "grid_row": null,
            "max_height": null,
            "align_content": null,
            "visibility": null,
            "align_self": null,
            "height": null,
            "min_height": null,
            "padding": null,
            "grid_auto_rows": null,
            "grid_gap": null,
            "max_width": null,
            "order": null,
            "_view_module_version": "1.2.0",
            "grid_template_areas": null,
            "object_position": null,
            "object_fit": null,
            "grid_auto_columns": null,
            "margin": null,
            "display": null,
            "left": null
          }
        },
        "61e118413b6144d687482cd18d56d23d": {
          "model_module": "@jupyter-widgets/controls",
          "model_name": "DescriptionStyleModel",
          "model_module_version": "1.5.0",
          "state": {
            "_view_name": "StyleView",
            "_model_name": "DescriptionStyleModel",
            "description_width": "",
            "_view_module": "@jupyter-widgets/base",
            "_model_module_version": "1.5.0",
            "_view_count": null,
            "_view_module_version": "1.2.0",
            "_model_module": "@jupyter-widgets/controls"
          }
        },
        "fc7e754be04b475f819ac8c3211de806": {
          "model_module": "@jupyter-widgets/base",
          "model_name": "LayoutModel",
          "model_module_version": "1.2.0",
          "state": {
            "_view_name": "LayoutView",
            "grid_template_rows": null,
            "right": null,
            "justify_content": null,
            "_view_module": "@jupyter-widgets/base",
            "overflow": null,
            "_model_module_version": "1.2.0",
            "_view_count": null,
            "flex_flow": null,
            "width": null,
            "min_width": null,
            "border": null,
            "align_items": null,
            "bottom": null,
            "_model_module": "@jupyter-widgets/base",
            "top": null,
            "grid_column": null,
            "overflow_y": null,
            "overflow_x": null,
            "grid_auto_flow": null,
            "grid_area": null,
            "grid_template_columns": null,
            "flex": null,
            "_model_name": "LayoutModel",
            "justify_items": null,
            "grid_row": null,
            "max_height": null,
            "align_content": null,
            "visibility": null,
            "align_self": null,
            "height": null,
            "min_height": null,
            "padding": null,
            "grid_auto_rows": null,
            "grid_gap": null,
            "max_width": null,
            "order": null,
            "_view_module_version": "1.2.0",
            "grid_template_areas": null,
            "object_position": null,
            "object_fit": null,
            "grid_auto_columns": null,
            "margin": null,
            "display": null,
            "left": null
          }
        },
        "3242278649b6482383eb38f4dcd9c3c9": {
          "model_module": "@jupyter-widgets/controls",
          "model_name": "HBoxModel",
          "model_module_version": "1.5.0",
          "state": {
            "_view_name": "HBoxView",
            "_dom_classes": [],
            "_model_name": "HBoxModel",
            "_view_module": "@jupyter-widgets/controls",
            "_model_module_version": "1.5.0",
            "_view_count": null,
            "_view_module_version": "1.5.0",
            "box_style": "",
            "layout": "IPY_MODEL_06e2b2f918cc49869c45d114120b3363",
            "_model_module": "@jupyter-widgets/controls",
            "children": [
              "IPY_MODEL_6c59ac59e9d54dfd8f06e1c58a14035e",
              "IPY_MODEL_c58f77934c9e40399776d06b910a4ba7",
              "IPY_MODEL_b8596a81663e4966814447819e528889"
            ]
          }
        },
        "06e2b2f918cc49869c45d114120b3363": {
          "model_module": "@jupyter-widgets/base",
          "model_name": "LayoutModel",
          "model_module_version": "1.2.0",
          "state": {
            "_view_name": "LayoutView",
            "grid_template_rows": null,
            "right": null,
            "justify_content": null,
            "_view_module": "@jupyter-widgets/base",
            "overflow": null,
            "_model_module_version": "1.2.0",
            "_view_count": null,
            "flex_flow": null,
            "width": null,
            "min_width": null,
            "border": null,
            "align_items": null,
            "bottom": null,
            "_model_module": "@jupyter-widgets/base",
            "top": null,
            "grid_column": null,
            "overflow_y": null,
            "overflow_x": null,
            "grid_auto_flow": null,
            "grid_area": null,
            "grid_template_columns": null,
            "flex": null,
            "_model_name": "LayoutModel",
            "justify_items": null,
            "grid_row": null,
            "max_height": null,
            "align_content": null,
            "visibility": null,
            "align_self": null,
            "height": null,
            "min_height": null,
            "padding": null,
            "grid_auto_rows": null,
            "grid_gap": null,
            "max_width": null,
            "order": null,
            "_view_module_version": "1.2.0",
            "grid_template_areas": null,
            "object_position": null,
            "object_fit": null,
            "grid_auto_columns": null,
            "margin": null,
            "display": null,
            "left": null
          }
        },
        "6c59ac59e9d54dfd8f06e1c58a14035e": {
          "model_module": "@jupyter-widgets/controls",
          "model_name": "HTMLModel",
          "model_module_version": "1.5.0",
          "state": {
            "_view_name": "HTMLView",
            "style": "IPY_MODEL_507bb264ec3241708fab366deb41856c",
            "_dom_classes": [],
            "description": "",
            "_model_name": "HTMLModel",
            "placeholder": "​",
            "_view_module": "@jupyter-widgets/controls",
            "_model_module_version": "1.5.0",
            "value": "  3%",
            "_view_count": null,
            "_view_module_version": "1.5.0",
            "description_tooltip": null,
            "_model_module": "@jupyter-widgets/controls",
            "layout": "IPY_MODEL_c3dde2fcf00f4a808bba18e163fafc41"
          }
        },
        "c58f77934c9e40399776d06b910a4ba7": {
          "model_module": "@jupyter-widgets/controls",
          "model_name": "FloatProgressModel",
          "model_module_version": "1.5.0",
          "state": {
            "_view_name": "ProgressView",
            "style": "IPY_MODEL_4a9ce35fa26e4ec1986eef52809706b1",
            "_dom_classes": [],
            "description": "",
            "_model_name": "FloatProgressModel",
            "bar_style": "",
            "max": 1407,
            "_view_module": "@jupyter-widgets/controls",
            "_model_module_version": "1.5.0",
            "value": 40,
            "_view_count": null,
            "_view_module_version": "1.5.0",
            "orientation": "horizontal",
            "min": 0,
            "description_tooltip": null,
            "_model_module": "@jupyter-widgets/controls",
            "layout": "IPY_MODEL_7760ada6668c4d899bf53a8ce9f944f4"
          }
        },
        "b8596a81663e4966814447819e528889": {
          "model_module": "@jupyter-widgets/controls",
          "model_name": "HTMLModel",
          "model_module_version": "1.5.0",
          "state": {
            "_view_name": "HTMLView",
            "style": "IPY_MODEL_064e345b16ae4351ae199aac2fe38082",
            "_dom_classes": [],
            "description": "",
            "_model_name": "HTMLModel",
            "placeholder": "​",
            "_view_module": "@jupyter-widgets/controls",
            "_model_module_version": "1.5.0",
            "value": " 40/1407 [00:03&lt;01:51, 12.27it/s]",
            "_view_count": null,
            "_view_module_version": "1.5.0",
            "description_tooltip": null,
            "_model_module": "@jupyter-widgets/controls",
            "layout": "IPY_MODEL_05665ad060c944c89db1f082f43e4323"
          }
        },
        "507bb264ec3241708fab366deb41856c": {
          "model_module": "@jupyter-widgets/controls",
          "model_name": "DescriptionStyleModel",
          "model_module_version": "1.5.0",
          "state": {
            "_view_name": "StyleView",
            "_model_name": "DescriptionStyleModel",
            "description_width": "",
            "_view_module": "@jupyter-widgets/base",
            "_model_module_version": "1.5.0",
            "_view_count": null,
            "_view_module_version": "1.2.0",
            "_model_module": "@jupyter-widgets/controls"
          }
        },
        "c3dde2fcf00f4a808bba18e163fafc41": {
          "model_module": "@jupyter-widgets/base",
          "model_name": "LayoutModel",
          "model_module_version": "1.2.0",
          "state": {
            "_view_name": "LayoutView",
            "grid_template_rows": null,
            "right": null,
            "justify_content": null,
            "_view_module": "@jupyter-widgets/base",
            "overflow": null,
            "_model_module_version": "1.2.0",
            "_view_count": null,
            "flex_flow": null,
            "width": null,
            "min_width": null,
            "border": null,
            "align_items": null,
            "bottom": null,
            "_model_module": "@jupyter-widgets/base",
            "top": null,
            "grid_column": null,
            "overflow_y": null,
            "overflow_x": null,
            "grid_auto_flow": null,
            "grid_area": null,
            "grid_template_columns": null,
            "flex": null,
            "_model_name": "LayoutModel",
            "justify_items": null,
            "grid_row": null,
            "max_height": null,
            "align_content": null,
            "visibility": null,
            "align_self": null,
            "height": null,
            "min_height": null,
            "padding": null,
            "grid_auto_rows": null,
            "grid_gap": null,
            "max_width": null,
            "order": null,
            "_view_module_version": "1.2.0",
            "grid_template_areas": null,
            "object_position": null,
            "object_fit": null,
            "grid_auto_columns": null,
            "margin": null,
            "display": null,
            "left": null
          }
        },
        "4a9ce35fa26e4ec1986eef52809706b1": {
          "model_module": "@jupyter-widgets/controls",
          "model_name": "ProgressStyleModel",
          "model_module_version": "1.5.0",
          "state": {
            "_view_name": "StyleView",
            "_model_name": "ProgressStyleModel",
            "description_width": "",
            "_view_module": "@jupyter-widgets/base",
            "_model_module_version": "1.5.0",
            "_view_count": null,
            "_view_module_version": "1.2.0",
            "bar_color": null,
            "_model_module": "@jupyter-widgets/controls"
          }
        },
        "7760ada6668c4d899bf53a8ce9f944f4": {
          "model_module": "@jupyter-widgets/base",
          "model_name": "LayoutModel",
          "model_module_version": "1.2.0",
          "state": {
            "_view_name": "LayoutView",
            "grid_template_rows": null,
            "right": null,
            "justify_content": null,
            "_view_module": "@jupyter-widgets/base",
            "overflow": null,
            "_model_module_version": "1.2.0",
            "_view_count": null,
            "flex_flow": null,
            "width": null,
            "min_width": null,
            "border": null,
            "align_items": null,
            "bottom": null,
            "_model_module": "@jupyter-widgets/base",
            "top": null,
            "grid_column": null,
            "overflow_y": null,
            "overflow_x": null,
            "grid_auto_flow": null,
            "grid_area": null,
            "grid_template_columns": null,
            "flex": null,
            "_model_name": "LayoutModel",
            "justify_items": null,
            "grid_row": null,
            "max_height": null,
            "align_content": null,
            "visibility": null,
            "align_self": null,
            "height": null,
            "min_height": null,
            "padding": null,
            "grid_auto_rows": null,
            "grid_gap": null,
            "max_width": null,
            "order": null,
            "_view_module_version": "1.2.0",
            "grid_template_areas": null,
            "object_position": null,
            "object_fit": null,
            "grid_auto_columns": null,
            "margin": null,
            "display": null,
            "left": null
          }
        },
        "064e345b16ae4351ae199aac2fe38082": {
          "model_module": "@jupyter-widgets/controls",
          "model_name": "DescriptionStyleModel",
          "model_module_version": "1.5.0",
          "state": {
            "_view_name": "StyleView",
            "_model_name": "DescriptionStyleModel",
            "description_width": "",
            "_view_module": "@jupyter-widgets/base",
            "_model_module_version": "1.5.0",
            "_view_count": null,
            "_view_module_version": "1.2.0",
            "_model_module": "@jupyter-widgets/controls"
          }
        },
        "05665ad060c944c89db1f082f43e4323": {
          "model_module": "@jupyter-widgets/base",
          "model_name": "LayoutModel",
          "model_module_version": "1.2.0",
          "state": {
            "_view_name": "LayoutView",
            "grid_template_rows": null,
            "right": null,
            "justify_content": null,
            "_view_module": "@jupyter-widgets/base",
            "overflow": null,
            "_model_module_version": "1.2.0",
            "_view_count": null,
            "flex_flow": null,
            "width": null,
            "min_width": null,
            "border": null,
            "align_items": null,
            "bottom": null,
            "_model_module": "@jupyter-widgets/base",
            "top": null,
            "grid_column": null,
            "overflow_y": null,
            "overflow_x": null,
            "grid_auto_flow": null,
            "grid_area": null,
            "grid_template_columns": null,
            "flex": null,
            "_model_name": "LayoutModel",
            "justify_items": null,
            "grid_row": null,
            "max_height": null,
            "align_content": null,
            "visibility": null,
            "align_self": null,
            "height": null,
            "min_height": null,
            "padding": null,
            "grid_auto_rows": null,
            "grid_gap": null,
            "max_width": null,
            "order": null,
            "_view_module_version": "1.2.0",
            "grid_template_areas": null,
            "object_position": null,
            "object_fit": null,
            "grid_auto_columns": null,
            "margin": null,
            "display": null,
            "left": null
          }
        },
        "f32c5b2a955d425a8e5b16ae77f58cd6": {
          "model_module": "@jupyter-widgets/controls",
          "model_name": "HBoxModel",
          "model_module_version": "1.5.0",
          "state": {
            "_view_name": "HBoxView",
            "_dom_classes": [],
            "_model_name": "HBoxModel",
            "_view_module": "@jupyter-widgets/controls",
            "_model_module_version": "1.5.0",
            "_view_count": null,
            "_view_module_version": "1.5.0",
            "box_style": "",
            "layout": "IPY_MODEL_7be85384d03d4b2a93822ba5ba381e8a",
            "_model_module": "@jupyter-widgets/controls",
            "children": [
              "IPY_MODEL_e02e7b9186a548bc96bc12299e686082",
              "IPY_MODEL_70f0fac038764b84a50680789ac96c07",
              "IPY_MODEL_d45ed310bf764bd2b574bd73586367bc"
            ]
          }
        },
        "7be85384d03d4b2a93822ba5ba381e8a": {
          "model_module": "@jupyter-widgets/base",
          "model_name": "LayoutModel",
          "model_module_version": "1.2.0",
          "state": {
            "_view_name": "LayoutView",
            "grid_template_rows": null,
            "right": null,
            "justify_content": null,
            "_view_module": "@jupyter-widgets/base",
            "overflow": null,
            "_model_module_version": "1.2.0",
            "_view_count": null,
            "flex_flow": null,
            "width": null,
            "min_width": null,
            "border": null,
            "align_items": null,
            "bottom": null,
            "_model_module": "@jupyter-widgets/base",
            "top": null,
            "grid_column": null,
            "overflow_y": null,
            "overflow_x": null,
            "grid_auto_flow": null,
            "grid_area": null,
            "grid_template_columns": null,
            "flex": null,
            "_model_name": "LayoutModel",
            "justify_items": null,
            "grid_row": null,
            "max_height": null,
            "align_content": null,
            "visibility": null,
            "align_self": null,
            "height": null,
            "min_height": null,
            "padding": null,
            "grid_auto_rows": null,
            "grid_gap": null,
            "max_width": null,
            "order": null,
            "_view_module_version": "1.2.0",
            "grid_template_areas": null,
            "object_position": null,
            "object_fit": null,
            "grid_auto_columns": null,
            "margin": null,
            "display": null,
            "left": null
          }
        },
        "e02e7b9186a548bc96bc12299e686082": {
          "model_module": "@jupyter-widgets/controls",
          "model_name": "HTMLModel",
          "model_module_version": "1.5.0",
          "state": {
            "_view_name": "HTMLView",
            "style": "IPY_MODEL_5395a6c8212a4edf90c8db40aa572eb6",
            "_dom_classes": [],
            "description": "",
            "_model_name": "HTMLModel",
            "placeholder": "​",
            "_view_module": "@jupyter-widgets/controls",
            "_model_module_version": "1.5.0",
            "value": "100%",
            "_view_count": null,
            "_view_module_version": "1.5.0",
            "description_tooltip": null,
            "_model_module": "@jupyter-widgets/controls",
            "layout": "IPY_MODEL_ec8e5fec6aba48aba3231dcfd53586ac"
          }
        },
        "70f0fac038764b84a50680789ac96c07": {
          "model_module": "@jupyter-widgets/controls",
          "model_name": "FloatProgressModel",
          "model_module_version": "1.5.0",
          "state": {
            "_view_name": "ProgressView",
            "style": "IPY_MODEL_cfe92e464d42478a99f6ddefc63bce28",
            "_dom_classes": [],
            "description": "",
            "_model_name": "FloatProgressModel",
            "bar_style": "success",
            "max": 469,
            "_view_module": "@jupyter-widgets/controls",
            "_model_module_version": "1.5.0",
            "value": 469,
            "_view_count": null,
            "_view_module_version": "1.5.0",
            "orientation": "horizontal",
            "min": 0,
            "description_tooltip": null,
            "_model_module": "@jupyter-widgets/controls",
            "layout": "IPY_MODEL_ef3e0d0a73f94f1a9cd543ba940d4285"
          }
        },
        "d45ed310bf764bd2b574bd73586367bc": {
          "model_module": "@jupyter-widgets/controls",
          "model_name": "HTMLModel",
          "model_module_version": "1.5.0",
          "state": {
            "_view_name": "HTMLView",
            "style": "IPY_MODEL_ebdb9bd068634aada38e8f3967af122c",
            "_dom_classes": [],
            "description": "",
            "_model_name": "HTMLModel",
            "placeholder": "​",
            "_view_module": "@jupyter-widgets/controls",
            "_model_module_version": "1.5.0",
            "value": " 469/469 [00:12&lt;00:00, 36.60it/s]",
            "_view_count": null,
            "_view_module_version": "1.5.0",
            "description_tooltip": null,
            "_model_module": "@jupyter-widgets/controls",
            "layout": "IPY_MODEL_bb8c28eb160b4c0bbfaf93bdfaada09d"
          }
        },
        "5395a6c8212a4edf90c8db40aa572eb6": {
          "model_module": "@jupyter-widgets/controls",
          "model_name": "DescriptionStyleModel",
          "model_module_version": "1.5.0",
          "state": {
            "_view_name": "StyleView",
            "_model_name": "DescriptionStyleModel",
            "description_width": "",
            "_view_module": "@jupyter-widgets/base",
            "_model_module_version": "1.5.0",
            "_view_count": null,
            "_view_module_version": "1.2.0",
            "_model_module": "@jupyter-widgets/controls"
          }
        },
        "ec8e5fec6aba48aba3231dcfd53586ac": {
          "model_module": "@jupyter-widgets/base",
          "model_name": "LayoutModel",
          "model_module_version": "1.2.0",
          "state": {
            "_view_name": "LayoutView",
            "grid_template_rows": null,
            "right": null,
            "justify_content": null,
            "_view_module": "@jupyter-widgets/base",
            "overflow": null,
            "_model_module_version": "1.2.0",
            "_view_count": null,
            "flex_flow": null,
            "width": null,
            "min_width": null,
            "border": null,
            "align_items": null,
            "bottom": null,
            "_model_module": "@jupyter-widgets/base",
            "top": null,
            "grid_column": null,
            "overflow_y": null,
            "overflow_x": null,
            "grid_auto_flow": null,
            "grid_area": null,
            "grid_template_columns": null,
            "flex": null,
            "_model_name": "LayoutModel",
            "justify_items": null,
            "grid_row": null,
            "max_height": null,
            "align_content": null,
            "visibility": null,
            "align_self": null,
            "height": null,
            "min_height": null,
            "padding": null,
            "grid_auto_rows": null,
            "grid_gap": null,
            "max_width": null,
            "order": null,
            "_view_module_version": "1.2.0",
            "grid_template_areas": null,
            "object_position": null,
            "object_fit": null,
            "grid_auto_columns": null,
            "margin": null,
            "display": null,
            "left": null
          }
        },
        "cfe92e464d42478a99f6ddefc63bce28": {
          "model_module": "@jupyter-widgets/controls",
          "model_name": "ProgressStyleModel",
          "model_module_version": "1.5.0",
          "state": {
            "_view_name": "StyleView",
            "_model_name": "ProgressStyleModel",
            "description_width": "",
            "_view_module": "@jupyter-widgets/base",
            "_model_module_version": "1.5.0",
            "_view_count": null,
            "_view_module_version": "1.2.0",
            "bar_color": null,
            "_model_module": "@jupyter-widgets/controls"
          }
        },
        "ef3e0d0a73f94f1a9cd543ba940d4285": {
          "model_module": "@jupyter-widgets/base",
          "model_name": "LayoutModel",
          "model_module_version": "1.2.0",
          "state": {
            "_view_name": "LayoutView",
            "grid_template_rows": null,
            "right": null,
            "justify_content": null,
            "_view_module": "@jupyter-widgets/base",
            "overflow": null,
            "_model_module_version": "1.2.0",
            "_view_count": null,
            "flex_flow": null,
            "width": null,
            "min_width": null,
            "border": null,
            "align_items": null,
            "bottom": null,
            "_model_module": "@jupyter-widgets/base",
            "top": null,
            "grid_column": null,
            "overflow_y": null,
            "overflow_x": null,
            "grid_auto_flow": null,
            "grid_area": null,
            "grid_template_columns": null,
            "flex": null,
            "_model_name": "LayoutModel",
            "justify_items": null,
            "grid_row": null,
            "max_height": null,
            "align_content": null,
            "visibility": null,
            "align_self": null,
            "height": null,
            "min_height": null,
            "padding": null,
            "grid_auto_rows": null,
            "grid_gap": null,
            "max_width": null,
            "order": null,
            "_view_module_version": "1.2.0",
            "grid_template_areas": null,
            "object_position": null,
            "object_fit": null,
            "grid_auto_columns": null,
            "margin": null,
            "display": null,
            "left": null
          }
        },
        "ebdb9bd068634aada38e8f3967af122c": {
          "model_module": "@jupyter-widgets/controls",
          "model_name": "DescriptionStyleModel",
          "model_module_version": "1.5.0",
          "state": {
            "_view_name": "StyleView",
            "_model_name": "DescriptionStyleModel",
            "description_width": "",
            "_view_module": "@jupyter-widgets/base",
            "_model_module_version": "1.5.0",
            "_view_count": null,
            "_view_module_version": "1.2.0",
            "_model_module": "@jupyter-widgets/controls"
          }
        },
        "bb8c28eb160b4c0bbfaf93bdfaada09d": {
          "model_module": "@jupyter-widgets/base",
          "model_name": "LayoutModel",
          "model_module_version": "1.2.0",
          "state": {
            "_view_name": "LayoutView",
            "grid_template_rows": null,
            "right": null,
            "justify_content": null,
            "_view_module": "@jupyter-widgets/base",
            "overflow": null,
            "_model_module_version": "1.2.0",
            "_view_count": null,
            "flex_flow": null,
            "width": null,
            "min_width": null,
            "border": null,
            "align_items": null,
            "bottom": null,
            "_model_module": "@jupyter-widgets/base",
            "top": null,
            "grid_column": null,
            "overflow_y": null,
            "overflow_x": null,
            "grid_auto_flow": null,
            "grid_area": null,
            "grid_template_columns": null,
            "flex": null,
            "_model_name": "LayoutModel",
            "justify_items": null,
            "grid_row": null,
            "max_height": null,
            "align_content": null,
            "visibility": null,
            "align_self": null,
            "height": null,
            "min_height": null,
            "padding": null,
            "grid_auto_rows": null,
            "grid_gap": null,
            "max_width": null,
            "order": null,
            "_view_module_version": "1.2.0",
            "grid_template_areas": null,
            "object_position": null,
            "object_fit": null,
            "grid_auto_columns": null,
            "margin": null,
            "display": null,
            "left": null
          }
        },
        "7d0856e668ea416d95b56ad04e63508b": {
          "model_module": "@jupyter-widgets/controls",
          "model_name": "HBoxModel",
          "model_module_version": "1.5.0",
          "state": {
            "_view_name": "HBoxView",
            "_dom_classes": [],
            "_model_name": "HBoxModel",
            "_view_module": "@jupyter-widgets/controls",
            "_model_module_version": "1.5.0",
            "_view_count": null,
            "_view_module_version": "1.5.0",
            "box_style": "",
            "layout": "IPY_MODEL_ece4ac07fe1741189801f8027b3cf1d2",
            "_model_module": "@jupyter-widgets/controls",
            "children": [
              "IPY_MODEL_7aa18b7a42cd43398c9c2a4fe9d45e05",
              "IPY_MODEL_970066e0ef87498fb69fce9eeb2d3ccb",
              "IPY_MODEL_8e94c442f714468fa334fc95d1997302"
            ]
          }
        },
        "ece4ac07fe1741189801f8027b3cf1d2": {
          "model_module": "@jupyter-widgets/base",
          "model_name": "LayoutModel",
          "model_module_version": "1.2.0",
          "state": {
            "_view_name": "LayoutView",
            "grid_template_rows": null,
            "right": null,
            "justify_content": null,
            "_view_module": "@jupyter-widgets/base",
            "overflow": null,
            "_model_module_version": "1.2.0",
            "_view_count": null,
            "flex_flow": null,
            "width": null,
            "min_width": null,
            "border": null,
            "align_items": null,
            "bottom": null,
            "_model_module": "@jupyter-widgets/base",
            "top": null,
            "grid_column": null,
            "overflow_y": null,
            "overflow_x": null,
            "grid_auto_flow": null,
            "grid_area": null,
            "grid_template_columns": null,
            "flex": null,
            "_model_name": "LayoutModel",
            "justify_items": null,
            "grid_row": null,
            "max_height": null,
            "align_content": null,
            "visibility": null,
            "align_self": null,
            "height": null,
            "min_height": null,
            "padding": null,
            "grid_auto_rows": null,
            "grid_gap": null,
            "max_width": null,
            "order": null,
            "_view_module_version": "1.2.0",
            "grid_template_areas": null,
            "object_position": null,
            "object_fit": null,
            "grid_auto_columns": null,
            "margin": null,
            "display": null,
            "left": null
          }
        },
        "7aa18b7a42cd43398c9c2a4fe9d45e05": {
          "model_module": "@jupyter-widgets/controls",
          "model_name": "HTMLModel",
          "model_module_version": "1.5.0",
          "state": {
            "_view_name": "HTMLView",
            "style": "IPY_MODEL_b8d8919f08e64b0280b5570fb7ec45b9",
            "_dom_classes": [],
            "description": "",
            "_model_name": "HTMLModel",
            "placeholder": "​",
            "_view_module": "@jupyter-widgets/controls",
            "_model_module_version": "1.5.0",
            "value": "100%",
            "_view_count": null,
            "_view_module_version": "1.5.0",
            "description_tooltip": null,
            "_model_module": "@jupyter-widgets/controls",
            "layout": "IPY_MODEL_c9043fa28f2e4970b31513c1f31b57d1"
          }
        },
        "970066e0ef87498fb69fce9eeb2d3ccb": {
          "model_module": "@jupyter-widgets/controls",
          "model_name": "FloatProgressModel",
          "model_module_version": "1.5.0",
          "state": {
            "_view_name": "ProgressView",
            "style": "IPY_MODEL_d03b09bc4fd04776946df1c2f99ba736",
            "_dom_classes": [],
            "description": "",
            "_model_name": "FloatProgressModel",
            "bar_style": "success",
            "max": 2288,
            "_view_module": "@jupyter-widgets/controls",
            "_model_module_version": "1.5.0",
            "value": 2288,
            "_view_count": null,
            "_view_module_version": "1.5.0",
            "orientation": "horizontal",
            "min": 0,
            "description_tooltip": null,
            "_model_module": "@jupyter-widgets/controls",
            "layout": "IPY_MODEL_e6ded476f26b43f8aefd554885a3a5bd"
          }
        },
        "8e94c442f714468fa334fc95d1997302": {
          "model_module": "@jupyter-widgets/controls",
          "model_name": "HTMLModel",
          "model_module_version": "1.5.0",
          "state": {
            "_view_name": "HTMLView",
            "style": "IPY_MODEL_f29253b801f94ec487b71ffb6633fa3f",
            "_dom_classes": [],
            "description": "",
            "_model_name": "HTMLModel",
            "placeholder": "​",
            "_view_module": "@jupyter-widgets/controls",
            "_model_module_version": "1.5.0",
            "value": " 2288/2288 [03:07&lt;00:00, 12.18it/s]",
            "_view_count": null,
            "_view_module_version": "1.5.0",
            "description_tooltip": null,
            "_model_module": "@jupyter-widgets/controls",
            "layout": "IPY_MODEL_fb90f0bbdfc34863ba7e705d97dcff3c"
          }
        },
        "b8d8919f08e64b0280b5570fb7ec45b9": {
          "model_module": "@jupyter-widgets/controls",
          "model_name": "DescriptionStyleModel",
          "model_module_version": "1.5.0",
          "state": {
            "_view_name": "StyleView",
            "_model_name": "DescriptionStyleModel",
            "description_width": "",
            "_view_module": "@jupyter-widgets/base",
            "_model_module_version": "1.5.0",
            "_view_count": null,
            "_view_module_version": "1.2.0",
            "_model_module": "@jupyter-widgets/controls"
          }
        },
        "c9043fa28f2e4970b31513c1f31b57d1": {
          "model_module": "@jupyter-widgets/base",
          "model_name": "LayoutModel",
          "model_module_version": "1.2.0",
          "state": {
            "_view_name": "LayoutView",
            "grid_template_rows": null,
            "right": null,
            "justify_content": null,
            "_view_module": "@jupyter-widgets/base",
            "overflow": null,
            "_model_module_version": "1.2.0",
            "_view_count": null,
            "flex_flow": null,
            "width": null,
            "min_width": null,
            "border": null,
            "align_items": null,
            "bottom": null,
            "_model_module": "@jupyter-widgets/base",
            "top": null,
            "grid_column": null,
            "overflow_y": null,
            "overflow_x": null,
            "grid_auto_flow": null,
            "grid_area": null,
            "grid_template_columns": null,
            "flex": null,
            "_model_name": "LayoutModel",
            "justify_items": null,
            "grid_row": null,
            "max_height": null,
            "align_content": null,
            "visibility": null,
            "align_self": null,
            "height": null,
            "min_height": null,
            "padding": null,
            "grid_auto_rows": null,
            "grid_gap": null,
            "max_width": null,
            "order": null,
            "_view_module_version": "1.2.0",
            "grid_template_areas": null,
            "object_position": null,
            "object_fit": null,
            "grid_auto_columns": null,
            "margin": null,
            "display": null,
            "left": null
          }
        },
        "d03b09bc4fd04776946df1c2f99ba736": {
          "model_module": "@jupyter-widgets/controls",
          "model_name": "ProgressStyleModel",
          "model_module_version": "1.5.0",
          "state": {
            "_view_name": "StyleView",
            "_model_name": "ProgressStyleModel",
            "description_width": "",
            "_view_module": "@jupyter-widgets/base",
            "_model_module_version": "1.5.0",
            "_view_count": null,
            "_view_module_version": "1.2.0",
            "bar_color": null,
            "_model_module": "@jupyter-widgets/controls"
          }
        },
        "e6ded476f26b43f8aefd554885a3a5bd": {
          "model_module": "@jupyter-widgets/base",
          "model_name": "LayoutModel",
          "model_module_version": "1.2.0",
          "state": {
            "_view_name": "LayoutView",
            "grid_template_rows": null,
            "right": null,
            "justify_content": null,
            "_view_module": "@jupyter-widgets/base",
            "overflow": null,
            "_model_module_version": "1.2.0",
            "_view_count": null,
            "flex_flow": null,
            "width": null,
            "min_width": null,
            "border": null,
            "align_items": null,
            "bottom": null,
            "_model_module": "@jupyter-widgets/base",
            "top": null,
            "grid_column": null,
            "overflow_y": null,
            "overflow_x": null,
            "grid_auto_flow": null,
            "grid_area": null,
            "grid_template_columns": null,
            "flex": null,
            "_model_name": "LayoutModel",
            "justify_items": null,
            "grid_row": null,
            "max_height": null,
            "align_content": null,
            "visibility": null,
            "align_self": null,
            "height": null,
            "min_height": null,
            "padding": null,
            "grid_auto_rows": null,
            "grid_gap": null,
            "max_width": null,
            "order": null,
            "_view_module_version": "1.2.0",
            "grid_template_areas": null,
            "object_position": null,
            "object_fit": null,
            "grid_auto_columns": null,
            "margin": null,
            "display": null,
            "left": null
          }
        },
        "f29253b801f94ec487b71ffb6633fa3f": {
          "model_module": "@jupyter-widgets/controls",
          "model_name": "DescriptionStyleModel",
          "model_module_version": "1.5.0",
          "state": {
            "_view_name": "StyleView",
            "_model_name": "DescriptionStyleModel",
            "description_width": "",
            "_view_module": "@jupyter-widgets/base",
            "_model_module_version": "1.5.0",
            "_view_count": null,
            "_view_module_version": "1.2.0",
            "_model_module": "@jupyter-widgets/controls"
          }
        },
        "fb90f0bbdfc34863ba7e705d97dcff3c": {
          "model_module": "@jupyter-widgets/base",
          "model_name": "LayoutModel",
          "model_module_version": "1.2.0",
          "state": {
            "_view_name": "LayoutView",
            "grid_template_rows": null,
            "right": null,
            "justify_content": null,
            "_view_module": "@jupyter-widgets/base",
            "overflow": null,
            "_model_module_version": "1.2.0",
            "_view_count": null,
            "flex_flow": null,
            "width": null,
            "min_width": null,
            "border": null,
            "align_items": null,
            "bottom": null,
            "_model_module": "@jupyter-widgets/base",
            "top": null,
            "grid_column": null,
            "overflow_y": null,
            "overflow_x": null,
            "grid_auto_flow": null,
            "grid_area": null,
            "grid_template_columns": null,
            "flex": null,
            "_model_name": "LayoutModel",
            "justify_items": null,
            "grid_row": null,
            "max_height": null,
            "align_content": null,
            "visibility": null,
            "align_self": null,
            "height": null,
            "min_height": null,
            "padding": null,
            "grid_auto_rows": null,
            "grid_gap": null,
            "max_width": null,
            "order": null,
            "_view_module_version": "1.2.0",
            "grid_template_areas": null,
            "object_position": null,
            "object_fit": null,
            "grid_auto_columns": null,
            "margin": null,
            "display": null,
            "left": null
          }
        },
        "b65d7ff6f6c3436ba11ee929a72adf20": {
          "model_module": "@jupyter-widgets/controls",
          "model_name": "HBoxModel",
          "model_module_version": "1.5.0",
          "state": {
            "_view_name": "HBoxView",
            "_dom_classes": [],
            "_model_name": "HBoxModel",
            "_view_module": "@jupyter-widgets/controls",
            "_model_module_version": "1.5.0",
            "_view_count": null,
            "_view_module_version": "1.5.0",
            "box_style": "",
            "layout": "IPY_MODEL_cebf9eded7e243b991630d3474588b76",
            "_model_module": "@jupyter-widgets/controls",
            "children": [
              "IPY_MODEL_c618d602df264547b89c7c19e6e7e303",
              "IPY_MODEL_175527af06674c1bbfbdfd1632b35aaa",
              "IPY_MODEL_3da44e3dfb3246ff8012a6c68ef5a9ba"
            ]
          }
        },
        "cebf9eded7e243b991630d3474588b76": {
          "model_module": "@jupyter-widgets/base",
          "model_name": "LayoutModel",
          "model_module_version": "1.2.0",
          "state": {
            "_view_name": "LayoutView",
            "grid_template_rows": null,
            "right": null,
            "justify_content": null,
            "_view_module": "@jupyter-widgets/base",
            "overflow": null,
            "_model_module_version": "1.2.0",
            "_view_count": null,
            "flex_flow": null,
            "width": null,
            "min_width": null,
            "border": null,
            "align_items": null,
            "bottom": null,
            "_model_module": "@jupyter-widgets/base",
            "top": null,
            "grid_column": null,
            "overflow_y": null,
            "overflow_x": null,
            "grid_auto_flow": null,
            "grid_area": null,
            "grid_template_columns": null,
            "flex": null,
            "_model_name": "LayoutModel",
            "justify_items": null,
            "grid_row": null,
            "max_height": null,
            "align_content": null,
            "visibility": null,
            "align_self": null,
            "height": null,
            "min_height": null,
            "padding": null,
            "grid_auto_rows": null,
            "grid_gap": null,
            "max_width": null,
            "order": null,
            "_view_module_version": "1.2.0",
            "grid_template_areas": null,
            "object_position": null,
            "object_fit": null,
            "grid_auto_columns": null,
            "margin": null,
            "display": null,
            "left": null
          }
        },
        "c618d602df264547b89c7c19e6e7e303": {
          "model_module": "@jupyter-widgets/controls",
          "model_name": "HTMLModel",
          "model_module_version": "1.5.0",
          "state": {
            "_view_name": "HTMLView",
            "style": "IPY_MODEL_52995546772e44c088c326b64e3fc4f8",
            "_dom_classes": [],
            "description": "",
            "_model_name": "HTMLModel",
            "placeholder": "​",
            "_view_module": "@jupyter-widgets/controls",
            "_model_module_version": "1.5.0",
            "value": "100%",
            "_view_count": null,
            "_view_module_version": "1.5.0",
            "description_tooltip": null,
            "_model_module": "@jupyter-widgets/controls",
            "layout": "IPY_MODEL_5a9caf7d49e94cafa388ce9fb5e762d2"
          }
        },
        "175527af06674c1bbfbdfd1632b35aaa": {
          "model_module": "@jupyter-widgets/controls",
          "model_name": "FloatProgressModel",
          "model_module_version": "1.5.0",
          "state": {
            "_view_name": "ProgressView",
            "style": "IPY_MODEL_57ed34772ec248f48906ef746ca5a7f0",
            "_dom_classes": [],
            "description": "",
            "_model_name": "FloatProgressModel",
            "bar_style": "success",
            "max": 2288,
            "_view_module": "@jupyter-widgets/controls",
            "_model_module_version": "1.5.0",
            "value": 2288,
            "_view_count": null,
            "_view_module_version": "1.5.0",
            "orientation": "horizontal",
            "min": 0,
            "description_tooltip": null,
            "_model_module": "@jupyter-widgets/controls",
            "layout": "IPY_MODEL_0ae67a14a74a4cf09e2ecae213ad4917"
          }
        },
        "3da44e3dfb3246ff8012a6c68ef5a9ba": {
          "model_module": "@jupyter-widgets/controls",
          "model_name": "HTMLModel",
          "model_module_version": "1.5.0",
          "state": {
            "_view_name": "HTMLView",
            "style": "IPY_MODEL_33a6442b189b4f17817adbc98c1a2106",
            "_dom_classes": [],
            "description": "",
            "_model_name": "HTMLModel",
            "placeholder": "​",
            "_view_module": "@jupyter-widgets/controls",
            "_model_module_version": "1.5.0",
            "value": " 2288/2288 [03:07&lt;00:00, 12.25it/s]",
            "_view_count": null,
            "_view_module_version": "1.5.0",
            "description_tooltip": null,
            "_model_module": "@jupyter-widgets/controls",
            "layout": "IPY_MODEL_803e7b7a26184b5ab6cee875cafa2fa3"
          }
        },
        "52995546772e44c088c326b64e3fc4f8": {
          "model_module": "@jupyter-widgets/controls",
          "model_name": "DescriptionStyleModel",
          "model_module_version": "1.5.0",
          "state": {
            "_view_name": "StyleView",
            "_model_name": "DescriptionStyleModel",
            "description_width": "",
            "_view_module": "@jupyter-widgets/base",
            "_model_module_version": "1.5.0",
            "_view_count": null,
            "_view_module_version": "1.2.0",
            "_model_module": "@jupyter-widgets/controls"
          }
        },
        "5a9caf7d49e94cafa388ce9fb5e762d2": {
          "model_module": "@jupyter-widgets/base",
          "model_name": "LayoutModel",
          "model_module_version": "1.2.0",
          "state": {
            "_view_name": "LayoutView",
            "grid_template_rows": null,
            "right": null,
            "justify_content": null,
            "_view_module": "@jupyter-widgets/base",
            "overflow": null,
            "_model_module_version": "1.2.0",
            "_view_count": null,
            "flex_flow": null,
            "width": null,
            "min_width": null,
            "border": null,
            "align_items": null,
            "bottom": null,
            "_model_module": "@jupyter-widgets/base",
            "top": null,
            "grid_column": null,
            "overflow_y": null,
            "overflow_x": null,
            "grid_auto_flow": null,
            "grid_area": null,
            "grid_template_columns": null,
            "flex": null,
            "_model_name": "LayoutModel",
            "justify_items": null,
            "grid_row": null,
            "max_height": null,
            "align_content": null,
            "visibility": null,
            "align_self": null,
            "height": null,
            "min_height": null,
            "padding": null,
            "grid_auto_rows": null,
            "grid_gap": null,
            "max_width": null,
            "order": null,
            "_view_module_version": "1.2.0",
            "grid_template_areas": null,
            "object_position": null,
            "object_fit": null,
            "grid_auto_columns": null,
            "margin": null,
            "display": null,
            "left": null
          }
        },
        "57ed34772ec248f48906ef746ca5a7f0": {
          "model_module": "@jupyter-widgets/controls",
          "model_name": "ProgressStyleModel",
          "model_module_version": "1.5.0",
          "state": {
            "_view_name": "StyleView",
            "_model_name": "ProgressStyleModel",
            "description_width": "",
            "_view_module": "@jupyter-widgets/base",
            "_model_module_version": "1.5.0",
            "_view_count": null,
            "_view_module_version": "1.2.0",
            "bar_color": null,
            "_model_module": "@jupyter-widgets/controls"
          }
        },
        "0ae67a14a74a4cf09e2ecae213ad4917": {
          "model_module": "@jupyter-widgets/base",
          "model_name": "LayoutModel",
          "model_module_version": "1.2.0",
          "state": {
            "_view_name": "LayoutView",
            "grid_template_rows": null,
            "right": null,
            "justify_content": null,
            "_view_module": "@jupyter-widgets/base",
            "overflow": null,
            "_model_module_version": "1.2.0",
            "_view_count": null,
            "flex_flow": null,
            "width": null,
            "min_width": null,
            "border": null,
            "align_items": null,
            "bottom": null,
            "_model_module": "@jupyter-widgets/base",
            "top": null,
            "grid_column": null,
            "overflow_y": null,
            "overflow_x": null,
            "grid_auto_flow": null,
            "grid_area": null,
            "grid_template_columns": null,
            "flex": null,
            "_model_name": "LayoutModel",
            "justify_items": null,
            "grid_row": null,
            "max_height": null,
            "align_content": null,
            "visibility": null,
            "align_self": null,
            "height": null,
            "min_height": null,
            "padding": null,
            "grid_auto_rows": null,
            "grid_gap": null,
            "max_width": null,
            "order": null,
            "_view_module_version": "1.2.0",
            "grid_template_areas": null,
            "object_position": null,
            "object_fit": null,
            "grid_auto_columns": null,
            "margin": null,
            "display": null,
            "left": null
          }
        },
        "33a6442b189b4f17817adbc98c1a2106": {
          "model_module": "@jupyter-widgets/controls",
          "model_name": "DescriptionStyleModel",
          "model_module_version": "1.5.0",
          "state": {
            "_view_name": "StyleView",
            "_model_name": "DescriptionStyleModel",
            "description_width": "",
            "_view_module": "@jupyter-widgets/base",
            "_model_module_version": "1.5.0",
            "_view_count": null,
            "_view_module_version": "1.2.0",
            "_model_module": "@jupyter-widgets/controls"
          }
        },
        "803e7b7a26184b5ab6cee875cafa2fa3": {
          "model_module": "@jupyter-widgets/base",
          "model_name": "LayoutModel",
          "model_module_version": "1.2.0",
          "state": {
            "_view_name": "LayoutView",
            "grid_template_rows": null,
            "right": null,
            "justify_content": null,
            "_view_module": "@jupyter-widgets/base",
            "overflow": null,
            "_model_module_version": "1.2.0",
            "_view_count": null,
            "flex_flow": null,
            "width": null,
            "min_width": null,
            "border": null,
            "align_items": null,
            "bottom": null,
            "_model_module": "@jupyter-widgets/base",
            "top": null,
            "grid_column": null,
            "overflow_y": null,
            "overflow_x": null,
            "grid_auto_flow": null,
            "grid_area": null,
            "grid_template_columns": null,
            "flex": null,
            "_model_name": "LayoutModel",
            "justify_items": null,
            "grid_row": null,
            "max_height": null,
            "align_content": null,
            "visibility": null,
            "align_self": null,
            "height": null,
            "min_height": null,
            "padding": null,
            "grid_auto_rows": null,
            "grid_gap": null,
            "max_width": null,
            "order": null,
            "_view_module_version": "1.2.0",
            "grid_template_areas": null,
            "object_position": null,
            "object_fit": null,
            "grid_auto_columns": null,
            "margin": null,
            "display": null,
            "left": null
          }
        },
        "7535a8f057cf4414be42cac649addd66": {
          "model_module": "@jupyter-widgets/controls",
          "model_name": "HBoxModel",
          "model_module_version": "1.5.0",
          "state": {
            "_view_name": "HBoxView",
            "_dom_classes": [],
            "_model_name": "HBoxModel",
            "_view_module": "@jupyter-widgets/controls",
            "_model_module_version": "1.5.0",
            "_view_count": null,
            "_view_module_version": "1.5.0",
            "box_style": "",
            "layout": "IPY_MODEL_122622cfdd1142499a44af905c2a5e8d",
            "_model_module": "@jupyter-widgets/controls",
            "children": [
              "IPY_MODEL_1f3778593a544900aa68cf7c159c8c9a",
              "IPY_MODEL_bd5fcf05a02e404eaf2d63d606f6f3f4",
              "IPY_MODEL_8a0ae0be0f2a4a2db725bc0a3aac1920"
            ]
          }
        },
        "122622cfdd1142499a44af905c2a5e8d": {
          "model_module": "@jupyter-widgets/base",
          "model_name": "LayoutModel",
          "model_module_version": "1.2.0",
          "state": {
            "_view_name": "LayoutView",
            "grid_template_rows": null,
            "right": null,
            "justify_content": null,
            "_view_module": "@jupyter-widgets/base",
            "overflow": null,
            "_model_module_version": "1.2.0",
            "_view_count": null,
            "flex_flow": null,
            "width": null,
            "min_width": null,
            "border": null,
            "align_items": null,
            "bottom": null,
            "_model_module": "@jupyter-widgets/base",
            "top": null,
            "grid_column": null,
            "overflow_y": null,
            "overflow_x": null,
            "grid_auto_flow": null,
            "grid_area": null,
            "grid_template_columns": null,
            "flex": null,
            "_model_name": "LayoutModel",
            "justify_items": null,
            "grid_row": null,
            "max_height": null,
            "align_content": null,
            "visibility": null,
            "align_self": null,
            "height": null,
            "min_height": null,
            "padding": null,
            "grid_auto_rows": null,
            "grid_gap": null,
            "max_width": null,
            "order": null,
            "_view_module_version": "1.2.0",
            "grid_template_areas": null,
            "object_position": null,
            "object_fit": null,
            "grid_auto_columns": null,
            "margin": null,
            "display": null,
            "left": null
          }
        },
        "1f3778593a544900aa68cf7c159c8c9a": {
          "model_module": "@jupyter-widgets/controls",
          "model_name": "HTMLModel",
          "model_module_version": "1.5.0",
          "state": {
            "_view_name": "HTMLView",
            "style": "IPY_MODEL_6c76689cae444b2baf82a4318f51d049",
            "_dom_classes": [],
            "description": "",
            "_model_name": "HTMLModel",
            "placeholder": "​",
            "_view_module": "@jupyter-widgets/controls",
            "_model_module_version": "1.5.0",
            "value": "100%",
            "_view_count": null,
            "_view_module_version": "1.5.0",
            "description_tooltip": null,
            "_model_module": "@jupyter-widgets/controls",
            "layout": "IPY_MODEL_02eb21c81aa6403687cdf920ce183d97"
          }
        },
        "bd5fcf05a02e404eaf2d63d606f6f3f4": {
          "model_module": "@jupyter-widgets/controls",
          "model_name": "FloatProgressModel",
          "model_module_version": "1.5.0",
          "state": {
            "_view_name": "ProgressView",
            "style": "IPY_MODEL_13273a06dd464ba2ae398ce3f90ceac8",
            "_dom_classes": [],
            "description": "",
            "_model_name": "FloatProgressModel",
            "bar_style": "success",
            "max": 2288,
            "_view_module": "@jupyter-widgets/controls",
            "_model_module_version": "1.5.0",
            "value": 2288,
            "_view_count": null,
            "_view_module_version": "1.5.0",
            "orientation": "horizontal",
            "min": 0,
            "description_tooltip": null,
            "_model_module": "@jupyter-widgets/controls",
            "layout": "IPY_MODEL_cca98225b08444e784e8863481218b3f"
          }
        },
        "8a0ae0be0f2a4a2db725bc0a3aac1920": {
          "model_module": "@jupyter-widgets/controls",
          "model_name": "HTMLModel",
          "model_module_version": "1.5.0",
          "state": {
            "_view_name": "HTMLView",
            "style": "IPY_MODEL_6e0e7a1bd3124cca84fe18370f166a9f",
            "_dom_classes": [],
            "description": "",
            "_model_name": "HTMLModel",
            "placeholder": "​",
            "_view_module": "@jupyter-widgets/controls",
            "_model_module_version": "1.5.0",
            "value": " 2288/2288 [03:07&lt;00:00, 12.19it/s]",
            "_view_count": null,
            "_view_module_version": "1.5.0",
            "description_tooltip": null,
            "_model_module": "@jupyter-widgets/controls",
            "layout": "IPY_MODEL_d5defd93e5f84a74a08ff261a27310f0"
          }
        },
        "6c76689cae444b2baf82a4318f51d049": {
          "model_module": "@jupyter-widgets/controls",
          "model_name": "DescriptionStyleModel",
          "model_module_version": "1.5.0",
          "state": {
            "_view_name": "StyleView",
            "_model_name": "DescriptionStyleModel",
            "description_width": "",
            "_view_module": "@jupyter-widgets/base",
            "_model_module_version": "1.5.0",
            "_view_count": null,
            "_view_module_version": "1.2.0",
            "_model_module": "@jupyter-widgets/controls"
          }
        },
        "02eb21c81aa6403687cdf920ce183d97": {
          "model_module": "@jupyter-widgets/base",
          "model_name": "LayoutModel",
          "model_module_version": "1.2.0",
          "state": {
            "_view_name": "LayoutView",
            "grid_template_rows": null,
            "right": null,
            "justify_content": null,
            "_view_module": "@jupyter-widgets/base",
            "overflow": null,
            "_model_module_version": "1.2.0",
            "_view_count": null,
            "flex_flow": null,
            "width": null,
            "min_width": null,
            "border": null,
            "align_items": null,
            "bottom": null,
            "_model_module": "@jupyter-widgets/base",
            "top": null,
            "grid_column": null,
            "overflow_y": null,
            "overflow_x": null,
            "grid_auto_flow": null,
            "grid_area": null,
            "grid_template_columns": null,
            "flex": null,
            "_model_name": "LayoutModel",
            "justify_items": null,
            "grid_row": null,
            "max_height": null,
            "align_content": null,
            "visibility": null,
            "align_self": null,
            "height": null,
            "min_height": null,
            "padding": null,
            "grid_auto_rows": null,
            "grid_gap": null,
            "max_width": null,
            "order": null,
            "_view_module_version": "1.2.0",
            "grid_template_areas": null,
            "object_position": null,
            "object_fit": null,
            "grid_auto_columns": null,
            "margin": null,
            "display": null,
            "left": null
          }
        },
        "13273a06dd464ba2ae398ce3f90ceac8": {
          "model_module": "@jupyter-widgets/controls",
          "model_name": "ProgressStyleModel",
          "model_module_version": "1.5.0",
          "state": {
            "_view_name": "StyleView",
            "_model_name": "ProgressStyleModel",
            "description_width": "",
            "_view_module": "@jupyter-widgets/base",
            "_model_module_version": "1.5.0",
            "_view_count": null,
            "_view_module_version": "1.2.0",
            "bar_color": null,
            "_model_module": "@jupyter-widgets/controls"
          }
        },
        "cca98225b08444e784e8863481218b3f": {
          "model_module": "@jupyter-widgets/base",
          "model_name": "LayoutModel",
          "model_module_version": "1.2.0",
          "state": {
            "_view_name": "LayoutView",
            "grid_template_rows": null,
            "right": null,
            "justify_content": null,
            "_view_module": "@jupyter-widgets/base",
            "overflow": null,
            "_model_module_version": "1.2.0",
            "_view_count": null,
            "flex_flow": null,
            "width": null,
            "min_width": null,
            "border": null,
            "align_items": null,
            "bottom": null,
            "_model_module": "@jupyter-widgets/base",
            "top": null,
            "grid_column": null,
            "overflow_y": null,
            "overflow_x": null,
            "grid_auto_flow": null,
            "grid_area": null,
            "grid_template_columns": null,
            "flex": null,
            "_model_name": "LayoutModel",
            "justify_items": null,
            "grid_row": null,
            "max_height": null,
            "align_content": null,
            "visibility": null,
            "align_self": null,
            "height": null,
            "min_height": null,
            "padding": null,
            "grid_auto_rows": null,
            "grid_gap": null,
            "max_width": null,
            "order": null,
            "_view_module_version": "1.2.0",
            "grid_template_areas": null,
            "object_position": null,
            "object_fit": null,
            "grid_auto_columns": null,
            "margin": null,
            "display": null,
            "left": null
          }
        },
        "6e0e7a1bd3124cca84fe18370f166a9f": {
          "model_module": "@jupyter-widgets/controls",
          "model_name": "DescriptionStyleModel",
          "model_module_version": "1.5.0",
          "state": {
            "_view_name": "StyleView",
            "_model_name": "DescriptionStyleModel",
            "description_width": "",
            "_view_module": "@jupyter-widgets/base",
            "_model_module_version": "1.5.0",
            "_view_count": null,
            "_view_module_version": "1.2.0",
            "_model_module": "@jupyter-widgets/controls"
          }
        },
        "d5defd93e5f84a74a08ff261a27310f0": {
          "model_module": "@jupyter-widgets/base",
          "model_name": "LayoutModel",
          "model_module_version": "1.2.0",
          "state": {
            "_view_name": "LayoutView",
            "grid_template_rows": null,
            "right": null,
            "justify_content": null,
            "_view_module": "@jupyter-widgets/base",
            "overflow": null,
            "_model_module_version": "1.2.0",
            "_view_count": null,
            "flex_flow": null,
            "width": null,
            "min_width": null,
            "border": null,
            "align_items": null,
            "bottom": null,
            "_model_module": "@jupyter-widgets/base",
            "top": null,
            "grid_column": null,
            "overflow_y": null,
            "overflow_x": null,
            "grid_auto_flow": null,
            "grid_area": null,
            "grid_template_columns": null,
            "flex": null,
            "_model_name": "LayoutModel",
            "justify_items": null,
            "grid_row": null,
            "max_height": null,
            "align_content": null,
            "visibility": null,
            "align_self": null,
            "height": null,
            "min_height": null,
            "padding": null,
            "grid_auto_rows": null,
            "grid_gap": null,
            "max_width": null,
            "order": null,
            "_view_module_version": "1.2.0",
            "grid_template_areas": null,
            "object_position": null,
            "object_fit": null,
            "grid_auto_columns": null,
            "margin": null,
            "display": null,
            "left": null
          }
        },
        "91132013d45f45fe9cb2243e143cc59a": {
          "model_module": "@jupyter-widgets/controls",
          "model_name": "HBoxModel",
          "model_module_version": "1.5.0",
          "state": {
            "_view_name": "HBoxView",
            "_dom_classes": [],
            "_model_name": "HBoxModel",
            "_view_module": "@jupyter-widgets/controls",
            "_model_module_version": "1.5.0",
            "_view_count": null,
            "_view_module_version": "1.5.0",
            "box_style": "",
            "layout": "IPY_MODEL_8f157c49212b4d8193f7de69db4035be",
            "_model_module": "@jupyter-widgets/controls",
            "children": [
              "IPY_MODEL_c6c4a8a57c9947b08147c9871f1e5f59",
              "IPY_MODEL_e4732b1611db412abd6e8e9665470001",
              "IPY_MODEL_d8b2f1f3a4a6437f96a5d7acb90fb4a6"
            ]
          }
        },
        "8f157c49212b4d8193f7de69db4035be": {
          "model_module": "@jupyter-widgets/base",
          "model_name": "LayoutModel",
          "model_module_version": "1.2.0",
          "state": {
            "_view_name": "LayoutView",
            "grid_template_rows": null,
            "right": null,
            "justify_content": null,
            "_view_module": "@jupyter-widgets/base",
            "overflow": null,
            "_model_module_version": "1.2.0",
            "_view_count": null,
            "flex_flow": null,
            "width": null,
            "min_width": null,
            "border": null,
            "align_items": null,
            "bottom": null,
            "_model_module": "@jupyter-widgets/base",
            "top": null,
            "grid_column": null,
            "overflow_y": null,
            "overflow_x": null,
            "grid_auto_flow": null,
            "grid_area": null,
            "grid_template_columns": null,
            "flex": null,
            "_model_name": "LayoutModel",
            "justify_items": null,
            "grid_row": null,
            "max_height": null,
            "align_content": null,
            "visibility": null,
            "align_self": null,
            "height": null,
            "min_height": null,
            "padding": null,
            "grid_auto_rows": null,
            "grid_gap": null,
            "max_width": null,
            "order": null,
            "_view_module_version": "1.2.0",
            "grid_template_areas": null,
            "object_position": null,
            "object_fit": null,
            "grid_auto_columns": null,
            "margin": null,
            "display": null,
            "left": null
          }
        },
        "c6c4a8a57c9947b08147c9871f1e5f59": {
          "model_module": "@jupyter-widgets/controls",
          "model_name": "HTMLModel",
          "model_module_version": "1.5.0",
          "state": {
            "_view_name": "HTMLView",
            "style": "IPY_MODEL_5b8324ff4bb34dce9264405d07d9effe",
            "_dom_classes": [],
            "description": "",
            "_model_name": "HTMLModel",
            "placeholder": "​",
            "_view_module": "@jupyter-widgets/controls",
            "_model_module_version": "1.5.0",
            "value": "100%",
            "_view_count": null,
            "_view_module_version": "1.5.0",
            "description_tooltip": null,
            "_model_module": "@jupyter-widgets/controls",
            "layout": "IPY_MODEL_292810e0a4f14a2f9fe1e30e91b96897"
          }
        },
        "e4732b1611db412abd6e8e9665470001": {
          "model_module": "@jupyter-widgets/controls",
          "model_name": "FloatProgressModel",
          "model_module_version": "1.5.0",
          "state": {
            "_view_name": "ProgressView",
            "style": "IPY_MODEL_2ecf935435944a97b2e0361cb8452bae",
            "_dom_classes": [],
            "description": "",
            "_model_name": "FloatProgressModel",
            "bar_style": "success",
            "max": 2288,
            "_view_module": "@jupyter-widgets/controls",
            "_model_module_version": "1.5.0",
            "value": 2288,
            "_view_count": null,
            "_view_module_version": "1.5.0",
            "orientation": "horizontal",
            "min": 0,
            "description_tooltip": null,
            "_model_module": "@jupyter-widgets/controls",
            "layout": "IPY_MODEL_a045a28a4cae47308c5d495b9a7d934d"
          }
        },
        "d8b2f1f3a4a6437f96a5d7acb90fb4a6": {
          "model_module": "@jupyter-widgets/controls",
          "model_name": "HTMLModel",
          "model_module_version": "1.5.0",
          "state": {
            "_view_name": "HTMLView",
            "style": "IPY_MODEL_5f6b516251f544acbd27d28e6a3088ac",
            "_dom_classes": [],
            "description": "",
            "_model_name": "HTMLModel",
            "placeholder": "​",
            "_view_module": "@jupyter-widgets/controls",
            "_model_module_version": "1.5.0",
            "value": " 2288/2288 [03:07&lt;00:00, 12.19it/s]",
            "_view_count": null,
            "_view_module_version": "1.5.0",
            "description_tooltip": null,
            "_model_module": "@jupyter-widgets/controls",
            "layout": "IPY_MODEL_f412afd2fe09466c879b6b6a143e555a"
          }
        },
        "5b8324ff4bb34dce9264405d07d9effe": {
          "model_module": "@jupyter-widgets/controls",
          "model_name": "DescriptionStyleModel",
          "model_module_version": "1.5.0",
          "state": {
            "_view_name": "StyleView",
            "_model_name": "DescriptionStyleModel",
            "description_width": "",
            "_view_module": "@jupyter-widgets/base",
            "_model_module_version": "1.5.0",
            "_view_count": null,
            "_view_module_version": "1.2.0",
            "_model_module": "@jupyter-widgets/controls"
          }
        },
        "292810e0a4f14a2f9fe1e30e91b96897": {
          "model_module": "@jupyter-widgets/base",
          "model_name": "LayoutModel",
          "model_module_version": "1.2.0",
          "state": {
            "_view_name": "LayoutView",
            "grid_template_rows": null,
            "right": null,
            "justify_content": null,
            "_view_module": "@jupyter-widgets/base",
            "overflow": null,
            "_model_module_version": "1.2.0",
            "_view_count": null,
            "flex_flow": null,
            "width": null,
            "min_width": null,
            "border": null,
            "align_items": null,
            "bottom": null,
            "_model_module": "@jupyter-widgets/base",
            "top": null,
            "grid_column": null,
            "overflow_y": null,
            "overflow_x": null,
            "grid_auto_flow": null,
            "grid_area": null,
            "grid_template_columns": null,
            "flex": null,
            "_model_name": "LayoutModel",
            "justify_items": null,
            "grid_row": null,
            "max_height": null,
            "align_content": null,
            "visibility": null,
            "align_self": null,
            "height": null,
            "min_height": null,
            "padding": null,
            "grid_auto_rows": null,
            "grid_gap": null,
            "max_width": null,
            "order": null,
            "_view_module_version": "1.2.0",
            "grid_template_areas": null,
            "object_position": null,
            "object_fit": null,
            "grid_auto_columns": null,
            "margin": null,
            "display": null,
            "left": null
          }
        },
        "2ecf935435944a97b2e0361cb8452bae": {
          "model_module": "@jupyter-widgets/controls",
          "model_name": "ProgressStyleModel",
          "model_module_version": "1.5.0",
          "state": {
            "_view_name": "StyleView",
            "_model_name": "ProgressStyleModel",
            "description_width": "",
            "_view_module": "@jupyter-widgets/base",
            "_model_module_version": "1.5.0",
            "_view_count": null,
            "_view_module_version": "1.2.0",
            "bar_color": null,
            "_model_module": "@jupyter-widgets/controls"
          }
        },
        "a045a28a4cae47308c5d495b9a7d934d": {
          "model_module": "@jupyter-widgets/base",
          "model_name": "LayoutModel",
          "model_module_version": "1.2.0",
          "state": {
            "_view_name": "LayoutView",
            "grid_template_rows": null,
            "right": null,
            "justify_content": null,
            "_view_module": "@jupyter-widgets/base",
            "overflow": null,
            "_model_module_version": "1.2.0",
            "_view_count": null,
            "flex_flow": null,
            "width": null,
            "min_width": null,
            "border": null,
            "align_items": null,
            "bottom": null,
            "_model_module": "@jupyter-widgets/base",
            "top": null,
            "grid_column": null,
            "overflow_y": null,
            "overflow_x": null,
            "grid_auto_flow": null,
            "grid_area": null,
            "grid_template_columns": null,
            "flex": null,
            "_model_name": "LayoutModel",
            "justify_items": null,
            "grid_row": null,
            "max_height": null,
            "align_content": null,
            "visibility": null,
            "align_self": null,
            "height": null,
            "min_height": null,
            "padding": null,
            "grid_auto_rows": null,
            "grid_gap": null,
            "max_width": null,
            "order": null,
            "_view_module_version": "1.2.0",
            "grid_template_areas": null,
            "object_position": null,
            "object_fit": null,
            "grid_auto_columns": null,
            "margin": null,
            "display": null,
            "left": null
          }
        },
        "5f6b516251f544acbd27d28e6a3088ac": {
          "model_module": "@jupyter-widgets/controls",
          "model_name": "DescriptionStyleModel",
          "model_module_version": "1.5.0",
          "state": {
            "_view_name": "StyleView",
            "_model_name": "DescriptionStyleModel",
            "description_width": "",
            "_view_module": "@jupyter-widgets/base",
            "_model_module_version": "1.5.0",
            "_view_count": null,
            "_view_module_version": "1.2.0",
            "_model_module": "@jupyter-widgets/controls"
          }
        },
        "f412afd2fe09466c879b6b6a143e555a": {
          "model_module": "@jupyter-widgets/base",
          "model_name": "LayoutModel",
          "model_module_version": "1.2.0",
          "state": {
            "_view_name": "LayoutView",
            "grid_template_rows": null,
            "right": null,
            "justify_content": null,
            "_view_module": "@jupyter-widgets/base",
            "overflow": null,
            "_model_module_version": "1.2.0",
            "_view_count": null,
            "flex_flow": null,
            "width": null,
            "min_width": null,
            "border": null,
            "align_items": null,
            "bottom": null,
            "_model_module": "@jupyter-widgets/base",
            "top": null,
            "grid_column": null,
            "overflow_y": null,
            "overflow_x": null,
            "grid_auto_flow": null,
            "grid_area": null,
            "grid_template_columns": null,
            "flex": null,
            "_model_name": "LayoutModel",
            "justify_items": null,
            "grid_row": null,
            "max_height": null,
            "align_content": null,
            "visibility": null,
            "align_self": null,
            "height": null,
            "min_height": null,
            "padding": null,
            "grid_auto_rows": null,
            "grid_gap": null,
            "max_width": null,
            "order": null,
            "_view_module_version": "1.2.0",
            "grid_template_areas": null,
            "object_position": null,
            "object_fit": null,
            "grid_auto_columns": null,
            "margin": null,
            "display": null,
            "left": null
          }
        },
        "8f5e3a836920457f9ae1505674ddffa9": {
          "model_module": "@jupyter-widgets/controls",
          "model_name": "HBoxModel",
          "model_module_version": "1.5.0",
          "state": {
            "_view_name": "HBoxView",
            "_dom_classes": [],
            "_model_name": "HBoxModel",
            "_view_module": "@jupyter-widgets/controls",
            "_model_module_version": "1.5.0",
            "_view_count": null,
            "_view_module_version": "1.5.0",
            "box_style": "",
            "layout": "IPY_MODEL_5ae20dfd4fe74eb7b5e262c42b1df5ae",
            "_model_module": "@jupyter-widgets/controls",
            "children": [
              "IPY_MODEL_cc235ae2a4df4be584f11d24fc80d008",
              "IPY_MODEL_8096feda351f4ef2a3668da7ff5fed17",
              "IPY_MODEL_5056cf96adb643218bd0ffd86ffa9775"
            ]
          }
        },
        "5ae20dfd4fe74eb7b5e262c42b1df5ae": {
          "model_module": "@jupyter-widgets/base",
          "model_name": "LayoutModel",
          "model_module_version": "1.2.0",
          "state": {
            "_view_name": "LayoutView",
            "grid_template_rows": null,
            "right": null,
            "justify_content": null,
            "_view_module": "@jupyter-widgets/base",
            "overflow": null,
            "_model_module_version": "1.2.0",
            "_view_count": null,
            "flex_flow": null,
            "width": null,
            "min_width": null,
            "border": null,
            "align_items": null,
            "bottom": null,
            "_model_module": "@jupyter-widgets/base",
            "top": null,
            "grid_column": null,
            "overflow_y": null,
            "overflow_x": null,
            "grid_auto_flow": null,
            "grid_area": null,
            "grid_template_columns": null,
            "flex": null,
            "_model_name": "LayoutModel",
            "justify_items": null,
            "grid_row": null,
            "max_height": null,
            "align_content": null,
            "visibility": null,
            "align_self": null,
            "height": null,
            "min_height": null,
            "padding": null,
            "grid_auto_rows": null,
            "grid_gap": null,
            "max_width": null,
            "order": null,
            "_view_module_version": "1.2.0",
            "grid_template_areas": null,
            "object_position": null,
            "object_fit": null,
            "grid_auto_columns": null,
            "margin": null,
            "display": null,
            "left": null
          }
        },
        "cc235ae2a4df4be584f11d24fc80d008": {
          "model_module": "@jupyter-widgets/controls",
          "model_name": "HTMLModel",
          "model_module_version": "1.5.0",
          "state": {
            "_view_name": "HTMLView",
            "style": "IPY_MODEL_8e0b4ea4b75f4c2784fb4dce645c34e7",
            "_dom_classes": [],
            "description": "",
            "_model_name": "HTMLModel",
            "placeholder": "​",
            "_view_module": "@jupyter-widgets/controls",
            "_model_module_version": "1.5.0",
            "value": "100%",
            "_view_count": null,
            "_view_module_version": "1.5.0",
            "description_tooltip": null,
            "_model_module": "@jupyter-widgets/controls",
            "layout": "IPY_MODEL_d959386bb78646efab967c4dd7cad5aa"
          }
        },
        "8096feda351f4ef2a3668da7ff5fed17": {
          "model_module": "@jupyter-widgets/controls",
          "model_name": "FloatProgressModel",
          "model_module_version": "1.5.0",
          "state": {
            "_view_name": "ProgressView",
            "style": "IPY_MODEL_87232b58dc1e456da9708feade36e7d6",
            "_dom_classes": [],
            "description": "",
            "_model_name": "FloatProgressModel",
            "bar_style": "success",
            "max": 2288,
            "_view_module": "@jupyter-widgets/controls",
            "_model_module_version": "1.5.0",
            "value": 2288,
            "_view_count": null,
            "_view_module_version": "1.5.0",
            "orientation": "horizontal",
            "min": 0,
            "description_tooltip": null,
            "_model_module": "@jupyter-widgets/controls",
            "layout": "IPY_MODEL_0d60397f6e414b76816cbbfddc3271d7"
          }
        },
        "5056cf96adb643218bd0ffd86ffa9775": {
          "model_module": "@jupyter-widgets/controls",
          "model_name": "HTMLModel",
          "model_module_version": "1.5.0",
          "state": {
            "_view_name": "HTMLView",
            "style": "IPY_MODEL_2a84a98e4eeb4aed8a6f07b9e874c3e5",
            "_dom_classes": [],
            "description": "",
            "_model_name": "HTMLModel",
            "placeholder": "​",
            "_view_module": "@jupyter-widgets/controls",
            "_model_module_version": "1.5.0",
            "value": " 2288/2288 [03:07&lt;00:00, 12.26it/s]",
            "_view_count": null,
            "_view_module_version": "1.5.0",
            "description_tooltip": null,
            "_model_module": "@jupyter-widgets/controls",
            "layout": "IPY_MODEL_5eb915f999ee4f44954854fa22a399f5"
          }
        },
        "8e0b4ea4b75f4c2784fb4dce645c34e7": {
          "model_module": "@jupyter-widgets/controls",
          "model_name": "DescriptionStyleModel",
          "model_module_version": "1.5.0",
          "state": {
            "_view_name": "StyleView",
            "_model_name": "DescriptionStyleModel",
            "description_width": "",
            "_view_module": "@jupyter-widgets/base",
            "_model_module_version": "1.5.0",
            "_view_count": null,
            "_view_module_version": "1.2.0",
            "_model_module": "@jupyter-widgets/controls"
          }
        },
        "d959386bb78646efab967c4dd7cad5aa": {
          "model_module": "@jupyter-widgets/base",
          "model_name": "LayoutModel",
          "model_module_version": "1.2.0",
          "state": {
            "_view_name": "LayoutView",
            "grid_template_rows": null,
            "right": null,
            "justify_content": null,
            "_view_module": "@jupyter-widgets/base",
            "overflow": null,
            "_model_module_version": "1.2.0",
            "_view_count": null,
            "flex_flow": null,
            "width": null,
            "min_width": null,
            "border": null,
            "align_items": null,
            "bottom": null,
            "_model_module": "@jupyter-widgets/base",
            "top": null,
            "grid_column": null,
            "overflow_y": null,
            "overflow_x": null,
            "grid_auto_flow": null,
            "grid_area": null,
            "grid_template_columns": null,
            "flex": null,
            "_model_name": "LayoutModel",
            "justify_items": null,
            "grid_row": null,
            "max_height": null,
            "align_content": null,
            "visibility": null,
            "align_self": null,
            "height": null,
            "min_height": null,
            "padding": null,
            "grid_auto_rows": null,
            "grid_gap": null,
            "max_width": null,
            "order": null,
            "_view_module_version": "1.2.0",
            "grid_template_areas": null,
            "object_position": null,
            "object_fit": null,
            "grid_auto_columns": null,
            "margin": null,
            "display": null,
            "left": null
          }
        },
        "87232b58dc1e456da9708feade36e7d6": {
          "model_module": "@jupyter-widgets/controls",
          "model_name": "ProgressStyleModel",
          "model_module_version": "1.5.0",
          "state": {
            "_view_name": "StyleView",
            "_model_name": "ProgressStyleModel",
            "description_width": "",
            "_view_module": "@jupyter-widgets/base",
            "_model_module_version": "1.5.0",
            "_view_count": null,
            "_view_module_version": "1.2.0",
            "bar_color": null,
            "_model_module": "@jupyter-widgets/controls"
          }
        },
        "0d60397f6e414b76816cbbfddc3271d7": {
          "model_module": "@jupyter-widgets/base",
          "model_name": "LayoutModel",
          "model_module_version": "1.2.0",
          "state": {
            "_view_name": "LayoutView",
            "grid_template_rows": null,
            "right": null,
            "justify_content": null,
            "_view_module": "@jupyter-widgets/base",
            "overflow": null,
            "_model_module_version": "1.2.0",
            "_view_count": null,
            "flex_flow": null,
            "width": null,
            "min_width": null,
            "border": null,
            "align_items": null,
            "bottom": null,
            "_model_module": "@jupyter-widgets/base",
            "top": null,
            "grid_column": null,
            "overflow_y": null,
            "overflow_x": null,
            "grid_auto_flow": null,
            "grid_area": null,
            "grid_template_columns": null,
            "flex": null,
            "_model_name": "LayoutModel",
            "justify_items": null,
            "grid_row": null,
            "max_height": null,
            "align_content": null,
            "visibility": null,
            "align_self": null,
            "height": null,
            "min_height": null,
            "padding": null,
            "grid_auto_rows": null,
            "grid_gap": null,
            "max_width": null,
            "order": null,
            "_view_module_version": "1.2.0",
            "grid_template_areas": null,
            "object_position": null,
            "object_fit": null,
            "grid_auto_columns": null,
            "margin": null,
            "display": null,
            "left": null
          }
        },
        "2a84a98e4eeb4aed8a6f07b9e874c3e5": {
          "model_module": "@jupyter-widgets/controls",
          "model_name": "DescriptionStyleModel",
          "model_module_version": "1.5.0",
          "state": {
            "_view_name": "StyleView",
            "_model_name": "DescriptionStyleModel",
            "description_width": "",
            "_view_module": "@jupyter-widgets/base",
            "_model_module_version": "1.5.0",
            "_view_count": null,
            "_view_module_version": "1.2.0",
            "_model_module": "@jupyter-widgets/controls"
          }
        },
        "5eb915f999ee4f44954854fa22a399f5": {
          "model_module": "@jupyter-widgets/base",
          "model_name": "LayoutModel",
          "model_module_version": "1.2.0",
          "state": {
            "_view_name": "LayoutView",
            "grid_template_rows": null,
            "right": null,
            "justify_content": null,
            "_view_module": "@jupyter-widgets/base",
            "overflow": null,
            "_model_module_version": "1.2.0",
            "_view_count": null,
            "flex_flow": null,
            "width": null,
            "min_width": null,
            "border": null,
            "align_items": null,
            "bottom": null,
            "_model_module": "@jupyter-widgets/base",
            "top": null,
            "grid_column": null,
            "overflow_y": null,
            "overflow_x": null,
            "grid_auto_flow": null,
            "grid_area": null,
            "grid_template_columns": null,
            "flex": null,
            "_model_name": "LayoutModel",
            "justify_items": null,
            "grid_row": null,
            "max_height": null,
            "align_content": null,
            "visibility": null,
            "align_self": null,
            "height": null,
            "min_height": null,
            "padding": null,
            "grid_auto_rows": null,
            "grid_gap": null,
            "max_width": null,
            "order": null,
            "_view_module_version": "1.2.0",
            "grid_template_areas": null,
            "object_position": null,
            "object_fit": null,
            "grid_auto_columns": null,
            "margin": null,
            "display": null,
            "left": null
          }
        },
        "85119cf5d80d453ba1a36f9c73b2ac0e": {
          "model_module": "@jupyter-widgets/controls",
          "model_name": "HBoxModel",
          "model_module_version": "1.5.0",
          "state": {
            "_view_name": "HBoxView",
            "_dom_classes": [],
            "_model_name": "HBoxModel",
            "_view_module": "@jupyter-widgets/controls",
            "_model_module_version": "1.5.0",
            "_view_count": null,
            "_view_module_version": "1.5.0",
            "box_style": "",
            "layout": "IPY_MODEL_ed26d140e81f44e7b46899ca08dc954b",
            "_model_module": "@jupyter-widgets/controls",
            "children": [
              "IPY_MODEL_77d64785cb314789a93bdfb7e68b5f29",
              "IPY_MODEL_7607ace8f49743d29dd489f3d550c881",
              "IPY_MODEL_8320e0be80d14e2199803c683b4bcaf9"
            ]
          }
        },
        "ed26d140e81f44e7b46899ca08dc954b": {
          "model_module": "@jupyter-widgets/base",
          "model_name": "LayoutModel",
          "model_module_version": "1.2.0",
          "state": {
            "_view_name": "LayoutView",
            "grid_template_rows": null,
            "right": null,
            "justify_content": null,
            "_view_module": "@jupyter-widgets/base",
            "overflow": null,
            "_model_module_version": "1.2.0",
            "_view_count": null,
            "flex_flow": null,
            "width": null,
            "min_width": null,
            "border": null,
            "align_items": null,
            "bottom": null,
            "_model_module": "@jupyter-widgets/base",
            "top": null,
            "grid_column": null,
            "overflow_y": null,
            "overflow_x": null,
            "grid_auto_flow": null,
            "grid_area": null,
            "grid_template_columns": null,
            "flex": null,
            "_model_name": "LayoutModel",
            "justify_items": null,
            "grid_row": null,
            "max_height": null,
            "align_content": null,
            "visibility": null,
            "align_self": null,
            "height": null,
            "min_height": null,
            "padding": null,
            "grid_auto_rows": null,
            "grid_gap": null,
            "max_width": null,
            "order": null,
            "_view_module_version": "1.2.0",
            "grid_template_areas": null,
            "object_position": null,
            "object_fit": null,
            "grid_auto_columns": null,
            "margin": null,
            "display": null,
            "left": null
          }
        },
        "77d64785cb314789a93bdfb7e68b5f29": {
          "model_module": "@jupyter-widgets/controls",
          "model_name": "HTMLModel",
          "model_module_version": "1.5.0",
          "state": {
            "_view_name": "HTMLView",
            "style": "IPY_MODEL_b779d4de293c462b950e7159dfee4dec",
            "_dom_classes": [],
            "description": "",
            "_model_name": "HTMLModel",
            "placeholder": "​",
            "_view_module": "@jupyter-widgets/controls",
            "_model_module_version": "1.5.0",
            "value": "100%",
            "_view_count": null,
            "_view_module_version": "1.5.0",
            "description_tooltip": null,
            "_model_module": "@jupyter-widgets/controls",
            "layout": "IPY_MODEL_7b387f9c176747199e8c8109fe8f82f5"
          }
        },
        "7607ace8f49743d29dd489f3d550c881": {
          "model_module": "@jupyter-widgets/controls",
          "model_name": "FloatProgressModel",
          "model_module_version": "1.5.0",
          "state": {
            "_view_name": "ProgressView",
            "style": "IPY_MODEL_07ee0c76a55b4586b7d09aa2757c16cf",
            "_dom_classes": [],
            "description": "",
            "_model_name": "FloatProgressModel",
            "bar_style": "success",
            "max": 2288,
            "_view_module": "@jupyter-widgets/controls",
            "_model_module_version": "1.5.0",
            "value": 2288,
            "_view_count": null,
            "_view_module_version": "1.5.0",
            "orientation": "horizontal",
            "min": 0,
            "description_tooltip": null,
            "_model_module": "@jupyter-widgets/controls",
            "layout": "IPY_MODEL_e8ed698f461a4bc8868f1b991f3cf9db"
          }
        },
        "8320e0be80d14e2199803c683b4bcaf9": {
          "model_module": "@jupyter-widgets/controls",
          "model_name": "HTMLModel",
          "model_module_version": "1.5.0",
          "state": {
            "_view_name": "HTMLView",
            "style": "IPY_MODEL_6db2637204204e8591f4966d6fb4d118",
            "_dom_classes": [],
            "description": "",
            "_model_name": "HTMLModel",
            "placeholder": "​",
            "_view_module": "@jupyter-widgets/controls",
            "_model_module_version": "1.5.0",
            "value": " 2288/2288 [03:07&lt;00:00, 12.23it/s]",
            "_view_count": null,
            "_view_module_version": "1.5.0",
            "description_tooltip": null,
            "_model_module": "@jupyter-widgets/controls",
            "layout": "IPY_MODEL_069006893c5e43189cd06446e3cacf78"
          }
        },
        "b779d4de293c462b950e7159dfee4dec": {
          "model_module": "@jupyter-widgets/controls",
          "model_name": "DescriptionStyleModel",
          "model_module_version": "1.5.0",
          "state": {
            "_view_name": "StyleView",
            "_model_name": "DescriptionStyleModel",
            "description_width": "",
            "_view_module": "@jupyter-widgets/base",
            "_model_module_version": "1.5.0",
            "_view_count": null,
            "_view_module_version": "1.2.0",
            "_model_module": "@jupyter-widgets/controls"
          }
        },
        "7b387f9c176747199e8c8109fe8f82f5": {
          "model_module": "@jupyter-widgets/base",
          "model_name": "LayoutModel",
          "model_module_version": "1.2.0",
          "state": {
            "_view_name": "LayoutView",
            "grid_template_rows": null,
            "right": null,
            "justify_content": null,
            "_view_module": "@jupyter-widgets/base",
            "overflow": null,
            "_model_module_version": "1.2.0",
            "_view_count": null,
            "flex_flow": null,
            "width": null,
            "min_width": null,
            "border": null,
            "align_items": null,
            "bottom": null,
            "_model_module": "@jupyter-widgets/base",
            "top": null,
            "grid_column": null,
            "overflow_y": null,
            "overflow_x": null,
            "grid_auto_flow": null,
            "grid_area": null,
            "grid_template_columns": null,
            "flex": null,
            "_model_name": "LayoutModel",
            "justify_items": null,
            "grid_row": null,
            "max_height": null,
            "align_content": null,
            "visibility": null,
            "align_self": null,
            "height": null,
            "min_height": null,
            "padding": null,
            "grid_auto_rows": null,
            "grid_gap": null,
            "max_width": null,
            "order": null,
            "_view_module_version": "1.2.0",
            "grid_template_areas": null,
            "object_position": null,
            "object_fit": null,
            "grid_auto_columns": null,
            "margin": null,
            "display": null,
            "left": null
          }
        },
        "07ee0c76a55b4586b7d09aa2757c16cf": {
          "model_module": "@jupyter-widgets/controls",
          "model_name": "ProgressStyleModel",
          "model_module_version": "1.5.0",
          "state": {
            "_view_name": "StyleView",
            "_model_name": "ProgressStyleModel",
            "description_width": "",
            "_view_module": "@jupyter-widgets/base",
            "_model_module_version": "1.5.0",
            "_view_count": null,
            "_view_module_version": "1.2.0",
            "bar_color": null,
            "_model_module": "@jupyter-widgets/controls"
          }
        },
        "e8ed698f461a4bc8868f1b991f3cf9db": {
          "model_module": "@jupyter-widgets/base",
          "model_name": "LayoutModel",
          "model_module_version": "1.2.0",
          "state": {
            "_view_name": "LayoutView",
            "grid_template_rows": null,
            "right": null,
            "justify_content": null,
            "_view_module": "@jupyter-widgets/base",
            "overflow": null,
            "_model_module_version": "1.2.0",
            "_view_count": null,
            "flex_flow": null,
            "width": null,
            "min_width": null,
            "border": null,
            "align_items": null,
            "bottom": null,
            "_model_module": "@jupyter-widgets/base",
            "top": null,
            "grid_column": null,
            "overflow_y": null,
            "overflow_x": null,
            "grid_auto_flow": null,
            "grid_area": null,
            "grid_template_columns": null,
            "flex": null,
            "_model_name": "LayoutModel",
            "justify_items": null,
            "grid_row": null,
            "max_height": null,
            "align_content": null,
            "visibility": null,
            "align_self": null,
            "height": null,
            "min_height": null,
            "padding": null,
            "grid_auto_rows": null,
            "grid_gap": null,
            "max_width": null,
            "order": null,
            "_view_module_version": "1.2.0",
            "grid_template_areas": null,
            "object_position": null,
            "object_fit": null,
            "grid_auto_columns": null,
            "margin": null,
            "display": null,
            "left": null
          }
        },
        "6db2637204204e8591f4966d6fb4d118": {
          "model_module": "@jupyter-widgets/controls",
          "model_name": "DescriptionStyleModel",
          "model_module_version": "1.5.0",
          "state": {
            "_view_name": "StyleView",
            "_model_name": "DescriptionStyleModel",
            "description_width": "",
            "_view_module": "@jupyter-widgets/base",
            "_model_module_version": "1.5.0",
            "_view_count": null,
            "_view_module_version": "1.2.0",
            "_model_module": "@jupyter-widgets/controls"
          }
        },
        "069006893c5e43189cd06446e3cacf78": {
          "model_module": "@jupyter-widgets/base",
          "model_name": "LayoutModel",
          "model_module_version": "1.2.0",
          "state": {
            "_view_name": "LayoutView",
            "grid_template_rows": null,
            "right": null,
            "justify_content": null,
            "_view_module": "@jupyter-widgets/base",
            "overflow": null,
            "_model_module_version": "1.2.0",
            "_view_count": null,
            "flex_flow": null,
            "width": null,
            "min_width": null,
            "border": null,
            "align_items": null,
            "bottom": null,
            "_model_module": "@jupyter-widgets/base",
            "top": null,
            "grid_column": null,
            "overflow_y": null,
            "overflow_x": null,
            "grid_auto_flow": null,
            "grid_area": null,
            "grid_template_columns": null,
            "flex": null,
            "_model_name": "LayoutModel",
            "justify_items": null,
            "grid_row": null,
            "max_height": null,
            "align_content": null,
            "visibility": null,
            "align_self": null,
            "height": null,
            "min_height": null,
            "padding": null,
            "grid_auto_rows": null,
            "grid_gap": null,
            "max_width": null,
            "order": null,
            "_view_module_version": "1.2.0",
            "grid_template_areas": null,
            "object_position": null,
            "object_fit": null,
            "grid_auto_columns": null,
            "margin": null,
            "display": null,
            "left": null
          }
        },
        "bae3b8165ba942f3aeec4900fcc677c4": {
          "model_module": "@jupyter-widgets/controls",
          "model_name": "HBoxModel",
          "model_module_version": "1.5.0",
          "state": {
            "_view_name": "HBoxView",
            "_dom_classes": [],
            "_model_name": "HBoxModel",
            "_view_module": "@jupyter-widgets/controls",
            "_model_module_version": "1.5.0",
            "_view_count": null,
            "_view_module_version": "1.5.0",
            "box_style": "",
            "layout": "IPY_MODEL_a0e3943dc2ba451d9c7b0bdea49fa8c7",
            "_model_module": "@jupyter-widgets/controls",
            "children": [
              "IPY_MODEL_1fe6261686b44bad81558ca5a9fccec0",
              "IPY_MODEL_21650251efea451a87a0548050718492",
              "IPY_MODEL_d7e06b79806544e6a754d47a67355ad2"
            ]
          }
        },
        "a0e3943dc2ba451d9c7b0bdea49fa8c7": {
          "model_module": "@jupyter-widgets/base",
          "model_name": "LayoutModel",
          "model_module_version": "1.2.0",
          "state": {
            "_view_name": "LayoutView",
            "grid_template_rows": null,
            "right": null,
            "justify_content": null,
            "_view_module": "@jupyter-widgets/base",
            "overflow": null,
            "_model_module_version": "1.2.0",
            "_view_count": null,
            "flex_flow": null,
            "width": null,
            "min_width": null,
            "border": null,
            "align_items": null,
            "bottom": null,
            "_model_module": "@jupyter-widgets/base",
            "top": null,
            "grid_column": null,
            "overflow_y": null,
            "overflow_x": null,
            "grid_auto_flow": null,
            "grid_area": null,
            "grid_template_columns": null,
            "flex": null,
            "_model_name": "LayoutModel",
            "justify_items": null,
            "grid_row": null,
            "max_height": null,
            "align_content": null,
            "visibility": null,
            "align_self": null,
            "height": null,
            "min_height": null,
            "padding": null,
            "grid_auto_rows": null,
            "grid_gap": null,
            "max_width": null,
            "order": null,
            "_view_module_version": "1.2.0",
            "grid_template_areas": null,
            "object_position": null,
            "object_fit": null,
            "grid_auto_columns": null,
            "margin": null,
            "display": null,
            "left": null
          }
        },
        "1fe6261686b44bad81558ca5a9fccec0": {
          "model_module": "@jupyter-widgets/controls",
          "model_name": "HTMLModel",
          "model_module_version": "1.5.0",
          "state": {
            "_view_name": "HTMLView",
            "style": "IPY_MODEL_56fddfa07105471f9c4d144a190a44b3",
            "_dom_classes": [],
            "description": "",
            "_model_name": "HTMLModel",
            "placeholder": "​",
            "_view_module": "@jupyter-widgets/controls",
            "_model_module_version": "1.5.0",
            "value": "100%",
            "_view_count": null,
            "_view_module_version": "1.5.0",
            "description_tooltip": null,
            "_model_module": "@jupyter-widgets/controls",
            "layout": "IPY_MODEL_94d2f1859737439f926af047583e793f"
          }
        },
        "21650251efea451a87a0548050718492": {
          "model_module": "@jupyter-widgets/controls",
          "model_name": "FloatProgressModel",
          "model_module_version": "1.5.0",
          "state": {
            "_view_name": "ProgressView",
            "style": "IPY_MODEL_1ada5ab22e78464781ed161fc95fc26c",
            "_dom_classes": [],
            "description": "",
            "_model_name": "FloatProgressModel",
            "bar_style": "success",
            "max": 2288,
            "_view_module": "@jupyter-widgets/controls",
            "_model_module_version": "1.5.0",
            "value": 2288,
            "_view_count": null,
            "_view_module_version": "1.5.0",
            "orientation": "horizontal",
            "min": 0,
            "description_tooltip": null,
            "_model_module": "@jupyter-widgets/controls",
            "layout": "IPY_MODEL_77dcc84f173041f384aa637dd554e658"
          }
        },
        "d7e06b79806544e6a754d47a67355ad2": {
          "model_module": "@jupyter-widgets/controls",
          "model_name": "HTMLModel",
          "model_module_version": "1.5.0",
          "state": {
            "_view_name": "HTMLView",
            "style": "IPY_MODEL_5619f305c34d4e7c860248db410952d3",
            "_dom_classes": [],
            "description": "",
            "_model_name": "HTMLModel",
            "placeholder": "​",
            "_view_module": "@jupyter-widgets/controls",
            "_model_module_version": "1.5.0",
            "value": " 2288/2288 [03:07&lt;00:00, 12.25it/s]",
            "_view_count": null,
            "_view_module_version": "1.5.0",
            "description_tooltip": null,
            "_model_module": "@jupyter-widgets/controls",
            "layout": "IPY_MODEL_a78c5e3a3c7b4bfdaf83ee90686dcabe"
          }
        },
        "56fddfa07105471f9c4d144a190a44b3": {
          "model_module": "@jupyter-widgets/controls",
          "model_name": "DescriptionStyleModel",
          "model_module_version": "1.5.0",
          "state": {
            "_view_name": "StyleView",
            "_model_name": "DescriptionStyleModel",
            "description_width": "",
            "_view_module": "@jupyter-widgets/base",
            "_model_module_version": "1.5.0",
            "_view_count": null,
            "_view_module_version": "1.2.0",
            "_model_module": "@jupyter-widgets/controls"
          }
        },
        "94d2f1859737439f926af047583e793f": {
          "model_module": "@jupyter-widgets/base",
          "model_name": "LayoutModel",
          "model_module_version": "1.2.0",
          "state": {
            "_view_name": "LayoutView",
            "grid_template_rows": null,
            "right": null,
            "justify_content": null,
            "_view_module": "@jupyter-widgets/base",
            "overflow": null,
            "_model_module_version": "1.2.0",
            "_view_count": null,
            "flex_flow": null,
            "width": null,
            "min_width": null,
            "border": null,
            "align_items": null,
            "bottom": null,
            "_model_module": "@jupyter-widgets/base",
            "top": null,
            "grid_column": null,
            "overflow_y": null,
            "overflow_x": null,
            "grid_auto_flow": null,
            "grid_area": null,
            "grid_template_columns": null,
            "flex": null,
            "_model_name": "LayoutModel",
            "justify_items": null,
            "grid_row": null,
            "max_height": null,
            "align_content": null,
            "visibility": null,
            "align_self": null,
            "height": null,
            "min_height": null,
            "padding": null,
            "grid_auto_rows": null,
            "grid_gap": null,
            "max_width": null,
            "order": null,
            "_view_module_version": "1.2.0",
            "grid_template_areas": null,
            "object_position": null,
            "object_fit": null,
            "grid_auto_columns": null,
            "margin": null,
            "display": null,
            "left": null
          }
        },
        "1ada5ab22e78464781ed161fc95fc26c": {
          "model_module": "@jupyter-widgets/controls",
          "model_name": "ProgressStyleModel",
          "model_module_version": "1.5.0",
          "state": {
            "_view_name": "StyleView",
            "_model_name": "ProgressStyleModel",
            "description_width": "",
            "_view_module": "@jupyter-widgets/base",
            "_model_module_version": "1.5.0",
            "_view_count": null,
            "_view_module_version": "1.2.0",
            "bar_color": null,
            "_model_module": "@jupyter-widgets/controls"
          }
        },
        "77dcc84f173041f384aa637dd554e658": {
          "model_module": "@jupyter-widgets/base",
          "model_name": "LayoutModel",
          "model_module_version": "1.2.0",
          "state": {
            "_view_name": "LayoutView",
            "grid_template_rows": null,
            "right": null,
            "justify_content": null,
            "_view_module": "@jupyter-widgets/base",
            "overflow": null,
            "_model_module_version": "1.2.0",
            "_view_count": null,
            "flex_flow": null,
            "width": null,
            "min_width": null,
            "border": null,
            "align_items": null,
            "bottom": null,
            "_model_module": "@jupyter-widgets/base",
            "top": null,
            "grid_column": null,
            "overflow_y": null,
            "overflow_x": null,
            "grid_auto_flow": null,
            "grid_area": null,
            "grid_template_columns": null,
            "flex": null,
            "_model_name": "LayoutModel",
            "justify_items": null,
            "grid_row": null,
            "max_height": null,
            "align_content": null,
            "visibility": null,
            "align_self": null,
            "height": null,
            "min_height": null,
            "padding": null,
            "grid_auto_rows": null,
            "grid_gap": null,
            "max_width": null,
            "order": null,
            "_view_module_version": "1.2.0",
            "grid_template_areas": null,
            "object_position": null,
            "object_fit": null,
            "grid_auto_columns": null,
            "margin": null,
            "display": null,
            "left": null
          }
        },
        "5619f305c34d4e7c860248db410952d3": {
          "model_module": "@jupyter-widgets/controls",
          "model_name": "DescriptionStyleModel",
          "model_module_version": "1.5.0",
          "state": {
            "_view_name": "StyleView",
            "_model_name": "DescriptionStyleModel",
            "description_width": "",
            "_view_module": "@jupyter-widgets/base",
            "_model_module_version": "1.5.0",
            "_view_count": null,
            "_view_module_version": "1.2.0",
            "_model_module": "@jupyter-widgets/controls"
          }
        },
        "a78c5e3a3c7b4bfdaf83ee90686dcabe": {
          "model_module": "@jupyter-widgets/base",
          "model_name": "LayoutModel",
          "model_module_version": "1.2.0",
          "state": {
            "_view_name": "LayoutView",
            "grid_template_rows": null,
            "right": null,
            "justify_content": null,
            "_view_module": "@jupyter-widgets/base",
            "overflow": null,
            "_model_module_version": "1.2.0",
            "_view_count": null,
            "flex_flow": null,
            "width": null,
            "min_width": null,
            "border": null,
            "align_items": null,
            "bottom": null,
            "_model_module": "@jupyter-widgets/base",
            "top": null,
            "grid_column": null,
            "overflow_y": null,
            "overflow_x": null,
            "grid_auto_flow": null,
            "grid_area": null,
            "grid_template_columns": null,
            "flex": null,
            "_model_name": "LayoutModel",
            "justify_items": null,
            "grid_row": null,
            "max_height": null,
            "align_content": null,
            "visibility": null,
            "align_self": null,
            "height": null,
            "min_height": null,
            "padding": null,
            "grid_auto_rows": null,
            "grid_gap": null,
            "max_width": null,
            "order": null,
            "_view_module_version": "1.2.0",
            "grid_template_areas": null,
            "object_position": null,
            "object_fit": null,
            "grid_auto_columns": null,
            "margin": null,
            "display": null,
            "left": null
          }
        },
        "6b66a84fa9544eae8632b135fd341aea": {
          "model_module": "@jupyter-widgets/controls",
          "model_name": "HBoxModel",
          "model_module_version": "1.5.0",
          "state": {
            "_view_name": "HBoxView",
            "_dom_classes": [],
            "_model_name": "HBoxModel",
            "_view_module": "@jupyter-widgets/controls",
            "_model_module_version": "1.5.0",
            "_view_count": null,
            "_view_module_version": "1.5.0",
            "box_style": "",
            "layout": "IPY_MODEL_0634bef53361438aa3567dd5b5f181d6",
            "_model_module": "@jupyter-widgets/controls",
            "children": [
              "IPY_MODEL_40731801fbdc4430a60ec1b40dfd07bb",
              "IPY_MODEL_12a5d2ad181a4b1d972cf1252e15e5a2",
              "IPY_MODEL_6bbff7020e66435abc4151dccb5f4179"
            ]
          }
        },
        "0634bef53361438aa3567dd5b5f181d6": {
          "model_module": "@jupyter-widgets/base",
          "model_name": "LayoutModel",
          "model_module_version": "1.2.0",
          "state": {
            "_view_name": "LayoutView",
            "grid_template_rows": null,
            "right": null,
            "justify_content": null,
            "_view_module": "@jupyter-widgets/base",
            "overflow": null,
            "_model_module_version": "1.2.0",
            "_view_count": null,
            "flex_flow": null,
            "width": null,
            "min_width": null,
            "border": null,
            "align_items": null,
            "bottom": null,
            "_model_module": "@jupyter-widgets/base",
            "top": null,
            "grid_column": null,
            "overflow_y": null,
            "overflow_x": null,
            "grid_auto_flow": null,
            "grid_area": null,
            "grid_template_columns": null,
            "flex": null,
            "_model_name": "LayoutModel",
            "justify_items": null,
            "grid_row": null,
            "max_height": null,
            "align_content": null,
            "visibility": null,
            "align_self": null,
            "height": null,
            "min_height": null,
            "padding": null,
            "grid_auto_rows": null,
            "grid_gap": null,
            "max_width": null,
            "order": null,
            "_view_module_version": "1.2.0",
            "grid_template_areas": null,
            "object_position": null,
            "object_fit": null,
            "grid_auto_columns": null,
            "margin": null,
            "display": null,
            "left": null
          }
        },
        "40731801fbdc4430a60ec1b40dfd07bb": {
          "model_module": "@jupyter-widgets/controls",
          "model_name": "HTMLModel",
          "model_module_version": "1.5.0",
          "state": {
            "_view_name": "HTMLView",
            "style": "IPY_MODEL_491fe6cd73124b3aabff88fc29f35766",
            "_dom_classes": [],
            "description": "",
            "_model_name": "HTMLModel",
            "placeholder": "​",
            "_view_module": "@jupyter-widgets/controls",
            "_model_module_version": "1.5.0",
            "value": "100%",
            "_view_count": null,
            "_view_module_version": "1.5.0",
            "description_tooltip": null,
            "_model_module": "@jupyter-widgets/controls",
            "layout": "IPY_MODEL_ffe218e238904d41b7fe6bb3597929a7"
          }
        },
        "12a5d2ad181a4b1d972cf1252e15e5a2": {
          "model_module": "@jupyter-widgets/controls",
          "model_name": "FloatProgressModel",
          "model_module_version": "1.5.0",
          "state": {
            "_view_name": "ProgressView",
            "style": "IPY_MODEL_1bd04a7431b3408b92ede980db8c123d",
            "_dom_classes": [],
            "description": "",
            "_model_name": "FloatProgressModel",
            "bar_style": "success",
            "max": 2288,
            "_view_module": "@jupyter-widgets/controls",
            "_model_module_version": "1.5.0",
            "value": 2288,
            "_view_count": null,
            "_view_module_version": "1.5.0",
            "orientation": "horizontal",
            "min": 0,
            "description_tooltip": null,
            "_model_module": "@jupyter-widgets/controls",
            "layout": "IPY_MODEL_bc6778c0cac24ff2a2700dcacbc491ef"
          }
        },
        "6bbff7020e66435abc4151dccb5f4179": {
          "model_module": "@jupyter-widgets/controls",
          "model_name": "HTMLModel",
          "model_module_version": "1.5.0",
          "state": {
            "_view_name": "HTMLView",
            "style": "IPY_MODEL_c1c584e7c9ea41febf23b538cbef3be8",
            "_dom_classes": [],
            "description": "",
            "_model_name": "HTMLModel",
            "placeholder": "​",
            "_view_module": "@jupyter-widgets/controls",
            "_model_module_version": "1.5.0",
            "value": " 2288/2288 [03:07&lt;00:00, 12.25it/s]",
            "_view_count": null,
            "_view_module_version": "1.5.0",
            "description_tooltip": null,
            "_model_module": "@jupyter-widgets/controls",
            "layout": "IPY_MODEL_1ae977365d814c1a8028b7a917b62db7"
          }
        },
        "491fe6cd73124b3aabff88fc29f35766": {
          "model_module": "@jupyter-widgets/controls",
          "model_name": "DescriptionStyleModel",
          "model_module_version": "1.5.0",
          "state": {
            "_view_name": "StyleView",
            "_model_name": "DescriptionStyleModel",
            "description_width": "",
            "_view_module": "@jupyter-widgets/base",
            "_model_module_version": "1.5.0",
            "_view_count": null,
            "_view_module_version": "1.2.0",
            "_model_module": "@jupyter-widgets/controls"
          }
        },
        "ffe218e238904d41b7fe6bb3597929a7": {
          "model_module": "@jupyter-widgets/base",
          "model_name": "LayoutModel",
          "model_module_version": "1.2.0",
          "state": {
            "_view_name": "LayoutView",
            "grid_template_rows": null,
            "right": null,
            "justify_content": null,
            "_view_module": "@jupyter-widgets/base",
            "overflow": null,
            "_model_module_version": "1.2.0",
            "_view_count": null,
            "flex_flow": null,
            "width": null,
            "min_width": null,
            "border": null,
            "align_items": null,
            "bottom": null,
            "_model_module": "@jupyter-widgets/base",
            "top": null,
            "grid_column": null,
            "overflow_y": null,
            "overflow_x": null,
            "grid_auto_flow": null,
            "grid_area": null,
            "grid_template_columns": null,
            "flex": null,
            "_model_name": "LayoutModel",
            "justify_items": null,
            "grid_row": null,
            "max_height": null,
            "align_content": null,
            "visibility": null,
            "align_self": null,
            "height": null,
            "min_height": null,
            "padding": null,
            "grid_auto_rows": null,
            "grid_gap": null,
            "max_width": null,
            "order": null,
            "_view_module_version": "1.2.0",
            "grid_template_areas": null,
            "object_position": null,
            "object_fit": null,
            "grid_auto_columns": null,
            "margin": null,
            "display": null,
            "left": null
          }
        },
        "1bd04a7431b3408b92ede980db8c123d": {
          "model_module": "@jupyter-widgets/controls",
          "model_name": "ProgressStyleModel",
          "model_module_version": "1.5.0",
          "state": {
            "_view_name": "StyleView",
            "_model_name": "ProgressStyleModel",
            "description_width": "",
            "_view_module": "@jupyter-widgets/base",
            "_model_module_version": "1.5.0",
            "_view_count": null,
            "_view_module_version": "1.2.0",
            "bar_color": null,
            "_model_module": "@jupyter-widgets/controls"
          }
        },
        "bc6778c0cac24ff2a2700dcacbc491ef": {
          "model_module": "@jupyter-widgets/base",
          "model_name": "LayoutModel",
          "model_module_version": "1.2.0",
          "state": {
            "_view_name": "LayoutView",
            "grid_template_rows": null,
            "right": null,
            "justify_content": null,
            "_view_module": "@jupyter-widgets/base",
            "overflow": null,
            "_model_module_version": "1.2.0",
            "_view_count": null,
            "flex_flow": null,
            "width": null,
            "min_width": null,
            "border": null,
            "align_items": null,
            "bottom": null,
            "_model_module": "@jupyter-widgets/base",
            "top": null,
            "grid_column": null,
            "overflow_y": null,
            "overflow_x": null,
            "grid_auto_flow": null,
            "grid_area": null,
            "grid_template_columns": null,
            "flex": null,
            "_model_name": "LayoutModel",
            "justify_items": null,
            "grid_row": null,
            "max_height": null,
            "align_content": null,
            "visibility": null,
            "align_self": null,
            "height": null,
            "min_height": null,
            "padding": null,
            "grid_auto_rows": null,
            "grid_gap": null,
            "max_width": null,
            "order": null,
            "_view_module_version": "1.2.0",
            "grid_template_areas": null,
            "object_position": null,
            "object_fit": null,
            "grid_auto_columns": null,
            "margin": null,
            "display": null,
            "left": null
          }
        },
        "c1c584e7c9ea41febf23b538cbef3be8": {
          "model_module": "@jupyter-widgets/controls",
          "model_name": "DescriptionStyleModel",
          "model_module_version": "1.5.0",
          "state": {
            "_view_name": "StyleView",
            "_model_name": "DescriptionStyleModel",
            "description_width": "",
            "_view_module": "@jupyter-widgets/base",
            "_model_module_version": "1.5.0",
            "_view_count": null,
            "_view_module_version": "1.2.0",
            "_model_module": "@jupyter-widgets/controls"
          }
        },
        "1ae977365d814c1a8028b7a917b62db7": {
          "model_module": "@jupyter-widgets/base",
          "model_name": "LayoutModel",
          "model_module_version": "1.2.0",
          "state": {
            "_view_name": "LayoutView",
            "grid_template_rows": null,
            "right": null,
            "justify_content": null,
            "_view_module": "@jupyter-widgets/base",
            "overflow": null,
            "_model_module_version": "1.2.0",
            "_view_count": null,
            "flex_flow": null,
            "width": null,
            "min_width": null,
            "border": null,
            "align_items": null,
            "bottom": null,
            "_model_module": "@jupyter-widgets/base",
            "top": null,
            "grid_column": null,
            "overflow_y": null,
            "overflow_x": null,
            "grid_auto_flow": null,
            "grid_area": null,
            "grid_template_columns": null,
            "flex": null,
            "_model_name": "LayoutModel",
            "justify_items": null,
            "grid_row": null,
            "max_height": null,
            "align_content": null,
            "visibility": null,
            "align_self": null,
            "height": null,
            "min_height": null,
            "padding": null,
            "grid_auto_rows": null,
            "grid_gap": null,
            "max_width": null,
            "order": null,
            "_view_module_version": "1.2.0",
            "grid_template_areas": null,
            "object_position": null,
            "object_fit": null,
            "grid_auto_columns": null,
            "margin": null,
            "display": null,
            "left": null
          }
        },
        "718b900a0785457d8b50abe8250a9432": {
          "model_module": "@jupyter-widgets/controls",
          "model_name": "HBoxModel",
          "model_module_version": "1.5.0",
          "state": {
            "_view_name": "HBoxView",
            "_dom_classes": [],
            "_model_name": "HBoxModel",
            "_view_module": "@jupyter-widgets/controls",
            "_model_module_version": "1.5.0",
            "_view_count": null,
            "_view_module_version": "1.5.0",
            "box_style": "",
            "layout": "IPY_MODEL_c15e06b7cfad4f1fabca8c42ac2e4806",
            "_model_module": "@jupyter-widgets/controls",
            "children": [
              "IPY_MODEL_7fd16bfd1eb04b45bbeb4fff8a12c896",
              "IPY_MODEL_abb49627d82646df94afc2c13e7b0133",
              "IPY_MODEL_584f1d3ecf254d01abc733b26b892130"
            ]
          }
        },
        "c15e06b7cfad4f1fabca8c42ac2e4806": {
          "model_module": "@jupyter-widgets/base",
          "model_name": "LayoutModel",
          "model_module_version": "1.2.0",
          "state": {
            "_view_name": "LayoutView",
            "grid_template_rows": null,
            "right": null,
            "justify_content": null,
            "_view_module": "@jupyter-widgets/base",
            "overflow": null,
            "_model_module_version": "1.2.0",
            "_view_count": null,
            "flex_flow": null,
            "width": null,
            "min_width": null,
            "border": null,
            "align_items": null,
            "bottom": null,
            "_model_module": "@jupyter-widgets/base",
            "top": null,
            "grid_column": null,
            "overflow_y": null,
            "overflow_x": null,
            "grid_auto_flow": null,
            "grid_area": null,
            "grid_template_columns": null,
            "flex": null,
            "_model_name": "LayoutModel",
            "justify_items": null,
            "grid_row": null,
            "max_height": null,
            "align_content": null,
            "visibility": null,
            "align_self": null,
            "height": null,
            "min_height": null,
            "padding": null,
            "grid_auto_rows": null,
            "grid_gap": null,
            "max_width": null,
            "order": null,
            "_view_module_version": "1.2.0",
            "grid_template_areas": null,
            "object_position": null,
            "object_fit": null,
            "grid_auto_columns": null,
            "margin": null,
            "display": null,
            "left": null
          }
        },
        "7fd16bfd1eb04b45bbeb4fff8a12c896": {
          "model_module": "@jupyter-widgets/controls",
          "model_name": "HTMLModel",
          "model_module_version": "1.5.0",
          "state": {
            "_view_name": "HTMLView",
            "style": "IPY_MODEL_397f10a341b24de5a9ab8911af042df0",
            "_dom_classes": [],
            "description": "",
            "_model_name": "HTMLModel",
            "placeholder": "​",
            "_view_module": "@jupyter-widgets/controls",
            "_model_module_version": "1.5.0",
            "value": "100%",
            "_view_count": null,
            "_view_module_version": "1.5.0",
            "description_tooltip": null,
            "_model_module": "@jupyter-widgets/controls",
            "layout": "IPY_MODEL_2546a9527da0440f8345a09761397e80"
          }
        },
        "abb49627d82646df94afc2c13e7b0133": {
          "model_module": "@jupyter-widgets/controls",
          "model_name": "FloatProgressModel",
          "model_module_version": "1.5.0",
          "state": {
            "_view_name": "ProgressView",
            "style": "IPY_MODEL_0f3983b3b37d49e8b8d7dd1ecd38b82b",
            "_dom_classes": [],
            "description": "",
            "_model_name": "FloatProgressModel",
            "bar_style": "success",
            "max": 2288,
            "_view_module": "@jupyter-widgets/controls",
            "_model_module_version": "1.5.0",
            "value": 2288,
            "_view_count": null,
            "_view_module_version": "1.5.0",
            "orientation": "horizontal",
            "min": 0,
            "description_tooltip": null,
            "_model_module": "@jupyter-widgets/controls",
            "layout": "IPY_MODEL_9c6349bfbf5c47f999f61cf415f81e5c"
          }
        },
        "584f1d3ecf254d01abc733b26b892130": {
          "model_module": "@jupyter-widgets/controls",
          "model_name": "HTMLModel",
          "model_module_version": "1.5.0",
          "state": {
            "_view_name": "HTMLView",
            "style": "IPY_MODEL_0f19133fdabf40d3ab3d5121ab4b374f",
            "_dom_classes": [],
            "description": "",
            "_model_name": "HTMLModel",
            "placeholder": "​",
            "_view_module": "@jupyter-widgets/controls",
            "_model_module_version": "1.5.0",
            "value": " 2288/2288 [03:07&lt;00:00, 12.24it/s]",
            "_view_count": null,
            "_view_module_version": "1.5.0",
            "description_tooltip": null,
            "_model_module": "@jupyter-widgets/controls",
            "layout": "IPY_MODEL_d471fba2e7b043fcbaf34136850c79c9"
          }
        },
        "397f10a341b24de5a9ab8911af042df0": {
          "model_module": "@jupyter-widgets/controls",
          "model_name": "DescriptionStyleModel",
          "model_module_version": "1.5.0",
          "state": {
            "_view_name": "StyleView",
            "_model_name": "DescriptionStyleModel",
            "description_width": "",
            "_view_module": "@jupyter-widgets/base",
            "_model_module_version": "1.5.0",
            "_view_count": null,
            "_view_module_version": "1.2.0",
            "_model_module": "@jupyter-widgets/controls"
          }
        },
        "2546a9527da0440f8345a09761397e80": {
          "model_module": "@jupyter-widgets/base",
          "model_name": "LayoutModel",
          "model_module_version": "1.2.0",
          "state": {
            "_view_name": "LayoutView",
            "grid_template_rows": null,
            "right": null,
            "justify_content": null,
            "_view_module": "@jupyter-widgets/base",
            "overflow": null,
            "_model_module_version": "1.2.0",
            "_view_count": null,
            "flex_flow": null,
            "width": null,
            "min_width": null,
            "border": null,
            "align_items": null,
            "bottom": null,
            "_model_module": "@jupyter-widgets/base",
            "top": null,
            "grid_column": null,
            "overflow_y": null,
            "overflow_x": null,
            "grid_auto_flow": null,
            "grid_area": null,
            "grid_template_columns": null,
            "flex": null,
            "_model_name": "LayoutModel",
            "justify_items": null,
            "grid_row": null,
            "max_height": null,
            "align_content": null,
            "visibility": null,
            "align_self": null,
            "height": null,
            "min_height": null,
            "padding": null,
            "grid_auto_rows": null,
            "grid_gap": null,
            "max_width": null,
            "order": null,
            "_view_module_version": "1.2.0",
            "grid_template_areas": null,
            "object_position": null,
            "object_fit": null,
            "grid_auto_columns": null,
            "margin": null,
            "display": null,
            "left": null
          }
        },
        "0f3983b3b37d49e8b8d7dd1ecd38b82b": {
          "model_module": "@jupyter-widgets/controls",
          "model_name": "ProgressStyleModel",
          "model_module_version": "1.5.0",
          "state": {
            "_view_name": "StyleView",
            "_model_name": "ProgressStyleModel",
            "description_width": "",
            "_view_module": "@jupyter-widgets/base",
            "_model_module_version": "1.5.0",
            "_view_count": null,
            "_view_module_version": "1.2.0",
            "bar_color": null,
            "_model_module": "@jupyter-widgets/controls"
          }
        },
        "9c6349bfbf5c47f999f61cf415f81e5c": {
          "model_module": "@jupyter-widgets/base",
          "model_name": "LayoutModel",
          "model_module_version": "1.2.0",
          "state": {
            "_view_name": "LayoutView",
            "grid_template_rows": null,
            "right": null,
            "justify_content": null,
            "_view_module": "@jupyter-widgets/base",
            "overflow": null,
            "_model_module_version": "1.2.0",
            "_view_count": null,
            "flex_flow": null,
            "width": null,
            "min_width": null,
            "border": null,
            "align_items": null,
            "bottom": null,
            "_model_module": "@jupyter-widgets/base",
            "top": null,
            "grid_column": null,
            "overflow_y": null,
            "overflow_x": null,
            "grid_auto_flow": null,
            "grid_area": null,
            "grid_template_columns": null,
            "flex": null,
            "_model_name": "LayoutModel",
            "justify_items": null,
            "grid_row": null,
            "max_height": null,
            "align_content": null,
            "visibility": null,
            "align_self": null,
            "height": null,
            "min_height": null,
            "padding": null,
            "grid_auto_rows": null,
            "grid_gap": null,
            "max_width": null,
            "order": null,
            "_view_module_version": "1.2.0",
            "grid_template_areas": null,
            "object_position": null,
            "object_fit": null,
            "grid_auto_columns": null,
            "margin": null,
            "display": null,
            "left": null
          }
        },
        "0f19133fdabf40d3ab3d5121ab4b374f": {
          "model_module": "@jupyter-widgets/controls",
          "model_name": "DescriptionStyleModel",
          "model_module_version": "1.5.0",
          "state": {
            "_view_name": "StyleView",
            "_model_name": "DescriptionStyleModel",
            "description_width": "",
            "_view_module": "@jupyter-widgets/base",
            "_model_module_version": "1.5.0",
            "_view_count": null,
            "_view_module_version": "1.2.0",
            "_model_module": "@jupyter-widgets/controls"
          }
        },
        "d471fba2e7b043fcbaf34136850c79c9": {
          "model_module": "@jupyter-widgets/base",
          "model_name": "LayoutModel",
          "model_module_version": "1.2.0",
          "state": {
            "_view_name": "LayoutView",
            "grid_template_rows": null,
            "right": null,
            "justify_content": null,
            "_view_module": "@jupyter-widgets/base",
            "overflow": null,
            "_model_module_version": "1.2.0",
            "_view_count": null,
            "flex_flow": null,
            "width": null,
            "min_width": null,
            "border": null,
            "align_items": null,
            "bottom": null,
            "_model_module": "@jupyter-widgets/base",
            "top": null,
            "grid_column": null,
            "overflow_y": null,
            "overflow_x": null,
            "grid_auto_flow": null,
            "grid_area": null,
            "grid_template_columns": null,
            "flex": null,
            "_model_name": "LayoutModel",
            "justify_items": null,
            "grid_row": null,
            "max_height": null,
            "align_content": null,
            "visibility": null,
            "align_self": null,
            "height": null,
            "min_height": null,
            "padding": null,
            "grid_auto_rows": null,
            "grid_gap": null,
            "max_width": null,
            "order": null,
            "_view_module_version": "1.2.0",
            "grid_template_areas": null,
            "object_position": null,
            "object_fit": null,
            "grid_auto_columns": null,
            "margin": null,
            "display": null,
            "left": null
          }
        },
        "90b65ffb95ed4c3aa34bfd19d3925325": {
          "model_module": "@jupyter-widgets/controls",
          "model_name": "HBoxModel",
          "model_module_version": "1.5.0",
          "state": {
            "_view_name": "HBoxView",
            "_dom_classes": [],
            "_model_name": "HBoxModel",
            "_view_module": "@jupyter-widgets/controls",
            "_model_module_version": "1.5.0",
            "_view_count": null,
            "_view_module_version": "1.5.0",
            "box_style": "",
            "layout": "IPY_MODEL_54644daa744041f49ed8cada599a7ae5",
            "_model_module": "@jupyter-widgets/controls",
            "children": [
              "IPY_MODEL_da5f2ae085a64623a7f02ea7febb2579",
              "IPY_MODEL_e3237e837ecc415a9deb3293b9c6ba0c",
              "IPY_MODEL_6a86c2912356464dbf861b094327c160"
            ]
          }
        },
        "54644daa744041f49ed8cada599a7ae5": {
          "model_module": "@jupyter-widgets/base",
          "model_name": "LayoutModel",
          "model_module_version": "1.2.0",
          "state": {
            "_view_name": "LayoutView",
            "grid_template_rows": null,
            "right": null,
            "justify_content": null,
            "_view_module": "@jupyter-widgets/base",
            "overflow": null,
            "_model_module_version": "1.2.0",
            "_view_count": null,
            "flex_flow": null,
            "width": null,
            "min_width": null,
            "border": null,
            "align_items": null,
            "bottom": null,
            "_model_module": "@jupyter-widgets/base",
            "top": null,
            "grid_column": null,
            "overflow_y": null,
            "overflow_x": null,
            "grid_auto_flow": null,
            "grid_area": null,
            "grid_template_columns": null,
            "flex": null,
            "_model_name": "LayoutModel",
            "justify_items": null,
            "grid_row": null,
            "max_height": null,
            "align_content": null,
            "visibility": null,
            "align_self": null,
            "height": null,
            "min_height": null,
            "padding": null,
            "grid_auto_rows": null,
            "grid_gap": null,
            "max_width": null,
            "order": null,
            "_view_module_version": "1.2.0",
            "grid_template_areas": null,
            "object_position": null,
            "object_fit": null,
            "grid_auto_columns": null,
            "margin": null,
            "display": null,
            "left": null
          }
        },
        "da5f2ae085a64623a7f02ea7febb2579": {
          "model_module": "@jupyter-widgets/controls",
          "model_name": "HTMLModel",
          "model_module_version": "1.5.0",
          "state": {
            "_view_name": "HTMLView",
            "style": "IPY_MODEL_4ec468af756542eab515fbb69e72ee91",
            "_dom_classes": [],
            "description": "",
            "_model_name": "HTMLModel",
            "placeholder": "​",
            "_view_module": "@jupyter-widgets/controls",
            "_model_module_version": "1.5.0",
            "value": "100%",
            "_view_count": null,
            "_view_module_version": "1.5.0",
            "description_tooltip": null,
            "_model_module": "@jupyter-widgets/controls",
            "layout": "IPY_MODEL_abab5e79d4e843f786fe0978fbb4646b"
          }
        },
        "e3237e837ecc415a9deb3293b9c6ba0c": {
          "model_module": "@jupyter-widgets/controls",
          "model_name": "FloatProgressModel",
          "model_module_version": "1.5.0",
          "state": {
            "_view_name": "ProgressView",
            "style": "IPY_MODEL_c70254334e574da7adb09f80f4e96a0d",
            "_dom_classes": [],
            "description": "",
            "_model_name": "FloatProgressModel",
            "bar_style": "success",
            "max": 2288,
            "_view_module": "@jupyter-widgets/controls",
            "_model_module_version": "1.5.0",
            "value": 2288,
            "_view_count": null,
            "_view_module_version": "1.5.0",
            "orientation": "horizontal",
            "min": 0,
            "description_tooltip": null,
            "_model_module": "@jupyter-widgets/controls",
            "layout": "IPY_MODEL_e128ec1694c74ee790ef2da58b3ae97e"
          }
        },
        "6a86c2912356464dbf861b094327c160": {
          "model_module": "@jupyter-widgets/controls",
          "model_name": "HTMLModel",
          "model_module_version": "1.5.0",
          "state": {
            "_view_name": "HTMLView",
            "style": "IPY_MODEL_7237a16fab5440eb94ebef630790e502",
            "_dom_classes": [],
            "description": "",
            "_model_name": "HTMLModel",
            "placeholder": "​",
            "_view_module": "@jupyter-widgets/controls",
            "_model_module_version": "1.5.0",
            "value": " 2288/2288 [03:07&lt;00:00, 12.22it/s]",
            "_view_count": null,
            "_view_module_version": "1.5.0",
            "description_tooltip": null,
            "_model_module": "@jupyter-widgets/controls",
            "layout": "IPY_MODEL_15f6c952bca74109902fb7a7c158645c"
          }
        },
        "4ec468af756542eab515fbb69e72ee91": {
          "model_module": "@jupyter-widgets/controls",
          "model_name": "DescriptionStyleModel",
          "model_module_version": "1.5.0",
          "state": {
            "_view_name": "StyleView",
            "_model_name": "DescriptionStyleModel",
            "description_width": "",
            "_view_module": "@jupyter-widgets/base",
            "_model_module_version": "1.5.0",
            "_view_count": null,
            "_view_module_version": "1.2.0",
            "_model_module": "@jupyter-widgets/controls"
          }
        },
        "abab5e79d4e843f786fe0978fbb4646b": {
          "model_module": "@jupyter-widgets/base",
          "model_name": "LayoutModel",
          "model_module_version": "1.2.0",
          "state": {
            "_view_name": "LayoutView",
            "grid_template_rows": null,
            "right": null,
            "justify_content": null,
            "_view_module": "@jupyter-widgets/base",
            "overflow": null,
            "_model_module_version": "1.2.0",
            "_view_count": null,
            "flex_flow": null,
            "width": null,
            "min_width": null,
            "border": null,
            "align_items": null,
            "bottom": null,
            "_model_module": "@jupyter-widgets/base",
            "top": null,
            "grid_column": null,
            "overflow_y": null,
            "overflow_x": null,
            "grid_auto_flow": null,
            "grid_area": null,
            "grid_template_columns": null,
            "flex": null,
            "_model_name": "LayoutModel",
            "justify_items": null,
            "grid_row": null,
            "max_height": null,
            "align_content": null,
            "visibility": null,
            "align_self": null,
            "height": null,
            "min_height": null,
            "padding": null,
            "grid_auto_rows": null,
            "grid_gap": null,
            "max_width": null,
            "order": null,
            "_view_module_version": "1.2.0",
            "grid_template_areas": null,
            "object_position": null,
            "object_fit": null,
            "grid_auto_columns": null,
            "margin": null,
            "display": null,
            "left": null
          }
        },
        "c70254334e574da7adb09f80f4e96a0d": {
          "model_module": "@jupyter-widgets/controls",
          "model_name": "ProgressStyleModel",
          "model_module_version": "1.5.0",
          "state": {
            "_view_name": "StyleView",
            "_model_name": "ProgressStyleModel",
            "description_width": "",
            "_view_module": "@jupyter-widgets/base",
            "_model_module_version": "1.5.0",
            "_view_count": null,
            "_view_module_version": "1.2.0",
            "bar_color": null,
            "_model_module": "@jupyter-widgets/controls"
          }
        },
        "e128ec1694c74ee790ef2da58b3ae97e": {
          "model_module": "@jupyter-widgets/base",
          "model_name": "LayoutModel",
          "model_module_version": "1.2.0",
          "state": {
            "_view_name": "LayoutView",
            "grid_template_rows": null,
            "right": null,
            "justify_content": null,
            "_view_module": "@jupyter-widgets/base",
            "overflow": null,
            "_model_module_version": "1.2.0",
            "_view_count": null,
            "flex_flow": null,
            "width": null,
            "min_width": null,
            "border": null,
            "align_items": null,
            "bottom": null,
            "_model_module": "@jupyter-widgets/base",
            "top": null,
            "grid_column": null,
            "overflow_y": null,
            "overflow_x": null,
            "grid_auto_flow": null,
            "grid_area": null,
            "grid_template_columns": null,
            "flex": null,
            "_model_name": "LayoutModel",
            "justify_items": null,
            "grid_row": null,
            "max_height": null,
            "align_content": null,
            "visibility": null,
            "align_self": null,
            "height": null,
            "min_height": null,
            "padding": null,
            "grid_auto_rows": null,
            "grid_gap": null,
            "max_width": null,
            "order": null,
            "_view_module_version": "1.2.0",
            "grid_template_areas": null,
            "object_position": null,
            "object_fit": null,
            "grid_auto_columns": null,
            "margin": null,
            "display": null,
            "left": null
          }
        },
        "7237a16fab5440eb94ebef630790e502": {
          "model_module": "@jupyter-widgets/controls",
          "model_name": "DescriptionStyleModel",
          "model_module_version": "1.5.0",
          "state": {
            "_view_name": "StyleView",
            "_model_name": "DescriptionStyleModel",
            "description_width": "",
            "_view_module": "@jupyter-widgets/base",
            "_model_module_version": "1.5.0",
            "_view_count": null,
            "_view_module_version": "1.2.0",
            "_model_module": "@jupyter-widgets/controls"
          }
        },
        "15f6c952bca74109902fb7a7c158645c": {
          "model_module": "@jupyter-widgets/base",
          "model_name": "LayoutModel",
          "model_module_version": "1.2.0",
          "state": {
            "_view_name": "LayoutView",
            "grid_template_rows": null,
            "right": null,
            "justify_content": null,
            "_view_module": "@jupyter-widgets/base",
            "overflow": null,
            "_model_module_version": "1.2.0",
            "_view_count": null,
            "flex_flow": null,
            "width": null,
            "min_width": null,
            "border": null,
            "align_items": null,
            "bottom": null,
            "_model_module": "@jupyter-widgets/base",
            "top": null,
            "grid_column": null,
            "overflow_y": null,
            "overflow_x": null,
            "grid_auto_flow": null,
            "grid_area": null,
            "grid_template_columns": null,
            "flex": null,
            "_model_name": "LayoutModel",
            "justify_items": null,
            "grid_row": null,
            "max_height": null,
            "align_content": null,
            "visibility": null,
            "align_self": null,
            "height": null,
            "min_height": null,
            "padding": null,
            "grid_auto_rows": null,
            "grid_gap": null,
            "max_width": null,
            "order": null,
            "_view_module_version": "1.2.0",
            "grid_template_areas": null,
            "object_position": null,
            "object_fit": null,
            "grid_auto_columns": null,
            "margin": null,
            "display": null,
            "left": null
          }
        },
        "04bf2da630ac417db375e9e471a51d5c": {
          "model_module": "@jupyter-widgets/controls",
          "model_name": "HBoxModel",
          "model_module_version": "1.5.0",
          "state": {
            "_view_name": "HBoxView",
            "_dom_classes": [],
            "_model_name": "HBoxModel",
            "_view_module": "@jupyter-widgets/controls",
            "_model_module_version": "1.5.0",
            "_view_count": null,
            "_view_module_version": "1.5.0",
            "box_style": "",
            "layout": "IPY_MODEL_3911ed89ee26420fbea27e6c0d5d2d26",
            "_model_module": "@jupyter-widgets/controls",
            "children": [
              "IPY_MODEL_33796725b6364ab491472e020997cabf",
              "IPY_MODEL_39e82c37a783430f8335836253b1a957",
              "IPY_MODEL_a51ef5a7e70941aa90cbd5f911229b90"
            ]
          }
        },
        "3911ed89ee26420fbea27e6c0d5d2d26": {
          "model_module": "@jupyter-widgets/base",
          "model_name": "LayoutModel",
          "model_module_version": "1.2.0",
          "state": {
            "_view_name": "LayoutView",
            "grid_template_rows": null,
            "right": null,
            "justify_content": null,
            "_view_module": "@jupyter-widgets/base",
            "overflow": null,
            "_model_module_version": "1.2.0",
            "_view_count": null,
            "flex_flow": null,
            "width": null,
            "min_width": null,
            "border": null,
            "align_items": null,
            "bottom": null,
            "_model_module": "@jupyter-widgets/base",
            "top": null,
            "grid_column": null,
            "overflow_y": null,
            "overflow_x": null,
            "grid_auto_flow": null,
            "grid_area": null,
            "grid_template_columns": null,
            "flex": null,
            "_model_name": "LayoutModel",
            "justify_items": null,
            "grid_row": null,
            "max_height": null,
            "align_content": null,
            "visibility": null,
            "align_self": null,
            "height": null,
            "min_height": null,
            "padding": null,
            "grid_auto_rows": null,
            "grid_gap": null,
            "max_width": null,
            "order": null,
            "_view_module_version": "1.2.0",
            "grid_template_areas": null,
            "object_position": null,
            "object_fit": null,
            "grid_auto_columns": null,
            "margin": null,
            "display": null,
            "left": null
          }
        },
        "33796725b6364ab491472e020997cabf": {
          "model_module": "@jupyter-widgets/controls",
          "model_name": "HTMLModel",
          "model_module_version": "1.5.0",
          "state": {
            "_view_name": "HTMLView",
            "style": "IPY_MODEL_73673c6978df49e5aa58a119263a767f",
            "_dom_classes": [],
            "description": "",
            "_model_name": "HTMLModel",
            "placeholder": "​",
            "_view_module": "@jupyter-widgets/controls",
            "_model_module_version": "1.5.0",
            "value": "100%",
            "_view_count": null,
            "_view_module_version": "1.5.0",
            "description_tooltip": null,
            "_model_module": "@jupyter-widgets/controls",
            "layout": "IPY_MODEL_95903c0809fd4ebe8760059626fa2654"
          }
        },
        "39e82c37a783430f8335836253b1a957": {
          "model_module": "@jupyter-widgets/controls",
          "model_name": "FloatProgressModel",
          "model_module_version": "1.5.0",
          "state": {
            "_view_name": "ProgressView",
            "style": "IPY_MODEL_435c1589c35b40e191b38f77c5ca8491",
            "_dom_classes": [],
            "description": "",
            "_model_name": "FloatProgressModel",
            "bar_style": "success",
            "max": 2288,
            "_view_module": "@jupyter-widgets/controls",
            "_model_module_version": "1.5.0",
            "value": 2288,
            "_view_count": null,
            "_view_module_version": "1.5.0",
            "orientation": "horizontal",
            "min": 0,
            "description_tooltip": null,
            "_model_module": "@jupyter-widgets/controls",
            "layout": "IPY_MODEL_1ebef03b1af44e1fb77de38a727f77ef"
          }
        },
        "a51ef5a7e70941aa90cbd5f911229b90": {
          "model_module": "@jupyter-widgets/controls",
          "model_name": "HTMLModel",
          "model_module_version": "1.5.0",
          "state": {
            "_view_name": "HTMLView",
            "style": "IPY_MODEL_3db0cb6c5a8e4b11b6baac0e53c8f219",
            "_dom_classes": [],
            "description": "",
            "_model_name": "HTMLModel",
            "placeholder": "​",
            "_view_module": "@jupyter-widgets/controls",
            "_model_module_version": "1.5.0",
            "value": " 2288/2288 [03:07&lt;00:00, 12.22it/s]",
            "_view_count": null,
            "_view_module_version": "1.5.0",
            "description_tooltip": null,
            "_model_module": "@jupyter-widgets/controls",
            "layout": "IPY_MODEL_45f6c38e43674e019de9d54ad8a40022"
          }
        },
        "73673c6978df49e5aa58a119263a767f": {
          "model_module": "@jupyter-widgets/controls",
          "model_name": "DescriptionStyleModel",
          "model_module_version": "1.5.0",
          "state": {
            "_view_name": "StyleView",
            "_model_name": "DescriptionStyleModel",
            "description_width": "",
            "_view_module": "@jupyter-widgets/base",
            "_model_module_version": "1.5.0",
            "_view_count": null,
            "_view_module_version": "1.2.0",
            "_model_module": "@jupyter-widgets/controls"
          }
        },
        "95903c0809fd4ebe8760059626fa2654": {
          "model_module": "@jupyter-widgets/base",
          "model_name": "LayoutModel",
          "model_module_version": "1.2.0",
          "state": {
            "_view_name": "LayoutView",
            "grid_template_rows": null,
            "right": null,
            "justify_content": null,
            "_view_module": "@jupyter-widgets/base",
            "overflow": null,
            "_model_module_version": "1.2.0",
            "_view_count": null,
            "flex_flow": null,
            "width": null,
            "min_width": null,
            "border": null,
            "align_items": null,
            "bottom": null,
            "_model_module": "@jupyter-widgets/base",
            "top": null,
            "grid_column": null,
            "overflow_y": null,
            "overflow_x": null,
            "grid_auto_flow": null,
            "grid_area": null,
            "grid_template_columns": null,
            "flex": null,
            "_model_name": "LayoutModel",
            "justify_items": null,
            "grid_row": null,
            "max_height": null,
            "align_content": null,
            "visibility": null,
            "align_self": null,
            "height": null,
            "min_height": null,
            "padding": null,
            "grid_auto_rows": null,
            "grid_gap": null,
            "max_width": null,
            "order": null,
            "_view_module_version": "1.2.0",
            "grid_template_areas": null,
            "object_position": null,
            "object_fit": null,
            "grid_auto_columns": null,
            "margin": null,
            "display": null,
            "left": null
          }
        },
        "435c1589c35b40e191b38f77c5ca8491": {
          "model_module": "@jupyter-widgets/controls",
          "model_name": "ProgressStyleModel",
          "model_module_version": "1.5.0",
          "state": {
            "_view_name": "StyleView",
            "_model_name": "ProgressStyleModel",
            "description_width": "",
            "_view_module": "@jupyter-widgets/base",
            "_model_module_version": "1.5.0",
            "_view_count": null,
            "_view_module_version": "1.2.0",
            "bar_color": null,
            "_model_module": "@jupyter-widgets/controls"
          }
        },
        "1ebef03b1af44e1fb77de38a727f77ef": {
          "model_module": "@jupyter-widgets/base",
          "model_name": "LayoutModel",
          "model_module_version": "1.2.0",
          "state": {
            "_view_name": "LayoutView",
            "grid_template_rows": null,
            "right": null,
            "justify_content": null,
            "_view_module": "@jupyter-widgets/base",
            "overflow": null,
            "_model_module_version": "1.2.0",
            "_view_count": null,
            "flex_flow": null,
            "width": null,
            "min_width": null,
            "border": null,
            "align_items": null,
            "bottom": null,
            "_model_module": "@jupyter-widgets/base",
            "top": null,
            "grid_column": null,
            "overflow_y": null,
            "overflow_x": null,
            "grid_auto_flow": null,
            "grid_area": null,
            "grid_template_columns": null,
            "flex": null,
            "_model_name": "LayoutModel",
            "justify_items": null,
            "grid_row": null,
            "max_height": null,
            "align_content": null,
            "visibility": null,
            "align_self": null,
            "height": null,
            "min_height": null,
            "padding": null,
            "grid_auto_rows": null,
            "grid_gap": null,
            "max_width": null,
            "order": null,
            "_view_module_version": "1.2.0",
            "grid_template_areas": null,
            "object_position": null,
            "object_fit": null,
            "grid_auto_columns": null,
            "margin": null,
            "display": null,
            "left": null
          }
        },
        "3db0cb6c5a8e4b11b6baac0e53c8f219": {
          "model_module": "@jupyter-widgets/controls",
          "model_name": "DescriptionStyleModel",
          "model_module_version": "1.5.0",
          "state": {
            "_view_name": "StyleView",
            "_model_name": "DescriptionStyleModel",
            "description_width": "",
            "_view_module": "@jupyter-widgets/base",
            "_model_module_version": "1.5.0",
            "_view_count": null,
            "_view_module_version": "1.2.0",
            "_model_module": "@jupyter-widgets/controls"
          }
        },
        "45f6c38e43674e019de9d54ad8a40022": {
          "model_module": "@jupyter-widgets/base",
          "model_name": "LayoutModel",
          "model_module_version": "1.2.0",
          "state": {
            "_view_name": "LayoutView",
            "grid_template_rows": null,
            "right": null,
            "justify_content": null,
            "_view_module": "@jupyter-widgets/base",
            "overflow": null,
            "_model_module_version": "1.2.0",
            "_view_count": null,
            "flex_flow": null,
            "width": null,
            "min_width": null,
            "border": null,
            "align_items": null,
            "bottom": null,
            "_model_module": "@jupyter-widgets/base",
            "top": null,
            "grid_column": null,
            "overflow_y": null,
            "overflow_x": null,
            "grid_auto_flow": null,
            "grid_area": null,
            "grid_template_columns": null,
            "flex": null,
            "_model_name": "LayoutModel",
            "justify_items": null,
            "grid_row": null,
            "max_height": null,
            "align_content": null,
            "visibility": null,
            "align_self": null,
            "height": null,
            "min_height": null,
            "padding": null,
            "grid_auto_rows": null,
            "grid_gap": null,
            "max_width": null,
            "order": null,
            "_view_module_version": "1.2.0",
            "grid_template_areas": null,
            "object_position": null,
            "object_fit": null,
            "grid_auto_columns": null,
            "margin": null,
            "display": null,
            "left": null
          }
        },
        "2de430ed25824de8888d301bdcf228ed": {
          "model_module": "@jupyter-widgets/controls",
          "model_name": "HBoxModel",
          "model_module_version": "1.5.0",
          "state": {
            "_view_name": "HBoxView",
            "_dom_classes": [],
            "_model_name": "HBoxModel",
            "_view_module": "@jupyter-widgets/controls",
            "_model_module_version": "1.5.0",
            "_view_count": null,
            "_view_module_version": "1.5.0",
            "box_style": "",
            "layout": "IPY_MODEL_70050037c3a548f892fe30a0a2efe2a5",
            "_model_module": "@jupyter-widgets/controls",
            "children": [
              "IPY_MODEL_24d240fa13084108909177dab4ab1e6e",
              "IPY_MODEL_f37482b971b44870902e290e2b1e7ca2",
              "IPY_MODEL_92202e285ca54c9791cf8df99c62cc26"
            ]
          }
        },
        "70050037c3a548f892fe30a0a2efe2a5": {
          "model_module": "@jupyter-widgets/base",
          "model_name": "LayoutModel",
          "model_module_version": "1.2.0",
          "state": {
            "_view_name": "LayoutView",
            "grid_template_rows": null,
            "right": null,
            "justify_content": null,
            "_view_module": "@jupyter-widgets/base",
            "overflow": null,
            "_model_module_version": "1.2.0",
            "_view_count": null,
            "flex_flow": null,
            "width": null,
            "min_width": null,
            "border": null,
            "align_items": null,
            "bottom": null,
            "_model_module": "@jupyter-widgets/base",
            "top": null,
            "grid_column": null,
            "overflow_y": null,
            "overflow_x": null,
            "grid_auto_flow": null,
            "grid_area": null,
            "grid_template_columns": null,
            "flex": null,
            "_model_name": "LayoutModel",
            "justify_items": null,
            "grid_row": null,
            "max_height": null,
            "align_content": null,
            "visibility": null,
            "align_self": null,
            "height": null,
            "min_height": null,
            "padding": null,
            "grid_auto_rows": null,
            "grid_gap": null,
            "max_width": null,
            "order": null,
            "_view_module_version": "1.2.0",
            "grid_template_areas": null,
            "object_position": null,
            "object_fit": null,
            "grid_auto_columns": null,
            "margin": null,
            "display": null,
            "left": null
          }
        },
        "24d240fa13084108909177dab4ab1e6e": {
          "model_module": "@jupyter-widgets/controls",
          "model_name": "HTMLModel",
          "model_module_version": "1.5.0",
          "state": {
            "_view_name": "HTMLView",
            "style": "IPY_MODEL_5c6139c70c7a45cb90f0fe2fe47086bb",
            "_dom_classes": [],
            "description": "",
            "_model_name": "HTMLModel",
            "placeholder": "​",
            "_view_module": "@jupyter-widgets/controls",
            "_model_module_version": "1.5.0",
            "value": "100%",
            "_view_count": null,
            "_view_module_version": "1.5.0",
            "description_tooltip": null,
            "_model_module": "@jupyter-widgets/controls",
            "layout": "IPY_MODEL_208e850d87cf4920ae5d5298539480db"
          }
        },
        "f37482b971b44870902e290e2b1e7ca2": {
          "model_module": "@jupyter-widgets/controls",
          "model_name": "FloatProgressModel",
          "model_module_version": "1.5.0",
          "state": {
            "_view_name": "ProgressView",
            "style": "IPY_MODEL_6af625b03b3343c4be63cb6794025eff",
            "_dom_classes": [],
            "description": "",
            "_model_name": "FloatProgressModel",
            "bar_style": "success",
            "max": 2288,
            "_view_module": "@jupyter-widgets/controls",
            "_model_module_version": "1.5.0",
            "value": 2288,
            "_view_count": null,
            "_view_module_version": "1.5.0",
            "orientation": "horizontal",
            "min": 0,
            "description_tooltip": null,
            "_model_module": "@jupyter-widgets/controls",
            "layout": "IPY_MODEL_df7fdb9b08954477a65f911cd362aefd"
          }
        },
        "92202e285ca54c9791cf8df99c62cc26": {
          "model_module": "@jupyter-widgets/controls",
          "model_name": "HTMLModel",
          "model_module_version": "1.5.0",
          "state": {
            "_view_name": "HTMLView",
            "style": "IPY_MODEL_0a4fb64c45d6469f9b63760dd5a4734d",
            "_dom_classes": [],
            "description": "",
            "_model_name": "HTMLModel",
            "placeholder": "​",
            "_view_module": "@jupyter-widgets/controls",
            "_model_module_version": "1.5.0",
            "value": " 2288/2288 [03:07&lt;00:00, 12.21it/s]",
            "_view_count": null,
            "_view_module_version": "1.5.0",
            "description_tooltip": null,
            "_model_module": "@jupyter-widgets/controls",
            "layout": "IPY_MODEL_43645e94e481407d8486a6dadefc0e2d"
          }
        },
        "5c6139c70c7a45cb90f0fe2fe47086bb": {
          "model_module": "@jupyter-widgets/controls",
          "model_name": "DescriptionStyleModel",
          "model_module_version": "1.5.0",
          "state": {
            "_view_name": "StyleView",
            "_model_name": "DescriptionStyleModel",
            "description_width": "",
            "_view_module": "@jupyter-widgets/base",
            "_model_module_version": "1.5.0",
            "_view_count": null,
            "_view_module_version": "1.2.0",
            "_model_module": "@jupyter-widgets/controls"
          }
        },
        "208e850d87cf4920ae5d5298539480db": {
          "model_module": "@jupyter-widgets/base",
          "model_name": "LayoutModel",
          "model_module_version": "1.2.0",
          "state": {
            "_view_name": "LayoutView",
            "grid_template_rows": null,
            "right": null,
            "justify_content": null,
            "_view_module": "@jupyter-widgets/base",
            "overflow": null,
            "_model_module_version": "1.2.0",
            "_view_count": null,
            "flex_flow": null,
            "width": null,
            "min_width": null,
            "border": null,
            "align_items": null,
            "bottom": null,
            "_model_module": "@jupyter-widgets/base",
            "top": null,
            "grid_column": null,
            "overflow_y": null,
            "overflow_x": null,
            "grid_auto_flow": null,
            "grid_area": null,
            "grid_template_columns": null,
            "flex": null,
            "_model_name": "LayoutModel",
            "justify_items": null,
            "grid_row": null,
            "max_height": null,
            "align_content": null,
            "visibility": null,
            "align_self": null,
            "height": null,
            "min_height": null,
            "padding": null,
            "grid_auto_rows": null,
            "grid_gap": null,
            "max_width": null,
            "order": null,
            "_view_module_version": "1.2.0",
            "grid_template_areas": null,
            "object_position": null,
            "object_fit": null,
            "grid_auto_columns": null,
            "margin": null,
            "display": null,
            "left": null
          }
        },
        "6af625b03b3343c4be63cb6794025eff": {
          "model_module": "@jupyter-widgets/controls",
          "model_name": "ProgressStyleModel",
          "model_module_version": "1.5.0",
          "state": {
            "_view_name": "StyleView",
            "_model_name": "ProgressStyleModel",
            "description_width": "",
            "_view_module": "@jupyter-widgets/base",
            "_model_module_version": "1.5.0",
            "_view_count": null,
            "_view_module_version": "1.2.0",
            "bar_color": null,
            "_model_module": "@jupyter-widgets/controls"
          }
        },
        "df7fdb9b08954477a65f911cd362aefd": {
          "model_module": "@jupyter-widgets/base",
          "model_name": "LayoutModel",
          "model_module_version": "1.2.0",
          "state": {
            "_view_name": "LayoutView",
            "grid_template_rows": null,
            "right": null,
            "justify_content": null,
            "_view_module": "@jupyter-widgets/base",
            "overflow": null,
            "_model_module_version": "1.2.0",
            "_view_count": null,
            "flex_flow": null,
            "width": null,
            "min_width": null,
            "border": null,
            "align_items": null,
            "bottom": null,
            "_model_module": "@jupyter-widgets/base",
            "top": null,
            "grid_column": null,
            "overflow_y": null,
            "overflow_x": null,
            "grid_auto_flow": null,
            "grid_area": null,
            "grid_template_columns": null,
            "flex": null,
            "_model_name": "LayoutModel",
            "justify_items": null,
            "grid_row": null,
            "max_height": null,
            "align_content": null,
            "visibility": null,
            "align_self": null,
            "height": null,
            "min_height": null,
            "padding": null,
            "grid_auto_rows": null,
            "grid_gap": null,
            "max_width": null,
            "order": null,
            "_view_module_version": "1.2.0",
            "grid_template_areas": null,
            "object_position": null,
            "object_fit": null,
            "grid_auto_columns": null,
            "margin": null,
            "display": null,
            "left": null
          }
        },
        "0a4fb64c45d6469f9b63760dd5a4734d": {
          "model_module": "@jupyter-widgets/controls",
          "model_name": "DescriptionStyleModel",
          "model_module_version": "1.5.0",
          "state": {
            "_view_name": "StyleView",
            "_model_name": "DescriptionStyleModel",
            "description_width": "",
            "_view_module": "@jupyter-widgets/base",
            "_model_module_version": "1.5.0",
            "_view_count": null,
            "_view_module_version": "1.2.0",
            "_model_module": "@jupyter-widgets/controls"
          }
        },
        "43645e94e481407d8486a6dadefc0e2d": {
          "model_module": "@jupyter-widgets/base",
          "model_name": "LayoutModel",
          "model_module_version": "1.2.0",
          "state": {
            "_view_name": "LayoutView",
            "grid_template_rows": null,
            "right": null,
            "justify_content": null,
            "_view_module": "@jupyter-widgets/base",
            "overflow": null,
            "_model_module_version": "1.2.0",
            "_view_count": null,
            "flex_flow": null,
            "width": null,
            "min_width": null,
            "border": null,
            "align_items": null,
            "bottom": null,
            "_model_module": "@jupyter-widgets/base",
            "top": null,
            "grid_column": null,
            "overflow_y": null,
            "overflow_x": null,
            "grid_auto_flow": null,
            "grid_area": null,
            "grid_template_columns": null,
            "flex": null,
            "_model_name": "LayoutModel",
            "justify_items": null,
            "grid_row": null,
            "max_height": null,
            "align_content": null,
            "visibility": null,
            "align_self": null,
            "height": null,
            "min_height": null,
            "padding": null,
            "grid_auto_rows": null,
            "grid_gap": null,
            "max_width": null,
            "order": null,
            "_view_module_version": "1.2.0",
            "grid_template_areas": null,
            "object_position": null,
            "object_fit": null,
            "grid_auto_columns": null,
            "margin": null,
            "display": null,
            "left": null
          }
        },
        "922a3fa56d264882bcff6a67f2a1d47f": {
          "model_module": "@jupyter-widgets/controls",
          "model_name": "HBoxModel",
          "model_module_version": "1.5.0",
          "state": {
            "_view_name": "HBoxView",
            "_dom_classes": [],
            "_model_name": "HBoxModel",
            "_view_module": "@jupyter-widgets/controls",
            "_model_module_version": "1.5.0",
            "_view_count": null,
            "_view_module_version": "1.5.0",
            "box_style": "",
            "layout": "IPY_MODEL_320ddf2d71124f49aa67a9f709695916",
            "_model_module": "@jupyter-widgets/controls",
            "children": [
              "IPY_MODEL_e368f68dda274186991cae2302a43aa9",
              "IPY_MODEL_35c97330997046068203877e92271869",
              "IPY_MODEL_76745516b47d4611834b8bd9fe65278c"
            ]
          }
        },
        "320ddf2d71124f49aa67a9f709695916": {
          "model_module": "@jupyter-widgets/base",
          "model_name": "LayoutModel",
          "model_module_version": "1.2.0",
          "state": {
            "_view_name": "LayoutView",
            "grid_template_rows": null,
            "right": null,
            "justify_content": null,
            "_view_module": "@jupyter-widgets/base",
            "overflow": null,
            "_model_module_version": "1.2.0",
            "_view_count": null,
            "flex_flow": null,
            "width": null,
            "min_width": null,
            "border": null,
            "align_items": null,
            "bottom": null,
            "_model_module": "@jupyter-widgets/base",
            "top": null,
            "grid_column": null,
            "overflow_y": null,
            "overflow_x": null,
            "grid_auto_flow": null,
            "grid_area": null,
            "grid_template_columns": null,
            "flex": null,
            "_model_name": "LayoutModel",
            "justify_items": null,
            "grid_row": null,
            "max_height": null,
            "align_content": null,
            "visibility": null,
            "align_self": null,
            "height": null,
            "min_height": null,
            "padding": null,
            "grid_auto_rows": null,
            "grid_gap": null,
            "max_width": null,
            "order": null,
            "_view_module_version": "1.2.0",
            "grid_template_areas": null,
            "object_position": null,
            "object_fit": null,
            "grid_auto_columns": null,
            "margin": null,
            "display": null,
            "left": null
          }
        },
        "e368f68dda274186991cae2302a43aa9": {
          "model_module": "@jupyter-widgets/controls",
          "model_name": "HTMLModel",
          "model_module_version": "1.5.0",
          "state": {
            "_view_name": "HTMLView",
            "style": "IPY_MODEL_50d1ee2f1c32477ca9ff21a597507608",
            "_dom_classes": [],
            "description": "",
            "_model_name": "HTMLModel",
            "placeholder": "​",
            "_view_module": "@jupyter-widgets/controls",
            "_model_module_version": "1.5.0",
            "value": "100%",
            "_view_count": null,
            "_view_module_version": "1.5.0",
            "description_tooltip": null,
            "_model_module": "@jupyter-widgets/controls",
            "layout": "IPY_MODEL_6e231d7de1164366a240a653733af3ba"
          }
        },
        "35c97330997046068203877e92271869": {
          "model_module": "@jupyter-widgets/controls",
          "model_name": "FloatProgressModel",
          "model_module_version": "1.5.0",
          "state": {
            "_view_name": "ProgressView",
            "style": "IPY_MODEL_e7a17f6cdfa84e429792bc5b689075cd",
            "_dom_classes": [],
            "description": "",
            "_model_name": "FloatProgressModel",
            "bar_style": "success",
            "max": 2288,
            "_view_module": "@jupyter-widgets/controls",
            "_model_module_version": "1.5.0",
            "value": 2288,
            "_view_count": null,
            "_view_module_version": "1.5.0",
            "orientation": "horizontal",
            "min": 0,
            "description_tooltip": null,
            "_model_module": "@jupyter-widgets/controls",
            "layout": "IPY_MODEL_7e08c0a326624514a05ac4b80d83a55f"
          }
        },
        "76745516b47d4611834b8bd9fe65278c": {
          "model_module": "@jupyter-widgets/controls",
          "model_name": "HTMLModel",
          "model_module_version": "1.5.0",
          "state": {
            "_view_name": "HTMLView",
            "style": "IPY_MODEL_c2da0aeadbcd4e20a7dcbe9ad692de39",
            "_dom_classes": [],
            "description": "",
            "_model_name": "HTMLModel",
            "placeholder": "​",
            "_view_module": "@jupyter-widgets/controls",
            "_model_module_version": "1.5.0",
            "value": " 2288/2288 [03:07&lt;00:00, 12.19it/s]",
            "_view_count": null,
            "_view_module_version": "1.5.0",
            "description_tooltip": null,
            "_model_module": "@jupyter-widgets/controls",
            "layout": "IPY_MODEL_350bcd32f5c349f3a9d6a3a711f2987a"
          }
        },
        "50d1ee2f1c32477ca9ff21a597507608": {
          "model_module": "@jupyter-widgets/controls",
          "model_name": "DescriptionStyleModel",
          "model_module_version": "1.5.0",
          "state": {
            "_view_name": "StyleView",
            "_model_name": "DescriptionStyleModel",
            "description_width": "",
            "_view_module": "@jupyter-widgets/base",
            "_model_module_version": "1.5.0",
            "_view_count": null,
            "_view_module_version": "1.2.0",
            "_model_module": "@jupyter-widgets/controls"
          }
        },
        "6e231d7de1164366a240a653733af3ba": {
          "model_module": "@jupyter-widgets/base",
          "model_name": "LayoutModel",
          "model_module_version": "1.2.0",
          "state": {
            "_view_name": "LayoutView",
            "grid_template_rows": null,
            "right": null,
            "justify_content": null,
            "_view_module": "@jupyter-widgets/base",
            "overflow": null,
            "_model_module_version": "1.2.0",
            "_view_count": null,
            "flex_flow": null,
            "width": null,
            "min_width": null,
            "border": null,
            "align_items": null,
            "bottom": null,
            "_model_module": "@jupyter-widgets/base",
            "top": null,
            "grid_column": null,
            "overflow_y": null,
            "overflow_x": null,
            "grid_auto_flow": null,
            "grid_area": null,
            "grid_template_columns": null,
            "flex": null,
            "_model_name": "LayoutModel",
            "justify_items": null,
            "grid_row": null,
            "max_height": null,
            "align_content": null,
            "visibility": null,
            "align_self": null,
            "height": null,
            "min_height": null,
            "padding": null,
            "grid_auto_rows": null,
            "grid_gap": null,
            "max_width": null,
            "order": null,
            "_view_module_version": "1.2.0",
            "grid_template_areas": null,
            "object_position": null,
            "object_fit": null,
            "grid_auto_columns": null,
            "margin": null,
            "display": null,
            "left": null
          }
        },
        "e7a17f6cdfa84e429792bc5b689075cd": {
          "model_module": "@jupyter-widgets/controls",
          "model_name": "ProgressStyleModel",
          "model_module_version": "1.5.0",
          "state": {
            "_view_name": "StyleView",
            "_model_name": "ProgressStyleModel",
            "description_width": "",
            "_view_module": "@jupyter-widgets/base",
            "_model_module_version": "1.5.0",
            "_view_count": null,
            "_view_module_version": "1.2.0",
            "bar_color": null,
            "_model_module": "@jupyter-widgets/controls"
          }
        },
        "7e08c0a326624514a05ac4b80d83a55f": {
          "model_module": "@jupyter-widgets/base",
          "model_name": "LayoutModel",
          "model_module_version": "1.2.0",
          "state": {
            "_view_name": "LayoutView",
            "grid_template_rows": null,
            "right": null,
            "justify_content": null,
            "_view_module": "@jupyter-widgets/base",
            "overflow": null,
            "_model_module_version": "1.2.0",
            "_view_count": null,
            "flex_flow": null,
            "width": null,
            "min_width": null,
            "border": null,
            "align_items": null,
            "bottom": null,
            "_model_module": "@jupyter-widgets/base",
            "top": null,
            "grid_column": null,
            "overflow_y": null,
            "overflow_x": null,
            "grid_auto_flow": null,
            "grid_area": null,
            "grid_template_columns": null,
            "flex": null,
            "_model_name": "LayoutModel",
            "justify_items": null,
            "grid_row": null,
            "max_height": null,
            "align_content": null,
            "visibility": null,
            "align_self": null,
            "height": null,
            "min_height": null,
            "padding": null,
            "grid_auto_rows": null,
            "grid_gap": null,
            "max_width": null,
            "order": null,
            "_view_module_version": "1.2.0",
            "grid_template_areas": null,
            "object_position": null,
            "object_fit": null,
            "grid_auto_columns": null,
            "margin": null,
            "display": null,
            "left": null
          }
        },
        "c2da0aeadbcd4e20a7dcbe9ad692de39": {
          "model_module": "@jupyter-widgets/controls",
          "model_name": "DescriptionStyleModel",
          "model_module_version": "1.5.0",
          "state": {
            "_view_name": "StyleView",
            "_model_name": "DescriptionStyleModel",
            "description_width": "",
            "_view_module": "@jupyter-widgets/base",
            "_model_module_version": "1.5.0",
            "_view_count": null,
            "_view_module_version": "1.2.0",
            "_model_module": "@jupyter-widgets/controls"
          }
        },
        "350bcd32f5c349f3a9d6a3a711f2987a": {
          "model_module": "@jupyter-widgets/base",
          "model_name": "LayoutModel",
          "model_module_version": "1.2.0",
          "state": {
            "_view_name": "LayoutView",
            "grid_template_rows": null,
            "right": null,
            "justify_content": null,
            "_view_module": "@jupyter-widgets/base",
            "overflow": null,
            "_model_module_version": "1.2.0",
            "_view_count": null,
            "flex_flow": null,
            "width": null,
            "min_width": null,
            "border": null,
            "align_items": null,
            "bottom": null,
            "_model_module": "@jupyter-widgets/base",
            "top": null,
            "grid_column": null,
            "overflow_y": null,
            "overflow_x": null,
            "grid_auto_flow": null,
            "grid_area": null,
            "grid_template_columns": null,
            "flex": null,
            "_model_name": "LayoutModel",
            "justify_items": null,
            "grid_row": null,
            "max_height": null,
            "align_content": null,
            "visibility": null,
            "align_self": null,
            "height": null,
            "min_height": null,
            "padding": null,
            "grid_auto_rows": null,
            "grid_gap": null,
            "max_width": null,
            "order": null,
            "_view_module_version": "1.2.0",
            "grid_template_areas": null,
            "object_position": null,
            "object_fit": null,
            "grid_auto_columns": null,
            "margin": null,
            "display": null,
            "left": null
          }
        },
        "d89e993799c14882a2b0302877714d55": {
          "model_module": "@jupyter-widgets/controls",
          "model_name": "HBoxModel",
          "model_module_version": "1.5.0",
          "state": {
            "_view_name": "HBoxView",
            "_dom_classes": [],
            "_model_name": "HBoxModel",
            "_view_module": "@jupyter-widgets/controls",
            "_model_module_version": "1.5.0",
            "_view_count": null,
            "_view_module_version": "1.5.0",
            "box_style": "",
            "layout": "IPY_MODEL_69bb9cb6ca044f3e90913b82b398a0a8",
            "_model_module": "@jupyter-widgets/controls",
            "children": [
              "IPY_MODEL_02db3f45ec5c4eca851847bb73f2de35",
              "IPY_MODEL_82cffdf527df468ab367acece2afd565",
              "IPY_MODEL_c26176d96dde42239d2a30de5cc127c7"
            ]
          }
        },
        "69bb9cb6ca044f3e90913b82b398a0a8": {
          "model_module": "@jupyter-widgets/base",
          "model_name": "LayoutModel",
          "model_module_version": "1.2.0",
          "state": {
            "_view_name": "LayoutView",
            "grid_template_rows": null,
            "right": null,
            "justify_content": null,
            "_view_module": "@jupyter-widgets/base",
            "overflow": null,
            "_model_module_version": "1.2.0",
            "_view_count": null,
            "flex_flow": null,
            "width": null,
            "min_width": null,
            "border": null,
            "align_items": null,
            "bottom": null,
            "_model_module": "@jupyter-widgets/base",
            "top": null,
            "grid_column": null,
            "overflow_y": null,
            "overflow_x": null,
            "grid_auto_flow": null,
            "grid_area": null,
            "grid_template_columns": null,
            "flex": null,
            "_model_name": "LayoutModel",
            "justify_items": null,
            "grid_row": null,
            "max_height": null,
            "align_content": null,
            "visibility": null,
            "align_self": null,
            "height": null,
            "min_height": null,
            "padding": null,
            "grid_auto_rows": null,
            "grid_gap": null,
            "max_width": null,
            "order": null,
            "_view_module_version": "1.2.0",
            "grid_template_areas": null,
            "object_position": null,
            "object_fit": null,
            "grid_auto_columns": null,
            "margin": null,
            "display": null,
            "left": null
          }
        },
        "02db3f45ec5c4eca851847bb73f2de35": {
          "model_module": "@jupyter-widgets/controls",
          "model_name": "HTMLModel",
          "model_module_version": "1.5.0",
          "state": {
            "_view_name": "HTMLView",
            "style": "IPY_MODEL_934043a381ad4ba2b2dfb9a1989ca2e0",
            "_dom_classes": [],
            "description": "",
            "_model_name": "HTMLModel",
            "placeholder": "​",
            "_view_module": "@jupyter-widgets/controls",
            "_model_module_version": "1.5.0",
            "value": "100%",
            "_view_count": null,
            "_view_module_version": "1.5.0",
            "description_tooltip": null,
            "_model_module": "@jupyter-widgets/controls",
            "layout": "IPY_MODEL_e0876f0d7f4d42539358b4ca3922bbc3"
          }
        },
        "82cffdf527df468ab367acece2afd565": {
          "model_module": "@jupyter-widgets/controls",
          "model_name": "FloatProgressModel",
          "model_module_version": "1.5.0",
          "state": {
            "_view_name": "ProgressView",
            "style": "IPY_MODEL_2ccf5c3b041047f3b509cabaff5a7a41",
            "_dom_classes": [],
            "description": "",
            "_model_name": "FloatProgressModel",
            "bar_style": "success",
            "max": 2288,
            "_view_module": "@jupyter-widgets/controls",
            "_model_module_version": "1.5.0",
            "value": 2288,
            "_view_count": null,
            "_view_module_version": "1.5.0",
            "orientation": "horizontal",
            "min": 0,
            "description_tooltip": null,
            "_model_module": "@jupyter-widgets/controls",
            "layout": "IPY_MODEL_494201d527424ed898198ec6de1007df"
          }
        },
        "c26176d96dde42239d2a30de5cc127c7": {
          "model_module": "@jupyter-widgets/controls",
          "model_name": "HTMLModel",
          "model_module_version": "1.5.0",
          "state": {
            "_view_name": "HTMLView",
            "style": "IPY_MODEL_1e57c6dcafe041d295a2094b70cccf1f",
            "_dom_classes": [],
            "description": "",
            "_model_name": "HTMLModel",
            "placeholder": "​",
            "_view_module": "@jupyter-widgets/controls",
            "_model_module_version": "1.5.0",
            "value": " 2288/2288 [03:07&lt;00:00, 12.23it/s]",
            "_view_count": null,
            "_view_module_version": "1.5.0",
            "description_tooltip": null,
            "_model_module": "@jupyter-widgets/controls",
            "layout": "IPY_MODEL_e675c541d169450eb390f16557ff9636"
          }
        },
        "934043a381ad4ba2b2dfb9a1989ca2e0": {
          "model_module": "@jupyter-widgets/controls",
          "model_name": "DescriptionStyleModel",
          "model_module_version": "1.5.0",
          "state": {
            "_view_name": "StyleView",
            "_model_name": "DescriptionStyleModel",
            "description_width": "",
            "_view_module": "@jupyter-widgets/base",
            "_model_module_version": "1.5.0",
            "_view_count": null,
            "_view_module_version": "1.2.0",
            "_model_module": "@jupyter-widgets/controls"
          }
        },
        "e0876f0d7f4d42539358b4ca3922bbc3": {
          "model_module": "@jupyter-widgets/base",
          "model_name": "LayoutModel",
          "model_module_version": "1.2.0",
          "state": {
            "_view_name": "LayoutView",
            "grid_template_rows": null,
            "right": null,
            "justify_content": null,
            "_view_module": "@jupyter-widgets/base",
            "overflow": null,
            "_model_module_version": "1.2.0",
            "_view_count": null,
            "flex_flow": null,
            "width": null,
            "min_width": null,
            "border": null,
            "align_items": null,
            "bottom": null,
            "_model_module": "@jupyter-widgets/base",
            "top": null,
            "grid_column": null,
            "overflow_y": null,
            "overflow_x": null,
            "grid_auto_flow": null,
            "grid_area": null,
            "grid_template_columns": null,
            "flex": null,
            "_model_name": "LayoutModel",
            "justify_items": null,
            "grid_row": null,
            "max_height": null,
            "align_content": null,
            "visibility": null,
            "align_self": null,
            "height": null,
            "min_height": null,
            "padding": null,
            "grid_auto_rows": null,
            "grid_gap": null,
            "max_width": null,
            "order": null,
            "_view_module_version": "1.2.0",
            "grid_template_areas": null,
            "object_position": null,
            "object_fit": null,
            "grid_auto_columns": null,
            "margin": null,
            "display": null,
            "left": null
          }
        },
        "2ccf5c3b041047f3b509cabaff5a7a41": {
          "model_module": "@jupyter-widgets/controls",
          "model_name": "ProgressStyleModel",
          "model_module_version": "1.5.0",
          "state": {
            "_view_name": "StyleView",
            "_model_name": "ProgressStyleModel",
            "description_width": "",
            "_view_module": "@jupyter-widgets/base",
            "_model_module_version": "1.5.0",
            "_view_count": null,
            "_view_module_version": "1.2.0",
            "bar_color": null,
            "_model_module": "@jupyter-widgets/controls"
          }
        },
        "494201d527424ed898198ec6de1007df": {
          "model_module": "@jupyter-widgets/base",
          "model_name": "LayoutModel",
          "model_module_version": "1.2.0",
          "state": {
            "_view_name": "LayoutView",
            "grid_template_rows": null,
            "right": null,
            "justify_content": null,
            "_view_module": "@jupyter-widgets/base",
            "overflow": null,
            "_model_module_version": "1.2.0",
            "_view_count": null,
            "flex_flow": null,
            "width": null,
            "min_width": null,
            "border": null,
            "align_items": null,
            "bottom": null,
            "_model_module": "@jupyter-widgets/base",
            "top": null,
            "grid_column": null,
            "overflow_y": null,
            "overflow_x": null,
            "grid_auto_flow": null,
            "grid_area": null,
            "grid_template_columns": null,
            "flex": null,
            "_model_name": "LayoutModel",
            "justify_items": null,
            "grid_row": null,
            "max_height": null,
            "align_content": null,
            "visibility": null,
            "align_self": null,
            "height": null,
            "min_height": null,
            "padding": null,
            "grid_auto_rows": null,
            "grid_gap": null,
            "max_width": null,
            "order": null,
            "_view_module_version": "1.2.0",
            "grid_template_areas": null,
            "object_position": null,
            "object_fit": null,
            "grid_auto_columns": null,
            "margin": null,
            "display": null,
            "left": null
          }
        },
        "1e57c6dcafe041d295a2094b70cccf1f": {
          "model_module": "@jupyter-widgets/controls",
          "model_name": "DescriptionStyleModel",
          "model_module_version": "1.5.0",
          "state": {
            "_view_name": "StyleView",
            "_model_name": "DescriptionStyleModel",
            "description_width": "",
            "_view_module": "@jupyter-widgets/base",
            "_model_module_version": "1.5.0",
            "_view_count": null,
            "_view_module_version": "1.2.0",
            "_model_module": "@jupyter-widgets/controls"
          }
        },
        "e675c541d169450eb390f16557ff9636": {
          "model_module": "@jupyter-widgets/base",
          "model_name": "LayoutModel",
          "model_module_version": "1.2.0",
          "state": {
            "_view_name": "LayoutView",
            "grid_template_rows": null,
            "right": null,
            "justify_content": null,
            "_view_module": "@jupyter-widgets/base",
            "overflow": null,
            "_model_module_version": "1.2.0",
            "_view_count": null,
            "flex_flow": null,
            "width": null,
            "min_width": null,
            "border": null,
            "align_items": null,
            "bottom": null,
            "_model_module": "@jupyter-widgets/base",
            "top": null,
            "grid_column": null,
            "overflow_y": null,
            "overflow_x": null,
            "grid_auto_flow": null,
            "grid_area": null,
            "grid_template_columns": null,
            "flex": null,
            "_model_name": "LayoutModel",
            "justify_items": null,
            "grid_row": null,
            "max_height": null,
            "align_content": null,
            "visibility": null,
            "align_self": null,
            "height": null,
            "min_height": null,
            "padding": null,
            "grid_auto_rows": null,
            "grid_gap": null,
            "max_width": null,
            "order": null,
            "_view_module_version": "1.2.0",
            "grid_template_areas": null,
            "object_position": null,
            "object_fit": null,
            "grid_auto_columns": null,
            "margin": null,
            "display": null,
            "left": null
          }
        },
        "614495947f984700ae0856d89b71f9a2": {
          "model_module": "@jupyter-widgets/controls",
          "model_name": "HBoxModel",
          "model_module_version": "1.5.0",
          "state": {
            "_view_name": "HBoxView",
            "_dom_classes": [],
            "_model_name": "HBoxModel",
            "_view_module": "@jupyter-widgets/controls",
            "_model_module_version": "1.5.0",
            "_view_count": null,
            "_view_module_version": "1.5.0",
            "box_style": "",
            "layout": "IPY_MODEL_4911bb99fb3f424d944074c3414a34dd",
            "_model_module": "@jupyter-widgets/controls",
            "children": [
              "IPY_MODEL_79b7fa823ce84317a8488e58001a0d92",
              "IPY_MODEL_1e00b6c9eddd47b5a509227884482a3a",
              "IPY_MODEL_b94daeb62d5540e79a24307c152c3702"
            ]
          }
        },
        "4911bb99fb3f424d944074c3414a34dd": {
          "model_module": "@jupyter-widgets/base",
          "model_name": "LayoutModel",
          "model_module_version": "1.2.0",
          "state": {
            "_view_name": "LayoutView",
            "grid_template_rows": null,
            "right": null,
            "justify_content": null,
            "_view_module": "@jupyter-widgets/base",
            "overflow": null,
            "_model_module_version": "1.2.0",
            "_view_count": null,
            "flex_flow": null,
            "width": null,
            "min_width": null,
            "border": null,
            "align_items": null,
            "bottom": null,
            "_model_module": "@jupyter-widgets/base",
            "top": null,
            "grid_column": null,
            "overflow_y": null,
            "overflow_x": null,
            "grid_auto_flow": null,
            "grid_area": null,
            "grid_template_columns": null,
            "flex": null,
            "_model_name": "LayoutModel",
            "justify_items": null,
            "grid_row": null,
            "max_height": null,
            "align_content": null,
            "visibility": null,
            "align_self": null,
            "height": null,
            "min_height": null,
            "padding": null,
            "grid_auto_rows": null,
            "grid_gap": null,
            "max_width": null,
            "order": null,
            "_view_module_version": "1.2.0",
            "grid_template_areas": null,
            "object_position": null,
            "object_fit": null,
            "grid_auto_columns": null,
            "margin": null,
            "display": null,
            "left": null
          }
        },
        "79b7fa823ce84317a8488e58001a0d92": {
          "model_module": "@jupyter-widgets/controls",
          "model_name": "HTMLModel",
          "model_module_version": "1.5.0",
          "state": {
            "_view_name": "HTMLView",
            "style": "IPY_MODEL_465c28d154834f288bc9e6ea02265657",
            "_dom_classes": [],
            "description": "",
            "_model_name": "HTMLModel",
            "placeholder": "​",
            "_view_module": "@jupyter-widgets/controls",
            "_model_module_version": "1.5.0",
            "value": "100%",
            "_view_count": null,
            "_view_module_version": "1.5.0",
            "description_tooltip": null,
            "_model_module": "@jupyter-widgets/controls",
            "layout": "IPY_MODEL_c777c59782354066bf587b3940c76c74"
          }
        },
        "1e00b6c9eddd47b5a509227884482a3a": {
          "model_module": "@jupyter-widgets/controls",
          "model_name": "FloatProgressModel",
          "model_module_version": "1.5.0",
          "state": {
            "_view_name": "ProgressView",
            "style": "IPY_MODEL_239f23be7f7c4c30b076579aa6e18d6d",
            "_dom_classes": [],
            "description": "",
            "_model_name": "FloatProgressModel",
            "bar_style": "success",
            "max": 2288,
            "_view_module": "@jupyter-widgets/controls",
            "_model_module_version": "1.5.0",
            "value": 2288,
            "_view_count": null,
            "_view_module_version": "1.5.0",
            "orientation": "horizontal",
            "min": 0,
            "description_tooltip": null,
            "_model_module": "@jupyter-widgets/controls",
            "layout": "IPY_MODEL_67a56b8fb6384afda56576509c58a152"
          }
        },
        "b94daeb62d5540e79a24307c152c3702": {
          "model_module": "@jupyter-widgets/controls",
          "model_name": "HTMLModel",
          "model_module_version": "1.5.0",
          "state": {
            "_view_name": "HTMLView",
            "style": "IPY_MODEL_e0ae1239877349d3bcff0de469cb619a",
            "_dom_classes": [],
            "description": "",
            "_model_name": "HTMLModel",
            "placeholder": "​",
            "_view_module": "@jupyter-widgets/controls",
            "_model_module_version": "1.5.0",
            "value": " 2288/2288 [03:07&lt;00:00, 12.23it/s]",
            "_view_count": null,
            "_view_module_version": "1.5.0",
            "description_tooltip": null,
            "_model_module": "@jupyter-widgets/controls",
            "layout": "IPY_MODEL_a4ef9bb3156c46529d94bede8198d487"
          }
        },
        "465c28d154834f288bc9e6ea02265657": {
          "model_module": "@jupyter-widgets/controls",
          "model_name": "DescriptionStyleModel",
          "model_module_version": "1.5.0",
          "state": {
            "_view_name": "StyleView",
            "_model_name": "DescriptionStyleModel",
            "description_width": "",
            "_view_module": "@jupyter-widgets/base",
            "_model_module_version": "1.5.0",
            "_view_count": null,
            "_view_module_version": "1.2.0",
            "_model_module": "@jupyter-widgets/controls"
          }
        },
        "c777c59782354066bf587b3940c76c74": {
          "model_module": "@jupyter-widgets/base",
          "model_name": "LayoutModel",
          "model_module_version": "1.2.0",
          "state": {
            "_view_name": "LayoutView",
            "grid_template_rows": null,
            "right": null,
            "justify_content": null,
            "_view_module": "@jupyter-widgets/base",
            "overflow": null,
            "_model_module_version": "1.2.0",
            "_view_count": null,
            "flex_flow": null,
            "width": null,
            "min_width": null,
            "border": null,
            "align_items": null,
            "bottom": null,
            "_model_module": "@jupyter-widgets/base",
            "top": null,
            "grid_column": null,
            "overflow_y": null,
            "overflow_x": null,
            "grid_auto_flow": null,
            "grid_area": null,
            "grid_template_columns": null,
            "flex": null,
            "_model_name": "LayoutModel",
            "justify_items": null,
            "grid_row": null,
            "max_height": null,
            "align_content": null,
            "visibility": null,
            "align_self": null,
            "height": null,
            "min_height": null,
            "padding": null,
            "grid_auto_rows": null,
            "grid_gap": null,
            "max_width": null,
            "order": null,
            "_view_module_version": "1.2.0",
            "grid_template_areas": null,
            "object_position": null,
            "object_fit": null,
            "grid_auto_columns": null,
            "margin": null,
            "display": null,
            "left": null
          }
        },
        "239f23be7f7c4c30b076579aa6e18d6d": {
          "model_module": "@jupyter-widgets/controls",
          "model_name": "ProgressStyleModel",
          "model_module_version": "1.5.0",
          "state": {
            "_view_name": "StyleView",
            "_model_name": "ProgressStyleModel",
            "description_width": "",
            "_view_module": "@jupyter-widgets/base",
            "_model_module_version": "1.5.0",
            "_view_count": null,
            "_view_module_version": "1.2.0",
            "bar_color": null,
            "_model_module": "@jupyter-widgets/controls"
          }
        },
        "67a56b8fb6384afda56576509c58a152": {
          "model_module": "@jupyter-widgets/base",
          "model_name": "LayoutModel",
          "model_module_version": "1.2.0",
          "state": {
            "_view_name": "LayoutView",
            "grid_template_rows": null,
            "right": null,
            "justify_content": null,
            "_view_module": "@jupyter-widgets/base",
            "overflow": null,
            "_model_module_version": "1.2.0",
            "_view_count": null,
            "flex_flow": null,
            "width": null,
            "min_width": null,
            "border": null,
            "align_items": null,
            "bottom": null,
            "_model_module": "@jupyter-widgets/base",
            "top": null,
            "grid_column": null,
            "overflow_y": null,
            "overflow_x": null,
            "grid_auto_flow": null,
            "grid_area": null,
            "grid_template_columns": null,
            "flex": null,
            "_model_name": "LayoutModel",
            "justify_items": null,
            "grid_row": null,
            "max_height": null,
            "align_content": null,
            "visibility": null,
            "align_self": null,
            "height": null,
            "min_height": null,
            "padding": null,
            "grid_auto_rows": null,
            "grid_gap": null,
            "max_width": null,
            "order": null,
            "_view_module_version": "1.2.0",
            "grid_template_areas": null,
            "object_position": null,
            "object_fit": null,
            "grid_auto_columns": null,
            "margin": null,
            "display": null,
            "left": null
          }
        },
        "e0ae1239877349d3bcff0de469cb619a": {
          "model_module": "@jupyter-widgets/controls",
          "model_name": "DescriptionStyleModel",
          "model_module_version": "1.5.0",
          "state": {
            "_view_name": "StyleView",
            "_model_name": "DescriptionStyleModel",
            "description_width": "",
            "_view_module": "@jupyter-widgets/base",
            "_model_module_version": "1.5.0",
            "_view_count": null,
            "_view_module_version": "1.2.0",
            "_model_module": "@jupyter-widgets/controls"
          }
        },
        "a4ef9bb3156c46529d94bede8198d487": {
          "model_module": "@jupyter-widgets/base",
          "model_name": "LayoutModel",
          "model_module_version": "1.2.0",
          "state": {
            "_view_name": "LayoutView",
            "grid_template_rows": null,
            "right": null,
            "justify_content": null,
            "_view_module": "@jupyter-widgets/base",
            "overflow": null,
            "_model_module_version": "1.2.0",
            "_view_count": null,
            "flex_flow": null,
            "width": null,
            "min_width": null,
            "border": null,
            "align_items": null,
            "bottom": null,
            "_model_module": "@jupyter-widgets/base",
            "top": null,
            "grid_column": null,
            "overflow_y": null,
            "overflow_x": null,
            "grid_auto_flow": null,
            "grid_area": null,
            "grid_template_columns": null,
            "flex": null,
            "_model_name": "LayoutModel",
            "justify_items": null,
            "grid_row": null,
            "max_height": null,
            "align_content": null,
            "visibility": null,
            "align_self": null,
            "height": null,
            "min_height": null,
            "padding": null,
            "grid_auto_rows": null,
            "grid_gap": null,
            "max_width": null,
            "order": null,
            "_view_module_version": "1.2.0",
            "grid_template_areas": null,
            "object_position": null,
            "object_fit": null,
            "grid_auto_columns": null,
            "margin": null,
            "display": null,
            "left": null
          }
        },
        "e001fdd441c74d41be404d5f674767cc": {
          "model_module": "@jupyter-widgets/controls",
          "model_name": "HBoxModel",
          "model_module_version": "1.5.0",
          "state": {
            "_view_name": "HBoxView",
            "_dom_classes": [],
            "_model_name": "HBoxModel",
            "_view_module": "@jupyter-widgets/controls",
            "_model_module_version": "1.5.0",
            "_view_count": null,
            "_view_module_version": "1.5.0",
            "box_style": "",
            "layout": "IPY_MODEL_b4d3802a9ca6427f9910e8bf72058710",
            "_model_module": "@jupyter-widgets/controls",
            "children": [
              "IPY_MODEL_99468eaa7ae64073a5615132918f24b7",
              "IPY_MODEL_2b4303e785ed40a8a3e21f86f31bbcd4",
              "IPY_MODEL_5cb869ca17dd4013bd44e4a8b5b04c12"
            ]
          }
        },
        "b4d3802a9ca6427f9910e8bf72058710": {
          "model_module": "@jupyter-widgets/base",
          "model_name": "LayoutModel",
          "model_module_version": "1.2.0",
          "state": {
            "_view_name": "LayoutView",
            "grid_template_rows": null,
            "right": null,
            "justify_content": null,
            "_view_module": "@jupyter-widgets/base",
            "overflow": null,
            "_model_module_version": "1.2.0",
            "_view_count": null,
            "flex_flow": null,
            "width": null,
            "min_width": null,
            "border": null,
            "align_items": null,
            "bottom": null,
            "_model_module": "@jupyter-widgets/base",
            "top": null,
            "grid_column": null,
            "overflow_y": null,
            "overflow_x": null,
            "grid_auto_flow": null,
            "grid_area": null,
            "grid_template_columns": null,
            "flex": null,
            "_model_name": "LayoutModel",
            "justify_items": null,
            "grid_row": null,
            "max_height": null,
            "align_content": null,
            "visibility": null,
            "align_self": null,
            "height": null,
            "min_height": null,
            "padding": null,
            "grid_auto_rows": null,
            "grid_gap": null,
            "max_width": null,
            "order": null,
            "_view_module_version": "1.2.0",
            "grid_template_areas": null,
            "object_position": null,
            "object_fit": null,
            "grid_auto_columns": null,
            "margin": null,
            "display": null,
            "left": null
          }
        },
        "99468eaa7ae64073a5615132918f24b7": {
          "model_module": "@jupyter-widgets/controls",
          "model_name": "HTMLModel",
          "model_module_version": "1.5.0",
          "state": {
            "_view_name": "HTMLView",
            "style": "IPY_MODEL_f9e85ccee8094eb9bd486deb28e92fb9",
            "_dom_classes": [],
            "description": "",
            "_model_name": "HTMLModel",
            "placeholder": "​",
            "_view_module": "@jupyter-widgets/controls",
            "_model_module_version": "1.5.0",
            "value": "100%",
            "_view_count": null,
            "_view_module_version": "1.5.0",
            "description_tooltip": null,
            "_model_module": "@jupyter-widgets/controls",
            "layout": "IPY_MODEL_a34617451d3f4f6db33b63a1a9495e23"
          }
        },
        "2b4303e785ed40a8a3e21f86f31bbcd4": {
          "model_module": "@jupyter-widgets/controls",
          "model_name": "FloatProgressModel",
          "model_module_version": "1.5.0",
          "state": {
            "_view_name": "ProgressView",
            "style": "IPY_MODEL_7b6db0bb4c81448d97be08e8182b4515",
            "_dom_classes": [],
            "description": "",
            "_model_name": "FloatProgressModel",
            "bar_style": "success",
            "max": 2288,
            "_view_module": "@jupyter-widgets/controls",
            "_model_module_version": "1.5.0",
            "value": 2288,
            "_view_count": null,
            "_view_module_version": "1.5.0",
            "orientation": "horizontal",
            "min": 0,
            "description_tooltip": null,
            "_model_module": "@jupyter-widgets/controls",
            "layout": "IPY_MODEL_179f3fb9302549afbc8b7b74c9a98dd2"
          }
        },
        "5cb869ca17dd4013bd44e4a8b5b04c12": {
          "model_module": "@jupyter-widgets/controls",
          "model_name": "HTMLModel",
          "model_module_version": "1.5.0",
          "state": {
            "_view_name": "HTMLView",
            "style": "IPY_MODEL_a3097f478e7548d4872e4cf18328c1d0",
            "_dom_classes": [],
            "description": "",
            "_model_name": "HTMLModel",
            "placeholder": "​",
            "_view_module": "@jupyter-widgets/controls",
            "_model_module_version": "1.5.0",
            "value": " 2288/2288 [03:07&lt;00:00, 12.21it/s]",
            "_view_count": null,
            "_view_module_version": "1.5.0",
            "description_tooltip": null,
            "_model_module": "@jupyter-widgets/controls",
            "layout": "IPY_MODEL_e9439ce6c7f9423ab256ac7bd5ffc560"
          }
        },
        "f9e85ccee8094eb9bd486deb28e92fb9": {
          "model_module": "@jupyter-widgets/controls",
          "model_name": "DescriptionStyleModel",
          "model_module_version": "1.5.0",
          "state": {
            "_view_name": "StyleView",
            "_model_name": "DescriptionStyleModel",
            "description_width": "",
            "_view_module": "@jupyter-widgets/base",
            "_model_module_version": "1.5.0",
            "_view_count": null,
            "_view_module_version": "1.2.0",
            "_model_module": "@jupyter-widgets/controls"
          }
        },
        "a34617451d3f4f6db33b63a1a9495e23": {
          "model_module": "@jupyter-widgets/base",
          "model_name": "LayoutModel",
          "model_module_version": "1.2.0",
          "state": {
            "_view_name": "LayoutView",
            "grid_template_rows": null,
            "right": null,
            "justify_content": null,
            "_view_module": "@jupyter-widgets/base",
            "overflow": null,
            "_model_module_version": "1.2.0",
            "_view_count": null,
            "flex_flow": null,
            "width": null,
            "min_width": null,
            "border": null,
            "align_items": null,
            "bottom": null,
            "_model_module": "@jupyter-widgets/base",
            "top": null,
            "grid_column": null,
            "overflow_y": null,
            "overflow_x": null,
            "grid_auto_flow": null,
            "grid_area": null,
            "grid_template_columns": null,
            "flex": null,
            "_model_name": "LayoutModel",
            "justify_items": null,
            "grid_row": null,
            "max_height": null,
            "align_content": null,
            "visibility": null,
            "align_self": null,
            "height": null,
            "min_height": null,
            "padding": null,
            "grid_auto_rows": null,
            "grid_gap": null,
            "max_width": null,
            "order": null,
            "_view_module_version": "1.2.0",
            "grid_template_areas": null,
            "object_position": null,
            "object_fit": null,
            "grid_auto_columns": null,
            "margin": null,
            "display": null,
            "left": null
          }
        },
        "7b6db0bb4c81448d97be08e8182b4515": {
          "model_module": "@jupyter-widgets/controls",
          "model_name": "ProgressStyleModel",
          "model_module_version": "1.5.0",
          "state": {
            "_view_name": "StyleView",
            "_model_name": "ProgressStyleModel",
            "description_width": "",
            "_view_module": "@jupyter-widgets/base",
            "_model_module_version": "1.5.0",
            "_view_count": null,
            "_view_module_version": "1.2.0",
            "bar_color": null,
            "_model_module": "@jupyter-widgets/controls"
          }
        },
        "179f3fb9302549afbc8b7b74c9a98dd2": {
          "model_module": "@jupyter-widgets/base",
          "model_name": "LayoutModel",
          "model_module_version": "1.2.0",
          "state": {
            "_view_name": "LayoutView",
            "grid_template_rows": null,
            "right": null,
            "justify_content": null,
            "_view_module": "@jupyter-widgets/base",
            "overflow": null,
            "_model_module_version": "1.2.0",
            "_view_count": null,
            "flex_flow": null,
            "width": null,
            "min_width": null,
            "border": null,
            "align_items": null,
            "bottom": null,
            "_model_module": "@jupyter-widgets/base",
            "top": null,
            "grid_column": null,
            "overflow_y": null,
            "overflow_x": null,
            "grid_auto_flow": null,
            "grid_area": null,
            "grid_template_columns": null,
            "flex": null,
            "_model_name": "LayoutModel",
            "justify_items": null,
            "grid_row": null,
            "max_height": null,
            "align_content": null,
            "visibility": null,
            "align_self": null,
            "height": null,
            "min_height": null,
            "padding": null,
            "grid_auto_rows": null,
            "grid_gap": null,
            "max_width": null,
            "order": null,
            "_view_module_version": "1.2.0",
            "grid_template_areas": null,
            "object_position": null,
            "object_fit": null,
            "grid_auto_columns": null,
            "margin": null,
            "display": null,
            "left": null
          }
        },
        "a3097f478e7548d4872e4cf18328c1d0": {
          "model_module": "@jupyter-widgets/controls",
          "model_name": "DescriptionStyleModel",
          "model_module_version": "1.5.0",
          "state": {
            "_view_name": "StyleView",
            "_model_name": "DescriptionStyleModel",
            "description_width": "",
            "_view_module": "@jupyter-widgets/base",
            "_model_module_version": "1.5.0",
            "_view_count": null,
            "_view_module_version": "1.2.0",
            "_model_module": "@jupyter-widgets/controls"
          }
        },
        "e9439ce6c7f9423ab256ac7bd5ffc560": {
          "model_module": "@jupyter-widgets/base",
          "model_name": "LayoutModel",
          "model_module_version": "1.2.0",
          "state": {
            "_view_name": "LayoutView",
            "grid_template_rows": null,
            "right": null,
            "justify_content": null,
            "_view_module": "@jupyter-widgets/base",
            "overflow": null,
            "_model_module_version": "1.2.0",
            "_view_count": null,
            "flex_flow": null,
            "width": null,
            "min_width": null,
            "border": null,
            "align_items": null,
            "bottom": null,
            "_model_module": "@jupyter-widgets/base",
            "top": null,
            "grid_column": null,
            "overflow_y": null,
            "overflow_x": null,
            "grid_auto_flow": null,
            "grid_area": null,
            "grid_template_columns": null,
            "flex": null,
            "_model_name": "LayoutModel",
            "justify_items": null,
            "grid_row": null,
            "max_height": null,
            "align_content": null,
            "visibility": null,
            "align_self": null,
            "height": null,
            "min_height": null,
            "padding": null,
            "grid_auto_rows": null,
            "grid_gap": null,
            "max_width": null,
            "order": null,
            "_view_module_version": "1.2.0",
            "grid_template_areas": null,
            "object_position": null,
            "object_fit": null,
            "grid_auto_columns": null,
            "margin": null,
            "display": null,
            "left": null
          }
        },
        "546618dbbc32445f9e39e3e054cc0066": {
          "model_module": "@jupyter-widgets/controls",
          "model_name": "HBoxModel",
          "model_module_version": "1.5.0",
          "state": {
            "_view_name": "HBoxView",
            "_dom_classes": [],
            "_model_name": "HBoxModel",
            "_view_module": "@jupyter-widgets/controls",
            "_model_module_version": "1.5.0",
            "_view_count": null,
            "_view_module_version": "1.5.0",
            "box_style": "",
            "layout": "IPY_MODEL_c855fcde094d4b16bd3d8f4f48132aec",
            "_model_module": "@jupyter-widgets/controls",
            "children": [
              "IPY_MODEL_7fc47a78b7664a1391a3b97df4f2dc68",
              "IPY_MODEL_d8324e0f5fdf4d30b36514a93c1575a3",
              "IPY_MODEL_e8e75c8d78c64229b681a0cab3e12c71"
            ]
          }
        },
        "c855fcde094d4b16bd3d8f4f48132aec": {
          "model_module": "@jupyter-widgets/base",
          "model_name": "LayoutModel",
          "model_module_version": "1.2.0",
          "state": {
            "_view_name": "LayoutView",
            "grid_template_rows": null,
            "right": null,
            "justify_content": null,
            "_view_module": "@jupyter-widgets/base",
            "overflow": null,
            "_model_module_version": "1.2.0",
            "_view_count": null,
            "flex_flow": null,
            "width": null,
            "min_width": null,
            "border": null,
            "align_items": null,
            "bottom": null,
            "_model_module": "@jupyter-widgets/base",
            "top": null,
            "grid_column": null,
            "overflow_y": null,
            "overflow_x": null,
            "grid_auto_flow": null,
            "grid_area": null,
            "grid_template_columns": null,
            "flex": null,
            "_model_name": "LayoutModel",
            "justify_items": null,
            "grid_row": null,
            "max_height": null,
            "align_content": null,
            "visibility": null,
            "align_self": null,
            "height": null,
            "min_height": null,
            "padding": null,
            "grid_auto_rows": null,
            "grid_gap": null,
            "max_width": null,
            "order": null,
            "_view_module_version": "1.2.0",
            "grid_template_areas": null,
            "object_position": null,
            "object_fit": null,
            "grid_auto_columns": null,
            "margin": null,
            "display": null,
            "left": null
          }
        },
        "7fc47a78b7664a1391a3b97df4f2dc68": {
          "model_module": "@jupyter-widgets/controls",
          "model_name": "HTMLModel",
          "model_module_version": "1.5.0",
          "state": {
            "_view_name": "HTMLView",
            "style": "IPY_MODEL_bb993f9e76f349aeb49e3c18f3e761f1",
            "_dom_classes": [],
            "description": "",
            "_model_name": "HTMLModel",
            "placeholder": "​",
            "_view_module": "@jupyter-widgets/controls",
            "_model_module_version": "1.5.0",
            "value": "100%",
            "_view_count": null,
            "_view_module_version": "1.5.0",
            "description_tooltip": null,
            "_model_module": "@jupyter-widgets/controls",
            "layout": "IPY_MODEL_bdb6846cc1134dce80125a31821124ca"
          }
        },
        "d8324e0f5fdf4d30b36514a93c1575a3": {
          "model_module": "@jupyter-widgets/controls",
          "model_name": "FloatProgressModel",
          "model_module_version": "1.5.0",
          "state": {
            "_view_name": "ProgressView",
            "style": "IPY_MODEL_85f1be2bd439485f93ab11353d6223a2",
            "_dom_classes": [],
            "description": "",
            "_model_name": "FloatProgressModel",
            "bar_style": "success",
            "max": 2288,
            "_view_module": "@jupyter-widgets/controls",
            "_model_module_version": "1.5.0",
            "value": 2288,
            "_view_count": null,
            "_view_module_version": "1.5.0",
            "orientation": "horizontal",
            "min": 0,
            "description_tooltip": null,
            "_model_module": "@jupyter-widgets/controls",
            "layout": "IPY_MODEL_4465b94e2d1d4a1cbbd74c17c682bea7"
          }
        },
        "e8e75c8d78c64229b681a0cab3e12c71": {
          "model_module": "@jupyter-widgets/controls",
          "model_name": "HTMLModel",
          "model_module_version": "1.5.0",
          "state": {
            "_view_name": "HTMLView",
            "style": "IPY_MODEL_828cfcaea264428b8c4453eb0759693c",
            "_dom_classes": [],
            "description": "",
            "_model_name": "HTMLModel",
            "placeholder": "​",
            "_view_module": "@jupyter-widgets/controls",
            "_model_module_version": "1.5.0",
            "value": " 2288/2288 [03:07&lt;00:00, 12.21it/s]",
            "_view_count": null,
            "_view_module_version": "1.5.0",
            "description_tooltip": null,
            "_model_module": "@jupyter-widgets/controls",
            "layout": "IPY_MODEL_443df3199f30427da3f52883fccc73b3"
          }
        },
        "bb993f9e76f349aeb49e3c18f3e761f1": {
          "model_module": "@jupyter-widgets/controls",
          "model_name": "DescriptionStyleModel",
          "model_module_version": "1.5.0",
          "state": {
            "_view_name": "StyleView",
            "_model_name": "DescriptionStyleModel",
            "description_width": "",
            "_view_module": "@jupyter-widgets/base",
            "_model_module_version": "1.5.0",
            "_view_count": null,
            "_view_module_version": "1.2.0",
            "_model_module": "@jupyter-widgets/controls"
          }
        },
        "bdb6846cc1134dce80125a31821124ca": {
          "model_module": "@jupyter-widgets/base",
          "model_name": "LayoutModel",
          "model_module_version": "1.2.0",
          "state": {
            "_view_name": "LayoutView",
            "grid_template_rows": null,
            "right": null,
            "justify_content": null,
            "_view_module": "@jupyter-widgets/base",
            "overflow": null,
            "_model_module_version": "1.2.0",
            "_view_count": null,
            "flex_flow": null,
            "width": null,
            "min_width": null,
            "border": null,
            "align_items": null,
            "bottom": null,
            "_model_module": "@jupyter-widgets/base",
            "top": null,
            "grid_column": null,
            "overflow_y": null,
            "overflow_x": null,
            "grid_auto_flow": null,
            "grid_area": null,
            "grid_template_columns": null,
            "flex": null,
            "_model_name": "LayoutModel",
            "justify_items": null,
            "grid_row": null,
            "max_height": null,
            "align_content": null,
            "visibility": null,
            "align_self": null,
            "height": null,
            "min_height": null,
            "padding": null,
            "grid_auto_rows": null,
            "grid_gap": null,
            "max_width": null,
            "order": null,
            "_view_module_version": "1.2.0",
            "grid_template_areas": null,
            "object_position": null,
            "object_fit": null,
            "grid_auto_columns": null,
            "margin": null,
            "display": null,
            "left": null
          }
        },
        "85f1be2bd439485f93ab11353d6223a2": {
          "model_module": "@jupyter-widgets/controls",
          "model_name": "ProgressStyleModel",
          "model_module_version": "1.5.0",
          "state": {
            "_view_name": "StyleView",
            "_model_name": "ProgressStyleModel",
            "description_width": "",
            "_view_module": "@jupyter-widgets/base",
            "_model_module_version": "1.5.0",
            "_view_count": null,
            "_view_module_version": "1.2.0",
            "bar_color": null,
            "_model_module": "@jupyter-widgets/controls"
          }
        },
        "4465b94e2d1d4a1cbbd74c17c682bea7": {
          "model_module": "@jupyter-widgets/base",
          "model_name": "LayoutModel",
          "model_module_version": "1.2.0",
          "state": {
            "_view_name": "LayoutView",
            "grid_template_rows": null,
            "right": null,
            "justify_content": null,
            "_view_module": "@jupyter-widgets/base",
            "overflow": null,
            "_model_module_version": "1.2.0",
            "_view_count": null,
            "flex_flow": null,
            "width": null,
            "min_width": null,
            "border": null,
            "align_items": null,
            "bottom": null,
            "_model_module": "@jupyter-widgets/base",
            "top": null,
            "grid_column": null,
            "overflow_y": null,
            "overflow_x": null,
            "grid_auto_flow": null,
            "grid_area": null,
            "grid_template_columns": null,
            "flex": null,
            "_model_name": "LayoutModel",
            "justify_items": null,
            "grid_row": null,
            "max_height": null,
            "align_content": null,
            "visibility": null,
            "align_self": null,
            "height": null,
            "min_height": null,
            "padding": null,
            "grid_auto_rows": null,
            "grid_gap": null,
            "max_width": null,
            "order": null,
            "_view_module_version": "1.2.0",
            "grid_template_areas": null,
            "object_position": null,
            "object_fit": null,
            "grid_auto_columns": null,
            "margin": null,
            "display": null,
            "left": null
          }
        },
        "828cfcaea264428b8c4453eb0759693c": {
          "model_module": "@jupyter-widgets/controls",
          "model_name": "DescriptionStyleModel",
          "model_module_version": "1.5.0",
          "state": {
            "_view_name": "StyleView",
            "_model_name": "DescriptionStyleModel",
            "description_width": "",
            "_view_module": "@jupyter-widgets/base",
            "_model_module_version": "1.5.0",
            "_view_count": null,
            "_view_module_version": "1.2.0",
            "_model_module": "@jupyter-widgets/controls"
          }
        },
        "443df3199f30427da3f52883fccc73b3": {
          "model_module": "@jupyter-widgets/base",
          "model_name": "LayoutModel",
          "model_module_version": "1.2.0",
          "state": {
            "_view_name": "LayoutView",
            "grid_template_rows": null,
            "right": null,
            "justify_content": null,
            "_view_module": "@jupyter-widgets/base",
            "overflow": null,
            "_model_module_version": "1.2.0",
            "_view_count": null,
            "flex_flow": null,
            "width": null,
            "min_width": null,
            "border": null,
            "align_items": null,
            "bottom": null,
            "_model_module": "@jupyter-widgets/base",
            "top": null,
            "grid_column": null,
            "overflow_y": null,
            "overflow_x": null,
            "grid_auto_flow": null,
            "grid_area": null,
            "grid_template_columns": null,
            "flex": null,
            "_model_name": "LayoutModel",
            "justify_items": null,
            "grid_row": null,
            "max_height": null,
            "align_content": null,
            "visibility": null,
            "align_self": null,
            "height": null,
            "min_height": null,
            "padding": null,
            "grid_auto_rows": null,
            "grid_gap": null,
            "max_width": null,
            "order": null,
            "_view_module_version": "1.2.0",
            "grid_template_areas": null,
            "object_position": null,
            "object_fit": null,
            "grid_auto_columns": null,
            "margin": null,
            "display": null,
            "left": null
          }
        },
        "2389b89542ef48488995c4aece06fa6b": {
          "model_module": "@jupyter-widgets/controls",
          "model_name": "HBoxModel",
          "model_module_version": "1.5.0",
          "state": {
            "_view_name": "HBoxView",
            "_dom_classes": [],
            "_model_name": "HBoxModel",
            "_view_module": "@jupyter-widgets/controls",
            "_model_module_version": "1.5.0",
            "_view_count": null,
            "_view_module_version": "1.5.0",
            "box_style": "",
            "layout": "IPY_MODEL_3f6a03062b744419ac830149fea7c33d",
            "_model_module": "@jupyter-widgets/controls",
            "children": [
              "IPY_MODEL_7cc2eed8ddff4a38a40dc71397228e21",
              "IPY_MODEL_d915bc67e3974aa4a2da05a8c10c06fb",
              "IPY_MODEL_6fa1f473bad3433492d515ebf5b13f8c"
            ]
          }
        },
        "3f6a03062b744419ac830149fea7c33d": {
          "model_module": "@jupyter-widgets/base",
          "model_name": "LayoutModel",
          "model_module_version": "1.2.0",
          "state": {
            "_view_name": "LayoutView",
            "grid_template_rows": null,
            "right": null,
            "justify_content": null,
            "_view_module": "@jupyter-widgets/base",
            "overflow": null,
            "_model_module_version": "1.2.0",
            "_view_count": null,
            "flex_flow": null,
            "width": null,
            "min_width": null,
            "border": null,
            "align_items": null,
            "bottom": null,
            "_model_module": "@jupyter-widgets/base",
            "top": null,
            "grid_column": null,
            "overflow_y": null,
            "overflow_x": null,
            "grid_auto_flow": null,
            "grid_area": null,
            "grid_template_columns": null,
            "flex": null,
            "_model_name": "LayoutModel",
            "justify_items": null,
            "grid_row": null,
            "max_height": null,
            "align_content": null,
            "visibility": null,
            "align_self": null,
            "height": null,
            "min_height": null,
            "padding": null,
            "grid_auto_rows": null,
            "grid_gap": null,
            "max_width": null,
            "order": null,
            "_view_module_version": "1.2.0",
            "grid_template_areas": null,
            "object_position": null,
            "object_fit": null,
            "grid_auto_columns": null,
            "margin": null,
            "display": null,
            "left": null
          }
        },
        "7cc2eed8ddff4a38a40dc71397228e21": {
          "model_module": "@jupyter-widgets/controls",
          "model_name": "HTMLModel",
          "model_module_version": "1.5.0",
          "state": {
            "_view_name": "HTMLView",
            "style": "IPY_MODEL_d9788118f83d4701b87a89571ef87ddd",
            "_dom_classes": [],
            "description": "",
            "_model_name": "HTMLModel",
            "placeholder": "​",
            "_view_module": "@jupyter-widgets/controls",
            "_model_module_version": "1.5.0",
            "value": "100%",
            "_view_count": null,
            "_view_module_version": "1.5.0",
            "description_tooltip": null,
            "_model_module": "@jupyter-widgets/controls",
            "layout": "IPY_MODEL_8d85b213f4f34c6faedc59637f07f1a3"
          }
        },
        "d915bc67e3974aa4a2da05a8c10c06fb": {
          "model_module": "@jupyter-widgets/controls",
          "model_name": "FloatProgressModel",
          "model_module_version": "1.5.0",
          "state": {
            "_view_name": "ProgressView",
            "style": "IPY_MODEL_0b4cc7c5e43a4680b530d94f76efcba4",
            "_dom_classes": [],
            "description": "",
            "_model_name": "FloatProgressModel",
            "bar_style": "success",
            "max": 2288,
            "_view_module": "@jupyter-widgets/controls",
            "_model_module_version": "1.5.0",
            "value": 2288,
            "_view_count": null,
            "_view_module_version": "1.5.0",
            "orientation": "horizontal",
            "min": 0,
            "description_tooltip": null,
            "_model_module": "@jupyter-widgets/controls",
            "layout": "IPY_MODEL_32dc97547ce246c38c6d21377d88236d"
          }
        },
        "6fa1f473bad3433492d515ebf5b13f8c": {
          "model_module": "@jupyter-widgets/controls",
          "model_name": "HTMLModel",
          "model_module_version": "1.5.0",
          "state": {
            "_view_name": "HTMLView",
            "style": "IPY_MODEL_108e604affdf4180ad9cc54a4ea69226",
            "_dom_classes": [],
            "description": "",
            "_model_name": "HTMLModel",
            "placeholder": "​",
            "_view_module": "@jupyter-widgets/controls",
            "_model_module_version": "1.5.0",
            "value": " 2288/2288 [03:07&lt;00:00, 12.24it/s]",
            "_view_count": null,
            "_view_module_version": "1.5.0",
            "description_tooltip": null,
            "_model_module": "@jupyter-widgets/controls",
            "layout": "IPY_MODEL_c551fbe0cb0c408493ce4b3d93f365c8"
          }
        },
        "d9788118f83d4701b87a89571ef87ddd": {
          "model_module": "@jupyter-widgets/controls",
          "model_name": "DescriptionStyleModel",
          "model_module_version": "1.5.0",
          "state": {
            "_view_name": "StyleView",
            "_model_name": "DescriptionStyleModel",
            "description_width": "",
            "_view_module": "@jupyter-widgets/base",
            "_model_module_version": "1.5.0",
            "_view_count": null,
            "_view_module_version": "1.2.0",
            "_model_module": "@jupyter-widgets/controls"
          }
        },
        "8d85b213f4f34c6faedc59637f07f1a3": {
          "model_module": "@jupyter-widgets/base",
          "model_name": "LayoutModel",
          "model_module_version": "1.2.0",
          "state": {
            "_view_name": "LayoutView",
            "grid_template_rows": null,
            "right": null,
            "justify_content": null,
            "_view_module": "@jupyter-widgets/base",
            "overflow": null,
            "_model_module_version": "1.2.0",
            "_view_count": null,
            "flex_flow": null,
            "width": null,
            "min_width": null,
            "border": null,
            "align_items": null,
            "bottom": null,
            "_model_module": "@jupyter-widgets/base",
            "top": null,
            "grid_column": null,
            "overflow_y": null,
            "overflow_x": null,
            "grid_auto_flow": null,
            "grid_area": null,
            "grid_template_columns": null,
            "flex": null,
            "_model_name": "LayoutModel",
            "justify_items": null,
            "grid_row": null,
            "max_height": null,
            "align_content": null,
            "visibility": null,
            "align_self": null,
            "height": null,
            "min_height": null,
            "padding": null,
            "grid_auto_rows": null,
            "grid_gap": null,
            "max_width": null,
            "order": null,
            "_view_module_version": "1.2.0",
            "grid_template_areas": null,
            "object_position": null,
            "object_fit": null,
            "grid_auto_columns": null,
            "margin": null,
            "display": null,
            "left": null
          }
        },
        "0b4cc7c5e43a4680b530d94f76efcba4": {
          "model_module": "@jupyter-widgets/controls",
          "model_name": "ProgressStyleModel",
          "model_module_version": "1.5.0",
          "state": {
            "_view_name": "StyleView",
            "_model_name": "ProgressStyleModel",
            "description_width": "",
            "_view_module": "@jupyter-widgets/base",
            "_model_module_version": "1.5.0",
            "_view_count": null,
            "_view_module_version": "1.2.0",
            "bar_color": null,
            "_model_module": "@jupyter-widgets/controls"
          }
        },
        "32dc97547ce246c38c6d21377d88236d": {
          "model_module": "@jupyter-widgets/base",
          "model_name": "LayoutModel",
          "model_module_version": "1.2.0",
          "state": {
            "_view_name": "LayoutView",
            "grid_template_rows": null,
            "right": null,
            "justify_content": null,
            "_view_module": "@jupyter-widgets/base",
            "overflow": null,
            "_model_module_version": "1.2.0",
            "_view_count": null,
            "flex_flow": null,
            "width": null,
            "min_width": null,
            "border": null,
            "align_items": null,
            "bottom": null,
            "_model_module": "@jupyter-widgets/base",
            "top": null,
            "grid_column": null,
            "overflow_y": null,
            "overflow_x": null,
            "grid_auto_flow": null,
            "grid_area": null,
            "grid_template_columns": null,
            "flex": null,
            "_model_name": "LayoutModel",
            "justify_items": null,
            "grid_row": null,
            "max_height": null,
            "align_content": null,
            "visibility": null,
            "align_self": null,
            "height": null,
            "min_height": null,
            "padding": null,
            "grid_auto_rows": null,
            "grid_gap": null,
            "max_width": null,
            "order": null,
            "_view_module_version": "1.2.0",
            "grid_template_areas": null,
            "object_position": null,
            "object_fit": null,
            "grid_auto_columns": null,
            "margin": null,
            "display": null,
            "left": null
          }
        },
        "108e604affdf4180ad9cc54a4ea69226": {
          "model_module": "@jupyter-widgets/controls",
          "model_name": "DescriptionStyleModel",
          "model_module_version": "1.5.0",
          "state": {
            "_view_name": "StyleView",
            "_model_name": "DescriptionStyleModel",
            "description_width": "",
            "_view_module": "@jupyter-widgets/base",
            "_model_module_version": "1.5.0",
            "_view_count": null,
            "_view_module_version": "1.2.0",
            "_model_module": "@jupyter-widgets/controls"
          }
        },
        "c551fbe0cb0c408493ce4b3d93f365c8": {
          "model_module": "@jupyter-widgets/base",
          "model_name": "LayoutModel",
          "model_module_version": "1.2.0",
          "state": {
            "_view_name": "LayoutView",
            "grid_template_rows": null,
            "right": null,
            "justify_content": null,
            "_view_module": "@jupyter-widgets/base",
            "overflow": null,
            "_model_module_version": "1.2.0",
            "_view_count": null,
            "flex_flow": null,
            "width": null,
            "min_width": null,
            "border": null,
            "align_items": null,
            "bottom": null,
            "_model_module": "@jupyter-widgets/base",
            "top": null,
            "grid_column": null,
            "overflow_y": null,
            "overflow_x": null,
            "grid_auto_flow": null,
            "grid_area": null,
            "grid_template_columns": null,
            "flex": null,
            "_model_name": "LayoutModel",
            "justify_items": null,
            "grid_row": null,
            "max_height": null,
            "align_content": null,
            "visibility": null,
            "align_self": null,
            "height": null,
            "min_height": null,
            "padding": null,
            "grid_auto_rows": null,
            "grid_gap": null,
            "max_width": null,
            "order": null,
            "_view_module_version": "1.2.0",
            "grid_template_areas": null,
            "object_position": null,
            "object_fit": null,
            "grid_auto_columns": null,
            "margin": null,
            "display": null,
            "left": null
          }
        },
        "403cde52cf914e93a6b65a8a83306262": {
          "model_module": "@jupyter-widgets/controls",
          "model_name": "HBoxModel",
          "model_module_version": "1.5.0",
          "state": {
            "_view_name": "HBoxView",
            "_dom_classes": [],
            "_model_name": "HBoxModel",
            "_view_module": "@jupyter-widgets/controls",
            "_model_module_version": "1.5.0",
            "_view_count": null,
            "_view_module_version": "1.5.0",
            "box_style": "",
            "layout": "IPY_MODEL_fd8bff81bfad4a03b1f8c351c57a82b9",
            "_model_module": "@jupyter-widgets/controls",
            "children": [
              "IPY_MODEL_66d41bb00d6c4dfb80d6bfa4a711617e",
              "IPY_MODEL_17779efc5a4640f8ae216a2328ec1711",
              "IPY_MODEL_a66be5b2ef1c441884b5fc09d0d3a5f6"
            ]
          }
        },
        "fd8bff81bfad4a03b1f8c351c57a82b9": {
          "model_module": "@jupyter-widgets/base",
          "model_name": "LayoutModel",
          "model_module_version": "1.2.0",
          "state": {
            "_view_name": "LayoutView",
            "grid_template_rows": null,
            "right": null,
            "justify_content": null,
            "_view_module": "@jupyter-widgets/base",
            "overflow": null,
            "_model_module_version": "1.2.0",
            "_view_count": null,
            "flex_flow": null,
            "width": null,
            "min_width": null,
            "border": null,
            "align_items": null,
            "bottom": null,
            "_model_module": "@jupyter-widgets/base",
            "top": null,
            "grid_column": null,
            "overflow_y": null,
            "overflow_x": null,
            "grid_auto_flow": null,
            "grid_area": null,
            "grid_template_columns": null,
            "flex": null,
            "_model_name": "LayoutModel",
            "justify_items": null,
            "grid_row": null,
            "max_height": null,
            "align_content": null,
            "visibility": null,
            "align_self": null,
            "height": null,
            "min_height": null,
            "padding": null,
            "grid_auto_rows": null,
            "grid_gap": null,
            "max_width": null,
            "order": null,
            "_view_module_version": "1.2.0",
            "grid_template_areas": null,
            "object_position": null,
            "object_fit": null,
            "grid_auto_columns": null,
            "margin": null,
            "display": null,
            "left": null
          }
        },
        "66d41bb00d6c4dfb80d6bfa4a711617e": {
          "model_module": "@jupyter-widgets/controls",
          "model_name": "HTMLModel",
          "model_module_version": "1.5.0",
          "state": {
            "_view_name": "HTMLView",
            "style": "IPY_MODEL_0cea8e9146694009a278e1d130d03b65",
            "_dom_classes": [],
            "description": "",
            "_model_name": "HTMLModel",
            "placeholder": "​",
            "_view_module": "@jupyter-widgets/controls",
            "_model_module_version": "1.5.0",
            "value": "100%",
            "_view_count": null,
            "_view_module_version": "1.5.0",
            "description_tooltip": null,
            "_model_module": "@jupyter-widgets/controls",
            "layout": "IPY_MODEL_92801e0e6b4944c4b6028c62d9ac59a2"
          }
        },
        "17779efc5a4640f8ae216a2328ec1711": {
          "model_module": "@jupyter-widgets/controls",
          "model_name": "FloatProgressModel",
          "model_module_version": "1.5.0",
          "state": {
            "_view_name": "ProgressView",
            "style": "IPY_MODEL_3af212d6faf645cb82a2d3bcfdf37b64",
            "_dom_classes": [],
            "description": "",
            "_model_name": "FloatProgressModel",
            "bar_style": "success",
            "max": 2288,
            "_view_module": "@jupyter-widgets/controls",
            "_model_module_version": "1.5.0",
            "value": 2288,
            "_view_count": null,
            "_view_module_version": "1.5.0",
            "orientation": "horizontal",
            "min": 0,
            "description_tooltip": null,
            "_model_module": "@jupyter-widgets/controls",
            "layout": "IPY_MODEL_04cb1151dbef4524bf9fb76c91cdc965"
          }
        },
        "a66be5b2ef1c441884b5fc09d0d3a5f6": {
          "model_module": "@jupyter-widgets/controls",
          "model_name": "HTMLModel",
          "model_module_version": "1.5.0",
          "state": {
            "_view_name": "HTMLView",
            "style": "IPY_MODEL_5bc1cacbadbf491495d846f1336b40ae",
            "_dom_classes": [],
            "description": "",
            "_model_name": "HTMLModel",
            "placeholder": "​",
            "_view_module": "@jupyter-widgets/controls",
            "_model_module_version": "1.5.0",
            "value": " 2288/2288 [03:07&lt;00:00, 12.24it/s]",
            "_view_count": null,
            "_view_module_version": "1.5.0",
            "description_tooltip": null,
            "_model_module": "@jupyter-widgets/controls",
            "layout": "IPY_MODEL_a5255e5cee164957b7a39de8271c526a"
          }
        },
        "0cea8e9146694009a278e1d130d03b65": {
          "model_module": "@jupyter-widgets/controls",
          "model_name": "DescriptionStyleModel",
          "model_module_version": "1.5.0",
          "state": {
            "_view_name": "StyleView",
            "_model_name": "DescriptionStyleModel",
            "description_width": "",
            "_view_module": "@jupyter-widgets/base",
            "_model_module_version": "1.5.0",
            "_view_count": null,
            "_view_module_version": "1.2.0",
            "_model_module": "@jupyter-widgets/controls"
          }
        },
        "92801e0e6b4944c4b6028c62d9ac59a2": {
          "model_module": "@jupyter-widgets/base",
          "model_name": "LayoutModel",
          "model_module_version": "1.2.0",
          "state": {
            "_view_name": "LayoutView",
            "grid_template_rows": null,
            "right": null,
            "justify_content": null,
            "_view_module": "@jupyter-widgets/base",
            "overflow": null,
            "_model_module_version": "1.2.0",
            "_view_count": null,
            "flex_flow": null,
            "width": null,
            "min_width": null,
            "border": null,
            "align_items": null,
            "bottom": null,
            "_model_module": "@jupyter-widgets/base",
            "top": null,
            "grid_column": null,
            "overflow_y": null,
            "overflow_x": null,
            "grid_auto_flow": null,
            "grid_area": null,
            "grid_template_columns": null,
            "flex": null,
            "_model_name": "LayoutModel",
            "justify_items": null,
            "grid_row": null,
            "max_height": null,
            "align_content": null,
            "visibility": null,
            "align_self": null,
            "height": null,
            "min_height": null,
            "padding": null,
            "grid_auto_rows": null,
            "grid_gap": null,
            "max_width": null,
            "order": null,
            "_view_module_version": "1.2.0",
            "grid_template_areas": null,
            "object_position": null,
            "object_fit": null,
            "grid_auto_columns": null,
            "margin": null,
            "display": null,
            "left": null
          }
        },
        "3af212d6faf645cb82a2d3bcfdf37b64": {
          "model_module": "@jupyter-widgets/controls",
          "model_name": "ProgressStyleModel",
          "model_module_version": "1.5.0",
          "state": {
            "_view_name": "StyleView",
            "_model_name": "ProgressStyleModel",
            "description_width": "",
            "_view_module": "@jupyter-widgets/base",
            "_model_module_version": "1.5.0",
            "_view_count": null,
            "_view_module_version": "1.2.0",
            "bar_color": null,
            "_model_module": "@jupyter-widgets/controls"
          }
        },
        "04cb1151dbef4524bf9fb76c91cdc965": {
          "model_module": "@jupyter-widgets/base",
          "model_name": "LayoutModel",
          "model_module_version": "1.2.0",
          "state": {
            "_view_name": "LayoutView",
            "grid_template_rows": null,
            "right": null,
            "justify_content": null,
            "_view_module": "@jupyter-widgets/base",
            "overflow": null,
            "_model_module_version": "1.2.0",
            "_view_count": null,
            "flex_flow": null,
            "width": null,
            "min_width": null,
            "border": null,
            "align_items": null,
            "bottom": null,
            "_model_module": "@jupyter-widgets/base",
            "top": null,
            "grid_column": null,
            "overflow_y": null,
            "overflow_x": null,
            "grid_auto_flow": null,
            "grid_area": null,
            "grid_template_columns": null,
            "flex": null,
            "_model_name": "LayoutModel",
            "justify_items": null,
            "grid_row": null,
            "max_height": null,
            "align_content": null,
            "visibility": null,
            "align_self": null,
            "height": null,
            "min_height": null,
            "padding": null,
            "grid_auto_rows": null,
            "grid_gap": null,
            "max_width": null,
            "order": null,
            "_view_module_version": "1.2.0",
            "grid_template_areas": null,
            "object_position": null,
            "object_fit": null,
            "grid_auto_columns": null,
            "margin": null,
            "display": null,
            "left": null
          }
        },
        "5bc1cacbadbf491495d846f1336b40ae": {
          "model_module": "@jupyter-widgets/controls",
          "model_name": "DescriptionStyleModel",
          "model_module_version": "1.5.0",
          "state": {
            "_view_name": "StyleView",
            "_model_name": "DescriptionStyleModel",
            "description_width": "",
            "_view_module": "@jupyter-widgets/base",
            "_model_module_version": "1.5.0",
            "_view_count": null,
            "_view_module_version": "1.2.0",
            "_model_module": "@jupyter-widgets/controls"
          }
        },
        "a5255e5cee164957b7a39de8271c526a": {
          "model_module": "@jupyter-widgets/base",
          "model_name": "LayoutModel",
          "model_module_version": "1.2.0",
          "state": {
            "_view_name": "LayoutView",
            "grid_template_rows": null,
            "right": null,
            "justify_content": null,
            "_view_module": "@jupyter-widgets/base",
            "overflow": null,
            "_model_module_version": "1.2.0",
            "_view_count": null,
            "flex_flow": null,
            "width": null,
            "min_width": null,
            "border": null,
            "align_items": null,
            "bottom": null,
            "_model_module": "@jupyter-widgets/base",
            "top": null,
            "grid_column": null,
            "overflow_y": null,
            "overflow_x": null,
            "grid_auto_flow": null,
            "grid_area": null,
            "grid_template_columns": null,
            "flex": null,
            "_model_name": "LayoutModel",
            "justify_items": null,
            "grid_row": null,
            "max_height": null,
            "align_content": null,
            "visibility": null,
            "align_self": null,
            "height": null,
            "min_height": null,
            "padding": null,
            "grid_auto_rows": null,
            "grid_gap": null,
            "max_width": null,
            "order": null,
            "_view_module_version": "1.2.0",
            "grid_template_areas": null,
            "object_position": null,
            "object_fit": null,
            "grid_auto_columns": null,
            "margin": null,
            "display": null,
            "left": null
          }
        },
        "2f476a5f9717498797de192767b63e86": {
          "model_module": "@jupyter-widgets/controls",
          "model_name": "HBoxModel",
          "model_module_version": "1.5.0",
          "state": {
            "_view_name": "HBoxView",
            "_dom_classes": [],
            "_model_name": "HBoxModel",
            "_view_module": "@jupyter-widgets/controls",
            "_model_module_version": "1.5.0",
            "_view_count": null,
            "_view_module_version": "1.5.0",
            "box_style": "",
            "layout": "IPY_MODEL_6ab8fd011fb541118e376b2c990e1084",
            "_model_module": "@jupyter-widgets/controls",
            "children": [
              "IPY_MODEL_4cb6ad7b1a52497d8d4123a27ebf67f5",
              "IPY_MODEL_bd9884aed9e648628dae972e2c57507d",
              "IPY_MODEL_6aa2746fdd7d4e39ab929f8d55f12f49"
            ]
          }
        },
        "6ab8fd011fb541118e376b2c990e1084": {
          "model_module": "@jupyter-widgets/base",
          "model_name": "LayoutModel",
          "model_module_version": "1.2.0",
          "state": {
            "_view_name": "LayoutView",
            "grid_template_rows": null,
            "right": null,
            "justify_content": null,
            "_view_module": "@jupyter-widgets/base",
            "overflow": null,
            "_model_module_version": "1.2.0",
            "_view_count": null,
            "flex_flow": null,
            "width": null,
            "min_width": null,
            "border": null,
            "align_items": null,
            "bottom": null,
            "_model_module": "@jupyter-widgets/base",
            "top": null,
            "grid_column": null,
            "overflow_y": null,
            "overflow_x": null,
            "grid_auto_flow": null,
            "grid_area": null,
            "grid_template_columns": null,
            "flex": null,
            "_model_name": "LayoutModel",
            "justify_items": null,
            "grid_row": null,
            "max_height": null,
            "align_content": null,
            "visibility": null,
            "align_self": null,
            "height": null,
            "min_height": null,
            "padding": null,
            "grid_auto_rows": null,
            "grid_gap": null,
            "max_width": null,
            "order": null,
            "_view_module_version": "1.2.0",
            "grid_template_areas": null,
            "object_position": null,
            "object_fit": null,
            "grid_auto_columns": null,
            "margin": null,
            "display": null,
            "left": null
          }
        },
        "4cb6ad7b1a52497d8d4123a27ebf67f5": {
          "model_module": "@jupyter-widgets/controls",
          "model_name": "HTMLModel",
          "model_module_version": "1.5.0",
          "state": {
            "_view_name": "HTMLView",
            "style": "IPY_MODEL_4632e2c3761e45c68ad5f3b7400f9c90",
            "_dom_classes": [],
            "description": "",
            "_model_name": "HTMLModel",
            "placeholder": "​",
            "_view_module": "@jupyter-widgets/controls",
            "_model_module_version": "1.5.0",
            "value": "100%",
            "_view_count": null,
            "_view_module_version": "1.5.0",
            "description_tooltip": null,
            "_model_module": "@jupyter-widgets/controls",
            "layout": "IPY_MODEL_6087db5e8c3d4b16a0839cf32ac102d8"
          }
        },
        "bd9884aed9e648628dae972e2c57507d": {
          "model_module": "@jupyter-widgets/controls",
          "model_name": "FloatProgressModel",
          "model_module_version": "1.5.0",
          "state": {
            "_view_name": "ProgressView",
            "style": "IPY_MODEL_781d79887d5446e9aa662d22aa4d35c3",
            "_dom_classes": [],
            "description": "",
            "_model_name": "FloatProgressModel",
            "bar_style": "success",
            "max": 2288,
            "_view_module": "@jupyter-widgets/controls",
            "_model_module_version": "1.5.0",
            "value": 2288,
            "_view_count": null,
            "_view_module_version": "1.5.0",
            "orientation": "horizontal",
            "min": 0,
            "description_tooltip": null,
            "_model_module": "@jupyter-widgets/controls",
            "layout": "IPY_MODEL_6adb003f0d204eb2b108f3a82a9b219f"
          }
        },
        "6aa2746fdd7d4e39ab929f8d55f12f49": {
          "model_module": "@jupyter-widgets/controls",
          "model_name": "HTMLModel",
          "model_module_version": "1.5.0",
          "state": {
            "_view_name": "HTMLView",
            "style": "IPY_MODEL_8a3265c1995e4cb09d9c602f2bc4543f",
            "_dom_classes": [],
            "description": "",
            "_model_name": "HTMLModel",
            "placeholder": "​",
            "_view_module": "@jupyter-widgets/controls",
            "_model_module_version": "1.5.0",
            "value": " 2288/2288 [03:07&lt;00:00, 12.21it/s]",
            "_view_count": null,
            "_view_module_version": "1.5.0",
            "description_tooltip": null,
            "_model_module": "@jupyter-widgets/controls",
            "layout": "IPY_MODEL_23dbe3f0af91491388f9a14107df6aa7"
          }
        },
        "4632e2c3761e45c68ad5f3b7400f9c90": {
          "model_module": "@jupyter-widgets/controls",
          "model_name": "DescriptionStyleModel",
          "model_module_version": "1.5.0",
          "state": {
            "_view_name": "StyleView",
            "_model_name": "DescriptionStyleModel",
            "description_width": "",
            "_view_module": "@jupyter-widgets/base",
            "_model_module_version": "1.5.0",
            "_view_count": null,
            "_view_module_version": "1.2.0",
            "_model_module": "@jupyter-widgets/controls"
          }
        },
        "6087db5e8c3d4b16a0839cf32ac102d8": {
          "model_module": "@jupyter-widgets/base",
          "model_name": "LayoutModel",
          "model_module_version": "1.2.0",
          "state": {
            "_view_name": "LayoutView",
            "grid_template_rows": null,
            "right": null,
            "justify_content": null,
            "_view_module": "@jupyter-widgets/base",
            "overflow": null,
            "_model_module_version": "1.2.0",
            "_view_count": null,
            "flex_flow": null,
            "width": null,
            "min_width": null,
            "border": null,
            "align_items": null,
            "bottom": null,
            "_model_module": "@jupyter-widgets/base",
            "top": null,
            "grid_column": null,
            "overflow_y": null,
            "overflow_x": null,
            "grid_auto_flow": null,
            "grid_area": null,
            "grid_template_columns": null,
            "flex": null,
            "_model_name": "LayoutModel",
            "justify_items": null,
            "grid_row": null,
            "max_height": null,
            "align_content": null,
            "visibility": null,
            "align_self": null,
            "height": null,
            "min_height": null,
            "padding": null,
            "grid_auto_rows": null,
            "grid_gap": null,
            "max_width": null,
            "order": null,
            "_view_module_version": "1.2.0",
            "grid_template_areas": null,
            "object_position": null,
            "object_fit": null,
            "grid_auto_columns": null,
            "margin": null,
            "display": null,
            "left": null
          }
        },
        "781d79887d5446e9aa662d22aa4d35c3": {
          "model_module": "@jupyter-widgets/controls",
          "model_name": "ProgressStyleModel",
          "model_module_version": "1.5.0",
          "state": {
            "_view_name": "StyleView",
            "_model_name": "ProgressStyleModel",
            "description_width": "",
            "_view_module": "@jupyter-widgets/base",
            "_model_module_version": "1.5.0",
            "_view_count": null,
            "_view_module_version": "1.2.0",
            "bar_color": null,
            "_model_module": "@jupyter-widgets/controls"
          }
        },
        "6adb003f0d204eb2b108f3a82a9b219f": {
          "model_module": "@jupyter-widgets/base",
          "model_name": "LayoutModel",
          "model_module_version": "1.2.0",
          "state": {
            "_view_name": "LayoutView",
            "grid_template_rows": null,
            "right": null,
            "justify_content": null,
            "_view_module": "@jupyter-widgets/base",
            "overflow": null,
            "_model_module_version": "1.2.0",
            "_view_count": null,
            "flex_flow": null,
            "width": null,
            "min_width": null,
            "border": null,
            "align_items": null,
            "bottom": null,
            "_model_module": "@jupyter-widgets/base",
            "top": null,
            "grid_column": null,
            "overflow_y": null,
            "overflow_x": null,
            "grid_auto_flow": null,
            "grid_area": null,
            "grid_template_columns": null,
            "flex": null,
            "_model_name": "LayoutModel",
            "justify_items": null,
            "grid_row": null,
            "max_height": null,
            "align_content": null,
            "visibility": null,
            "align_self": null,
            "height": null,
            "min_height": null,
            "padding": null,
            "grid_auto_rows": null,
            "grid_gap": null,
            "max_width": null,
            "order": null,
            "_view_module_version": "1.2.0",
            "grid_template_areas": null,
            "object_position": null,
            "object_fit": null,
            "grid_auto_columns": null,
            "margin": null,
            "display": null,
            "left": null
          }
        },
        "8a3265c1995e4cb09d9c602f2bc4543f": {
          "model_module": "@jupyter-widgets/controls",
          "model_name": "DescriptionStyleModel",
          "model_module_version": "1.5.0",
          "state": {
            "_view_name": "StyleView",
            "_model_name": "DescriptionStyleModel",
            "description_width": "",
            "_view_module": "@jupyter-widgets/base",
            "_model_module_version": "1.5.0",
            "_view_count": null,
            "_view_module_version": "1.2.0",
            "_model_module": "@jupyter-widgets/controls"
          }
        },
        "23dbe3f0af91491388f9a14107df6aa7": {
          "model_module": "@jupyter-widgets/base",
          "model_name": "LayoutModel",
          "model_module_version": "1.2.0",
          "state": {
            "_view_name": "LayoutView",
            "grid_template_rows": null,
            "right": null,
            "justify_content": null,
            "_view_module": "@jupyter-widgets/base",
            "overflow": null,
            "_model_module_version": "1.2.0",
            "_view_count": null,
            "flex_flow": null,
            "width": null,
            "min_width": null,
            "border": null,
            "align_items": null,
            "bottom": null,
            "_model_module": "@jupyter-widgets/base",
            "top": null,
            "grid_column": null,
            "overflow_y": null,
            "overflow_x": null,
            "grid_auto_flow": null,
            "grid_area": null,
            "grid_template_columns": null,
            "flex": null,
            "_model_name": "LayoutModel",
            "justify_items": null,
            "grid_row": null,
            "max_height": null,
            "align_content": null,
            "visibility": null,
            "align_self": null,
            "height": null,
            "min_height": null,
            "padding": null,
            "grid_auto_rows": null,
            "grid_gap": null,
            "max_width": null,
            "order": null,
            "_view_module_version": "1.2.0",
            "grid_template_areas": null,
            "object_position": null,
            "object_fit": null,
            "grid_auto_columns": null,
            "margin": null,
            "display": null,
            "left": null
          }
        },
        "850fe590a936470a8da726d6f7fb5576": {
          "model_module": "@jupyter-widgets/controls",
          "model_name": "HBoxModel",
          "model_module_version": "1.5.0",
          "state": {
            "_view_name": "HBoxView",
            "_dom_classes": [],
            "_model_name": "HBoxModel",
            "_view_module": "@jupyter-widgets/controls",
            "_model_module_version": "1.5.0",
            "_view_count": null,
            "_view_module_version": "1.5.0",
            "box_style": "",
            "layout": "IPY_MODEL_7cce12cb8968465497459cce9ab5eb49",
            "_model_module": "@jupyter-widgets/controls",
            "children": [
              "IPY_MODEL_39b609900a2041a998e6183d6d1a862a",
              "IPY_MODEL_f1ede9faef69450dabb887fe0ee7766d",
              "IPY_MODEL_04990564a13a4cc3afafec54e677f1e8"
            ]
          }
        },
        "7cce12cb8968465497459cce9ab5eb49": {
          "model_module": "@jupyter-widgets/base",
          "model_name": "LayoutModel",
          "model_module_version": "1.2.0",
          "state": {
            "_view_name": "LayoutView",
            "grid_template_rows": null,
            "right": null,
            "justify_content": null,
            "_view_module": "@jupyter-widgets/base",
            "overflow": null,
            "_model_module_version": "1.2.0",
            "_view_count": null,
            "flex_flow": null,
            "width": null,
            "min_width": null,
            "border": null,
            "align_items": null,
            "bottom": null,
            "_model_module": "@jupyter-widgets/base",
            "top": null,
            "grid_column": null,
            "overflow_y": null,
            "overflow_x": null,
            "grid_auto_flow": null,
            "grid_area": null,
            "grid_template_columns": null,
            "flex": null,
            "_model_name": "LayoutModel",
            "justify_items": null,
            "grid_row": null,
            "max_height": null,
            "align_content": null,
            "visibility": null,
            "align_self": null,
            "height": null,
            "min_height": null,
            "padding": null,
            "grid_auto_rows": null,
            "grid_gap": null,
            "max_width": null,
            "order": null,
            "_view_module_version": "1.2.0",
            "grid_template_areas": null,
            "object_position": null,
            "object_fit": null,
            "grid_auto_columns": null,
            "margin": null,
            "display": null,
            "left": null
          }
        },
        "39b609900a2041a998e6183d6d1a862a": {
          "model_module": "@jupyter-widgets/controls",
          "model_name": "HTMLModel",
          "model_module_version": "1.5.0",
          "state": {
            "_view_name": "HTMLView",
            "style": "IPY_MODEL_435b6520d46b4804b7e86893d6a1c6e9",
            "_dom_classes": [],
            "description": "",
            "_model_name": "HTMLModel",
            "placeholder": "​",
            "_view_module": "@jupyter-widgets/controls",
            "_model_module_version": "1.5.0",
            "value": "100%",
            "_view_count": null,
            "_view_module_version": "1.5.0",
            "description_tooltip": null,
            "_model_module": "@jupyter-widgets/controls",
            "layout": "IPY_MODEL_903601da2c83483c8ca576442a272d62"
          }
        },
        "f1ede9faef69450dabb887fe0ee7766d": {
          "model_module": "@jupyter-widgets/controls",
          "model_name": "FloatProgressModel",
          "model_module_version": "1.5.0",
          "state": {
            "_view_name": "ProgressView",
            "style": "IPY_MODEL_194b0e1a7c8c4dda81ae6e7e2143bb1b",
            "_dom_classes": [],
            "description": "",
            "_model_name": "FloatProgressModel",
            "bar_style": "success",
            "max": 235,
            "_view_module": "@jupyter-widgets/controls",
            "_model_module_version": "1.5.0",
            "value": 235,
            "_view_count": null,
            "_view_module_version": "1.5.0",
            "orientation": "horizontal",
            "min": 0,
            "description_tooltip": null,
            "_model_module": "@jupyter-widgets/controls",
            "layout": "IPY_MODEL_b68e993c808b490aa630e89e786608f4"
          }
        },
        "04990564a13a4cc3afafec54e677f1e8": {
          "model_module": "@jupyter-widgets/controls",
          "model_name": "HTMLModel",
          "model_module_version": "1.5.0",
          "state": {
            "_view_name": "HTMLView",
            "style": "IPY_MODEL_b5c4d19cfa7849f5b488fa806fa68c59",
            "_dom_classes": [],
            "description": "",
            "_model_name": "HTMLModel",
            "placeholder": "​",
            "_view_module": "@jupyter-widgets/controls",
            "_model_module_version": "1.5.0",
            "value": " 235/235 [00:06&lt;00:00, 36.23it/s]",
            "_view_count": null,
            "_view_module_version": "1.5.0",
            "description_tooltip": null,
            "_model_module": "@jupyter-widgets/controls",
            "layout": "IPY_MODEL_ab095a1d40e24740847f3fd38e011d67"
          }
        },
        "435b6520d46b4804b7e86893d6a1c6e9": {
          "model_module": "@jupyter-widgets/controls",
          "model_name": "DescriptionStyleModel",
          "model_module_version": "1.5.0",
          "state": {
            "_view_name": "StyleView",
            "_model_name": "DescriptionStyleModel",
            "description_width": "",
            "_view_module": "@jupyter-widgets/base",
            "_model_module_version": "1.5.0",
            "_view_count": null,
            "_view_module_version": "1.2.0",
            "_model_module": "@jupyter-widgets/controls"
          }
        },
        "903601da2c83483c8ca576442a272d62": {
          "model_module": "@jupyter-widgets/base",
          "model_name": "LayoutModel",
          "model_module_version": "1.2.0",
          "state": {
            "_view_name": "LayoutView",
            "grid_template_rows": null,
            "right": null,
            "justify_content": null,
            "_view_module": "@jupyter-widgets/base",
            "overflow": null,
            "_model_module_version": "1.2.0",
            "_view_count": null,
            "flex_flow": null,
            "width": null,
            "min_width": null,
            "border": null,
            "align_items": null,
            "bottom": null,
            "_model_module": "@jupyter-widgets/base",
            "top": null,
            "grid_column": null,
            "overflow_y": null,
            "overflow_x": null,
            "grid_auto_flow": null,
            "grid_area": null,
            "grid_template_columns": null,
            "flex": null,
            "_model_name": "LayoutModel",
            "justify_items": null,
            "grid_row": null,
            "max_height": null,
            "align_content": null,
            "visibility": null,
            "align_self": null,
            "height": null,
            "min_height": null,
            "padding": null,
            "grid_auto_rows": null,
            "grid_gap": null,
            "max_width": null,
            "order": null,
            "_view_module_version": "1.2.0",
            "grid_template_areas": null,
            "object_position": null,
            "object_fit": null,
            "grid_auto_columns": null,
            "margin": null,
            "display": null,
            "left": null
          }
        },
        "194b0e1a7c8c4dda81ae6e7e2143bb1b": {
          "model_module": "@jupyter-widgets/controls",
          "model_name": "ProgressStyleModel",
          "model_module_version": "1.5.0",
          "state": {
            "_view_name": "StyleView",
            "_model_name": "ProgressStyleModel",
            "description_width": "",
            "_view_module": "@jupyter-widgets/base",
            "_model_module_version": "1.5.0",
            "_view_count": null,
            "_view_module_version": "1.2.0",
            "bar_color": null,
            "_model_module": "@jupyter-widgets/controls"
          }
        },
        "b68e993c808b490aa630e89e786608f4": {
          "model_module": "@jupyter-widgets/base",
          "model_name": "LayoutModel",
          "model_module_version": "1.2.0",
          "state": {
            "_view_name": "LayoutView",
            "grid_template_rows": null,
            "right": null,
            "justify_content": null,
            "_view_module": "@jupyter-widgets/base",
            "overflow": null,
            "_model_module_version": "1.2.0",
            "_view_count": null,
            "flex_flow": null,
            "width": null,
            "min_width": null,
            "border": null,
            "align_items": null,
            "bottom": null,
            "_model_module": "@jupyter-widgets/base",
            "top": null,
            "grid_column": null,
            "overflow_y": null,
            "overflow_x": null,
            "grid_auto_flow": null,
            "grid_area": null,
            "grid_template_columns": null,
            "flex": null,
            "_model_name": "LayoutModel",
            "justify_items": null,
            "grid_row": null,
            "max_height": null,
            "align_content": null,
            "visibility": null,
            "align_self": null,
            "height": null,
            "min_height": null,
            "padding": null,
            "grid_auto_rows": null,
            "grid_gap": null,
            "max_width": null,
            "order": null,
            "_view_module_version": "1.2.0",
            "grid_template_areas": null,
            "object_position": null,
            "object_fit": null,
            "grid_auto_columns": null,
            "margin": null,
            "display": null,
            "left": null
          }
        },
        "b5c4d19cfa7849f5b488fa806fa68c59": {
          "model_module": "@jupyter-widgets/controls",
          "model_name": "DescriptionStyleModel",
          "model_module_version": "1.5.0",
          "state": {
            "_view_name": "StyleView",
            "_model_name": "DescriptionStyleModel",
            "description_width": "",
            "_view_module": "@jupyter-widgets/base",
            "_model_module_version": "1.5.0",
            "_view_count": null,
            "_view_module_version": "1.2.0",
            "_model_module": "@jupyter-widgets/controls"
          }
        },
        "ab095a1d40e24740847f3fd38e011d67": {
          "model_module": "@jupyter-widgets/base",
          "model_name": "LayoutModel",
          "model_module_version": "1.2.0",
          "state": {
            "_view_name": "LayoutView",
            "grid_template_rows": null,
            "right": null,
            "justify_content": null,
            "_view_module": "@jupyter-widgets/base",
            "overflow": null,
            "_model_module_version": "1.2.0",
            "_view_count": null,
            "flex_flow": null,
            "width": null,
            "min_width": null,
            "border": null,
            "align_items": null,
            "bottom": null,
            "_model_module": "@jupyter-widgets/base",
            "top": null,
            "grid_column": null,
            "overflow_y": null,
            "overflow_x": null,
            "grid_auto_flow": null,
            "grid_area": null,
            "grid_template_columns": null,
            "flex": null,
            "_model_name": "LayoutModel",
            "justify_items": null,
            "grid_row": null,
            "max_height": null,
            "align_content": null,
            "visibility": null,
            "align_self": null,
            "height": null,
            "min_height": null,
            "padding": null,
            "grid_auto_rows": null,
            "grid_gap": null,
            "max_width": null,
            "order": null,
            "_view_module_version": "1.2.0",
            "grid_template_areas": null,
            "object_position": null,
            "object_fit": null,
            "grid_auto_columns": null,
            "margin": null,
            "display": null,
            "left": null
          }
        }
      }
    }
  },
  "cells": [
    {
      "cell_type": "markdown",
      "metadata": {
        "id": "Lmijh2lKWTgC"
      },
      "source": [
        "##**Setup Data**"
      ]
    },
    {
      "cell_type": "code",
      "metadata": {
        "colab": {
          "base_uri": "https://localhost:8080/"
        },
        "id": "DV8nzWN_di_T",
        "outputId": "5bcf475f-d203-406f-adc8-0c3d385a45f5"
      },
      "source": [
        "!pip install -q kaggle\n",
        "from google.colab import files\n",
        "#files.upload()\n",
        "!mkdir ~/.kaggle\n",
        "!cp kaggle.json ~/.kaggle\n",
        "!chmod 600 ~/.kaggle/kaggle.json\n",
        "!kaggle competitions download -c comp-551-fall-2021"
      ],
      "execution_count": null,
      "outputs": [
        {
          "output_type": "stream",
          "name": "stdout",
          "text": [
            "Warning: Looks like you're using an outdated API Version, please consider updating (server 1.5.12 / client 1.5.4)\n",
            "Downloading labels_l.pkl.zip to /content\n",
            "  0% 0.00/141k [00:00<?, ?B/s]\n",
            "100% 141k/141k [00:00<00:00, 54.1MB/s]\n",
            "Downloading images_test.pkl.zip to /content\n",
            " 94% 93.0M/99.0M [00:02<00:00, 24.4MB/s]\n",
            "100% 99.0M/99.0M [00:03<00:00, 28.3MB/s]\n",
            "Downloading images_ul.pkl.zip to /content\n",
            " 97% 193M/198M [00:05<00:00, 38.8MB/s]\n",
            "100% 198M/198M [00:05<00:00, 34.8MB/s]\n",
            "Downloading images_l.pkl.zip to /content\n",
            " 94% 185M/197M [00:08<00:00, 17.4MB/s]\n",
            "100% 197M/197M [00:08<00:00, 23.5MB/s]\n"
          ]
        }
      ]
    },
    {
      "cell_type": "code",
      "metadata": {
        "id": "-ZtVrmejhNTN"
      },
      "source": [
        "import os\n",
        "import datetime\n",
        "\n",
        "import zipfile\n",
        "import pickle\n",
        "import tensorflow as tf\n",
        "from sklearn.model_selection import train_test_split\n",
        "import numpy as np\n",
        "import pandas as pd\n",
        "import matplotlib.pyplot as plt\n",
        "from tqdm.notebook import tqdm"
      ],
      "execution_count": null,
      "outputs": []
    },
    {
      "cell_type": "code",
      "metadata": {
        "id": "q_AhSRkfeDQH"
      },
      "source": [
        "!mkdir ./train\n",
        "!mkdir ./train/data\n",
        "!mkdir ./train/labels\n",
        "\n",
        "import zipfile\n",
        "with zipfile.ZipFile('./images_l.pkl.zip', 'r') as train:\n",
        "  train.extractall('./train/data')\n",
        "with zipfile.ZipFile('./labels_l.pkl.zip', 'r') as labels:\n",
        "  labels.extractall('./train/labels')"
      ],
      "execution_count": null,
      "outputs": []
    },
    {
      "cell_type": "code",
      "metadata": {
        "id": "9h7WdllL7R1i"
      },
      "source": [
        "!mkdir ./train/unlabeled\n",
        "\n",
        "with zipfile.ZipFile('./images_ul.pkl.zip', 'r') as unlabeled:\n",
        "  unlabeled.extractall('./train/unlabeled')"
      ],
      "execution_count": null,
      "outputs": []
    },
    {
      "cell_type": "code",
      "metadata": {
        "id": "xL5m-yUpgaYe"
      },
      "source": [
        "!mkdir ./test\n",
        "!mkdir ./test/data\n",
        "\n",
        "with zipfile.ZipFile('./images_test.pkl.zip', 'r') as test:\n",
        "  test.extractall('./test/data')"
      ],
      "execution_count": null,
      "outputs": []
    },
    {
      "cell_type": "code",
      "metadata": {
        "id": "gNSY-u3ejRzn"
      },
      "source": [
        "IMAGE_SIZE = (56, 56)\n",
        "BATCH_SIZE = 32\n",
        "TRAIN_DATA_DIR = './train/data/images_l.pkl'\n",
        "TRAIN_LABELS_DIR = './train/labels/labels_l.pkl'\n",
        "TRAIN_UNLABELED_DIR = './train/unlabeled/images_ul.pkl'\n",
        "\n",
        "with open(TRAIN_DATA_DIR, 'rb') as f:\n",
        "  train_input = pickle.load(f)\n",
        "\n",
        "with open(TRAIN_LABELS_DIR, 'rb') as f:\n",
        "  train_label = pickle.load(f)\n",
        "\n",
        "with open(TRAIN_UNLABELED_DIR, 'rb') as f:\n",
        "  train_unlabeled = pickle.load(f)"
      ],
      "execution_count": null,
      "outputs": []
    },
    {
      "cell_type": "code",
      "metadata": {
        "id": "nfWxNORZSSVH"
      },
      "source": [
        "TEST_DATA_DIR = './test/data/images_test.pkl'\n",
        "\n",
        "with open(TEST_DATA_DIR, 'rb') as f:\n",
        "  test_input = pickle.load(f)\n"
      ],
      "execution_count": null,
      "outputs": []
    },
    {
      "cell_type": "markdown",
      "metadata": {
        "id": "EWnKpTc-MJWs"
      },
      "source": [
        "##**Helper Functions**"
      ]
    },
    {
      "cell_type": "code",
      "metadata": {
        "id": "RK5Rxm8OF4Gd"
      },
      "source": [
        "def plot(tl, vl, ta, va):\n",
        " t = [i+1 for i in range(len(tl))]\n",
        " plt.plot(t, tl, 'r', label='training loss')\n",
        " plt.plot(t, vl, 'b', label='validation loss')\n",
        " plt.title(\"training (red) & validation (blue) losses\")\n",
        " plt.xlabel(\"epoch\")\n",
        " plt.ylabel(\"loss\")\n",
        " plt.show()\n",
        " \n",
        " plt.plot(t, ta, 'r', label='training accuracy')\n",
        " plt.plot(t, va, 'b', label='validation accuracy')\n",
        " plt.title(\"training (red) & validation (blue) accuracies\")\n",
        " plt.xlabel(\"epoch\")\n",
        " plt.ylabel(\"accuracy\")\n",
        " plt.show()\n"
      ],
      "execution_count": null,
      "outputs": []
    },
    {
      "cell_type": "code",
      "metadata": {
        "id": "CqbW9Sb_IT4x"
      },
      "source": [
        "def plot_learning_rate(history, epochs=20, starting_rate=1e-4, interval=4):\n",
        "  lrs = starting_rate * (10 ** (tf.range(epochs) / interval))\n",
        "  plt.figure(figsize=(10, 7))\n",
        "  plt.semilogx(lrs, history.history['loss'])\n",
        "  plt.xlabel('Learning Rate')\n",
        "  plt.ylabel('Loss')\n",
        "  plt.title('Learning Rate vs Loss')"
      ],
      "execution_count": null,
      "outputs": []
    },
    {
      "cell_type": "code",
      "metadata": {
        "id": "6Ifr1UsRdkUj"
      },
      "source": [
        "def create_preds(predictions):\n",
        "  preds = np.zeros_like(predictions)\n",
        "  preds[np.arange(len(predictions)), predictions.argmax(1)] = 1\n",
        "  return preds"
      ],
      "execution_count": null,
      "outputs": []
    },
    {
      "cell_type": "code",
      "metadata": {
        "id": "4mMGKi3uTDcV"
      },
      "source": [
        "def write_out_preds(predictions):\n",
        "  predictions = np.concatenate(\n",
        "      (create_preds(predictions[:, :10]), create_preds(predictions[:, 10:])), \n",
        "      axis=1\n",
        "      )\n",
        "  return predictions"
      ],
      "execution_count": null,
      "outputs": []
    },
    {
      "cell_type": "code",
      "metadata": {
        "id": "PGW2ZORNl_RM"
      },
      "source": [
        "def make_csv(predictions, name='predictions'):\n",
        "  csv_preds = np.array([''.join(str(int(col)) for col in row) for row in predictions])\n",
        "  df = pd.DataFrame(csv_preds, columns=['Category'])\n",
        "  df.to_csv(f'./{name}.csv', index_label='# Id')"
      ],
      "execution_count": null,
      "outputs": []
    },
    {
      "cell_type": "code",
      "metadata": {
        "id": "WV6bVkfr28va"
      },
      "source": [
        "def visualize_predictions(prediction):\n",
        "  number, letter = None, None\n",
        "  #assert len(predictions) == 36\n",
        "  for i, x in enumerate(predictions[:10]):\n",
        "    if x==1:\n",
        "      number = i\n",
        "  for i, x in enumerate(predictions[10:]):\n",
        "    if x==1:\n",
        "      letter = chr(65+i)\n",
        "    return number, letter\n"
      ],
      "execution_count": null,
      "outputs": []
    },
    {
      "cell_type": "code",
      "metadata": {
        "id": "qLRu-juApWP1"
      },
      "source": [
        "def denoise_img(img, dim=56, reshape=False):\n",
        "  new_img = [[img[row][col]  if \n",
        "            row>0 and col>0 and row<dim-1 and col<dim-1 and( # outer bounds\n",
        "             (img[row-1][col]>10 and img[row-1][col-1]>10 and img[row][col-1]>10) # upper left corner\n",
        "            or (img[row+1][col]>10 and img[row+1][col+1]>10 and img[row][col+1]>10) # bottom right corner\n",
        "            or (img[row-1][col+1]>10 and img[row+1][col-1]>10))  # top right bottom left pixels\n",
        "            else 0 for col in range(dim) ] for row in range(dim)]\n",
        "  np_new_img=np.asanyarray(new_img,dtype='float64')\n",
        "  if reshape:\n",
        "    np_new_img=np_new_img.reshape(np_new_img.shape+(1,))\n",
        "  return np_new_img"
      ],
      "execution_count": null,
      "outputs": []
    },
    {
      "cell_type": "code",
      "metadata": {
        "id": "P-KSTcq9IO-k"
      },
      "source": [
        "def denoise_images(images):\n",
        "  images = [denoise_img(input) for input in images]\n",
        "  return np.asarray(images)"
      ],
      "execution_count": null,
      "outputs": []
    },
    {
      "cell_type": "code",
      "metadata": {
        "id": "MZt0BASKtZyZ"
      },
      "source": [
        "def upscale_denoise(images):\n",
        "  new_imgs = [cv2.resize(denoise_img(input), dsize=(224, 224), interpolation=cv2.INTER_CUBIC) for input in images]\n",
        "  return new_imgs.reshape(new_imgs.shape + (1,))"
      ],
      "execution_count": null,
      "outputs": []
    },
    {
      "cell_type": "code",
      "metadata": {
        "id": "GG6-lTcypiCh"
      },
      "source": [
        "def convert_output(outputs):\n",
        "  np_outputs = outputs[0].cpu().detach().numpy()\n",
        "  max_digit_index = np.where(np_outputs == np.amax(np_outputs[:10]))[0][0]\n",
        "  max_letter_index = np.where(np_outputs == np.amax(np_outputs[10:]))[0][0]\n",
        "  np_outputs = np.zeros(36, dtype=int)\n",
        "  np_outputs[max_digit_index] = 1\n",
        "  np_outputs[max_letter_index] = 1\n",
        "  # return ''.join(map(str, np_outputs))\n",
        "  return np_outputs"
      ],
      "execution_count": null,
      "outputs": []
    },
    {
      "cell_type": "code",
      "metadata": {
        "id": "Zcv6YKiMnxrb"
      },
      "source": [
        "def getDataLoader(data, labels, batch_size=64, shuffle=True, transforms=[]):\n",
        "  t = 0\n",
        "  ctds = []\n",
        "  for transform in transforms:\n",
        "    ctd = CustomTensorDataset(tensors=(data, labels), transform=transform)\n",
        "    ctds.append(ctd)\n",
        "  if len(ctds)>0:\n",
        "    return DataLoader(dataset=torch.utils.data.ConcatDataset(ctds),\n",
        "                      batch_size=batch_size, shuffle=shuffle)\n",
        "  else:\n",
        "    return DataLoader(dataset=CustomTensorDataset(tensors=(data, labels)),\n",
        "                      batch_size=batch_size, shuffle=shuffle)\n"
      ],
      "execution_count": null,
      "outputs": []
    },
    {
      "cell_type": "markdown",
      "metadata": {
        "id": "oILqk_lkv2yt"
      },
      "source": [
        "# **Data processing**"
      ]
    },
    {
      "cell_type": "markdown",
      "metadata": {
        "id": "JSYFdfyZbH3Y"
      },
      "source": [
        "##Auto Encoder"
      ]
    },
    {
      "cell_type": "code",
      "metadata": {
        "id": "9uX2Ua2VaH2y"
      },
      "source": [
        "class Denoise(Model):\n",
        "\n",
        "  def __init__(self):\n",
        "    super(Denoise, self).__init__()\n",
        "    self.encoder = Sequential([\n",
        "      layers.Input(shape=(56, 56, 1)),\n",
        "      layers.Conv2D(28, (3, 3), activation='relu', padding='same', strides=2),\n",
        "      layers.Conv2D(14, (3, 3), activation='relu', padding='same', strides=2)])\n",
        "\n",
        "    self.decoder = Sequential([\n",
        "      layers.Conv2DTranspose(14, kernel_size=3, strides=2, activation='relu', padding='same'),\n",
        "      layers.Conv2DTranspose(28, kernel_size=3, strides=2, activation='relu', padding='same'),\n",
        "      layers.Conv2D(1, kernel_size=(3, 3), activation='sigmoid', padding='same')])\n",
        "\n",
        "  def call(self, x):\n",
        "    encoded = self.encoder(x)\n",
        "    decoded = self.decoder(encoded)\n",
        "    return decoded\n",
        "\n",
        "autoencoder = Denoise()"
      ],
      "execution_count": null,
      "outputs": []
    },
    {
      "cell_type": "code",
      "metadata": {
        "id": "7pT1pCkUj0Kz"
      },
      "source": [
        "autoencoder.compile(\n",
        "    optimizer='adam',\n",
        "    loss=tf.keras.losses.MeanSquaredError()\n",
        ")"
      ],
      "execution_count": null,
      "outputs": []
    },
    {
      "cell_type": "markdown",
      "metadata": {
        "id": "ls65IJIXK-ZQ"
      },
      "source": [
        "## Make sure all pixels are between 0-256\n"
      ]
    },
    {
      "cell_type": "code",
      "metadata": {
        "id": "mLPCCVsXLB1B"
      },
      "source": [
        "length = len(train_input)\n",
        "\n",
        "train_input = [[[train_input[i][row][col] if 0<=train_input[i][row][col]<256\n",
        "               else 0 if train_input[i][row][col] < 0\n",
        "               else 256\n",
        "               for col in range(56)] for row in range(56)] for i in range(length)]\n",
        "train_input = np.asarray(train_input)"
      ],
      "execution_count": null,
      "outputs": []
    },
    {
      "cell_type": "code",
      "metadata": {
        "colab": {
          "base_uri": "https://localhost:8080/"
        },
        "id": "F68FF2TkNOeC",
        "outputId": "c626e098-a0fc-443f-a462-b14e2d2f7b90"
      },
      "source": [
        "print(train_input.shape)\n",
        "print(train_input.min())\n",
        "print(train_input.max())\n",
        "print(train_input.mean())"
      ],
      "execution_count": null,
      "outputs": [
        {
          "output_type": "stream",
          "name": "stdout",
          "text": [
            "(30000, 56, 56)\n",
            "0.0\n",
            "256.0\n",
            "13.539045680381628\n"
          ]
        }
      ]
    },
    {
      "cell_type": "markdown",
      "metadata": {
        "id": "bvu8mOAxIhL-"
      },
      "source": [
        "## Denoise dataset\n"
      ]
    },
    {
      "cell_type": "code",
      "metadata": {
        "id": "4Fhqa6F3IcOr"
      },
      "source": [
        "denoised_train = denoise_images(train_input)"
      ],
      "execution_count": null,
      "outputs": []
    },
    {
      "cell_type": "code",
      "metadata": {
        "id": "JYriQYjEJYZZ"
      },
      "source": [
        "denoised_test = denoise_images(test_input)"
      ],
      "execution_count": null,
      "outputs": []
    },
    {
      "cell_type": "code",
      "metadata": {
        "id": "kmiwf_JOIFnT"
      },
      "source": [
        "plt.imshow(train_input[0])"
      ],
      "execution_count": null,
      "outputs": []
    },
    {
      "cell_type": "code",
      "metadata": {
        "id": "piyVVhsfJntS"
      },
      "source": [
        "plt.imshow(denoised_train[0])\n",
        "plt.show()"
      ],
      "execution_count": null,
      "outputs": []
    },
    {
      "cell_type": "code",
      "metadata": {
        "id": "TklgnZTDKZ6F"
      },
      "source": [
        "denoised_train[0].max()"
      ],
      "execution_count": null,
      "outputs": []
    },
    {
      "cell_type": "code",
      "metadata": {
        "id": "sKykgvkTJrI9"
      },
      "source": [
        "plt.imshow(denoised_test[0])\n",
        "plt.show()"
      ],
      "execution_count": null,
      "outputs": []
    },
    {
      "cell_type": "markdown",
      "metadata": {
        "id": "R9sr-aJ53cML"
      },
      "source": [
        "###Denoise with Autoencoder"
      ]
    },
    {
      "cell_type": "code",
      "metadata": {
        "id": "pGrNK6Se3fyV"
      },
      "source": [
        "train_input_0_1 = (train_input - np.min(train_input))/(np.max(train_input) - np.min(train_input))"
      ],
      "execution_count": null,
      "outputs": []
    },
    {
      "cell_type": "code",
      "metadata": {
        "id": "Pne7m57I3sMp"
      },
      "source": [
        "train_unlabeled = (train_unlabeled - np.min(train_unlabeled))/(np.max(train_unlabeled) - np.min(train_unlabeled))\n",
        "noise_factor = 0.2\n",
        "noisyX = train_unlabeled + noise_factor * tf.random.normal(train_unlabeled.shape)"
      ],
      "execution_count": null,
      "outputs": []
    },
    {
      "cell_type": "code",
      "metadata": {
        "id": "SDRrJpzg3vt7"
      },
      "source": [
        "autoencoder.fit(\n",
        "    noisyX,\n",
        "    train_unlabeled,\n",
        "    epochs=10,\n",
        "    shuffle=True,\n",
        "    validation_split=0.1\n",
        ")"
      ],
      "execution_count": null,
      "outputs": []
    },
    {
      "cell_type": "code",
      "metadata": {
        "id": "38zdNqBf9gpQ"
      },
      "source": [
        "autoencoder.trainable = False"
      ],
      "execution_count": null,
      "outputs": []
    },
    {
      "cell_type": "code",
      "metadata": {
        "id": "Ai8Ma3Tx9suw"
      },
      "source": [
        "denoised_train = np.squeeze(autoencoder.predict(train_input))"
      ],
      "execution_count": null,
      "outputs": []
    },
    {
      "cell_type": "code",
      "metadata": {
        "id": "U7fTvupF9vcU"
      },
      "source": [
        "denoised_train = (denoised_train - np.min(denoised_train)) / (np.max(denoised_train) - np.min(denoised_train))"
      ],
      "execution_count": null,
      "outputs": []
    },
    {
      "cell_type": "markdown",
      "metadata": {
        "id": "0teGWPQWtivT"
      },
      "source": [
        "# **Best results model**"
      ]
    },
    {
      "cell_type": "markdown",
      "metadata": {
        "id": "IvlYDN4w1XOu"
      },
      "source": [
        "## ResNet\n"
      ]
    },
    {
      "cell_type": "code",
      "metadata": {
        "id": "0qTXIe6Pc1fh"
      },
      "source": [
        "import torch\n",
        "import pickle\n",
        "import torch.nn as nn\n",
        "import torch.nn.functional as F\n",
        "import torch.optim as optim\n",
        "from torch.utils.data import DataLoader\n",
        "from torchvision import transforms\n",
        "from sklearn.model_selection import train_test_split\n",
        "from torch.utils.data import Dataset, TensorDataset\n",
        "from sklearn.metrics import accuracy_score\n",
        "import matplotlib.pyplot as plt\n",
        "from functools import reduce\n",
        "\n",
        "class CustomTensorDataset(Dataset):\n",
        "  \"\"\"TensorDataset with support of transforms.\"\"\"\n",
        "  def __init__(self, tensors, transform=None):\n",
        "    assert all(tensors[0].size(0) == tensor.size(0) for tensor in tensors)\n",
        "    self.tensors = tensors\n",
        "    self.transform = transform\n",
        "\n",
        "  def __getitem__(self, index):\n",
        "    x = self.tensors[0][index]\n",
        "\n",
        "    if self.transform:\n",
        "      x = self.transform(x)\n",
        "\n",
        "    y = self.tensors[1][index]\n",
        "    return x, y\n",
        "\n",
        "  def __len__(self):\n",
        "    return self.tensors[0].size(0)\n",
        "\n",
        "class Block(nn.Module):\n",
        "  def __init__(self, in_channels, inter_channels, stride=1):\n",
        "    super(Block, self).__init__()\n",
        "    self.conv1 = nn.Conv2d(in_channels, inter_channels, kernel_size=3, stride=stride, padding=1, bias=False)\n",
        "    self.bn1 = nn.BatchNorm2d(inter_channels)\n",
        "    self.relu1 = nn.ReLU(inplace=True)\n",
        "    self.conv2 = nn.Conv2d(inter_channels, inter_channels, kernel_size=3, stride=1, padding=1, bias=False)\n",
        "    self.bn2 = nn.BatchNorm2d(inter_channels)\n",
        "    \n",
        "    self.res_addition = nn.Sequential()\n",
        "\n",
        "    if stride != 1 or in_channels != inter_channels:\n",
        "      self.res_addition = nn.Sequential(\n",
        "        nn.Conv2d(in_channels, inter_channels, kernel_size=1, stride=stride, bias=False),\n",
        "        nn.BatchNorm2d(inter_channels)\n",
        "      )\n",
        "          \n",
        "  def forward(self, x):\n",
        "    out = self.conv1(x)\n",
        "    out = self.bn1(out)\n",
        "    out = self.relu1(out)\n",
        "    out = self.conv2(out)\n",
        "    out = self.bn2(out)\n",
        "    out += self.res_addition(x)\n",
        "    out = F.relu(out)\n",
        "    \n",
        "    return out\n",
        "\n",
        "class ResNet(nn.Module):\n",
        "  def __init__(self, block, num_classes=36):\n",
        "    super(ResNet, self).__init__()\n",
        "    self.in_channels = 64\n",
        "    self.conv1 = nn.Sequential(\n",
        "      nn.Conv2d(1, 64, kernel_size=3, stride=1, padding=1, bias=False),\n",
        "      nn.BatchNorm2d(64),\n",
        "      nn.ReLU()\n",
        "    )\n",
        "    self.layer1 = self.new_res_layer(block, 64, 2, stride=1)\n",
        "    self.layer2 = self.new_res_layer(block, 128, 2, stride=2)\n",
        "    self.layer3 = self.new_res_layer(block, 256, 2, stride=2)        \n",
        "    self.layer4 = self.new_res_layer(block, 512, 2, stride=2)        \n",
        "    self.fc = nn.Linear(512, num_classes)\n",
        "      \n",
        "  def new_res_layer(self, block, channels, num_blocks, stride):\n",
        "    strides = [stride] + [1] * (num_blocks - 1)\n",
        "    layers = []\n",
        "    for stride in strides:\n",
        "      layers.append(block(self.in_channels, channels, stride))\n",
        "      self.in_channels = channels\n",
        "        \n",
        "    return nn.Sequential(*layers)\n",
        "  \n",
        "  def forward(self, x):\n",
        "    out = self.conv1(x)\n",
        "    out = self.layer1(out)\n",
        "    out = self.layer2(out)\n",
        "    out = self.layer3(out)\n",
        "    out = self.layer4(out)\n",
        "    out = F.avg_pool2d(out, 4)\n",
        "    out = out.view(out.size(0), -1)\n",
        "    out = torch.sigmoid(self.fc(out))\n",
        "\n",
        "    return out\n",
        "\n",
        "def ResNet18():\n",
        "  return ResNet(Block)\n",
        "\n"
      ],
      "execution_count": null,
      "outputs": []
    },
    {
      "cell_type": "code",
      "metadata": {
        "id": "0S-lNs4ZsPfT"
      },
      "source": [
        "def fit_model(net, train_loader, test_loader=None, epochs=20):\n",
        "  train_losses, test_losses = [], []\n",
        "  train_acc, test_acc = [], []\n",
        "\n",
        "  train_length = len(train_loader)\n",
        "  if test_loader:\n",
        "    test_length = len(test_loader)\n",
        "  else:\n",
        "    test_length = 0\n",
        "\n",
        "  for e in range(epochs):\n",
        "\n",
        "    running_loss = 0; training_acc = 0;\n",
        "    net.train()\n",
        "\n",
        "    for images, labels in tqdm(train_loader):\n",
        "\n",
        "      if torch.cuda.is_available():\n",
        "        images, labels = images.cuda(), labels.cuda()\n",
        "      \n",
        "      optimizer.zero_grad()\n",
        "      output = net(images)\n",
        "      loss = loss_function(output.type(torch.DoubleTensor), labels.type(torch.DoubleTensor))\n",
        "      epoch_acc = accuracy_score(write_out_preds(output.cpu().detach().numpy()), labels.cpu().detach().numpy())\n",
        "      loss.backward()\n",
        "      optimizer.step()\n",
        "      running_loss += loss.item()\n",
        "      training_acc += epoch_acc\n",
        "\n",
        "    else:\n",
        "      running_test_loss = 0; running_test_acc = 0;\n",
        "\n",
        "    net.eval()\n",
        "\n",
        "    cur_loss = running_loss / train_length\n",
        "    cur_acc = training_acc / train_length\n",
        "    train_losses.append(cur_loss)\n",
        "    train_acc.append(cur_acc)\n",
        "\n",
        "    print(\"[Epoch: {}/{}] \".format(e+1, epochs),\n",
        "          \"[Training Loss: {:.3f}] \".format(cur_loss),\n",
        "          \"[Training Accuracy: {:.3f}]\".format(cur_acc))\n",
        "    \n",
        "    if test_loader is None:\n",
        "      continue\n",
        "\n",
        "    with torch.no_grad():\n",
        "      for images, labels in test_loader:\n",
        "        if torch.cuda.is_available():\n",
        "          images, labels = images.cuda(), labels.cuda()\n",
        "\n",
        "        output = net(images)\n",
        "        running_test_loss += loss_function(output.type(torch.DoubleTensor), labels.type(torch.DoubleTensor))\n",
        "        epoch_test_acc = accuracy_score(write_out_preds(output.cpu().detach().numpy()), labels.cpu().detach().numpy())\n",
        "        running_test_acc += epoch_test_acc\n",
        "\n",
        "      cur_test_loss = running_test_loss / test_length\n",
        "      cur_test_acc = running_test_acc / test_length\n",
        "      test_losses.append(cur_test_loss)\n",
        "      test_acc.append(cur_test_acc)\n",
        "    \n",
        "    print(\"[Validation Loss: {:.3f}] \".format(cur_test_loss),\n",
        "          \"[Validation Accuracy: {:.2f}]\".format(cur_test_acc))\n",
        "  \n",
        "  return train_losses, test_losses, train_acc, test_acc\n",
        "      "
      ],
      "execution_count": null,
      "outputs": []
    },
    {
      "cell_type": "markdown",
      "metadata": {
        "id": "5Fi71gLcsPfT"
      },
      "source": [
        "## Train model with validation"
      ]
    },
    {
      "cell_type": "code",
      "metadata": {
        "id": "Y4VwY0M3sPfT"
      },
      "source": [
        "net = ResNet18()\n",
        "if torch.cuda.is_available():\n",
        "    net.cuda()\n",
        "\n",
        "optimizer = optim.Adam(net.parameters(), lr=1e-3, weight_decay=1e-4)\n",
        "loss_function = nn.BCELoss()\n",
        "\n",
        "X_train, X_cv, y_train, y_cv = train_test_split(train_input, train_label, test_size = 0.2, random_state = 6969)\n",
        "\n",
        "X_train = torch.from_numpy(X_train).type(torch.LongTensor)\n",
        "X_train = X_train.view(-1, 1,56,56).float()\n",
        "X_cv = torch.from_numpy(X_cv).type(torch.LongTensor)\n",
        "X_cv = X_cv.view(-1, 1,56,56).float()\n",
        "y_train = torch.from_numpy(y_train).type(torch.LongTensor)\n",
        "y_cv = torch.from_numpy(y_cv).type(torch.LongTensor)\n",
        "\n",
        "mean = X_train.mean()\n",
        "std = X_train.std()\n",
        "\n",
        "transform = transforms.Compose([transforms.Normalize(mean=[mean], std=[std])])\n",
        "transform_aug1 = transforms.Compose([transforms.Normalize(mean=[mean], std=[std]), transforms.RandomAffine(degrees=(-15,0), translate=(0.01, 0.01), fill=0, shear=0.15)])\n",
        "transform_aug2 = transforms.Compose([transforms.Normalize(mean=[mean], std=[std]), transforms.RandomAffine(degrees=(0,15), translate=(0.01, 0.01), fill=0, shear=0.15)])\n",
        "\n",
        "train_loader = getDataLoader(X_train, y_train, transforms=[transform, transform_aug1, transform_aug2])\n",
        "test_loader = getDataLoader(X_cv, y_cv)\n"
      ],
      "execution_count": null,
      "outputs": []
    },
    {
      "cell_type": "code",
      "metadata": {
        "id": "F8028HqNsPfU"
      },
      "source": [
        "tl, vl, ta, va = fit_model(net, train_loader=train_loader, test_loader=test_loader)"
      ],
      "execution_count": null,
      "outputs": []
    },
    {
      "cell_type": "code",
      "metadata": {
        "id": "16o-_kdGLSXs"
      },
      "source": [
        "plot(tl, vl, ta, va)"
      ],
      "execution_count": null,
      "outputs": []
    },
    {
      "cell_type": "markdown",
      "metadata": {
        "id": "a149bY9NsPfU"
      },
      "source": [
        "## Submission"
      ]
    },
    {
      "cell_type": "markdown",
      "metadata": {
        "id": "PGo7lx-pr0DY"
      },
      "source": [
        "**train model using all data (no validation)**"
      ]
    },
    {
      "cell_type": "code",
      "metadata": {
        "id": "hxIKoVmpwQam"
      },
      "source": [
        "\n",
        "net = ResNet18()\n",
        "if torch.cuda.is_available():\n",
        "    net.cuda()\n",
        "\n",
        "#optimizer = optim.Adam(net.parameters(), lr=1e-3, weight_decay=1e-5, momentum=0.15)\n",
        "optimizer = optim.SGD(net.parameters(), lr=1e-3, momentum=0.95, weight_decay=1e-5)\n",
        "\n",
        "loss_function = nn.BCELoss()\n",
        "X_train, y_train = train_input, train_label\n",
        "X_train = torch.from_numpy(X_train).type(torch.LongTensor)\n",
        "X_train = X_train.view(-1, 1,56,56).float()\n",
        "y_train = torch.from_numpy(y_train).type(torch.LongTensor)\n",
        "\n",
        "mean = X_train.mean()\n",
        "std = X_train.std()\n",
        "\n",
        "transform = transforms.Compose([transforms.Normalize(mean=[mean], std=[std])])\n",
        "transform_aug1 = transforms.Compose([transforms.Normalize(mean=[mean], std=[std]), transforms.RandomAffine(degrees=(-25,0), translate=(0.01, 0.01), fill=0, shear=0.15)])\n",
        "transform_aug2 = transforms.Compose([transforms.Normalize(mean=[mean], std=[std]), transforms.RandomAffine(degrees=(0,25), translate=(0.01, 0.01), fill=0, shear=0.15)])\n",
        "\n",
        "\n",
        "train_loader = getDataLoader(X_train, y_train, transforms=[transform, transform_aug1, transform_aug2, transform_aug1, transform_aug2])"
      ],
      "execution_count": null,
      "outputs": []
    },
    {
      "cell_type": "code",
      "metadata": {
        "colab": {
          "base_uri": "https://localhost:8080/",
          "height": 1000,
          "referenced_widgets": [
            "b07a3cabf450434e86261b1033ca9a2a",
            "eff4e40eee004e299aec07e6b12b60bf",
            "bf943888de644209b464ab9ac3f59a31",
            "8fd943811db74767b5eec195a910ae2e",
            "80ed3b393ba14315a19f2332f70c4684",
            "00471480a2cf45d7aa365b78287fa3a1",
            "6b3aabffa45a44a2b75f4755049f411c",
            "3c61e867f1aa48ccad711d3b05599df9",
            "0a21476036bc46a5aec988121332add1",
            "8ca1ce0ab42c4f6d9eb36f13708312ae",
            "09552b50326d462c85c556f4eab48baf",
            "1de4922b4179444791ba1a0856a01e54",
            "c755e9ee7b0c478897da331e6111e35c",
            "639ce2aaabeb4f9287a0ec582b02beff",
            "016ab677c7d24f98b1cb0c500b4e6292",
            "d3d31661d92c4667a86f4f2fadc4acbc",
            "27da996f519f447bba772bd5d6975d95",
            "3214dfc7ca174d58b03202a0c40dfcc6",
            "1dced939d066434f97d40e1c26f4685e",
            "1e192588bada4b81b57f370f12a25218",
            "57a82e05def14c02a514aab9334293e6",
            "c5002edebcc642d38923285ec3d6364c",
            "cfbc0f76a2134ae9bd6be2377c1f2956",
            "816cb5c79dfc440b9cf17f7066856228",
            "e350329efa7d4c6fbffa35ac26240327",
            "b2f1b6455a8945d897c294efbed9c3cf",
            "1609f41534ef4027acf8a7d72df4fc61",
            "1aabe0db0f9d4c118d1ea4f022253200",
            "d1f9db046d7c413ba9739810f4912353",
            "cb0504fc631d47348c544cf99e50f89b",
            "d7332340fcc34300b39b0adad536a043",
            "07fbb2a5e9b04d11a9423e102314cc35",
            "cb0f935b7af740bd84b685a4ca6605e7",
            "307bc08d71074c5689236b3fae7ef2d1",
            "b7c98f1795d84b289d1a09b4dd17dece",
            "953cf534694a470d8c0f91004190ce03",
            "4c985a5987894b48b577348286f54cd1",
            "ffc97a9d73934d8cae4256dbe8545c78",
            "7c957cdda8a74424a9232ae3d4d04d7d",
            "9528c9b8039b40b8b52afa49df3d238f",
            "c6bce9d1e337416d8953cb55a874cbf3",
            "33f3067b4eb24d7f99d9197b903356a0",
            "86d9fd0cb3a04ab0ae0953ce9ddf3d76",
            "8a2a27f88fc64ef7902a8498fc539a0b",
            "e278f0218237409aa6b5c3b53aca6c24",
            "4a460a30736c411bbb892e389318a40e",
            "5ffbc8f6a7fe417cadb200a06ecd4d22",
            "9620f022cd844deb8d72ed902d608d70",
            "0bafa26aa0c24016accfd6222044ea5f",
            "52ff810b7cdb437d970c5d40aa3c7e1e",
            "3989684a197748f891f06ea647ddf484",
            "cc6710187fc94c41a615c74bd9a6f0d8",
            "46e4dc3963554dfcb80a7baea7f58a42",
            "94f33e84ad004f4da842af513b2632b2",
            "1a2f10869abc451a836dd4c76655fd0e",
            "898e3c7a414940daa5a0eaba541a40f7",
            "99b980cd86394640990171e08d8d5a12",
            "63a38e8d559f403e8550915fc145fd06",
            "b9e28f4e4a6e4126a38039611ee7b762",
            "1f85a5ad53d8446c9153b31e17ed57ca",
            "da0b06bf6f5a423ca72a49f583cfbb8f",
            "3ad499e540d8409ca5060975143fffdd",
            "8ce3f2dc445249d19146655483b435da",
            "e864cd4b55264de3b99710750f25b298",
            "9f68bdc61e1641569fa6b4343a852479",
            "8fb45b69fa4841fc83db4ddcf03f9f80",
            "783b4837d30a4851a5c73e85028528f1",
            "d3492fcf14074143807fbd529b445d1c",
            "56346d946e2147ba9b53fb56d403e57a",
            "3b152baf4a1543c586424778c04ddd3d",
            "5563d685a2904f309f26aa66bcfb1703",
            "1326d9c809154b179eea394240b614b9",
            "5043a7f1020243369583e33ee0f2c6a7",
            "d42f1a997ce04a3bba2f6192b3c07b05",
            "73ef7fad7095417280cae3dfb85757e8",
            "629a84285c4d410ba87f2d7b8964a418",
            "4e774d8d6430494d9468d94b3787259a",
            "d2dc9d50ee4047d69600593eab936fb4",
            "989b72cd463a408b8142121632c48013",
            "334d9747ae50403598f3da41f51c6c9f",
            "409419de0b334161af771a20372a0fe9",
            "32c8aef648da43c39dd59235ae4f744c",
            "b9df727f00cc459788c34fde4e29f4a7",
            "9102896b09514ae1a8fc9aaac031de39",
            "fec5203715bb457bbea28e90502784d8",
            "60841c4043eb41d28dfffa82647443cf",
            "647f2c0232eb42f9b368d99d2712a98b",
            "ac41e5b5792f4a1cb837e2c0c14fd08b",
            "6ffc2b56686a4f2cb3bc3deb9a79c5a4",
            "14764e1eb744426e881f44cf0ef4e4af",
            "fb16c32fbdd942e4b33774681b1c99c9",
            "2f61e6265283464894d3a06601bbcea5",
            "2e6d93a468df4b45a5fd40b2fa01ab4f",
            "09622abd730c4fe2a093d40c32a93421",
            "e8678bc1cf0544b7930d8a026d061917",
            "205453ff7ff3492ea36cce514dc69c20",
            "80d01a89489542d98b486eb40ba02db9",
            "f1bfb31d6379483faf53d8d8cf540b10",
            "833f669445a140c486a7ff875fa05f4a",
            "9a1e9832895743e0a888ef7b6639b924",
            "c5bb415eb02f4ed7a6c7b85a01a4e8b5",
            "198f78967fda4c3785715947a5ce56df",
            "e86bd6b6b17c4b77a99d0c6e3e04c68e",
            "b08e3d823f58429fbdd52d88b2334627",
            "3183f53451c94f2dbd09d1390945c727",
            "c80d3bf387644169a3770b5103d64b0b",
            "bb61a1dfb90d4758bff9580b4e22526e",
            "58652ceee34a44709611dc6b571d2450",
            "f63bc13e33b947a0be2210dd0e3743d7",
            "b544d05c012b4891a0f6f04f7e9c0993",
            "7cca538dadaf47afbf16de5b88fb3735",
            "220b2074e28648049c666418a1493df8",
            "6d7bed81ccf645eda67d22f04d037c96",
            "5ad1ccd4003c42b2b91e569e32ccdba5",
            "7d052cf800004987b886ecf04e5d1be8",
            "8cdc233d5d9f4705a7414422ea2249c8",
            "03d70478980c4ff9af903264cfaf79c1",
            "8d34d0c80c704aa0af218d806a15f30d",
            "76e151c6365347a68a00549854d5977a",
            "719213871b054649b9325c7515867dae",
            "7ae3a88d632d4dd4b571bc55773213ac",
            "9aa32363fd6846b7be9ab7a5d7c4db8d",
            "916db2f7b01347129fc1db981d4699d4",
            "42f7efbbed8d46aab3670ab742152df8",
            "c022f86a497b4acebcbb6f399a4b3477",
            "20a351e0ec4b4e2889799c14ae6083a4",
            "d1ea93d6a03f424583149a95c6ca68e1",
            "01fedb6ab8ac4e98aa50e815d45e7d9f",
            "fe656a6cdbc14918939a54a751e381cd",
            "28fee70ed919424195fded5bb468907e",
            "0c8e4965e9d04faab1dec728da62498d",
            "6f500cce836d422fa23b5e0895592e32",
            "1243a87bed4e4c2da6c00498f6775d4b",
            "3dd0adc4767d4f57b9c0edae0f4b0b9b",
            "5860cea69cc34e2e837effeb194ec484",
            "bb54ba62da664b8bbb477ecfe966bcbc",
            "d3ebe6a8de2a481d93625772cd8f6bf3",
            "927477ab8cba46b7ab06708205815ba4",
            "563a1e0cde8e4c679630d75ae29e68d3",
            "7945f6b18dab4e07937200b1e02b1878",
            "70e5819866ad42de957eec2695e7a158",
            "aca5562f0e8f45aeb6ebc9c487b469c5",
            "a276f19bc54043cd883dbc5d1d777c0d",
            "794a6e95904340e782f4da46666a93ea",
            "89821622a7864857ab8081e3294e85ef",
            "b543f624f12447edbecafd59dfae44d2",
            "d2b43e4f8bbe4342bc7098c5e3c7d6de",
            "30ecc91cbf8b49c78e1dd26ee85ae7c5",
            "304f64c3e49c43cd84e35320189d514c",
            "d3211e9cadab4105a6ceab919a88b562",
            "41e26cc11a294103a36dd961f80509cf",
            "0dc95fe4bb1c47d190b9802a3e71630b",
            "e5a4b94cea7544f0be42359eb0e78286",
            "eeb318687d57495a9074e869117f7a6e",
            "470cf388b90e432a8fc022b32b7c591e",
            "5645fe5334194266b2831cfb5ba3c45b",
            "133960bbc868459fbfb9859e405ce625",
            "83200f06e1c846c4b5238212e7a0bd2f",
            "68f7251437784ac3a6b0acd628248155",
            "f7113ee48c8a4719b76b0299c050ddff",
            "c0f755875bfb4f24830eee9325c99036",
            "bc30860d10c047c5b6018b82c289ba99",
            "1a611a61514843fea8278a177d06d2fb",
            "7b2ff5e3e1b346cc90fa1bf3eaf3feb8",
            "fe46656d271e4474a75c1c3735bed472",
            "5f296e676b424d31a2fe664aac4898ef",
            "3625c82f53154f91b1bf119609a793e7",
            "7c005965387c45c3b9c1872f2eb879f3",
            "9d3f9389de7d4c28be6b292a5423b8f9",
            "f7b3d32f2f2e4b9da9c6e51709cc2696",
            "b594e0966e254a2a9a7f28dd0079c6dd",
            "b66b67ec1ee34f59b870c96ee9ea435d",
            "0770ecc706df4a499ebdb261dceb8a95",
            "97210c4fdf1b4920aad7b497788f4d19",
            "ebfea70c07e547d0b0b67e3c021dc2a8",
            "b3206da56c664955995c72a103555712",
            "f0efcb8ac98d41ccb7d0f16fdb56e276",
            "24ac6499efc94d78bd9cc0a9a494736f",
            "7f3d92b0602e4021bac57f28b03c727e",
            "7051ecbb19bc425bba9b89ce00a77ef1",
            "d21b0f0164dd45a2a9daa7e120b8e066",
            "3deabf364b3b4450abde8969ee3ea8e0",
            "2bf4d481789741668b2335644a6712c9",
            "b03e2ed371034d6da6bc0409471e6b4f",
            "61874ae8b9e947ee81c80d90de3b7638",
            "59698d2af4f34bd6b068153acadc5053",
            "9c2d90338866449091a0137ce9510398",
            "cd8e16d84c034159b88573a8504f4eef",
            "87975229a3bb4c8aab5fd6b74e72df79",
            "b5e3e0b995984f1f9c060875ed33fb23",
            "2307c492f3ef4299b7b5f0d0ba82a9da",
            "b7257c10851e44628f3d70fe7bf6257a",
            "cfdea4d544a3423f9c0d27b881844f71",
            "44e19f298f974807b533f695c4a077a1",
            "02485a21eaf742d7a01c2292751c2441",
            "d05aa76fc19646b3ac40e617cf81b157",
            "74d2fbd5a26e4ff2a6679217096f6e22",
            "4fdd731212934ef7a0c45278ed960a3a",
            "0f1e9e47bf9141218d7f98be90705a3a",
            "cc1355161e4047689d578955a79c91d2",
            "ab479417989d45d0ae50c382d87b1ee8",
            "f3ab4e22312d483eb497fcaa6126e38e",
            "52fd8f15a3dd4be28032ef19ff6a9fa2",
            "3dacea8e53234229856695bbd44e3793",
            "b7575ee24ed849ccbf2ccae8df87b88d",
            "0488a0b81aa344c08bb2bfec712f560a",
            "686f8abe2e62435693e0f1770dd98324",
            "7b6fd5dca4314aa18e9381f2284f9538",
            "4eae4fc913a1450eadd74052786f3773",
            "0855095408da4894983b3dc5ae41580d",
            "9c367c60f4534259b2babaed2fc9300f",
            "9efb46ff66874b9994fc4c920766a530",
            "c92a55439e2b46b7ac4c53222a570026",
            "1493aecf3fbc4ab7a77b4b8cf81d6c58",
            "938a82a3884e47428a19d1ad23c74375",
            "7f1a92cf65a24b37800d9377ac39a31a",
            "651f2255cb2442f8bb08f3aae22e6b04",
            "caa618f3b6914085b85748e219a323fa",
            "f2383236d2db41dba1ee8f11af5c0591",
            "9c61d97683b74b6d8286175086004c8f",
            "26df8059423349018744b69c4d571e06",
            "4934b3f130164aabb0c13f7ee19a4f3b",
            "93010653d6c84650bfa9cd217b992900",
            "3f2352e43e954b95b32fcec515f71f43",
            "8f21958ca9654cc4a35008ca94d64904",
            "89c401c8121046069fe83376ddcaa2c9",
            "c05c597bfccd480bae58da0be3adec85",
            "0377a18688e94d66aea3af5991459c10",
            "ac038a5d6c4649709f20b15ad6e62eae",
            "dfc28871a49e4287b629163bfeec97bc",
            "345ff6e98c4a4919b31262db4e8f0023",
            "95c01fd039ad4c1d832ce6a418b0aead",
            "a4a3835f179e49e38eb6775dc83f2c2a",
            "94bd9967f8ce4a2f86b8868be21f1c35",
            "a53aab64e1154ca08b9967d12b6b760d",
            "f32ec134398047ffb9ee831ca2b161a7",
            "a0327a310f8c441c87c1a29d05073dff",
            "5d0d7ba5d1e94816b1d53d0c51509d12",
            "6cf2bddda3ed4915bcad8725400bfc5e",
            "68949972b6104d79805732e6b4093426",
            "4e2bcd141b654b0b80cea60400f45e5c",
            "98da6091a8ef4671a3979f178d1b3341",
            "33f6c86c54104c36a96cbe879bf73aa6",
            "6ec4d30040ed4a0bba53c03f0abc3a1d",
            "379c8c705291495bb5db42eaec3ec736",
            "38b233a34c0341c0b5e409e81651cadb",
            "7cfa21ee0df7484ab2235e3b011215db",
            "85afa987101f4152986239e8214551f2",
            "9c459c19d7564e709158eb64f789aadb",
            "b208c39b2f8846809b47150503fc8732",
            "e32867f3be214940aca20bfc0bf2ef9d",
            "f5f4d5e6cd10455ca8346ec414f1aa5c",
            "a7127bcc843145aeb05968ab6d20941a",
            "0237818b1b9348c7bc8107ea80057493",
            "660d1434e0c14e6e97bae100b43efe5c",
            "dd08318fa33a4354b2c313b5f830f9e1",
            "945ca97b8cbb4646a7789c52eed2e453",
            "1f3933a3ed6e450a96223163760e5abf",
            "87f54ee4edfd4a82aa939a3213b1060e",
            "744c908b8fe74d2b8a04f5d1cf7daf43",
            "f10147f6b2334bc39354f61aa2cd6395",
            "adcbf716445e43778afb159d38981d08",
            "c377a7580e7c42cd9668922cfbfa7997",
            "608d71b1a58a486f9dcf64a0c8830633",
            "47bf8793a9d04835a6baa877b3e3c243",
            "c3fb30352e8746f1b9ecd54af353d46e",
            "a5dab2734bfc4dd1b8c0d48958cfcf2d",
            "bf0d4cb286794b69bc46208fdc826564",
            "7451b502e11641a9ab55bc041f168bca",
            "37ce1f515c3144e787b560883d7b0288",
            "d3701da02d764ee3b965cada971b579c",
            "672f1342fe264556b75976294ad2c608",
            "e54cbebf86304e089596cb97ab1fb22a",
            "8be828ae06cf42c293972c8f49858edb",
            "7c2785eacf6f490b85c65ca9f68a8a05"
          ]
        },
        "id": "mFtxEK5BwQan",
        "outputId": "72bd5365-b41e-4e8e-f088-4bcb7bb6f579"
      },
      "source": [
        "tl, vl, ta, va = fit_model(net, train_loader=train_loader, test_loader=None, epochs=25)"
      ],
      "execution_count": null,
      "outputs": [
        {
          "output_type": "display_data",
          "data": {
            "application/vnd.jupyter.widget-view+json": {
              "model_id": "b07a3cabf450434e86261b1033ca9a2a",
              "version_minor": 0,
              "version_major": 2
            },
            "text/plain": [
              "  0%|          | 0/2344 [00:00<?, ?it/s]"
            ]
          },
          "metadata": {}
        },
        {
          "output_type": "stream",
          "name": "stdout",
          "text": [
            "[Epoch: 1/25]  [Training Loss: 0.207] \n"
          ]
        },
        {
          "output_type": "display_data",
          "data": {
            "application/vnd.jupyter.widget-view+json": {
              "model_id": "1de4922b4179444791ba1a0856a01e54",
              "version_minor": 0,
              "version_major": 2
            },
            "text/plain": [
              "  0%|          | 0/2344 [00:00<?, ?it/s]"
            ]
          },
          "metadata": {}
        },
        {
          "output_type": "stream",
          "name": "stdout",
          "text": [
            "[Epoch: 2/25]  [Training Loss: 0.186] \n"
          ]
        },
        {
          "output_type": "display_data",
          "data": {
            "application/vnd.jupyter.widget-view+json": {
              "model_id": "cfbc0f76a2134ae9bd6be2377c1f2956",
              "version_minor": 0,
              "version_major": 2
            },
            "text/plain": [
              "  0%|          | 0/2344 [00:00<?, ?it/s]"
            ]
          },
          "metadata": {}
        },
        {
          "output_type": "stream",
          "name": "stdout",
          "text": [
            "[Epoch: 3/25]  [Training Loss: 0.154] \n"
          ]
        },
        {
          "output_type": "display_data",
          "data": {
            "application/vnd.jupyter.widget-view+json": {
              "model_id": "307bc08d71074c5689236b3fae7ef2d1",
              "version_minor": 0,
              "version_major": 2
            },
            "text/plain": [
              "  0%|          | 0/2344 [00:00<?, ?it/s]"
            ]
          },
          "metadata": {}
        },
        {
          "output_type": "stream",
          "name": "stdout",
          "text": [
            "[Epoch: 4/25]  [Training Loss: 0.116] \n"
          ]
        },
        {
          "output_type": "display_data",
          "data": {
            "application/vnd.jupyter.widget-view+json": {
              "model_id": "e278f0218237409aa6b5c3b53aca6c24",
              "version_minor": 0,
              "version_major": 2
            },
            "text/plain": [
              "  0%|          | 0/2344 [00:00<?, ?it/s]"
            ]
          },
          "metadata": {}
        },
        {
          "output_type": "stream",
          "name": "stdout",
          "text": [
            "[Epoch: 5/25]  [Training Loss: 0.085] \n"
          ]
        },
        {
          "output_type": "display_data",
          "data": {
            "application/vnd.jupyter.widget-view+json": {
              "model_id": "898e3c7a414940daa5a0eaba541a40f7",
              "version_minor": 0,
              "version_major": 2
            },
            "text/plain": [
              "  0%|          | 0/2344 [00:00<?, ?it/s]"
            ]
          },
          "metadata": {}
        },
        {
          "output_type": "stream",
          "name": "stdout",
          "text": [
            "[Epoch: 6/25]  [Training Loss: 0.062] \n"
          ]
        },
        {
          "output_type": "display_data",
          "data": {
            "application/vnd.jupyter.widget-view+json": {
              "model_id": "783b4837d30a4851a5c73e85028528f1",
              "version_minor": 0,
              "version_major": 2
            },
            "text/plain": [
              "  0%|          | 0/2344 [00:00<?, ?it/s]"
            ]
          },
          "metadata": {}
        },
        {
          "output_type": "stream",
          "name": "stdout",
          "text": [
            "[Epoch: 7/25]  [Training Loss: 0.047] \n"
          ]
        },
        {
          "output_type": "display_data",
          "data": {
            "application/vnd.jupyter.widget-view+json": {
              "model_id": "d2dc9d50ee4047d69600593eab936fb4",
              "version_minor": 0,
              "version_major": 2
            },
            "text/plain": [
              "  0%|          | 0/2344 [00:00<?, ?it/s]"
            ]
          },
          "metadata": {}
        },
        {
          "output_type": "stream",
          "name": "stdout",
          "text": [
            "[Epoch: 8/25]  [Training Loss: 0.038] \n"
          ]
        },
        {
          "output_type": "display_data",
          "data": {
            "application/vnd.jupyter.widget-view+json": {
              "model_id": "6ffc2b56686a4f2cb3bc3deb9a79c5a4",
              "version_minor": 0,
              "version_major": 2
            },
            "text/plain": [
              "  0%|          | 0/2344 [00:00<?, ?it/s]"
            ]
          },
          "metadata": {}
        },
        {
          "output_type": "stream",
          "name": "stdout",
          "text": [
            "[Epoch: 9/25]  [Training Loss: 0.031] \n"
          ]
        },
        {
          "output_type": "display_data",
          "data": {
            "application/vnd.jupyter.widget-view+json": {
              "model_id": "9a1e9832895743e0a888ef7b6639b924",
              "version_minor": 0,
              "version_major": 2
            },
            "text/plain": [
              "  0%|          | 0/2344 [00:00<?, ?it/s]"
            ]
          },
          "metadata": {}
        },
        {
          "output_type": "stream",
          "name": "stdout",
          "text": [
            "[Epoch: 10/25]  [Training Loss: 0.026] \n"
          ]
        },
        {
          "output_type": "display_data",
          "data": {
            "application/vnd.jupyter.widget-view+json": {
              "model_id": "7cca538dadaf47afbf16de5b88fb3735",
              "version_minor": 0,
              "version_major": 2
            },
            "text/plain": [
              "  0%|          | 0/2344 [00:00<?, ?it/s]"
            ]
          },
          "metadata": {}
        },
        {
          "output_type": "stream",
          "name": "stdout",
          "text": [
            "[Epoch: 11/25]  [Training Loss: 0.023] \n"
          ]
        },
        {
          "output_type": "display_data",
          "data": {
            "application/vnd.jupyter.widget-view+json": {
              "model_id": "9aa32363fd6846b7be9ab7a5d7c4db8d",
              "version_minor": 0,
              "version_major": 2
            },
            "text/plain": [
              "  0%|          | 0/2344 [00:00<?, ?it/s]"
            ]
          },
          "metadata": {}
        },
        {
          "output_type": "stream",
          "name": "stdout",
          "text": [
            "[Epoch: 12/25]  [Training Loss: 0.020] \n"
          ]
        },
        {
          "output_type": "display_data",
          "data": {
            "application/vnd.jupyter.widget-view+json": {
              "model_id": "1243a87bed4e4c2da6c00498f6775d4b",
              "version_minor": 0,
              "version_major": 2
            },
            "text/plain": [
              "  0%|          | 0/2344 [00:00<?, ?it/s]"
            ]
          },
          "metadata": {}
        },
        {
          "output_type": "stream",
          "name": "stdout",
          "text": [
            "[Epoch: 13/25]  [Training Loss: 0.017] \n"
          ]
        },
        {
          "output_type": "display_data",
          "data": {
            "application/vnd.jupyter.widget-view+json": {
              "model_id": "794a6e95904340e782f4da46666a93ea",
              "version_minor": 0,
              "version_major": 2
            },
            "text/plain": [
              "  0%|          | 0/2344 [00:00<?, ?it/s]"
            ]
          },
          "metadata": {}
        },
        {
          "output_type": "stream",
          "name": "stdout",
          "text": [
            "[Epoch: 14/25]  [Training Loss: 0.016] \n"
          ]
        },
        {
          "output_type": "display_data",
          "data": {
            "application/vnd.jupyter.widget-view+json": {
              "model_id": "470cf388b90e432a8fc022b32b7c591e",
              "version_minor": 0,
              "version_major": 2
            },
            "text/plain": [
              "  0%|          | 0/2344 [00:00<?, ?it/s]"
            ]
          },
          "metadata": {}
        },
        {
          "output_type": "stream",
          "name": "stdout",
          "text": [
            "[Epoch: 15/25]  [Training Loss: 0.014] \n"
          ]
        },
        {
          "output_type": "display_data",
          "data": {
            "application/vnd.jupyter.widget-view+json": {
              "model_id": "5f296e676b424d31a2fe664aac4898ef",
              "version_minor": 0,
              "version_major": 2
            },
            "text/plain": [
              "  0%|          | 0/2344 [00:00<?, ?it/s]"
            ]
          },
          "metadata": {}
        },
        {
          "output_type": "stream",
          "name": "stdout",
          "text": [
            "[Epoch: 16/25]  [Training Loss: 0.013] \n"
          ]
        },
        {
          "output_type": "display_data",
          "data": {
            "application/vnd.jupyter.widget-view+json": {
              "model_id": "f0efcb8ac98d41ccb7d0f16fdb56e276",
              "version_minor": 0,
              "version_major": 2
            },
            "text/plain": [
              "  0%|          | 0/2344 [00:00<?, ?it/s]"
            ]
          },
          "metadata": {}
        },
        {
          "output_type": "stream",
          "name": "stdout",
          "text": [
            "[Epoch: 17/25]  [Training Loss: 0.012] \n"
          ]
        },
        {
          "output_type": "display_data",
          "data": {
            "application/vnd.jupyter.widget-view+json": {
              "model_id": "cd8e16d84c034159b88573a8504f4eef",
              "version_minor": 0,
              "version_major": 2
            },
            "text/plain": [
              "  0%|          | 0/2344 [00:00<?, ?it/s]"
            ]
          },
          "metadata": {}
        },
        {
          "output_type": "stream",
          "name": "stdout",
          "text": [
            "[Epoch: 18/25]  [Training Loss: 0.011] \n"
          ]
        },
        {
          "output_type": "display_data",
          "data": {
            "application/vnd.jupyter.widget-view+json": {
              "model_id": "0f1e9e47bf9141218d7f98be90705a3a",
              "version_minor": 0,
              "version_major": 2
            },
            "text/plain": [
              "  0%|          | 0/2344 [00:00<?, ?it/s]"
            ]
          },
          "metadata": {}
        },
        {
          "output_type": "stream",
          "name": "stdout",
          "text": [
            "[Epoch: 19/25]  [Training Loss: 0.010] \n"
          ]
        },
        {
          "output_type": "display_data",
          "data": {
            "application/vnd.jupyter.widget-view+json": {
              "model_id": "0855095408da4894983b3dc5ae41580d",
              "version_minor": 0,
              "version_major": 2
            },
            "text/plain": [
              "  0%|          | 0/2344 [00:00<?, ?it/s]"
            ]
          },
          "metadata": {}
        },
        {
          "output_type": "stream",
          "name": "stdout",
          "text": [
            "[Epoch: 20/25]  [Training Loss: 0.009] \n"
          ]
        },
        {
          "output_type": "display_data",
          "data": {
            "application/vnd.jupyter.widget-view+json": {
              "model_id": "26df8059423349018744b69c4d571e06",
              "version_minor": 0,
              "version_major": 2
            },
            "text/plain": [
              "  0%|          | 0/2344 [00:00<?, ?it/s]"
            ]
          },
          "metadata": {}
        },
        {
          "output_type": "stream",
          "name": "stdout",
          "text": [
            "[Epoch: 21/25]  [Training Loss: 0.008] \n"
          ]
        },
        {
          "output_type": "display_data",
          "data": {
            "application/vnd.jupyter.widget-view+json": {
              "model_id": "95c01fd039ad4c1d832ce6a418b0aead",
              "version_minor": 0,
              "version_major": 2
            },
            "text/plain": [
              "  0%|          | 0/2344 [00:00<?, ?it/s]"
            ]
          },
          "metadata": {}
        },
        {
          "output_type": "stream",
          "name": "stdout",
          "text": [
            "[Epoch: 22/25]  [Training Loss: 0.008] \n"
          ]
        },
        {
          "output_type": "display_data",
          "data": {
            "application/vnd.jupyter.widget-view+json": {
              "model_id": "33f6c86c54104c36a96cbe879bf73aa6",
              "version_minor": 0,
              "version_major": 2
            },
            "text/plain": [
              "  0%|          | 0/2344 [00:00<?, ?it/s]"
            ]
          },
          "metadata": {}
        },
        {
          "output_type": "stream",
          "name": "stdout",
          "text": [
            "[Epoch: 23/25]  [Training Loss: 0.007] \n"
          ]
        },
        {
          "output_type": "display_data",
          "data": {
            "application/vnd.jupyter.widget-view+json": {
              "model_id": "0237818b1b9348c7bc8107ea80057493",
              "version_minor": 0,
              "version_major": 2
            },
            "text/plain": [
              "  0%|          | 0/2344 [00:00<?, ?it/s]"
            ]
          },
          "metadata": {}
        },
        {
          "output_type": "stream",
          "name": "stdout",
          "text": [
            "[Epoch: 24/25]  [Training Loss: 0.007] \n"
          ]
        },
        {
          "output_type": "display_data",
          "data": {
            "application/vnd.jupyter.widget-view+json": {
              "model_id": "47bf8793a9d04835a6baa877b3e3c243",
              "version_minor": 0,
              "version_major": 2
            },
            "text/plain": [
              "  0%|          | 0/2344 [00:00<?, ?it/s]"
            ]
          },
          "metadata": {}
        },
        {
          "output_type": "stream",
          "name": "stdout",
          "text": [
            "[Epoch: 25/25]  [Training Loss: 0.006] \n"
          ]
        }
      ]
    },
    {
      "cell_type": "code",
      "metadata": {
        "colab": {
          "base_uri": "https://localhost:8080/",
          "height": 66,
          "referenced_widgets": [
            "af11d4f73b7c4b3c95884e2bb32c689e",
            "ba9dd789186741b0a0c6d32211803582",
            "ad481ca696a54be6bcd0f42e454a61f1",
            "258e91e96f134200a075b1f5e08794e5",
            "e0feb319326b4957a398b54f72113ac3",
            "e80902bee3a54b4ca0913ca81d196e61",
            "8fc1f0a85ae24a8388936b661df9eba1",
            "6d73d8ca08ce454fb77d24998a157c86",
            "ef379df44c3d46c3b0e2bf0017218f1f",
            "8192f1305e9f4e3098147cbe59c0edd6",
            "5cebe800ee9e4f07bb96ec4d60a7adb0"
          ]
        },
        "id": "frCBAEXdwQao",
        "outputId": "37e999d4-df3f-4769-e61c-b6eb38197fb8"
      },
      "source": [
        "X_test = torch.from_numpy(test_input).type(torch.LongTensor)\n",
        "X_test = X_test.view(-1, 1,56,56).float()\n",
        "transform = transforms.Compose([transforms.Normalize(mean=[mean], std=[std])])\n",
        "test_loader = getDataLoader(X_test, X_test, transforms=[transform], batch_size=64, shuffle=False)\n",
        " \n",
        " \n",
        "test_result = []\n",
        "net.eval()\n",
        "with torch.no_grad():\n",
        "   for images, labels in tqdm(test_loader):\n",
        "     # print(images.shape)\n",
        "     if torch.cuda.is_available():\n",
        "         images, labels = images.cuda(), labels.cuda()\n",
        "     test_out = net(images).cpu().detach().numpy()\n",
        "     #print(\"test_out:\", test_out.shape)\n",
        "     test_result.extend(list(test_out))\n",
        "     #print(\"test_result:\", test_result.shape)\n",
        "   test_result = np.array(test_result)\n",
        "   print(test_result.shape)\n",
        "   test_result = write_out_preds(test_result)\n",
        "   make_csv(test_result, name=\"group7_1\")\n",
        "\n",
        "\n"
      ],
      "execution_count": null,
      "outputs": [
        {
          "output_type": "display_data",
          "data": {
            "application/vnd.jupyter.widget-view+json": {
              "model_id": "af11d4f73b7c4b3c95884e2bb32c689e",
              "version_minor": 0,
              "version_major": 2
            },
            "text/plain": [
              "  0%|          | 0/235 [00:00<?, ?it/s]"
            ]
          },
          "metadata": {}
        },
        {
          "output_type": "stream",
          "name": "stdout",
          "text": [
            "(15000, 36)\n"
          ]
        }
      ]
    },
    {
      "cell_type": "markdown",
      "metadata": {
        "id": "wPvGRTQSH10g"
      },
      "source": [
        "## Attempt to use unlabeled data as training data\n"
      ]
    },
    {
      "cell_type": "markdown",
      "metadata": {
        "id": "V0pK3JZvITCN"
      },
      "source": [
        "**First fit the model with labeled data**"
      ]
    },
    {
      "cell_type": "code",
      "metadata": {
        "id": "P8V6phNQH6lz"
      },
      "source": [
        "net = ResNet18()\n",
        "if torch.cuda.is_available():\n",
        "    net.cuda()\n",
        "\n",
        "optimizer = optim.SGD(net.parameters(), lr=1e-3, momentum=0.95, weight_decay=1e-5)\n",
        "\n",
        "loss_function = nn.BCELoss()\n",
        "X_train, y_train = train_input, train_label\n",
        "X_train = torch.from_numpy(X_train).type(torch.LongTensor)\n",
        "X_train = X_train.view(-1, 1,56,56).float()\n",
        "y_train = torch.from_numpy(y_train).type(torch.LongTensor)\n",
        "\n",
        "mean = X_train.mean()\n",
        "std = X_train.std()\n",
        "\n",
        "transform = transforms.Compose([transforms.Normalize(mean=[mean], std=[std])])\n",
        "transform_aug1 = transforms.Compose([transforms.Normalize(mean=[mean], std=[std]), transforms.RandomAffine(degrees=(-15,0), translate=(0.01, 0.01), fill=0, shear=0.15)])\n",
        "transform_aug2 = transforms.Compose([transforms.Normalize(mean=[mean], std=[std]), transforms.RandomAffine(degrees=(0,15), translate=(0.01, 0.01), fill=0, shear=0.15)])\n",
        "\n",
        "train_loader = getDataLoader(X_train, y_train, transforms=[transform, transform_aug1, transform_aug2])"
      ],
      "execution_count": null,
      "outputs": []
    },
    {
      "cell_type": "code",
      "metadata": {
        "colab": {
          "base_uri": "https://localhost:8080/",
          "height": 148,
          "referenced_widgets": [
            "15d08de0422946e1a90f8f44356e8d7a",
            "4a3222fe4c184ce39d04171c754831ae",
            "641e23420cf84753bf4aaa27c88a374f",
            "4c2f66bdb0ac48a6bbd4aee2cb662f30",
            "65f5b497b85f445a9180d5307e23ad27",
            "16e68bc394824f9496a20181195b8523",
            "1b31e41fee54475b886ffa4fef1fbebe",
            "9b08091e184a4a5ca65aac9ef11b0fe6",
            "9f825e6bbac440e29a024fa863c182f0",
            "3d54fbcc704545d7a9e9932c4edd2697",
            "0fa9267a0e7d497aacb70c8429cfc6f6",
            "dd3fff7ddf8442d197078c6b6f8bdbcb",
            "70c001d41a34472c9ad6554fd079bd33",
            "a9f83ffa24ff43aa97c05fbe4de90d60",
            "8780982c235047d3aba95f8532de96a6",
            "970d662663094d37a74c1cee8083a3d7",
            "ee7927e5169143dfb5e6de0cd94163c9",
            "10873bdd077c4218b0e88cdbcab278ab",
            "e9c690d78b6545969df5f782c97e67bf",
            "aa22693f30c148b8bd29827b1b1b2627",
            "61e118413b6144d687482cd18d56d23d",
            "fc7e754be04b475f819ac8c3211de806",
            "3242278649b6482383eb38f4dcd9c3c9",
            "06e2b2f918cc49869c45d114120b3363",
            "6c59ac59e9d54dfd8f06e1c58a14035e",
            "c58f77934c9e40399776d06b910a4ba7",
            "b8596a81663e4966814447819e528889",
            "507bb264ec3241708fab366deb41856c",
            "c3dde2fcf00f4a808bba18e163fafc41",
            "4a9ce35fa26e4ec1986eef52809706b1",
            "7760ada6668c4d899bf53a8ce9f944f4",
            "064e345b16ae4351ae199aac2fe38082",
            "05665ad060c944c89db1f082f43e4323"
          ]
        },
        "id": "XKMoU5EYIaz1",
        "outputId": "36853a3f-4c73-47a4-ce30-0373b7b4648e"
      },
      "source": [
        "tl, vl, ta, va = fit_model(net, train_loader=train_loader, test_loader=None, epochs=20)"
      ],
      "execution_count": null,
      "outputs": [
        {
          "output_type": "display_data",
          "data": {
            "application/vnd.jupyter.widget-view+json": {
              "model_id": "15d08de0422946e1a90f8f44356e8d7a",
              "version_minor": 0,
              "version_major": 2
            },
            "text/plain": [
              "  0%|          | 0/1407 [00:00<?, ?it/s]"
            ]
          },
          "metadata": {}
        },
        {
          "output_type": "stream",
          "name": "stdout",
          "text": [
            "[Epoch: 1/20]  [Training Loss: 0.213]  [Training Accuracy: 0.008]\n"
          ]
        },
        {
          "output_type": "display_data",
          "data": {
            "application/vnd.jupyter.widget-view+json": {
              "model_id": "dd3fff7ddf8442d197078c6b6f8bdbcb",
              "version_minor": 0,
              "version_major": 2
            },
            "text/plain": [
              "  0%|          | 0/1407 [00:00<?, ?it/s]"
            ]
          },
          "metadata": {}
        },
        {
          "output_type": "stream",
          "name": "stdout",
          "text": [
            "[Epoch: 2/20]  [Training Loss: 0.194]  [Training Accuracy: 0.019]\n"
          ]
        },
        {
          "output_type": "display_data",
          "data": {
            "application/vnd.jupyter.widget-view+json": {
              "model_id": "3242278649b6482383eb38f4dcd9c3c9",
              "version_minor": 0,
              "version_major": 2
            },
            "text/plain": [
              "  0%|          | 0/1407 [00:00<?, ?it/s]"
            ]
          },
          "metadata": {}
        }
      ]
    },
    {
      "cell_type": "markdown",
      "metadata": {
        "id": "Hxf91GxSI9Y-"
      },
      "source": [
        "**Predict the output on unlabeled data**"
      ]
    },
    {
      "cell_type": "code",
      "metadata": {
        "colab": {
          "base_uri": "https://localhost:8080/",
          "height": 66,
          "referenced_widgets": [
            "f32c5b2a955d425a8e5b16ae77f58cd6",
            "7be85384d03d4b2a93822ba5ba381e8a",
            "e02e7b9186a548bc96bc12299e686082",
            "70f0fac038764b84a50680789ac96c07",
            "d45ed310bf764bd2b574bd73586367bc",
            "5395a6c8212a4edf90c8db40aa572eb6",
            "ec8e5fec6aba48aba3231dcfd53586ac",
            "cfe92e464d42478a99f6ddefc63bce28",
            "ef3e0d0a73f94f1a9cd543ba940d4285",
            "ebdb9bd068634aada38e8f3967af122c",
            "bb8c28eb160b4c0bbfaf93bdfaada09d"
          ]
        },
        "id": "6f8islQIIcq3",
        "outputId": "79c0a857-0f46-4fd0-d32d-0a03d11ec224"
      },
      "source": [
        "X_unlabeled = torch.from_numpy(train_unlabeled).type(torch.LongTensor)\n",
        "X_unlabeled = X_unlabeled.view(-1, 1,56,56).float()\n",
        "transform = transforms.Compose([transforms.Normalize(mean=[mean], std=[std])])\n",
        "test_loader = getDataLoader(X_unlabeled, X_unlabeled, transforms=[transform], batch_size=64, shuffle=False)\n",
        " \n",
        "test_result = []\n",
        "net.eval()\n",
        "with torch.no_grad():\n",
        "   for images, labels in tqdm(test_loader):\n",
        "     # print(images.shape)\n",
        "     if torch.cuda.is_available():\n",
        "         images, labels = images.cuda(), labels.cuda()\n",
        "     test_out = net(images).cpu().detach().numpy()\n",
        "     test_result.extend(list(test_out))\n",
        "   test_result = np.array(test_result)\n",
        "   print(test_result.shape)\n"
      ],
      "execution_count": null,
      "outputs": [
        {
          "output_type": "display_data",
          "data": {
            "application/vnd.jupyter.widget-view+json": {
              "model_id": "f32c5b2a955d425a8e5b16ae77f58cd6",
              "version_minor": 0,
              "version_major": 2
            },
            "text/plain": [
              "  0%|          | 0/469 [00:00<?, ?it/s]"
            ]
          },
          "metadata": {}
        },
        {
          "output_type": "stream",
          "name": "stdout",
          "text": [
            "(30000, 36)\n"
          ]
        }
      ]
    },
    {
      "cell_type": "markdown",
      "metadata": {
        "id": "loZXEmwkJIJN"
      },
      "source": [
        "**Keep predictions with high confidence score**"
      ]
    },
    {
      "cell_type": "code",
      "metadata": {
        "id": "jKkH5SGnBJ5S"
      },
      "source": [
        "nums, letts = test_result[:, :10], test_result[:, 10:]"
      ],
      "execution_count": null,
      "outputs": []
    },
    {
      "cell_type": "code",
      "metadata": {
        "id": "-bfqw6l_BSos"
      },
      "source": [
        "nums_indices = np.isclose(np.max(nums, axis=1), np.ones(nums.shape[0]), rtol=3e-1)\n",
        "letts_indices = np.isclose(np.max(letts, axis=1), np.ones(letts.shape[0]), rtol=3e-1)\n",
        "intersection = np.logical_and(nums_indices, letts_indices)\n",
        "good_preds = test_result[intersection, :]"
      ],
      "execution_count": null,
      "outputs": []
    },
    {
      "cell_type": "code",
      "metadata": {
        "id": "z_2O4l43EbF7",
        "colab": {
          "base_uri": "https://localhost:8080/"
        },
        "outputId": "5f2768e5-151b-49c2-d3fd-90840404d213"
      },
      "source": [
        "np.count_nonzero(nums_indices), np.count_nonzero(letts_indices)"
      ],
      "execution_count": null,
      "outputs": [
        {
          "output_type": "execute_result",
          "data": {
            "text/plain": [
              "(14358, 20418)"
            ]
          },
          "metadata": {},
          "execution_count": 40
        }
      ]
    },
    {
      "cell_type": "code",
      "metadata": {
        "id": "MCp41RdXELvH",
        "colab": {
          "base_uri": "https://localhost:8080/"
        },
        "outputId": "ddb01159-609a-4650-f805-6ed6f06b26f8"
      },
      "source": [
        "good_preds.shape, test_result.shape"
      ],
      "execution_count": null,
      "outputs": [
        {
          "output_type": "execute_result",
          "data": {
            "text/plain": [
              "((18810, 36), (30000, 36))"
            ]
          },
          "metadata": {},
          "execution_count": 44
        }
      ]
    },
    {
      "cell_type": "code",
      "metadata": {
        "id": "YVMc09NjLpn9"
      },
      "source": [
        "good_preds = write_out_preds(good_preds)"
      ],
      "execution_count": null,
      "outputs": []
    },
    {
      "cell_type": "code",
      "metadata": {
        "id": "qgQyiUldL0gD"
      },
      "source": [
        "\n",
        "X_train = np.concatenate((train_input, train_unlabeled[intersection, :]), axis=0)\n",
        "y_train = np.concatenate((train_label, good_preds), axis=0)"
      ],
      "execution_count": null,
      "outputs": []
    },
    {
      "cell_type": "code",
      "metadata": {
        "colab": {
          "base_uri": "https://localhost:8080/"
        },
        "id": "_ikhmVbuVlnc",
        "outputId": "dc61131b-b589-4266-fda2-69b553fc6277"
      },
      "source": [
        "X_train.shape"
      ],
      "execution_count": null,
      "outputs": [
        {
          "output_type": "execute_result",
          "data": {
            "text/plain": [
              "(48810, 56, 56)"
            ]
          },
          "metadata": {},
          "execution_count": 51
        }
      ]
    },
    {
      "cell_type": "code",
      "metadata": {
        "id": "WqqC15knNC0D"
      },
      "source": [
        "optimizer = optim.SGD(net.parameters(), lr=1e-3, momentum=0.95, weight_decay=1e-5)\n",
        "loss_function = nn.BCELoss()\n",
        "\n",
        "X_train = torch.from_numpy(X_train).type(torch.LongTensor)\n",
        "X_train = X_train.view(-1, 1,56,56).float()\n",
        "y_train = torch.from_numpy(y_train).type(torch.LongTensor)\n",
        "\n",
        "mean = X_train.mean()\n",
        "std = X_train.std()\n",
        "\n",
        "transform = transforms.Compose([transforms.Normalize(mean=[mean], std=[std])])\n",
        "transform_aug1 = transforms.Compose([transforms.Normalize(mean=[mean], std=[std]), transforms.RandomAffine(degrees=(-15,0), translate=(0.01, 0.01), fill=0, shear=0.15)])\n",
        "transform_aug2 = transforms.Compose([transforms.Normalize(mean=[mean], std=[std]), transforms.RandomAffine(degrees=(0,15), translate=(0.01, 0.01), fill=0, shear=0.15)])\n",
        "\n",
        "train_loader = getDataLoader(X_train, y_train, transforms=[transform, transform_aug1, transform_aug2])"
      ],
      "execution_count": null,
      "outputs": []
    },
    {
      "cell_type": "code",
      "metadata": {
        "colab": {
          "base_uri": "https://localhost:8080/",
          "height": 1000,
          "referenced_widgets": [
            "7d0856e668ea416d95b56ad04e63508b",
            "ece4ac07fe1741189801f8027b3cf1d2",
            "7aa18b7a42cd43398c9c2a4fe9d45e05",
            "970066e0ef87498fb69fce9eeb2d3ccb",
            "8e94c442f714468fa334fc95d1997302",
            "b8d8919f08e64b0280b5570fb7ec45b9",
            "c9043fa28f2e4970b31513c1f31b57d1",
            "d03b09bc4fd04776946df1c2f99ba736",
            "e6ded476f26b43f8aefd554885a3a5bd",
            "f29253b801f94ec487b71ffb6633fa3f",
            "fb90f0bbdfc34863ba7e705d97dcff3c",
            "b65d7ff6f6c3436ba11ee929a72adf20",
            "cebf9eded7e243b991630d3474588b76",
            "c618d602df264547b89c7c19e6e7e303",
            "175527af06674c1bbfbdfd1632b35aaa",
            "3da44e3dfb3246ff8012a6c68ef5a9ba",
            "52995546772e44c088c326b64e3fc4f8",
            "5a9caf7d49e94cafa388ce9fb5e762d2",
            "57ed34772ec248f48906ef746ca5a7f0",
            "0ae67a14a74a4cf09e2ecae213ad4917",
            "33a6442b189b4f17817adbc98c1a2106",
            "803e7b7a26184b5ab6cee875cafa2fa3",
            "7535a8f057cf4414be42cac649addd66",
            "122622cfdd1142499a44af905c2a5e8d",
            "1f3778593a544900aa68cf7c159c8c9a",
            "bd5fcf05a02e404eaf2d63d606f6f3f4",
            "8a0ae0be0f2a4a2db725bc0a3aac1920",
            "6c76689cae444b2baf82a4318f51d049",
            "02eb21c81aa6403687cdf920ce183d97",
            "13273a06dd464ba2ae398ce3f90ceac8",
            "cca98225b08444e784e8863481218b3f",
            "6e0e7a1bd3124cca84fe18370f166a9f",
            "d5defd93e5f84a74a08ff261a27310f0",
            "91132013d45f45fe9cb2243e143cc59a",
            "8f157c49212b4d8193f7de69db4035be",
            "c6c4a8a57c9947b08147c9871f1e5f59",
            "e4732b1611db412abd6e8e9665470001",
            "d8b2f1f3a4a6437f96a5d7acb90fb4a6",
            "5b8324ff4bb34dce9264405d07d9effe",
            "292810e0a4f14a2f9fe1e30e91b96897",
            "2ecf935435944a97b2e0361cb8452bae",
            "a045a28a4cae47308c5d495b9a7d934d",
            "5f6b516251f544acbd27d28e6a3088ac",
            "f412afd2fe09466c879b6b6a143e555a",
            "8f5e3a836920457f9ae1505674ddffa9",
            "5ae20dfd4fe74eb7b5e262c42b1df5ae",
            "cc235ae2a4df4be584f11d24fc80d008",
            "8096feda351f4ef2a3668da7ff5fed17",
            "5056cf96adb643218bd0ffd86ffa9775",
            "8e0b4ea4b75f4c2784fb4dce645c34e7",
            "d959386bb78646efab967c4dd7cad5aa",
            "87232b58dc1e456da9708feade36e7d6",
            "0d60397f6e414b76816cbbfddc3271d7",
            "2a84a98e4eeb4aed8a6f07b9e874c3e5",
            "5eb915f999ee4f44954854fa22a399f5",
            "85119cf5d80d453ba1a36f9c73b2ac0e",
            "ed26d140e81f44e7b46899ca08dc954b",
            "77d64785cb314789a93bdfb7e68b5f29",
            "7607ace8f49743d29dd489f3d550c881",
            "8320e0be80d14e2199803c683b4bcaf9",
            "b779d4de293c462b950e7159dfee4dec",
            "7b387f9c176747199e8c8109fe8f82f5",
            "07ee0c76a55b4586b7d09aa2757c16cf",
            "e8ed698f461a4bc8868f1b991f3cf9db",
            "6db2637204204e8591f4966d6fb4d118",
            "069006893c5e43189cd06446e3cacf78",
            "bae3b8165ba942f3aeec4900fcc677c4",
            "a0e3943dc2ba451d9c7b0bdea49fa8c7",
            "1fe6261686b44bad81558ca5a9fccec0",
            "21650251efea451a87a0548050718492",
            "d7e06b79806544e6a754d47a67355ad2",
            "56fddfa07105471f9c4d144a190a44b3",
            "94d2f1859737439f926af047583e793f",
            "1ada5ab22e78464781ed161fc95fc26c",
            "77dcc84f173041f384aa637dd554e658",
            "5619f305c34d4e7c860248db410952d3",
            "a78c5e3a3c7b4bfdaf83ee90686dcabe",
            "6b66a84fa9544eae8632b135fd341aea",
            "0634bef53361438aa3567dd5b5f181d6",
            "40731801fbdc4430a60ec1b40dfd07bb",
            "12a5d2ad181a4b1d972cf1252e15e5a2",
            "6bbff7020e66435abc4151dccb5f4179",
            "491fe6cd73124b3aabff88fc29f35766",
            "ffe218e238904d41b7fe6bb3597929a7",
            "1bd04a7431b3408b92ede980db8c123d",
            "bc6778c0cac24ff2a2700dcacbc491ef",
            "c1c584e7c9ea41febf23b538cbef3be8",
            "1ae977365d814c1a8028b7a917b62db7",
            "718b900a0785457d8b50abe8250a9432",
            "c15e06b7cfad4f1fabca8c42ac2e4806",
            "7fd16bfd1eb04b45bbeb4fff8a12c896",
            "abb49627d82646df94afc2c13e7b0133",
            "584f1d3ecf254d01abc733b26b892130",
            "397f10a341b24de5a9ab8911af042df0",
            "2546a9527da0440f8345a09761397e80",
            "0f3983b3b37d49e8b8d7dd1ecd38b82b",
            "9c6349bfbf5c47f999f61cf415f81e5c",
            "0f19133fdabf40d3ab3d5121ab4b374f",
            "d471fba2e7b043fcbaf34136850c79c9",
            "90b65ffb95ed4c3aa34bfd19d3925325",
            "54644daa744041f49ed8cada599a7ae5",
            "da5f2ae085a64623a7f02ea7febb2579",
            "e3237e837ecc415a9deb3293b9c6ba0c",
            "6a86c2912356464dbf861b094327c160",
            "4ec468af756542eab515fbb69e72ee91",
            "abab5e79d4e843f786fe0978fbb4646b",
            "c70254334e574da7adb09f80f4e96a0d",
            "e128ec1694c74ee790ef2da58b3ae97e",
            "7237a16fab5440eb94ebef630790e502",
            "15f6c952bca74109902fb7a7c158645c",
            "04bf2da630ac417db375e9e471a51d5c",
            "3911ed89ee26420fbea27e6c0d5d2d26",
            "33796725b6364ab491472e020997cabf",
            "39e82c37a783430f8335836253b1a957",
            "a51ef5a7e70941aa90cbd5f911229b90",
            "73673c6978df49e5aa58a119263a767f",
            "95903c0809fd4ebe8760059626fa2654",
            "435c1589c35b40e191b38f77c5ca8491",
            "1ebef03b1af44e1fb77de38a727f77ef",
            "3db0cb6c5a8e4b11b6baac0e53c8f219",
            "45f6c38e43674e019de9d54ad8a40022",
            "2de430ed25824de8888d301bdcf228ed",
            "70050037c3a548f892fe30a0a2efe2a5",
            "24d240fa13084108909177dab4ab1e6e",
            "f37482b971b44870902e290e2b1e7ca2",
            "92202e285ca54c9791cf8df99c62cc26",
            "5c6139c70c7a45cb90f0fe2fe47086bb",
            "208e850d87cf4920ae5d5298539480db",
            "6af625b03b3343c4be63cb6794025eff",
            "df7fdb9b08954477a65f911cd362aefd",
            "0a4fb64c45d6469f9b63760dd5a4734d",
            "43645e94e481407d8486a6dadefc0e2d",
            "922a3fa56d264882bcff6a67f2a1d47f",
            "320ddf2d71124f49aa67a9f709695916",
            "e368f68dda274186991cae2302a43aa9",
            "35c97330997046068203877e92271869",
            "76745516b47d4611834b8bd9fe65278c",
            "50d1ee2f1c32477ca9ff21a597507608",
            "6e231d7de1164366a240a653733af3ba",
            "e7a17f6cdfa84e429792bc5b689075cd",
            "7e08c0a326624514a05ac4b80d83a55f",
            "c2da0aeadbcd4e20a7dcbe9ad692de39",
            "350bcd32f5c349f3a9d6a3a711f2987a",
            "d89e993799c14882a2b0302877714d55",
            "69bb9cb6ca044f3e90913b82b398a0a8",
            "02db3f45ec5c4eca851847bb73f2de35",
            "82cffdf527df468ab367acece2afd565",
            "c26176d96dde42239d2a30de5cc127c7",
            "934043a381ad4ba2b2dfb9a1989ca2e0",
            "e0876f0d7f4d42539358b4ca3922bbc3",
            "2ccf5c3b041047f3b509cabaff5a7a41",
            "494201d527424ed898198ec6de1007df",
            "1e57c6dcafe041d295a2094b70cccf1f",
            "e675c541d169450eb390f16557ff9636",
            "614495947f984700ae0856d89b71f9a2",
            "4911bb99fb3f424d944074c3414a34dd",
            "79b7fa823ce84317a8488e58001a0d92",
            "1e00b6c9eddd47b5a509227884482a3a",
            "b94daeb62d5540e79a24307c152c3702",
            "465c28d154834f288bc9e6ea02265657",
            "c777c59782354066bf587b3940c76c74",
            "239f23be7f7c4c30b076579aa6e18d6d",
            "67a56b8fb6384afda56576509c58a152",
            "e0ae1239877349d3bcff0de469cb619a",
            "a4ef9bb3156c46529d94bede8198d487",
            "e001fdd441c74d41be404d5f674767cc",
            "b4d3802a9ca6427f9910e8bf72058710",
            "99468eaa7ae64073a5615132918f24b7",
            "2b4303e785ed40a8a3e21f86f31bbcd4",
            "5cb869ca17dd4013bd44e4a8b5b04c12",
            "f9e85ccee8094eb9bd486deb28e92fb9",
            "a34617451d3f4f6db33b63a1a9495e23",
            "7b6db0bb4c81448d97be08e8182b4515",
            "179f3fb9302549afbc8b7b74c9a98dd2",
            "a3097f478e7548d4872e4cf18328c1d0",
            "e9439ce6c7f9423ab256ac7bd5ffc560",
            "546618dbbc32445f9e39e3e054cc0066",
            "c855fcde094d4b16bd3d8f4f48132aec",
            "7fc47a78b7664a1391a3b97df4f2dc68",
            "d8324e0f5fdf4d30b36514a93c1575a3",
            "e8e75c8d78c64229b681a0cab3e12c71",
            "bb993f9e76f349aeb49e3c18f3e761f1",
            "bdb6846cc1134dce80125a31821124ca",
            "85f1be2bd439485f93ab11353d6223a2",
            "4465b94e2d1d4a1cbbd74c17c682bea7",
            "828cfcaea264428b8c4453eb0759693c",
            "443df3199f30427da3f52883fccc73b3",
            "2389b89542ef48488995c4aece06fa6b",
            "3f6a03062b744419ac830149fea7c33d",
            "7cc2eed8ddff4a38a40dc71397228e21",
            "d915bc67e3974aa4a2da05a8c10c06fb",
            "6fa1f473bad3433492d515ebf5b13f8c",
            "d9788118f83d4701b87a89571ef87ddd",
            "8d85b213f4f34c6faedc59637f07f1a3",
            "0b4cc7c5e43a4680b530d94f76efcba4",
            "32dc97547ce246c38c6d21377d88236d",
            "108e604affdf4180ad9cc54a4ea69226",
            "c551fbe0cb0c408493ce4b3d93f365c8",
            "403cde52cf914e93a6b65a8a83306262",
            "fd8bff81bfad4a03b1f8c351c57a82b9",
            "66d41bb00d6c4dfb80d6bfa4a711617e",
            "17779efc5a4640f8ae216a2328ec1711",
            "a66be5b2ef1c441884b5fc09d0d3a5f6",
            "0cea8e9146694009a278e1d130d03b65",
            "92801e0e6b4944c4b6028c62d9ac59a2",
            "3af212d6faf645cb82a2d3bcfdf37b64",
            "04cb1151dbef4524bf9fb76c91cdc965",
            "5bc1cacbadbf491495d846f1336b40ae",
            "a5255e5cee164957b7a39de8271c526a",
            "2f476a5f9717498797de192767b63e86",
            "6ab8fd011fb541118e376b2c990e1084",
            "4cb6ad7b1a52497d8d4123a27ebf67f5",
            "bd9884aed9e648628dae972e2c57507d",
            "6aa2746fdd7d4e39ab929f8d55f12f49",
            "4632e2c3761e45c68ad5f3b7400f9c90",
            "6087db5e8c3d4b16a0839cf32ac102d8",
            "781d79887d5446e9aa662d22aa4d35c3",
            "6adb003f0d204eb2b108f3a82a9b219f",
            "8a3265c1995e4cb09d9c602f2bc4543f",
            "23dbe3f0af91491388f9a14107df6aa7"
          ]
        },
        "id": "3uwJlFfHN2yl",
        "outputId": "05e06aef-7bd2-4d47-8348-1d243b0a3058"
      },
      "source": [
        "tl, vl, ta, va = fit_model(net, train_loader=train_loader, test_loader=None, epochs=10)"
      ],
      "execution_count": null,
      "outputs": [
        {
          "data": {
            "application/vnd.jupyter.widget-view+json": {
              "model_id": "7d0856e668ea416d95b56ad04e63508b",
              "version_major": 2,
              "version_minor": 0
            },
            "text/plain": [
              "  0%|          | 0/2288 [00:00<?, ?it/s]"
            ]
          },
          "metadata": {},
          "output_type": "display_data"
        },
        {
          "metadata": {
            "tags": null
          },
          "name": "stdout",
          "output_type": "stream",
          "text": [
            "[Epoch: 1/20]  [Training Loss: 0.019] \n"
          ]
        },
        {
          "data": {
            "application/vnd.jupyter.widget-view+json": {
              "model_id": "b65d7ff6f6c3436ba11ee929a72adf20",
              "version_major": 2,
              "version_minor": 0
            },
            "text/plain": [
              "  0%|          | 0/2288 [00:00<?, ?it/s]"
            ]
          },
          "metadata": {},
          "output_type": "display_data"
        },
        {
          "metadata": {
            "tags": null
          },
          "name": "stdout",
          "output_type": "stream",
          "text": [
            "[Epoch: 2/20]  [Training Loss: 0.016] \n"
          ]
        },
        {
          "data": {
            "application/vnd.jupyter.widget-view+json": {
              "model_id": "7535a8f057cf4414be42cac649addd66",
              "version_major": 2,
              "version_minor": 0
            },
            "text/plain": [
              "  0%|          | 0/2288 [00:00<?, ?it/s]"
            ]
          },
          "metadata": {},
          "output_type": "display_data"
        },
        {
          "metadata": {
            "tags": null
          },
          "name": "stdout",
          "output_type": "stream",
          "text": [
            "[Epoch: 3/20]  [Training Loss: 0.014] \n"
          ]
        },
        {
          "data": {
            "application/vnd.jupyter.widget-view+json": {
              "model_id": "91132013d45f45fe9cb2243e143cc59a",
              "version_major": 2,
              "version_minor": 0
            },
            "text/plain": [
              "  0%|          | 0/2288 [00:00<?, ?it/s]"
            ]
          },
          "metadata": {},
          "output_type": "display_data"
        },
        {
          "output_type": "stream",
          "name": "stdout",
          "text": [
            "[Epoch: 4/20]  [Training Loss: 0.013] \n"
          ]
        },
        {
          "output_type": "display_data",
          "data": {
            "application/vnd.jupyter.widget-view+json": {
              "model_id": "8f5e3a836920457f9ae1505674ddffa9",
              "version_minor": 0,
              "version_major": 2
            },
            "text/plain": [
              "  0%|          | 0/2288 [00:00<?, ?it/s]"
            ]
          },
          "metadata": {}
        },
        {
          "output_type": "stream",
          "name": "stdout",
          "text": [
            "[Epoch: 5/20]  [Training Loss: 0.012] \n"
          ]
        },
        {
          "output_type": "display_data",
          "data": {
            "application/vnd.jupyter.widget-view+json": {
              "model_id": "85119cf5d80d453ba1a36f9c73b2ac0e",
              "version_minor": 0,
              "version_major": 2
            },
            "text/plain": [
              "  0%|          | 0/2288 [00:00<?, ?it/s]"
            ]
          },
          "metadata": {}
        },
        {
          "output_type": "stream",
          "name": "stdout",
          "text": [
            "[Epoch: 6/20]  [Training Loss: 0.011] \n"
          ]
        },
        {
          "output_type": "display_data",
          "data": {
            "application/vnd.jupyter.widget-view+json": {
              "model_id": "bae3b8165ba942f3aeec4900fcc677c4",
              "version_minor": 0,
              "version_major": 2
            },
            "text/plain": [
              "  0%|          | 0/2288 [00:00<?, ?it/s]"
            ]
          },
          "metadata": {}
        },
        {
          "output_type": "stream",
          "name": "stdout",
          "text": [
            "[Epoch: 7/20]  [Training Loss: 0.010] \n"
          ]
        },
        {
          "output_type": "display_data",
          "data": {
            "application/vnd.jupyter.widget-view+json": {
              "model_id": "6b66a84fa9544eae8632b135fd341aea",
              "version_minor": 0,
              "version_major": 2
            },
            "text/plain": [
              "  0%|          | 0/2288 [00:00<?, ?it/s]"
            ]
          },
          "metadata": {}
        },
        {
          "output_type": "stream",
          "name": "stdout",
          "text": [
            "[Epoch: 8/20]  [Training Loss: 0.009] \n"
          ]
        },
        {
          "output_type": "display_data",
          "data": {
            "application/vnd.jupyter.widget-view+json": {
              "model_id": "718b900a0785457d8b50abe8250a9432",
              "version_minor": 0,
              "version_major": 2
            },
            "text/plain": [
              "  0%|          | 0/2288 [00:00<?, ?it/s]"
            ]
          },
          "metadata": {}
        },
        {
          "output_type": "stream",
          "name": "stdout",
          "text": [
            "[Epoch: 9/20]  [Training Loss: 0.008] \n"
          ]
        },
        {
          "output_type": "display_data",
          "data": {
            "application/vnd.jupyter.widget-view+json": {
              "model_id": "90b65ffb95ed4c3aa34bfd19d3925325",
              "version_minor": 0,
              "version_major": 2
            },
            "text/plain": [
              "  0%|          | 0/2288 [00:00<?, ?it/s]"
            ]
          },
          "metadata": {}
        },
        {
          "output_type": "stream",
          "name": "stdout",
          "text": [
            "[Epoch: 10/20]  [Training Loss: 0.008] \n"
          ]
        },
        {
          "output_type": "display_data",
          "data": {
            "application/vnd.jupyter.widget-view+json": {
              "model_id": "04bf2da630ac417db375e9e471a51d5c",
              "version_minor": 0,
              "version_major": 2
            },
            "text/plain": [
              "  0%|          | 0/2288 [00:00<?, ?it/s]"
            ]
          },
          "metadata": {}
        },
        {
          "output_type": "stream",
          "name": "stdout",
          "text": [
            "[Epoch: 11/20]  [Training Loss: 0.007] \n"
          ]
        },
        {
          "output_type": "display_data",
          "data": {
            "application/vnd.jupyter.widget-view+json": {
              "model_id": "2de430ed25824de8888d301bdcf228ed",
              "version_minor": 0,
              "version_major": 2
            },
            "text/plain": [
              "  0%|          | 0/2288 [00:00<?, ?it/s]"
            ]
          },
          "metadata": {}
        },
        {
          "output_type": "stream",
          "name": "stdout",
          "text": [
            "[Epoch: 12/20]  [Training Loss: 0.007] \n"
          ]
        },
        {
          "output_type": "display_data",
          "data": {
            "application/vnd.jupyter.widget-view+json": {
              "model_id": "922a3fa56d264882bcff6a67f2a1d47f",
              "version_minor": 0,
              "version_major": 2
            },
            "text/plain": [
              "  0%|          | 0/2288 [00:00<?, ?it/s]"
            ]
          },
          "metadata": {}
        },
        {
          "output_type": "stream",
          "name": "stdout",
          "text": [
            "[Epoch: 13/20]  [Training Loss: 0.007] \n"
          ]
        },
        {
          "output_type": "display_data",
          "data": {
            "application/vnd.jupyter.widget-view+json": {
              "model_id": "d89e993799c14882a2b0302877714d55",
              "version_minor": 0,
              "version_major": 2
            },
            "text/plain": [
              "  0%|          | 0/2288 [00:00<?, ?it/s]"
            ]
          },
          "metadata": {}
        },
        {
          "output_type": "stream",
          "name": "stdout",
          "text": [
            "[Epoch: 14/20]  [Training Loss: 0.006] \n"
          ]
        },
        {
          "output_type": "display_data",
          "data": {
            "application/vnd.jupyter.widget-view+json": {
              "model_id": "614495947f984700ae0856d89b71f9a2",
              "version_minor": 0,
              "version_major": 2
            },
            "text/plain": [
              "  0%|          | 0/2288 [00:00<?, ?it/s]"
            ]
          },
          "metadata": {}
        },
        {
          "output_type": "stream",
          "name": "stdout",
          "text": [
            "[Epoch: 15/20]  [Training Loss: 0.006] \n"
          ]
        },
        {
          "output_type": "display_data",
          "data": {
            "application/vnd.jupyter.widget-view+json": {
              "model_id": "e001fdd441c74d41be404d5f674767cc",
              "version_minor": 0,
              "version_major": 2
            },
            "text/plain": [
              "  0%|          | 0/2288 [00:00<?, ?it/s]"
            ]
          },
          "metadata": {}
        },
        {
          "output_type": "stream",
          "name": "stdout",
          "text": [
            "[Epoch: 16/20]  [Training Loss: 0.005] \n"
          ]
        },
        {
          "output_type": "display_data",
          "data": {
            "application/vnd.jupyter.widget-view+json": {
              "model_id": "546618dbbc32445f9e39e3e054cc0066",
              "version_minor": 0,
              "version_major": 2
            },
            "text/plain": [
              "  0%|          | 0/2288 [00:00<?, ?it/s]"
            ]
          },
          "metadata": {}
        },
        {
          "output_type": "stream",
          "name": "stdout",
          "text": [
            "[Epoch: 17/20]  [Training Loss: 0.005] \n"
          ]
        },
        {
          "output_type": "display_data",
          "data": {
            "application/vnd.jupyter.widget-view+json": {
              "model_id": "2389b89542ef48488995c4aece06fa6b",
              "version_minor": 0,
              "version_major": 2
            },
            "text/plain": [
              "  0%|          | 0/2288 [00:00<?, ?it/s]"
            ]
          },
          "metadata": {}
        },
        {
          "output_type": "stream",
          "name": "stdout",
          "text": [
            "[Epoch: 18/20]  [Training Loss: 0.005] \n"
          ]
        },
        {
          "output_type": "display_data",
          "data": {
            "application/vnd.jupyter.widget-view+json": {
              "model_id": "403cde52cf914e93a6b65a8a83306262",
              "version_minor": 0,
              "version_major": 2
            },
            "text/plain": [
              "  0%|          | 0/2288 [00:00<?, ?it/s]"
            ]
          },
          "metadata": {}
        },
        {
          "output_type": "stream",
          "name": "stdout",
          "text": [
            "[Epoch: 19/20]  [Training Loss: 0.005] \n"
          ]
        },
        {
          "output_type": "display_data",
          "data": {
            "application/vnd.jupyter.widget-view+json": {
              "model_id": "2f476a5f9717498797de192767b63e86",
              "version_minor": 0,
              "version_major": 2
            },
            "text/plain": [
              "  0%|          | 0/2288 [00:00<?, ?it/s]"
            ]
          },
          "metadata": {}
        },
        {
          "output_type": "stream",
          "name": "stdout",
          "text": [
            "[Epoch: 20/20]  [Training Loss: 0.004] \n"
          ]
        }
      ]
    },
    {
      "cell_type": "code",
      "metadata": {
        "colab": {
          "base_uri": "https://localhost:8080/",
          "height": 66,
          "referenced_widgets": [
            "850fe590a936470a8da726d6f7fb5576",
            "7cce12cb8968465497459cce9ab5eb49",
            "39b609900a2041a998e6183d6d1a862a",
            "f1ede9faef69450dabb887fe0ee7766d",
            "04990564a13a4cc3afafec54e677f1e8",
            "435b6520d46b4804b7e86893d6a1c6e9",
            "903601da2c83483c8ca576442a272d62",
            "194b0e1a7c8c4dda81ae6e7e2143bb1b",
            "b68e993c808b490aa630e89e786608f4",
            "b5c4d19cfa7849f5b488fa806fa68c59",
            "ab095a1d40e24740847f3fd38e011d67"
          ]
        },
        "id": "VQ7eW7j5Os_U",
        "outputId": "847f7c44-4819-49e0-ec2a-35718956c312"
      },
      "source": [
        "X_test = torch.from_numpy(test_input).type(torch.LongTensor)\n",
        "X_test = X_test.view(-1, 1,56,56).float()\n",
        "transform = transforms.Compose([transforms.Normalize(mean=[mean], std=[std])])\n",
        "test_loader = getDataLoader(X_test, X_test, transforms=[transform], batch_size=64, shuffle=False)\n",
        " \n",
        " \n",
        "test_result = []\n",
        "net.eval()\n",
        "with torch.no_grad():\n",
        "   for images, labels in tqdm(test_loader):\n",
        "     # print(images.shape)\n",
        "     if torch.cuda.is_available():\n",
        "         images, labels = images.cuda(), labels.cuda()\n",
        "     test_out = net(images).cpu().detach().numpy()\n",
        "     test_result.extend(list(test_out))\n",
        "   test_result = np.array(test_result)\n",
        "   print(test_result.shape)\n",
        "   test_result = write_out_preds(test_result)\n",
        "   make_csv(test_result, name=\"unlabeled_data\")\n"
      ],
      "execution_count": null,
      "outputs": [
        {
          "output_type": "display_data",
          "data": {
            "application/vnd.jupyter.widget-view+json": {
              "model_id": "850fe590a936470a8da726d6f7fb5576",
              "version_minor": 0,
              "version_major": 2
            },
            "text/plain": [
              "  0%|          | 0/235 [00:00<?, ?it/s]"
            ]
          },
          "metadata": {}
        },
        {
          "output_type": "stream",
          "name": "stdout",
          "text": [
            "(15000, 36)\n"
          ]
        }
      ]
    },
    {
      "cell_type": "markdown",
      "metadata": {
        "id": "8MfAGaixtZgf"
      },
      "source": [
        "# **Other models**"
      ]
    },
    {
      "cell_type": "markdown",
      "metadata": {
        "id": "KXHayZ4qwjs9"
      },
      "source": [
        "## VGG16"
      ]
    },
    {
      "cell_type": "markdown",
      "metadata": {
        "id": "h-5iR0_1Nchp"
      },
      "source": [
        "### Upscaling image to 224*224 for VGG16\n"
      ]
    },
    {
      "cell_type": "code",
      "metadata": {
        "id": "J1k31ifHN8s6"
      },
      "source": [
        "import cv2\n",
        "image = train_data[0]"
      ],
      "execution_count": null,
      "outputs": []
    },
    {
      "cell_type": "code",
      "metadata": {
        "id": "9RnYgfDLOmok"
      },
      "source": [
        "upscaled_img = cv2.resize(image, dsize=(224, 224), interpolation=cv2.INTER_CUBIC)\n",
        "upscaled_img = upscaled_img.reshape(upscaled_img.shape + (1,))"
      ],
      "execution_count": null,
      "outputs": []
    },
    {
      "cell_type": "code",
      "metadata": {
        "colab": {
          "base_uri": "https://localhost:8080/"
        },
        "id": "2OjnxW81OyUy",
        "outputId": "05469867-6ae7-401c-bf82-4e43e4f4df3d"
      },
      "source": [
        "plt.imshow(tf.image.grayscale_to_rgb(tf.constant(upscaled_img)))"
      ],
      "execution_count": null,
      "outputs": [
        {
          "output_type": "execute_result",
          "data": {
            "text/plain": [
              "<matplotlib.image.AxesImage at 0x7f5db493b750>"
            ]
          },
          "metadata": {},
          "execution_count": 57
        },
        {
          "output_type": "display_data",
          "data": {
            "image/png": "[encoded data removed]",
            "text/plain": [
              "<Figure size 432x288 with 1 Axes>"
            ]
          },
          "metadata": {
            "needs_background": "light"
          }
        }
      ]
    },
    {
      "cell_type": "markdown",
      "metadata": {
        "id": "UVr-RJvsQJRH"
      },
      "source": [
        "**Denoise after upscaling**"
      ]
    },
    {
      "cell_type": "code",
      "metadata": {
        "id": "0Xq-SV_NPNx7"
      },
      "source": [
        "denoised_upscaled_img = denoise_img(upscaled_img,224)"
      ],
      "execution_count": null,
      "outputs": []
    },
    {
      "cell_type": "code",
      "metadata": {
        "colab": {
          "base_uri": "https://localhost:8080/"
        },
        "id": "4-urtNfePzZe",
        "outputId": "7fc550ff-5dfc-4009-ec78-eed50b1054a6"
      },
      "source": [
        "plt.imshow(tf.image.grayscale_to_rgb(tf.constant(denoised_upscaled_img)))"
      ],
      "execution_count": null,
      "outputs": [
        {
          "output_type": "execute_result",
          "data": {
            "text/plain": [
              "<matplotlib.image.AxesImage at 0x7f5db4922450>"
            ]
          },
          "metadata": {},
          "execution_count": 59
        },
        {
          "output_type": "display_data",
          "data": {
            "image/png": "[encoded data removed]",
            "text/plain": [
              "<Figure size 432x288 with 1 Axes>"
            ]
          },
          "metadata": {
            "needs_background": "light"
          }
        }
      ]
    },
    {
      "cell_type": "markdown",
      "metadata": {
        "id": "EPYEY_TXQOwA"
      },
      "source": [
        "**The algorithm doesn't work well with upscaled images, so let's try denoising then upscaling**"
      ]
    },
    {
      "cell_type": "code",
      "metadata": {
        "colab": {
          "base_uri": "https://localhost:8080/"
        },
        "id": "Lqr6mOXrQOMW",
        "outputId": "9a6ecf52-d27a-409e-b94c-0be2a5c14e6b"
      },
      "source": [
        "image = train_data[0]\n",
        "denoised_img = denoise_img(image,56, reshape=False)\n",
        "upscaled_denoised_img = cv2.resize(denoised_img, dsize=(224, 224), interpolation=cv2.INTER_CUBIC)\n",
        "upscaled_denoised_img = upscaled_denoised_img.reshape(upscaled_denoised_img.shape + (1,))\n",
        "plt.imshow(tf.image.grayscale_to_rgb(tf.constant(upscaled_denoised_img)))"
      ],
      "execution_count": null,
      "outputs": [
        {
          "output_type": "stream",
          "name": "stderr",
          "text": [
            "Clipping input data to the valid range for imshow with RGB data ([0..1] for floats or [0..255] for integers).\n"
          ]
        },
        {
          "output_type": "execute_result",
          "data": {
            "text/plain": [
              "<matplotlib.image.AxesImage at 0x7f5ed6639510>"
            ]
          },
          "metadata": {},
          "execution_count": 60
        },
        {
          "output_type": "display_data",
          "data": {
            "image/png": "[encoded data removed]",
            "text/plain": [
              "<Figure size 432x288 with 1 Axes>"
            ]
          },
          "metadata": {
            "needs_background": "light"
          }
        }
      ]
    },
    {
      "cell_type": "markdown",
      "metadata": {
        "id": "xa17tw-7RQFS"
      },
      "source": [
        "**This works better, but the image is not as clear as the 56*56 sized image, so let's see if this will improve or damage the accuracy of the model**"
      ]
    },
    {
      "cell_type": "markdown",
      "metadata": {
        "id": "25kChkOLR05z"
      },
      "source": [
        "### Run VGG16\n",
        "This works only with 224*244 images"
      ]
    },
    {
      "cell_type": "code",
      "metadata": {
        "id": "SfTdp6vEduHk"
      },
      "source": [
        "from tensorflow.keras.layers import Input, Conv2D \n",
        "from tensorflow.keras.layers import MaxPool2D, Flatten, Dense\n",
        "from tensorflow.keras.optimizers import Adam\n",
        "from tensorflow.keras import Model\n",
        "import random"
      ],
      "execution_count": null,
      "outputs": []
    },
    {
      "cell_type": "code",
      "metadata": {
        "id": "Gm2cPfjeR7Lt"
      },
      "source": [
        "# input\n",
        "\n",
        "def VGG16_Model():\n",
        "  input = Input(shape =(224,224,1))\n",
        "\n",
        "  # Numbers\n",
        "  # 1st Conv Block\n",
        "\n",
        "  x = Conv2D (filters =64, kernel_size =3, padding ='same', activation='relu')(input)\n",
        "  x = Conv2D (filters =64, kernel_size =3, padding ='same', activation='relu')(x)\n",
        "  x = MaxPool2D(pool_size =2, strides =2, padding ='same')(x)\n",
        "  # 2nd Conv Block\n",
        "\n",
        "  x = Conv2D (filters =128, kernel_size =3, padding ='same', activation='relu')(x)\n",
        "  x = Conv2D (filters =128, kernel_size =3, padding ='same', activation='relu')(x)\n",
        "  x = MaxPool2D(pool_size =2, strides =2, padding ='same')(x)\n",
        "  # 3rd Conv block\n",
        "\n",
        "  x = Conv2D (filters =256, kernel_size =3, padding ='same', activation='relu')(x)\n",
        "  x = Conv2D (filters =256, kernel_size =3, padding ='same', activation='relu')(x)\n",
        "  x = Conv2D (filters =256, kernel_size =3, padding ='same', activation='relu')(x)\n",
        "  x = MaxPool2D(pool_size =2, strides =2, padding ='same')(x)\n",
        "  # 4th Conv block\n",
        "\n",
        "  x = Conv2D (filters =512, kernel_size =3, padding ='same', activation='relu')(x)\n",
        "  x = Conv2D (filters =512, kernel_size =3, padding ='same', activation='relu')(x)\n",
        "  x = Conv2D (filters =512, kernel_size =3, padding ='same', activation='relu')(x)\n",
        "  x = MaxPool2D(pool_size =2, strides =2, padding ='same')(x)\n",
        "\n",
        "  # 5th Conv block\n",
        "\n",
        "  x = Conv2D (filters =512, kernel_size =3, padding ='same', activation='relu')(x)\n",
        "  x = Conv2D (filters =512, kernel_size =3, padding ='same', activation='relu')(x)\n",
        "  x = Conv2D (filters =512, kernel_size =3, padding ='same', activation='relu')(x)\n",
        "  x = MaxPool2D(pool_size =2, strides =2, padding ='same')(x)\n",
        "  # Fully connected layers\n",
        "\n",
        "  x = Flatten()(x)\n",
        "  x = Dense(units = 4096, activation ='relu')(x)\n",
        "  x = Dense(units = 4096, activation ='relu')(x)\n",
        "  output = Dense(units = 36, activation ='softmax')(x)\n",
        "  #num_output = Dense(units = 10, activation ='softmax')(x)\n",
        "\n",
        "  model = Model (inputs=input, outputs=output)\n",
        "  return model\n"
      ],
      "execution_count": null,
      "outputs": []
    },
    {
      "cell_type": "code",
      "metadata": {
        "colab": {
          "base_uri": "https://localhost:8080/"
        },
        "id": "Ylfj17qgXEYp",
        "outputId": "406500f2-4cb7-42d2-dbbf-e472fd629ba4"
      },
      "source": [
        "vgg16_model=VGG16_Model()\n",
        "vgg16_model.summary()"
      ],
      "execution_count": null,
      "outputs": [
        {
          "output_type": "stream",
          "name": "stdout",
          "text": [
            "Model: \"model_1\"\n",
            "_________________________________________________________________\n",
            " Layer (type)                Output Shape              Param #   \n",
            "=================================================================\n",
            " input_2 (InputLayer)        [(None, 224, 224, 1)]     0         \n",
            "                                                                 \n",
            " conv2d_13 (Conv2D)          (None, 224, 224, 64)      640       \n",
            "                                                                 \n",
            " conv2d_14 (Conv2D)          (None, 224, 224, 64)      36928     \n",
            "                                                                 \n",
            " max_pooling2d_5 (MaxPooling  (None, 112, 112, 64)     0         \n",
            " 2D)                                                             \n",
            "                                                                 \n",
            " conv2d_15 (Conv2D)          (None, 112, 112, 128)     73856     \n",
            "                                                                 \n",
            " conv2d_16 (Conv2D)          (None, 112, 112, 128)     147584    \n",
            "                                                                 \n",
            " max_pooling2d_6 (MaxPooling  (None, 56, 56, 128)      0         \n",
            " 2D)                                                             \n",
            "                                                                 \n",
            " conv2d_17 (Conv2D)          (None, 56, 56, 256)       295168    \n",
            "                                                                 \n",
            " conv2d_18 (Conv2D)          (None, 56, 56, 256)       590080    \n",
            "                                                                 \n",
            " conv2d_19 (Conv2D)          (None, 56, 56, 256)       590080    \n",
            "                                                                 \n",
            " max_pooling2d_7 (MaxPooling  (None, 28, 28, 256)      0         \n",
            " 2D)                                                             \n",
            "                                                                 \n",
            " conv2d_20 (Conv2D)          (None, 28, 28, 512)       1180160   \n",
            "                                                                 \n",
            " conv2d_21 (Conv2D)          (None, 28, 28, 512)       2359808   \n",
            "                                                                 \n",
            " conv2d_22 (Conv2D)          (None, 28, 28, 512)       2359808   \n",
            "                                                                 \n",
            " max_pooling2d_8 (MaxPooling  (None, 14, 14, 512)      0         \n",
            " 2D)                                                             \n",
            "                                                                 \n",
            " conv2d_23 (Conv2D)          (None, 14, 14, 512)       2359808   \n",
            "                                                                 \n",
            " conv2d_24 (Conv2D)          (None, 14, 14, 512)       2359808   \n",
            "                                                                 \n",
            " conv2d_25 (Conv2D)          (None, 14, 14, 512)       2359808   \n",
            "                                                                 \n",
            " max_pooling2d_9 (MaxPooling  (None, 7, 7, 512)        0         \n",
            " 2D)                                                             \n",
            "                                                                 \n",
            " flatten_1 (Flatten)         (None, 25088)             0         \n",
            "                                                                 \n",
            " dense_3 (Dense)             (None, 4096)              102764544 \n",
            "                                                                 \n",
            " dense_4 (Dense)             (None, 4096)              16781312  \n",
            "                                                                 \n",
            " dense_5 (Dense)             (None, 36)                147492    \n",
            "                                                                 \n",
            "=================================================================\n",
            "Total params: 134,406,884\n",
            "Trainable params: 134,406,884\n",
            "Non-trainable params: 0\n",
            "_________________________________________________________________\n"
          ]
        }
      ]
    },
    {
      "cell_type": "code",
      "metadata": {
        "id": "hn98t5M2XW0h",
        "colab": {
          "base_uri": "https://localhost:8080/",
          "height": 1000
        },
        "outputId": "d412a4f3-94a1-4cff-ee4d-813aef1b0cbe"
      },
      "source": [
        "from tensorflow.python.keras.utils.vis_utils import model_to_dot\n",
        "from IPython.display import SVG\n",
        "import pydot\n",
        "import graphviz\n",
        "\n",
        "SVG(model_to_dot(vgg16_model, show_shapes=True, show_layer_names=True, rankdir='TB',expand_nested=False, dpi=60, subgraph=False).create(prog='dot',format='svg'))"
      ],
      "execution_count": null,
      "outputs": [
        {
          "output_type": "execute_result",
          "data": {
            "text/plain": [
              "<IPython.core.display.SVG object>"
            ],
            "image/svg+xml": "<svg height=\"1567pt\" viewBox=\"0.00 0.00 433.00 1881.00\" width=\"361pt\" xmlns=\"http://www.w3.org/2000/svg\" xmlns:xlink=\"http://www.w3.org/1999/xlink\">\n<g class=\"graph\" id=\"graph0\" transform=\"scale(.8333 .8333) rotate(0) translate(4 1877)\">\n<title>G</title>\n<polygon fill=\"#ffffff\" points=\"-4,4 -4,-1877 429,-1877 429,4 -4,4\" stroke=\"transparent\"/>\n<!-- 140045300690768 -->\n<g class=\"node\" id=\"node1\">\n<title>140045300690768</title>\n<polygon fill=\"none\" points=\"46.5,-1826.5 46.5,-1872.5 378.5,-1872.5 378.5,-1826.5 46.5,-1826.5\" stroke=\"#000000\"/>\n<text fill=\"#000000\" font-family=\"Times,serif\" font-size=\"14.00\" text-anchor=\"middle\" x=\"113\" y=\"-1845.8\">input_2: InputLayer</text>\n<polyline fill=\"none\" points=\"179.5,-1826.5 179.5,-1872.5 \" stroke=\"#000000\"/>\n<text fill=\"#000000\" font-family=\"Times,serif\" font-size=\"14.00\" text-anchor=\"middle\" x=\"208.5\" y=\"-1857.3\">input:</text>\n<polyline fill=\"none\" points=\"179.5,-1849.5 237.5,-1849.5 \" stroke=\"#000000\"/>\n<text fill=\"#000000\" font-family=\"Times,serif\" font-size=\"14.00\" text-anchor=\"middle\" x=\"208.5\" y=\"-1834.3\">output:</text>\n<polyline fill=\"none\" points=\"237.5,-1826.5 237.5,-1872.5 \" stroke=\"#000000\"/>\n<text fill=\"#000000\" font-family=\"Times,serif\" font-size=\"14.00\" text-anchor=\"middle\" x=\"308\" y=\"-1857.3\">[(None, 224, 224, 1)]</text>\n<polyline fill=\"none\" points=\"237.5,-1849.5 378.5,-1849.5 \" stroke=\"#000000\"/>\n<text fill=\"#000000\" font-family=\"Times,serif\" font-size=\"14.00\" text-anchor=\"middle\" x=\"308\" y=\"-1834.3\">[(None, 224, 224, 1)]</text>\n</g>\n<!-- 140045300689296 -->\n<g class=\"node\" id=\"node2\">\n<title>140045300689296</title>\n<polygon fill=\"none\" points=\"43.5,-1743.5 43.5,-1789.5 381.5,-1789.5 381.5,-1743.5 43.5,-1743.5\" stroke=\"#000000\"/>\n<text fill=\"#000000\" font-family=\"Times,serif\" font-size=\"14.00\" text-anchor=\"middle\" x=\"113.5\" y=\"-1762.8\">conv2d_13: Conv2D</text>\n<polyline fill=\"none\" points=\"183.5,-1743.5 183.5,-1789.5 \" stroke=\"#000000\"/>\n<text fill=\"#000000\" font-family=\"Times,serif\" font-size=\"14.00\" text-anchor=\"middle\" x=\"212.5\" y=\"-1774.3\">input:</text>\n<polyline fill=\"none\" points=\"183.5,-1766.5 241.5,-1766.5 \" stroke=\"#000000\"/>\n<text fill=\"#000000\" font-family=\"Times,serif\" font-size=\"14.00\" text-anchor=\"middle\" x=\"212.5\" y=\"-1751.3\">output:</text>\n<polyline fill=\"none\" points=\"241.5,-1743.5 241.5,-1789.5 \" stroke=\"#000000\"/>\n<text fill=\"#000000\" font-family=\"Times,serif\" font-size=\"14.00\" text-anchor=\"middle\" x=\"311.5\" y=\"-1774.3\">(None, 224, 224, 1)</text>\n<polyline fill=\"none\" points=\"241.5,-1766.5 381.5,-1766.5 \" stroke=\"#000000\"/>\n<text fill=\"#000000\" font-family=\"Times,serif\" font-size=\"14.00\" text-anchor=\"middle\" x=\"311.5\" y=\"-1751.3\">(None, 224, 224, 64)</text>\n</g>\n<!-- 140045300690768&#45;&gt;140045300689296 -->\n<g class=\"edge\" id=\"edge1\">\n<title>140045300690768-&gt;140045300689296</title>\n<path d=\"M212.5,-1826.3799C212.5,-1818.1745 212.5,-1808.7679 212.5,-1799.8786\" fill=\"none\" stroke=\"#000000\"/>\n<polygon fill=\"#000000\" points=\"216.0001,-1799.784 212.5,-1789.784 209.0001,-1799.784 216.0001,-1799.784\" stroke=\"#000000\"/>\n</g>\n<!-- 140045300688080 -->\n<g class=\"node\" id=\"node3\">\n<title>140045300688080</title>\n<polygon fill=\"none\" points=\"43.5,-1660.5 43.5,-1706.5 381.5,-1706.5 381.5,-1660.5 43.5,-1660.5\" stroke=\"#000000\"/>\n<text fill=\"#000000\" font-family=\"Times,serif\" font-size=\"14.00\" text-anchor=\"middle\" x=\"113.5\" y=\"-1679.8\">conv2d_14: Conv2D</text>\n<polyline fill=\"none\" points=\"183.5,-1660.5 183.5,-1706.5 \" stroke=\"#000000\"/>\n<text fill=\"#000000\" font-family=\"Times,serif\" font-size=\"14.00\" text-anchor=\"middle\" x=\"212.5\" y=\"-1691.3\">input:</text>\n<polyline fill=\"none\" points=\"183.5,-1683.5 241.5,-1683.5 \" stroke=\"#000000\"/>\n<text fill=\"#000000\" font-family=\"Times,serif\" font-size=\"14.00\" text-anchor=\"middle\" x=\"212.5\" y=\"-1668.3\">output:</text>\n<polyline fill=\"none\" points=\"241.5,-1660.5 241.5,-1706.5 \" stroke=\"#000000\"/>\n<text fill=\"#000000\" font-family=\"Times,serif\" font-size=\"14.00\" text-anchor=\"middle\" x=\"311.5\" y=\"-1691.3\">(None, 224, 224, 64)</text>\n<polyline fill=\"none\" points=\"241.5,-1683.5 381.5,-1683.5 \" stroke=\"#000000\"/>\n<text fill=\"#000000\" font-family=\"Times,serif\" font-size=\"14.00\" text-anchor=\"middle\" x=\"311.5\" y=\"-1668.3\">(None, 224, 224, 64)</text>\n</g>\n<!-- 140045300689296&#45;&gt;140045300688080 -->\n<g class=\"edge\" id=\"edge2\">\n<title>140045300689296-&gt;140045300688080</title>\n<path d=\"M212.5,-1743.3799C212.5,-1735.1745 212.5,-1725.7679 212.5,-1716.8786\" fill=\"none\" stroke=\"#000000\"/>\n<polygon fill=\"#000000\" points=\"216.0001,-1716.784 212.5,-1706.784 209.0001,-1716.784 216.0001,-1716.784\" stroke=\"#000000\"/>\n</g>\n<!-- 140045300942480 -->\n<g class=\"node\" id=\"node4\">\n<title>140045300942480</title>\n<polygon fill=\"none\" points=\"3,-1577.5 3,-1623.5 422,-1623.5 422,-1577.5 3,-1577.5\" stroke=\"#000000\"/>\n<text fill=\"#000000\" font-family=\"Times,serif\" font-size=\"14.00\" text-anchor=\"middle\" x=\"113.5\" y=\"-1596.8\">max_pooling2d_5: MaxPooling2D</text>\n<polyline fill=\"none\" points=\"224,-1577.5 224,-1623.5 \" stroke=\"#000000\"/>\n<text fill=\"#000000\" font-family=\"Times,serif\" font-size=\"14.00\" text-anchor=\"middle\" x=\"253\" y=\"-1608.3\">input:</text>\n<polyline fill=\"none\" points=\"224,-1600.5 282,-1600.5 \" stroke=\"#000000\"/>\n<text fill=\"#000000\" font-family=\"Times,serif\" font-size=\"14.00\" text-anchor=\"middle\" x=\"253\" y=\"-1585.3\">output:</text>\n<polyline fill=\"none\" points=\"282,-1577.5 282,-1623.5 \" stroke=\"#000000\"/>\n<text fill=\"#000000\" font-family=\"Times,serif\" font-size=\"14.00\" text-anchor=\"middle\" x=\"352\" y=\"-1608.3\">(None, 224, 224, 64)</text>\n<polyline fill=\"none\" points=\"282,-1600.5 422,-1600.5 \" stroke=\"#000000\"/>\n<text fill=\"#000000\" font-family=\"Times,serif\" font-size=\"14.00\" text-anchor=\"middle\" x=\"352\" y=\"-1585.3\">(None, 112, 112, 64)</text>\n</g>\n<!-- 140045300688080&#45;&gt;140045300942480 -->\n<g class=\"edge\" id=\"edge3\">\n<title>140045300688080-&gt;140045300942480</title>\n<path d=\"M212.5,-1660.3799C212.5,-1652.1745 212.5,-1642.7679 212.5,-1633.8786\" fill=\"none\" stroke=\"#000000\"/>\n<polygon fill=\"#000000\" points=\"216.0001,-1633.784 212.5,-1623.784 209.0001,-1633.784 216.0001,-1633.784\" stroke=\"#000000\"/>\n</g>\n<!-- 140045300504592 -->\n<g class=\"node\" id=\"node5\">\n<title>140045300504592</title>\n<polygon fill=\"none\" points=\"40.5,-1494.5 40.5,-1540.5 384.5,-1540.5 384.5,-1494.5 40.5,-1494.5\" stroke=\"#000000\"/>\n<text fill=\"#000000\" font-family=\"Times,serif\" font-size=\"14.00\" text-anchor=\"middle\" x=\"110.5\" y=\"-1513.8\">conv2d_15: Conv2D</text>\n<polyline fill=\"none\" points=\"180.5,-1494.5 180.5,-1540.5 \" stroke=\"#000000\"/>\n<text fill=\"#000000\" font-family=\"Times,serif\" font-size=\"14.00\" text-anchor=\"middle\" x=\"209.5\" y=\"-1525.3\">input:</text>\n<polyline fill=\"none\" points=\"180.5,-1517.5 238.5,-1517.5 \" stroke=\"#000000\"/>\n<text fill=\"#000000\" font-family=\"Times,serif\" font-size=\"14.00\" text-anchor=\"middle\" x=\"209.5\" y=\"-1502.3\">output:</text>\n<polyline fill=\"none\" points=\"238.5,-1494.5 238.5,-1540.5 \" stroke=\"#000000\"/>\n<text fill=\"#000000\" font-family=\"Times,serif\" font-size=\"14.00\" text-anchor=\"middle\" x=\"311.5\" y=\"-1525.3\">(None, 112, 112, 64)</text>\n<polyline fill=\"none\" points=\"238.5,-1517.5 384.5,-1517.5 \" stroke=\"#000000\"/>\n<text fill=\"#000000\" font-family=\"Times,serif\" font-size=\"14.00\" text-anchor=\"middle\" x=\"311.5\" y=\"-1502.3\">(None, 112, 112, 128)</text>\n</g>\n<!-- 140045300942480&#45;&gt;140045300504592 -->\n<g class=\"edge\" id=\"edge4\">\n<title>140045300942480-&gt;140045300504592</title>\n<path d=\"M212.5,-1577.3799C212.5,-1569.1745 212.5,-1559.7679 212.5,-1550.8786\" fill=\"none\" stroke=\"#000000\"/>\n<polygon fill=\"#000000\" points=\"216.0001,-1550.784 212.5,-1540.784 209.0001,-1550.784 216.0001,-1550.784\" stroke=\"#000000\"/>\n</g>\n<!-- 140045300658704 -->\n<g class=\"node\" id=\"node6\">\n<title>140045300658704</title>\n<polygon fill=\"none\" points=\"40.5,-1411.5 40.5,-1457.5 384.5,-1457.5 384.5,-1411.5 40.5,-1411.5\" stroke=\"#000000\"/>\n<text fill=\"#000000\" font-family=\"Times,serif\" font-size=\"14.00\" text-anchor=\"middle\" x=\"110.5\" y=\"-1430.8\">conv2d_16: Conv2D</text>\n<polyline fill=\"none\" points=\"180.5,-1411.5 180.5,-1457.5 \" stroke=\"#000000\"/>\n<text fill=\"#000000\" font-family=\"Times,serif\" font-size=\"14.00\" text-anchor=\"middle\" x=\"209.5\" y=\"-1442.3\">input:</text>\n<polyline fill=\"none\" points=\"180.5,-1434.5 238.5,-1434.5 \" stroke=\"#000000\"/>\n<text fill=\"#000000\" font-family=\"Times,serif\" font-size=\"14.00\" text-anchor=\"middle\" x=\"209.5\" y=\"-1419.3\">output:</text>\n<polyline fill=\"none\" points=\"238.5,-1411.5 238.5,-1457.5 \" stroke=\"#000000\"/>\n<text fill=\"#000000\" font-family=\"Times,serif\" font-size=\"14.00\" text-anchor=\"middle\" x=\"311.5\" y=\"-1442.3\">(None, 112, 112, 128)</text>\n<polyline fill=\"none\" points=\"238.5,-1434.5 384.5,-1434.5 \" stroke=\"#000000\"/>\n<text fill=\"#000000\" font-family=\"Times,serif\" font-size=\"14.00\" text-anchor=\"middle\" x=\"311.5\" y=\"-1419.3\">(None, 112, 112, 128)</text>\n</g>\n<!-- 140045300504592&#45;&gt;140045300658704 -->\n<g class=\"edge\" id=\"edge5\">\n<title>140045300504592-&gt;140045300658704</title>\n<path d=\"M212.5,-1494.3799C212.5,-1486.1745 212.5,-1476.7679 212.5,-1467.8786\" fill=\"none\" stroke=\"#000000\"/>\n<polygon fill=\"#000000\" points=\"216.0001,-1467.784 212.5,-1457.784 209.0001,-1467.784 216.0001,-1467.784\" stroke=\"#000000\"/>\n</g>\n<!-- 140045300628048 -->\n<g class=\"node\" id=\"node7\">\n<title>140045300628048</title>\n<polygon fill=\"none\" points=\"0,-1328.5 0,-1374.5 425,-1374.5 425,-1328.5 0,-1328.5\" stroke=\"#000000\"/>\n<text fill=\"#000000\" font-family=\"Times,serif\" font-size=\"14.00\" text-anchor=\"middle\" x=\"110.5\" y=\"-1347.8\">max_pooling2d_6: MaxPooling2D</text>\n<polyline fill=\"none\" points=\"221,-1328.5 221,-1374.5 \" stroke=\"#000000\"/>\n<text fill=\"#000000\" font-family=\"Times,serif\" font-size=\"14.00\" text-anchor=\"middle\" x=\"250\" y=\"-1359.3\">input:</text>\n<polyline fill=\"none\" points=\"221,-1351.5 279,-1351.5 \" stroke=\"#000000\"/>\n<text fill=\"#000000\" font-family=\"Times,serif\" font-size=\"14.00\" text-anchor=\"middle\" x=\"250\" y=\"-1336.3\">output:</text>\n<polyline fill=\"none\" points=\"279,-1328.5 279,-1374.5 \" stroke=\"#000000\"/>\n<text fill=\"#000000\" font-family=\"Times,serif\" font-size=\"14.00\" text-anchor=\"middle\" x=\"352\" y=\"-1359.3\">(None, 112, 112, 128)</text>\n<polyline fill=\"none\" points=\"279,-1351.5 425,-1351.5 \" stroke=\"#000000\"/>\n<text fill=\"#000000\" font-family=\"Times,serif\" font-size=\"14.00\" text-anchor=\"middle\" x=\"352\" y=\"-1336.3\">(None, 56, 56, 128)</text>\n</g>\n<!-- 140045300658704&#45;&gt;140045300628048 -->\n<g class=\"edge\" id=\"edge6\">\n<title>140045300658704-&gt;140045300628048</title>\n<path d=\"M212.5,-1411.3799C212.5,-1403.1745 212.5,-1393.7679 212.5,-1384.8786\" fill=\"none\" stroke=\"#000000\"/>\n<polygon fill=\"#000000\" points=\"216.0001,-1384.784 212.5,-1374.784 209.0001,-1384.784 216.0001,-1384.784\" stroke=\"#000000\"/>\n</g>\n<!-- 140045300841040 -->\n<g class=\"node\" id=\"node8\">\n<title>140045300841040</title>\n<polygon fill=\"none\" points=\"47.5,-1245.5 47.5,-1291.5 377.5,-1291.5 377.5,-1245.5 47.5,-1245.5\" stroke=\"#000000\"/>\n<text fill=\"#000000\" font-family=\"Times,serif\" font-size=\"14.00\" text-anchor=\"middle\" x=\"117.5\" y=\"-1264.8\">conv2d_17: Conv2D</text>\n<polyline fill=\"none\" points=\"187.5,-1245.5 187.5,-1291.5 \" stroke=\"#000000\"/>\n<text fill=\"#000000\" font-family=\"Times,serif\" font-size=\"14.00\" text-anchor=\"middle\" x=\"216.5\" y=\"-1276.3\">input:</text>\n<polyline fill=\"none\" points=\"187.5,-1268.5 245.5,-1268.5 \" stroke=\"#000000\"/>\n<text fill=\"#000000\" font-family=\"Times,serif\" font-size=\"14.00\" text-anchor=\"middle\" x=\"216.5\" y=\"-1253.3\">output:</text>\n<polyline fill=\"none\" points=\"245.5,-1245.5 245.5,-1291.5 \" stroke=\"#000000\"/>\n<text fill=\"#000000\" font-family=\"Times,serif\" font-size=\"14.00\" text-anchor=\"middle\" x=\"311.5\" y=\"-1276.3\">(None, 56, 56, 128)</text>\n<polyline fill=\"none\" points=\"245.5,-1268.5 377.5,-1268.5 \" stroke=\"#000000\"/>\n<text fill=\"#000000\" font-family=\"Times,serif\" font-size=\"14.00\" text-anchor=\"middle\" x=\"311.5\" y=\"-1253.3\">(None, 56, 56, 256)</text>\n</g>\n<!-- 140045300628048&#45;&gt;140045300841040 -->\n<g class=\"edge\" id=\"edge7\">\n<title>140045300628048-&gt;140045300841040</title>\n<path d=\"M212.5,-1328.3799C212.5,-1320.1745 212.5,-1310.7679 212.5,-1301.8786\" fill=\"none\" stroke=\"#000000\"/>\n<polygon fill=\"#000000\" points=\"216.0001,-1301.784 212.5,-1291.784 209.0001,-1301.784 216.0001,-1301.784\" stroke=\"#000000\"/>\n</g>\n<!-- 140045301334160 -->\n<g class=\"node\" id=\"node9\">\n<title>140045301334160</title>\n<polygon fill=\"none\" points=\"47.5,-1162.5 47.5,-1208.5 377.5,-1208.5 377.5,-1162.5 47.5,-1162.5\" stroke=\"#000000\"/>\n<text fill=\"#000000\" font-family=\"Times,serif\" font-size=\"14.00\" text-anchor=\"middle\" x=\"117.5\" y=\"-1181.8\">conv2d_18: Conv2D</text>\n<polyline fill=\"none\" points=\"187.5,-1162.5 187.5,-1208.5 \" stroke=\"#000000\"/>\n<text fill=\"#000000\" font-family=\"Times,serif\" font-size=\"14.00\" text-anchor=\"middle\" x=\"216.5\" y=\"-1193.3\">input:</text>\n<polyline fill=\"none\" points=\"187.5,-1185.5 245.5,-1185.5 \" stroke=\"#000000\"/>\n<text fill=\"#000000\" font-family=\"Times,serif\" font-size=\"14.00\" text-anchor=\"middle\" x=\"216.5\" y=\"-1170.3\">output:</text>\n<polyline fill=\"none\" points=\"245.5,-1162.5 245.5,-1208.5 \" stroke=\"#000000\"/>\n<text fill=\"#000000\" font-family=\"Times,serif\" font-size=\"14.00\" text-anchor=\"middle\" x=\"311.5\" y=\"-1193.3\">(None, 56, 56, 256)</text>\n<polyline fill=\"none\" points=\"245.5,-1185.5 377.5,-1185.5 \" stroke=\"#000000\"/>\n<text fill=\"#000000\" font-family=\"Times,serif\" font-size=\"14.00\" text-anchor=\"middle\" x=\"311.5\" y=\"-1170.3\">(None, 56, 56, 256)</text>\n</g>\n<!-- 140045300841040&#45;&gt;140045301334160 -->\n<g class=\"edge\" id=\"edge8\">\n<title>140045300841040-&gt;140045301334160</title>\n<path d=\"M212.5,-1245.3799C212.5,-1237.1745 212.5,-1227.7679 212.5,-1218.8786\" fill=\"none\" stroke=\"#000000\"/>\n<polygon fill=\"#000000\" points=\"216.0001,-1218.784 212.5,-1208.784 209.0001,-1218.784 216.0001,-1218.784\" stroke=\"#000000\"/>\n</g>\n<!-- 140045300687376 -->\n<g class=\"node\" id=\"node10\">\n<title>140045300687376</title>\n<polygon fill=\"none\" points=\"47.5,-1079.5 47.5,-1125.5 377.5,-1125.5 377.5,-1079.5 47.5,-1079.5\" stroke=\"#000000\"/>\n<text fill=\"#000000\" font-family=\"Times,serif\" font-size=\"14.00\" text-anchor=\"middle\" x=\"117.5\" y=\"-1098.8\">conv2d_19: Conv2D</text>\n<polyline fill=\"none\" points=\"187.5,-1079.5 187.5,-1125.5 \" stroke=\"#000000\"/>\n<text fill=\"#000000\" font-family=\"Times,serif\" font-size=\"14.00\" text-anchor=\"middle\" x=\"216.5\" y=\"-1110.3\">input:</text>\n<polyline fill=\"none\" points=\"187.5,-1102.5 245.5,-1102.5 \" stroke=\"#000000\"/>\n<text fill=\"#000000\" font-family=\"Times,serif\" font-size=\"14.00\" text-anchor=\"middle\" x=\"216.5\" y=\"-1087.3\">output:</text>\n<polyline fill=\"none\" points=\"245.5,-1079.5 245.5,-1125.5 \" stroke=\"#000000\"/>\n<text fill=\"#000000\" font-family=\"Times,serif\" font-size=\"14.00\" text-anchor=\"middle\" x=\"311.5\" y=\"-1110.3\">(None, 56, 56, 256)</text>\n<polyline fill=\"none\" points=\"245.5,-1102.5 377.5,-1102.5 \" stroke=\"#000000\"/>\n<text fill=\"#000000\" font-family=\"Times,serif\" font-size=\"14.00\" text-anchor=\"middle\" x=\"311.5\" y=\"-1087.3\">(None, 56, 56, 256)</text>\n</g>\n<!-- 140045301334160&#45;&gt;140045300687376 -->\n<g class=\"edge\" id=\"edge9\">\n<title>140045301334160-&gt;140045300687376</title>\n<path d=\"M212.5,-1162.3799C212.5,-1154.1745 212.5,-1144.7679 212.5,-1135.8786\" fill=\"none\" stroke=\"#000000\"/>\n<polygon fill=\"#000000\" points=\"216.0001,-1135.784 212.5,-1125.784 209.0001,-1135.784 216.0001,-1135.784\" stroke=\"#000000\"/>\n</g>\n<!-- 140045300854992 -->\n<g class=\"node\" id=\"node11\">\n<title>140045300854992</title>\n<polygon fill=\"none\" points=\"7,-996.5 7,-1042.5 418,-1042.5 418,-996.5 7,-996.5\" stroke=\"#000000\"/>\n<text fill=\"#000000\" font-family=\"Times,serif\" font-size=\"14.00\" text-anchor=\"middle\" x=\"117.5\" y=\"-1015.8\">max_pooling2d_7: MaxPooling2D</text>\n<polyline fill=\"none\" points=\"228,-996.5 228,-1042.5 \" stroke=\"#000000\"/>\n<text fill=\"#000000\" font-family=\"Times,serif\" font-size=\"14.00\" text-anchor=\"middle\" x=\"257\" y=\"-1027.3\">input:</text>\n<polyline fill=\"none\" points=\"228,-1019.5 286,-1019.5 \" stroke=\"#000000\"/>\n<text fill=\"#000000\" font-family=\"Times,serif\" font-size=\"14.00\" text-anchor=\"middle\" x=\"257\" y=\"-1004.3\">output:</text>\n<polyline fill=\"none\" points=\"286,-996.5 286,-1042.5 \" stroke=\"#000000\"/>\n<text fill=\"#000000\" font-family=\"Times,serif\" font-size=\"14.00\" text-anchor=\"middle\" x=\"352\" y=\"-1027.3\">(None, 56, 56, 256)</text>\n<polyline fill=\"none\" points=\"286,-1019.5 418,-1019.5 \" stroke=\"#000000\"/>\n<text fill=\"#000000\" font-family=\"Times,serif\" font-size=\"14.00\" text-anchor=\"middle\" x=\"352\" y=\"-1004.3\">(None, 28, 28, 256)</text>\n</g>\n<!-- 140045300687376&#45;&gt;140045300854992 -->\n<g class=\"edge\" id=\"edge10\">\n<title>140045300687376-&gt;140045300854992</title>\n<path d=\"M212.5,-1079.3799C212.5,-1071.1745 212.5,-1061.7679 212.5,-1052.8786\" fill=\"none\" stroke=\"#000000\"/>\n<polygon fill=\"#000000\" points=\"216.0001,-1052.784 212.5,-1042.784 209.0001,-1052.784 216.0001,-1052.784\" stroke=\"#000000\"/>\n</g>\n<!-- 140045300392080 -->\n<g class=\"node\" id=\"node12\">\n<title>140045300392080</title>\n<polygon fill=\"none\" points=\"47.5,-913.5 47.5,-959.5 377.5,-959.5 377.5,-913.5 47.5,-913.5\" stroke=\"#000000\"/>\n<text fill=\"#000000\" font-family=\"Times,serif\" font-size=\"14.00\" text-anchor=\"middle\" x=\"117.5\" y=\"-932.8\">conv2d_20: Conv2D</text>\n<polyline fill=\"none\" points=\"187.5,-913.5 187.5,-959.5 \" stroke=\"#000000\"/>\n<text fill=\"#000000\" font-family=\"Times,serif\" font-size=\"14.00\" text-anchor=\"middle\" x=\"216.5\" y=\"-944.3\">input:</text>\n<polyline fill=\"none\" points=\"187.5,-936.5 245.5,-936.5 \" stroke=\"#000000\"/>\n<text fill=\"#000000\" font-family=\"Times,serif\" font-size=\"14.00\" text-anchor=\"middle\" x=\"216.5\" y=\"-921.3\">output:</text>\n<polyline fill=\"none\" points=\"245.5,-913.5 245.5,-959.5 \" stroke=\"#000000\"/>\n<text fill=\"#000000\" font-family=\"Times,serif\" font-size=\"14.00\" text-anchor=\"middle\" x=\"311.5\" y=\"-944.3\">(None, 28, 28, 256)</text>\n<polyline fill=\"none\" points=\"245.5,-936.5 377.5,-936.5 \" stroke=\"#000000\"/>\n<text fill=\"#000000\" font-family=\"Times,serif\" font-size=\"14.00\" text-anchor=\"middle\" x=\"311.5\" y=\"-921.3\">(None, 28, 28, 512)</text>\n</g>\n<!-- 140045300854992&#45;&gt;140045300392080 -->\n<g class=\"edge\" id=\"edge11\">\n<title>140045300854992-&gt;140045300392080</title>\n<path d=\"M212.5,-996.3799C212.5,-988.1745 212.5,-978.7679 212.5,-969.8786\" fill=\"none\" stroke=\"#000000\"/>\n<polygon fill=\"#000000\" points=\"216.0001,-969.784 212.5,-959.784 209.0001,-969.784 216.0001,-969.784\" stroke=\"#000000\"/>\n</g>\n<!-- 140045300402832 -->\n<g class=\"node\" id=\"node13\">\n<title>140045300402832</title>\n<polygon fill=\"none\" points=\"47.5,-830.5 47.5,-876.5 377.5,-876.5 377.5,-830.5 47.5,-830.5\" stroke=\"#000000\"/>\n<text fill=\"#000000\" font-family=\"Times,serif\" font-size=\"14.00\" text-anchor=\"middle\" x=\"117.5\" y=\"-849.8\">conv2d_21: Conv2D</text>\n<polyline fill=\"none\" points=\"187.5,-830.5 187.5,-876.5 \" stroke=\"#000000\"/>\n<text fill=\"#000000\" font-family=\"Times,serif\" font-size=\"14.00\" text-anchor=\"middle\" x=\"216.5\" y=\"-861.3\">input:</text>\n<polyline fill=\"none\" points=\"187.5,-853.5 245.5,-853.5 \" stroke=\"#000000\"/>\n<text fill=\"#000000\" font-family=\"Times,serif\" font-size=\"14.00\" text-anchor=\"middle\" x=\"216.5\" y=\"-838.3\">output:</text>\n<polyline fill=\"none\" points=\"245.5,-830.5 245.5,-876.5 \" stroke=\"#000000\"/>\n<text fill=\"#000000\" font-family=\"Times,serif\" font-size=\"14.00\" text-anchor=\"middle\" x=\"311.5\" y=\"-861.3\">(None, 28, 28, 512)</text>\n<polyline fill=\"none\" points=\"245.5,-853.5 377.5,-853.5 \" stroke=\"#000000\"/>\n<text fill=\"#000000\" font-family=\"Times,serif\" font-size=\"14.00\" text-anchor=\"middle\" x=\"311.5\" y=\"-838.3\">(None, 28, 28, 512)</text>\n</g>\n<!-- 140045300392080&#45;&gt;140045300402832 -->\n<g class=\"edge\" id=\"edge12\">\n<title>140045300392080-&gt;140045300402832</title>\n<path d=\"M212.5,-913.3799C212.5,-905.1745 212.5,-895.7679 212.5,-886.8786\" fill=\"none\" stroke=\"#000000\"/>\n<polygon fill=\"#000000\" points=\"216.0001,-886.784 212.5,-876.784 209.0001,-886.784 216.0001,-886.784\" stroke=\"#000000\"/>\n</g>\n<!-- 140045300858832 -->\n<g class=\"node\" id=\"node14\">\n<title>140045300858832</title>\n<polygon fill=\"none\" points=\"47.5,-747.5 47.5,-793.5 377.5,-793.5 377.5,-747.5 47.5,-747.5\" stroke=\"#000000\"/>\n<text fill=\"#000000\" font-family=\"Times,serif\" font-size=\"14.00\" text-anchor=\"middle\" x=\"117.5\" y=\"-766.8\">conv2d_22: Conv2D</text>\n<polyline fill=\"none\" points=\"187.5,-747.5 187.5,-793.5 \" stroke=\"#000000\"/>\n<text fill=\"#000000\" font-family=\"Times,serif\" font-size=\"14.00\" text-anchor=\"middle\" x=\"216.5\" y=\"-778.3\">input:</text>\n<polyline fill=\"none\" points=\"187.5,-770.5 245.5,-770.5 \" stroke=\"#000000\"/>\n<text fill=\"#000000\" font-family=\"Times,serif\" font-size=\"14.00\" text-anchor=\"middle\" x=\"216.5\" y=\"-755.3\">output:</text>\n<polyline fill=\"none\" points=\"245.5,-747.5 245.5,-793.5 \" stroke=\"#000000\"/>\n<text fill=\"#000000\" font-family=\"Times,serif\" font-size=\"14.00\" text-anchor=\"middle\" x=\"311.5\" y=\"-778.3\">(None, 28, 28, 512)</text>\n<polyline fill=\"none\" points=\"245.5,-770.5 377.5,-770.5 \" stroke=\"#000000\"/>\n<text fill=\"#000000\" font-family=\"Times,serif\" font-size=\"14.00\" text-anchor=\"middle\" x=\"311.5\" y=\"-755.3\">(None, 28, 28, 512)</text>\n</g>\n<!-- 140045300402832&#45;&gt;140045300858832 -->\n<g class=\"edge\" id=\"edge13\">\n<title>140045300402832-&gt;140045300858832</title>\n<path d=\"M212.5,-830.3799C212.5,-822.1745 212.5,-812.7679 212.5,-803.8786\" fill=\"none\" stroke=\"#000000\"/>\n<polygon fill=\"#000000\" points=\"216.0001,-803.784 212.5,-793.784 209.0001,-803.784 216.0001,-803.784\" stroke=\"#000000\"/>\n</g>\n<!-- 140043784360144 -->\n<g class=\"node\" id=\"node15\">\n<title>140043784360144</title>\n<polygon fill=\"none\" points=\"7,-664.5 7,-710.5 418,-710.5 418,-664.5 7,-664.5\" stroke=\"#000000\"/>\n<text fill=\"#000000\" font-family=\"Times,serif\" font-size=\"14.00\" text-anchor=\"middle\" x=\"117.5\" y=\"-683.8\">max_pooling2d_8: MaxPooling2D</text>\n<polyline fill=\"none\" points=\"228,-664.5 228,-710.5 \" stroke=\"#000000\"/>\n<text fill=\"#000000\" font-family=\"Times,serif\" font-size=\"14.00\" text-anchor=\"middle\" x=\"257\" y=\"-695.3\">input:</text>\n<polyline fill=\"none\" points=\"228,-687.5 286,-687.5 \" stroke=\"#000000\"/>\n<text fill=\"#000000\" font-family=\"Times,serif\" font-size=\"14.00\" text-anchor=\"middle\" x=\"257\" y=\"-672.3\">output:</text>\n<polyline fill=\"none\" points=\"286,-664.5 286,-710.5 \" stroke=\"#000000\"/>\n<text fill=\"#000000\" font-family=\"Times,serif\" font-size=\"14.00\" text-anchor=\"middle\" x=\"352\" y=\"-695.3\">(None, 28, 28, 512)</text>\n<polyline fill=\"none\" points=\"286,-687.5 418,-687.5 \" stroke=\"#000000\"/>\n<text fill=\"#000000\" font-family=\"Times,serif\" font-size=\"14.00\" text-anchor=\"middle\" x=\"352\" y=\"-672.3\">(None, 14, 14, 512)</text>\n</g>\n<!-- 140045300858832&#45;&gt;140043784360144 -->\n<g class=\"edge\" id=\"edge14\">\n<title>140045300858832-&gt;140043784360144</title>\n<path d=\"M212.5,-747.3799C212.5,-739.1745 212.5,-729.7679 212.5,-720.8786\" fill=\"none\" stroke=\"#000000\"/>\n<polygon fill=\"#000000\" points=\"216.0001,-720.784 212.5,-710.784 209.0001,-720.784 216.0001,-720.784\" stroke=\"#000000\"/>\n</g>\n<!-- 140045300922768 -->\n<g class=\"node\" id=\"node16\">\n<title>140045300922768</title>\n<polygon fill=\"none\" points=\"47.5,-581.5 47.5,-627.5 377.5,-627.5 377.5,-581.5 47.5,-581.5\" stroke=\"#000000\"/>\n<text fill=\"#000000\" font-family=\"Times,serif\" font-size=\"14.00\" text-anchor=\"middle\" x=\"117.5\" y=\"-600.8\">conv2d_23: Conv2D</text>\n<polyline fill=\"none\" points=\"187.5,-581.5 187.5,-627.5 \" stroke=\"#000000\"/>\n<text fill=\"#000000\" font-family=\"Times,serif\" font-size=\"14.00\" text-anchor=\"middle\" x=\"216.5\" y=\"-612.3\">input:</text>\n<polyline fill=\"none\" points=\"187.5,-604.5 245.5,-604.5 \" stroke=\"#000000\"/>\n<text fill=\"#000000\" font-family=\"Times,serif\" font-size=\"14.00\" text-anchor=\"middle\" x=\"216.5\" y=\"-589.3\">output:</text>\n<polyline fill=\"none\" points=\"245.5,-581.5 245.5,-627.5 \" stroke=\"#000000\"/>\n<text fill=\"#000000\" font-family=\"Times,serif\" font-size=\"14.00\" text-anchor=\"middle\" x=\"311.5\" y=\"-612.3\">(None, 14, 14, 512)</text>\n<polyline fill=\"none\" points=\"245.5,-604.5 377.5,-604.5 \" stroke=\"#000000\"/>\n<text fill=\"#000000\" font-family=\"Times,serif\" font-size=\"14.00\" text-anchor=\"middle\" x=\"311.5\" y=\"-589.3\">(None, 14, 14, 512)</text>\n</g>\n<!-- 140043784360144&#45;&gt;140045300922768 -->\n<g class=\"edge\" id=\"edge15\">\n<title>140043784360144-&gt;140045300922768</title>\n<path d=\"M212.5,-664.3799C212.5,-656.1745 212.5,-646.7679 212.5,-637.8786\" fill=\"none\" stroke=\"#000000\"/>\n<polygon fill=\"#000000\" points=\"216.0001,-637.784 212.5,-627.784 209.0001,-637.784 216.0001,-637.784\" stroke=\"#000000\"/>\n</g>\n<!-- 140040440701328 -->\n<g class=\"node\" id=\"node17\">\n<title>140040440701328</title>\n<polygon fill=\"none\" points=\"47.5,-498.5 47.5,-544.5 377.5,-544.5 377.5,-498.5 47.5,-498.5\" stroke=\"#000000\"/>\n<text fill=\"#000000\" font-family=\"Times,serif\" font-size=\"14.00\" text-anchor=\"middle\" x=\"117.5\" y=\"-517.8\">conv2d_24: Conv2D</text>\n<polyline fill=\"none\" points=\"187.5,-498.5 187.5,-544.5 \" stroke=\"#000000\"/>\n<text fill=\"#000000\" font-family=\"Times,serif\" font-size=\"14.00\" text-anchor=\"middle\" x=\"216.5\" y=\"-529.3\">input:</text>\n<polyline fill=\"none\" points=\"187.5,-521.5 245.5,-521.5 \" stroke=\"#000000\"/>\n<text fill=\"#000000\" font-family=\"Times,serif\" font-size=\"14.00\" text-anchor=\"middle\" x=\"216.5\" y=\"-506.3\">output:</text>\n<polyline fill=\"none\" points=\"245.5,-498.5 245.5,-544.5 \" stroke=\"#000000\"/>\n<text fill=\"#000000\" font-family=\"Times,serif\" font-size=\"14.00\" text-anchor=\"middle\" x=\"311.5\" y=\"-529.3\">(None, 14, 14, 512)</text>\n<polyline fill=\"none\" points=\"245.5,-521.5 377.5,-521.5 \" stroke=\"#000000\"/>\n<text fill=\"#000000\" font-family=\"Times,serif\" font-size=\"14.00\" text-anchor=\"middle\" x=\"311.5\" y=\"-506.3\">(None, 14, 14, 512)</text>\n</g>\n<!-- 140045300922768&#45;&gt;140040440701328 -->\n<g class=\"edge\" id=\"edge16\">\n<title>140045300922768-&gt;140040440701328</title>\n<path d=\"M212.5,-581.3799C212.5,-573.1745 212.5,-563.7679 212.5,-554.8786\" fill=\"none\" stroke=\"#000000\"/>\n<polygon fill=\"#000000\" points=\"216.0001,-554.784 212.5,-544.784 209.0001,-554.784 216.0001,-554.784\" stroke=\"#000000\"/>\n</g>\n<!-- 140040439806544 -->\n<g class=\"node\" id=\"node18\">\n<title>140040439806544</title>\n<polygon fill=\"none\" points=\"47.5,-415.5 47.5,-461.5 377.5,-461.5 377.5,-415.5 47.5,-415.5\" stroke=\"#000000\"/>\n<text fill=\"#000000\" font-family=\"Times,serif\" font-size=\"14.00\" text-anchor=\"middle\" x=\"117.5\" y=\"-434.8\">conv2d_25: Conv2D</text>\n<polyline fill=\"none\" points=\"187.5,-415.5 187.5,-461.5 \" stroke=\"#000000\"/>\n<text fill=\"#000000\" font-family=\"Times,serif\" font-size=\"14.00\" text-anchor=\"middle\" x=\"216.5\" y=\"-446.3\">input:</text>\n<polyline fill=\"none\" points=\"187.5,-438.5 245.5,-438.5 \" stroke=\"#000000\"/>\n<text fill=\"#000000\" font-family=\"Times,serif\" font-size=\"14.00\" text-anchor=\"middle\" x=\"216.5\" y=\"-423.3\">output:</text>\n<polyline fill=\"none\" points=\"245.5,-415.5 245.5,-461.5 \" stroke=\"#000000\"/>\n<text fill=\"#000000\" font-family=\"Times,serif\" font-size=\"14.00\" text-anchor=\"middle\" x=\"311.5\" y=\"-446.3\">(None, 14, 14, 512)</text>\n<polyline fill=\"none\" points=\"245.5,-438.5 377.5,-438.5 \" stroke=\"#000000\"/>\n<text fill=\"#000000\" font-family=\"Times,serif\" font-size=\"14.00\" text-anchor=\"middle\" x=\"311.5\" y=\"-423.3\">(None, 14, 14, 512)</text>\n</g>\n<!-- 140040440701328&#45;&gt;140040439806544 -->\n<g class=\"edge\" id=\"edge17\">\n<title>140040440701328-&gt;140040439806544</title>\n<path d=\"M212.5,-498.3799C212.5,-490.1745 212.5,-480.7679 212.5,-471.8786\" fill=\"none\" stroke=\"#000000\"/>\n<polygon fill=\"#000000\" points=\"216.0001,-471.784 212.5,-461.784 209.0001,-471.784 216.0001,-471.784\" stroke=\"#000000\"/>\n</g>\n<!-- 140040440234192 -->\n<g class=\"node\" id=\"node19\">\n<title>140040440234192</title>\n<polygon fill=\"none\" points=\"7,-332.5 7,-378.5 418,-378.5 418,-332.5 7,-332.5\" stroke=\"#000000\"/>\n<text fill=\"#000000\" font-family=\"Times,serif\" font-size=\"14.00\" text-anchor=\"middle\" x=\"117.5\" y=\"-351.8\">max_pooling2d_9: MaxPooling2D</text>\n<polyline fill=\"none\" points=\"228,-332.5 228,-378.5 \" stroke=\"#000000\"/>\n<text fill=\"#000000\" font-family=\"Times,serif\" font-size=\"14.00\" text-anchor=\"middle\" x=\"257\" y=\"-363.3\">input:</text>\n<polyline fill=\"none\" points=\"228,-355.5 286,-355.5 \" stroke=\"#000000\"/>\n<text fill=\"#000000\" font-family=\"Times,serif\" font-size=\"14.00\" text-anchor=\"middle\" x=\"257\" y=\"-340.3\">output:</text>\n<polyline fill=\"none\" points=\"286,-332.5 286,-378.5 \" stroke=\"#000000\"/>\n<text fill=\"#000000\" font-family=\"Times,serif\" font-size=\"14.00\" text-anchor=\"middle\" x=\"352\" y=\"-363.3\">(None, 14, 14, 512)</text>\n<polyline fill=\"none\" points=\"286,-355.5 418,-355.5 \" stroke=\"#000000\"/>\n<text fill=\"#000000\" font-family=\"Times,serif\" font-size=\"14.00\" text-anchor=\"middle\" x=\"352\" y=\"-340.3\">(None, 7, 7, 512)</text>\n</g>\n<!-- 140040439806544&#45;&gt;140040440234192 -->\n<g class=\"edge\" id=\"edge18\">\n<title>140040439806544-&gt;140040440234192</title>\n<path d=\"M212.5,-415.3799C212.5,-407.1745 212.5,-397.7679 212.5,-388.8786\" fill=\"none\" stroke=\"#000000\"/>\n<polygon fill=\"#000000\" points=\"216.0001,-388.784 212.5,-378.784 209.0001,-388.784 216.0001,-388.784\" stroke=\"#000000\"/>\n</g>\n<!-- 140040439690832 -->\n<g class=\"node\" id=\"node20\">\n<title>140040439690832</title>\n<polygon fill=\"none\" points=\"68.5,-249.5 68.5,-295.5 356.5,-295.5 356.5,-249.5 68.5,-249.5\" stroke=\"#000000\"/>\n<text fill=\"#000000\" font-family=\"Times,serif\" font-size=\"14.00\" text-anchor=\"middle\" x=\"125\" y=\"-268.8\">flatten_1: Flatten</text>\n<polyline fill=\"none\" points=\"181.5,-249.5 181.5,-295.5 \" stroke=\"#000000\"/>\n<text fill=\"#000000\" font-family=\"Times,serif\" font-size=\"14.00\" text-anchor=\"middle\" x=\"210.5\" y=\"-280.3\">input:</text>\n<polyline fill=\"none\" points=\"181.5,-272.5 239.5,-272.5 \" stroke=\"#000000\"/>\n<text fill=\"#000000\" font-family=\"Times,serif\" font-size=\"14.00\" text-anchor=\"middle\" x=\"210.5\" y=\"-257.3\">output:</text>\n<polyline fill=\"none\" points=\"239.5,-249.5 239.5,-295.5 \" stroke=\"#000000\"/>\n<text fill=\"#000000\" font-family=\"Times,serif\" font-size=\"14.00\" text-anchor=\"middle\" x=\"298\" y=\"-280.3\">(None, 7, 7, 512)</text>\n<polyline fill=\"none\" points=\"239.5,-272.5 356.5,-272.5 \" stroke=\"#000000\"/>\n<text fill=\"#000000\" font-family=\"Times,serif\" font-size=\"14.00\" text-anchor=\"middle\" x=\"298\" y=\"-257.3\">(None, 25088)</text>\n</g>\n<!-- 140040440234192&#45;&gt;140040439690832 -->\n<g class=\"edge\" id=\"edge19\">\n<title>140040440234192-&gt;140040439690832</title>\n<path d=\"M212.5,-332.3799C212.5,-324.1745 212.5,-314.7679 212.5,-305.8786\" fill=\"none\" stroke=\"#000000\"/>\n<polygon fill=\"#000000\" points=\"216.0001,-305.784 212.5,-295.784 209.0001,-305.784 216.0001,-305.784\" stroke=\"#000000\"/>\n</g>\n<!-- 140045300393680 -->\n<g class=\"node\" id=\"node21\">\n<title>140045300393680</title>\n<polygon fill=\"none\" points=\"79,-166.5 79,-212.5 346,-212.5 346,-166.5 79,-166.5\" stroke=\"#000000\"/>\n<text fill=\"#000000\" font-family=\"Times,serif\" font-size=\"14.00\" text-anchor=\"middle\" x=\"132.5\" y=\"-185.8\">dense_3: Dense</text>\n<polyline fill=\"none\" points=\"186,-166.5 186,-212.5 \" stroke=\"#000000\"/>\n<text fill=\"#000000\" font-family=\"Times,serif\" font-size=\"14.00\" text-anchor=\"middle\" x=\"215\" y=\"-197.3\">input:</text>\n<polyline fill=\"none\" points=\"186,-189.5 244,-189.5 \" stroke=\"#000000\"/>\n<text fill=\"#000000\" font-family=\"Times,serif\" font-size=\"14.00\" text-anchor=\"middle\" x=\"215\" y=\"-174.3\">output:</text>\n<polyline fill=\"none\" points=\"244,-166.5 244,-212.5 \" stroke=\"#000000\"/>\n<text fill=\"#000000\" font-family=\"Times,serif\" font-size=\"14.00\" text-anchor=\"middle\" x=\"295\" y=\"-197.3\">(None, 25088)</text>\n<polyline fill=\"none\" points=\"244,-189.5 346,-189.5 \" stroke=\"#000000\"/>\n<text fill=\"#000000\" font-family=\"Times,serif\" font-size=\"14.00\" text-anchor=\"middle\" x=\"295\" y=\"-174.3\">(None, 4096)</text>\n</g>\n<!-- 140040439690832&#45;&gt;140045300393680 -->\n<g class=\"edge\" id=\"edge20\">\n<title>140040439690832-&gt;140045300393680</title>\n<path d=\"M212.5,-249.3799C212.5,-241.1745 212.5,-231.7679 212.5,-222.8786\" fill=\"none\" stroke=\"#000000\"/>\n<polygon fill=\"#000000\" points=\"216.0001,-222.784 212.5,-212.784 209.0001,-222.784 216.0001,-222.784\" stroke=\"#000000\"/>\n</g>\n<!-- 140040437626256 -->\n<g class=\"node\" id=\"node22\">\n<title>140040437626256</title>\n<polygon fill=\"none\" points=\"82.5,-83.5 82.5,-129.5 342.5,-129.5 342.5,-83.5 82.5,-83.5\" stroke=\"#000000\"/>\n<text fill=\"#000000\" font-family=\"Times,serif\" font-size=\"14.00\" text-anchor=\"middle\" x=\"136\" y=\"-102.8\">dense_4: Dense</text>\n<polyline fill=\"none\" points=\"189.5,-83.5 189.5,-129.5 \" stroke=\"#000000\"/>\n<text fill=\"#000000\" font-family=\"Times,serif\" font-size=\"14.00\" text-anchor=\"middle\" x=\"218.5\" y=\"-114.3\">input:</text>\n<polyline fill=\"none\" points=\"189.5,-106.5 247.5,-106.5 \" stroke=\"#000000\"/>\n<text fill=\"#000000\" font-family=\"Times,serif\" font-size=\"14.00\" text-anchor=\"middle\" x=\"218.5\" y=\"-91.3\">output:</text>\n<polyline fill=\"none\" points=\"247.5,-83.5 247.5,-129.5 \" stroke=\"#000000\"/>\n<text fill=\"#000000\" font-family=\"Times,serif\" font-size=\"14.00\" text-anchor=\"middle\" x=\"295\" y=\"-114.3\">(None, 4096)</text>\n<polyline fill=\"none\" points=\"247.5,-106.5 342.5,-106.5 \" stroke=\"#000000\"/>\n<text fill=\"#000000\" font-family=\"Times,serif\" font-size=\"14.00\" text-anchor=\"middle\" x=\"295\" y=\"-91.3\">(None, 4096)</text>\n</g>\n<!-- 140045300393680&#45;&gt;140040437626256 -->\n<g class=\"edge\" id=\"edge21\">\n<title>140045300393680-&gt;140040437626256</title>\n<path d=\"M212.5,-166.3799C212.5,-158.1745 212.5,-148.7679 212.5,-139.8786\" fill=\"none\" stroke=\"#000000\"/>\n<polygon fill=\"#000000\" points=\"216.0001,-139.784 212.5,-129.784 209.0001,-139.784 216.0001,-139.784\" stroke=\"#000000\"/>\n</g>\n<!-- 140040437031632 -->\n<g class=\"node\" id=\"node23\">\n<title>140040437031632</title>\n<polygon fill=\"none\" points=\"82.5,-.5 82.5,-46.5 342.5,-46.5 342.5,-.5 82.5,-.5\" stroke=\"#000000\"/>\n<text fill=\"#000000\" font-family=\"Times,serif\" font-size=\"14.00\" text-anchor=\"middle\" x=\"136\" y=\"-19.8\">dense_5: Dense</text>\n<polyline fill=\"none\" points=\"189.5,-.5 189.5,-46.5 \" stroke=\"#000000\"/>\n<text fill=\"#000000\" font-family=\"Times,serif\" font-size=\"14.00\" text-anchor=\"middle\" x=\"218.5\" y=\"-31.3\">input:</text>\n<polyline fill=\"none\" points=\"189.5,-23.5 247.5,-23.5 \" stroke=\"#000000\"/>\n<text fill=\"#000000\" font-family=\"Times,serif\" font-size=\"14.00\" text-anchor=\"middle\" x=\"218.5\" y=\"-8.3\">output:</text>\n<polyline fill=\"none\" points=\"247.5,-.5 247.5,-46.5 \" stroke=\"#000000\"/>\n<text fill=\"#000000\" font-family=\"Times,serif\" font-size=\"14.00\" text-anchor=\"middle\" x=\"295\" y=\"-31.3\">(None, 4096)</text>\n<polyline fill=\"none\" points=\"247.5,-23.5 342.5,-23.5 \" stroke=\"#000000\"/>\n<text fill=\"#000000\" font-family=\"Times,serif\" font-size=\"14.00\" text-anchor=\"middle\" x=\"295\" y=\"-8.3\">(None, 36)</text>\n</g>\n<!-- 140040437626256&#45;&gt;140040437031632 -->\n<g class=\"edge\" id=\"edge22\">\n<title>140040437626256-&gt;140040437031632</title>\n<path d=\"M212.5,-83.3799C212.5,-75.1745 212.5,-65.7679 212.5,-56.8786\" fill=\"none\" stroke=\"#000000\"/>\n<polygon fill=\"#000000\" points=\"216.0001,-56.784 212.5,-46.784 209.0001,-56.784 216.0001,-56.784\" stroke=\"#000000\"/>\n</g>\n</g>\n</svg>"
          },
          "metadata": {},
          "execution_count": 64
        }
      ]
    },
    {
      "cell_type": "code",
      "metadata": {
        "id": "rtv_cp9yZIeI"
      },
      "source": [
        "vgg16_model.compile(\n",
        "    optimizer=Adam(learning_rate=0.0001),\n",
        "    loss='categorical_crossentropy',\n",
        "    metrics=['accuracy']\n",
        ")"
      ],
      "execution_count": null,
      "outputs": []
    },
    {
      "cell_type": "code",
      "metadata": {
        "id": "G6LACvgnZ0fn"
      },
      "source": [
        "epochs=1\n",
        "batch_size=64\n",
        "random.seed(1)\n",
        "N=len(trainX)\n",
        "val_N = len(valX)\n",
        "index_list = np.random.permutation(val_N)\n",
        "batches = np.array_split(np.random.permutation(N), int(N/batch_size))\n",
        "for epoch in range(epochs):\n",
        "  print(\"\\n CURRENT EPOCH:{}\\n\".format(epoch))\n",
        "  for batch_index, batch in enumerate(batches):\n",
        "    print(\"BATCH:{}/{}\".format(batch_index, N/batch_size))\n",
        "    X_tmp = [trainX[i] for i in batch]\n",
        "    y = np.array([trainY[i] for i in batch])\n",
        "    val_index_list = np.random.permutation(val_N)\n",
        "    X_val_tmp = [valX[i] for i in np.random.choice(index_list, batch_size, replace=False)]\n",
        "    Y_val = np.array([valY[i] for i in np.random.choice(index_list, batch_size, replace=False)])\n",
        "\n",
        "    # denoise and upscale\n",
        "    X=[]\n",
        "    X_val=[]\n",
        "    for i in range(batch_size):\n",
        "      image = X_tmp[i]\n",
        "      denoised_img = denoise_img(image,56, reshape=False)\n",
        "      upscaled_denoised_img = cv2.resize(denoised_img, dsize=(224, 224), interpolation=cv2.INTER_CUBIC)\n",
        "      upscaled_denoised_img = upscaled_denoised_img.reshape(upscaled_denoised_img.shape + (1,))\n",
        "      X.append(upscaled_denoised_img)\n",
        "\n",
        "      image = X_val_tmp[i]\n",
        "      denoised_img = denoise_img(image,56, reshape=False)\n",
        "      upscaled_denoised_img = cv2.resize(denoised_img, dsize=(224, 224), interpolation=cv2.INTER_CUBIC)\n",
        "      upscaled_denoised_img = upscaled_denoised_img.reshape(upscaled_denoised_img.shape + (1,))\n",
        "      X_val.append(upscaled_denoised_img)\n",
        "\n",
        "    X = np.asanyarray(X, dtype='float64')\n",
        "    X_val = np.asanyarray(X_val, dtype='float64')\n",
        "\n",
        "    vgg16_history = vgg16_model.fit(\n",
        "        y,\n",
        "        validation_data=(X_val, Y_val),\n",
        "        epochs=1,\n",
        "        batch_size=batch_size\n",
        "    )"
      ],
      "execution_count": null,
      "outputs": []
    },
    {
      "cell_type": "markdown",
      "metadata": {
        "id": "fzlEfTHxwC0C"
      },
      "source": [
        "## Initial models"
      ]
    },
    {
      "cell_type": "markdown",
      "metadata": {
        "id": "yi31NzZ2xGVL"
      },
      "source": [
        "#### Model 2"
      ]
    },
    {
      "cell_type": "code",
      "metadata": {
        "id": "HjbeVzoG7VKX"
      },
      "source": [
        "def make_model_2():   \n",
        "  inputs = Input(shape=IMAGE_SIZE + (1,), name='input_layer')\n",
        "\n",
        "  preprocessing = preprocess(inputs)\n",
        "\n",
        "  numbers = Conv2D(32, 5, activation='relu', padding='same')(preprocessing)\n",
        "  numbers = Conv2D(32, 5, activation='relu')(numbers)\n",
        "  numbers = MaxPool2D()(numbers)\n",
        "  numbers = Conv2D(24, 5, activation='relu')(numbers)\n",
        "  numbers = MaxPool2D()(numbers)\n",
        "  numbers = Conv2D(20, 3, activation='relu')(numbers)\n",
        "  numbers = Flatten()(numbers)\n",
        "  numbers = Dropout(0.4)(numbers)\n",
        "  numbers = Dense(128, activation='relu')(numbers)\n",
        "  numbers = Dense(50, activation='relu')(numbers)\n",
        "  numbers_output = Dense(10, activation='softmax', name='number')(numbers)\n",
        "\n",
        "  letters = Conv2D(32, 5, activation='relu', padding='same')(preprocessing)\n",
        "  letters = Conv2D(32, 5, activation='relu')(letters)\n",
        "  letters = MaxPool2D()(letters)\n",
        "  letters = Conv2D(24, 5, activation='relu')(letters)\n",
        "  letters = MaxPool2D()(letters)\n",
        "  letters = Conv2D(20, 3, activation='relu')(letters)\n",
        "  letters = MaxPool2D()(letters)\n",
        "  letters = Flatten()(letters)\n",
        "  letters = Dropout(0.4)(letters)\n",
        "  letters = Dense(128, activation='relu')(letters)\n",
        "  letters = Dense(50, activation='relu')(letters)\n",
        "  letters_output = Dense(26, activation='softmax', name='letter')(letters)\n",
        "\n",
        "  output = tf.keras.layers.Concatenate()([numbers_output, letters_output])\n",
        "  return tf.keras.Model(inputs=inputs, outputs=output)"
      ],
      "execution_count": null,
      "outputs": []
    },
    {
      "cell_type": "code",
      "metadata": {
        "colab": {
          "base_uri": "https://localhost:8080/"
        },
        "id": "ZC2KjD0fkPRp",
        "outputId": "96a8ef11-3ca5-401c-cd03-a1aa1d9468bf"
      },
      "source": [
        "test_model = make_model_2()\n",
        "test_model.summary()"
      ],
      "execution_count": null,
      "outputs": [
        {
          "output_type": "stream",
          "name": "stdout",
          "text": [
            "Model: \"model\"\n",
            "__________________________________________________________________________________________________\n",
            " Layer (type)                   Output Shape         Param #     Connected to                     \n",
            "==================================================================================================\n",
            " input_layer (InputLayer)       [(None, 56, 56, 1)]  0           []                               \n",
            "                                                                                                  \n",
            " sequential (Sequential)        (None, 224, 224, 1)  0           ['input_layer[0][0]']            \n",
            "                                                                                                  \n",
            " conv2d_6 (Conv2D)              (None, 224, 224, 32  832         ['sequential[0][0]']             \n",
            "                                )                                                                 \n",
            "                                                                                                  \n",
            " conv2d_2 (Conv2D)              (None, 224, 224, 32  832         ['sequential[0][0]']             \n",
            "                                )                                                                 \n",
            "                                                                                                  \n",
            " conv2d_7 (Conv2D)              (None, 220, 220, 32  25632       ['conv2d_6[0][0]']               \n",
            "                                )                                                                 \n",
            "                                                                                                  \n",
            " conv2d_3 (Conv2D)              (None, 220, 220, 32  25632       ['conv2d_2[0][0]']               \n",
            "                                )                                                                 \n",
            "                                                                                                  \n",
            " max_pooling2d_4 (MaxPooling2D)  (None, 110, 110, 32  0          ['conv2d_7[0][0]']               \n",
            "                                )                                                                 \n",
            "                                                                                                  \n",
            " max_pooling2d_2 (MaxPooling2D)  (None, 110, 110, 32  0          ['conv2d_3[0][0]']               \n",
            "                                )                                                                 \n",
            "                                                                                                  \n",
            " conv2d_8 (Conv2D)              (None, 106, 106, 24  19224       ['max_pooling2d_4[0][0]']        \n",
            "                                )                                                                 \n",
            "                                                                                                  \n",
            " conv2d_4 (Conv2D)              (None, 106, 106, 24  19224       ['max_pooling2d_2[0][0]']        \n",
            "                                )                                                                 \n",
            "                                                                                                  \n",
            " max_pooling2d_5 (MaxPooling2D)  (None, 53, 53, 24)  0           ['conv2d_8[0][0]']               \n",
            "                                                                                                  \n",
            " max_pooling2d_3 (MaxPooling2D)  (None, 53, 53, 24)  0           ['conv2d_4[0][0]']               \n",
            "                                                                                                  \n",
            " conv2d_9 (Conv2D)              (None, 51, 51, 20)   4340        ['max_pooling2d_5[0][0]']        \n",
            "                                                                                                  \n",
            " conv2d_5 (Conv2D)              (None, 51, 51, 20)   4340        ['max_pooling2d_3[0][0]']        \n",
            "                                                                                                  \n",
            " max_pooling2d_6 (MaxPooling2D)  (None, 25, 25, 20)  0           ['conv2d_9[0][0]']               \n",
            "                                                                                                  \n",
            " flatten (Flatten)              (None, 52020)        0           ['conv2d_5[0][0]']               \n",
            "                                                                                                  \n",
            " flatten_1 (Flatten)            (None, 12500)        0           ['max_pooling2d_6[0][0]']        \n",
            "                                                                                                  \n",
            " dropout (Dropout)              (None, 52020)        0           ['flatten[0][0]']                \n",
            "                                                                                                  \n",
            " dropout_1 (Dropout)            (None, 12500)        0           ['flatten_1[0][0]']              \n",
            "                                                                                                  \n",
            " dense (Dense)                  (None, 128)          6658688     ['dropout[0][0]']                \n",
            "                                                                                                  \n",
            " dense_2 (Dense)                (None, 128)          1600128     ['dropout_1[0][0]']              \n",
            "                                                                                                  \n",
            " dense_1 (Dense)                (None, 50)           6450        ['dense[0][0]']                  \n",
            "                                                                                                  \n",
            " dense_3 (Dense)                (None, 50)           6450        ['dense_2[0][0]']                \n",
            "                                                                                                  \n",
            " number (Dense)                 (None, 10)           510         ['dense_1[0][0]']                \n",
            "                                                                                                  \n",
            " letter (Dense)                 (None, 26)           1326        ['dense_3[0][0]']                \n",
            "                                                                                                  \n",
            " concatenate (Concatenate)      (None, 36)           0           ['number[0][0]',                 \n",
            "                                                                  'letter[0][0]']                 \n",
            "                                                                                                  \n",
            "==================================================================================================\n",
            "Total params: 8,373,608\n",
            "Trainable params: 8,373,608\n",
            "Non-trainable params: 0\n",
            "__________________________________________________________________________________________________\n"
          ]
        }
      ]
    },
    {
      "cell_type": "markdown",
      "metadata": {
        "id": "_uTyMg8I8Xce"
      },
      "source": [
        "#### Model 3"
      ]
    },
    {
      "cell_type": "code",
      "metadata": {
        "id": "ha0Z8CLfaR7l"
      },
      "source": [
        "def make_model_3():\n",
        "  data_augmentation = Sequential([\n",
        "                                preprocessing.RandomFlip('vertical'),\n",
        "                                preprocessing.RandomRotation(0.2),\n",
        "                                preprocessing.RandomZoom(0.2),\n",
        "                                preprocessing.RandomTranslation(0.2, 0.2)\n",
        "  ])\n",
        "   \n",
        "  inputs = Input(shape=IMAGE_SIZE + (1,), name='input_layer')\n",
        "\n",
        "  x = data_augmentation(inputs)\n",
        "\n",
        "  numbers = Conv2D(32, 5, activation='relu', padding='same')(x)\n",
        "  numbers = Conv2D(32, 5, activation='relu')(numbers)\n",
        "  numbers = MaxPool2D()(numbers)\n",
        "  numbers = Conv2D(24, 5, activation='relu')(numbers)\n",
        "  numbers = MaxPool2D()(numbers)\n",
        "  numbers = Conv2D(20, 3, activation='relu')(numbers)\n",
        "  numbers = Flatten()(numbers)\n",
        "  numbers = Dropout(0.4)(numbers)\n",
        "  numbers = Dense(128, activation='relu')(numbers)\n",
        "  numbers = Dense(50, activation='relu')(numbers)\n",
        "  numbers_output = Dense(10, activation='softmax', name='number')(numbers)\n",
        "\n",
        "  letters = Conv2D(32, 5, activation='relu', padding='same')(x)\n",
        "  letters = Conv2D(32, 5, activation='relu')(letters)\n",
        "  letters = MaxPool2D()(letters)\n",
        "  letters = Conv2D(24, 5, activation='relu')(letters)\n",
        "  letters = MaxPool2D()(letters)\n",
        "  letters = Conv2D(20, 3, activation='relu')(letters)\n",
        "  letters = MaxPool2D()(letters)\n",
        "  letters = Flatten()(letters)\n",
        "  letters = Dropout(0.4)(letters)\n",
        "  letters = Dense(128, activation='relu')(letters)\n",
        "  letters = Dense(50, activation='relu')(letters)\n",
        "  letters_output = Dense(26, activation='softmax', name='letter')(letters)\n",
        "\n",
        "  output = tf.keras.layers.Concatenate()([numbers_output, letters_output])\n",
        "  return tf.keras.Model(inputs=inputs, outputs=output)"
      ],
      "execution_count": null,
      "outputs": []
    },
    {
      "cell_type": "markdown",
      "metadata": {
        "id": "5fjKirBW8d0D"
      },
      "source": [
        "#### Model 4"
      ]
    },
    {
      "cell_type": "code",
      "metadata": {
        "id": "QIPmOARLcvnR"
      },
      "source": [
        "def make_model_4():\n",
        "  data_augmentation = Sequential([\n",
        "                                preprocessing.RandomFlip('vertical'),\n",
        "                                preprocessing.RandomRotation(0.4),\n",
        "                                preprocessing.RandomZoom(0.4),\n",
        "                                preprocessing.RandomTranslation(0.4, 0.4)\n",
        "  ])\n",
        "   \n",
        "  inputs = Input(shape=IMAGE_SIZE + (1,), name='input_layer')\n",
        "\n",
        "  x = data_augmentation(inputs)\n",
        "\n",
        "  numbers = Conv2D(32, 5, activation='relu', padding='same')(x)\n",
        "  numbers = Conv2D(32, 5, activation='relu')(numbers)\n",
        "  numbers = MaxPool2D()(numbers)\n",
        "  numbers = Conv2D(24, 5, activation='relu')(numbers)\n",
        "  numbers = MaxPool2D()(numbers)\n",
        "  numbers = Conv2D(20, 3, activation='relu')(numbers)\n",
        "  numbers = Flatten()(numbers)\n",
        "  numbers = Dropout(0.4)(numbers)\n",
        "  numbers = Dense(128, activation='relu')(numbers)\n",
        "  numbers = Dense(50, activation='relu')(numbers)\n",
        "  numbers_output = Dense(10, activation='softmax', name='number')(numbers)\n",
        "\n",
        "  letters = Conv2D(32, 5, activation='relu', padding='same')(x)\n",
        "  letters = Conv2D(32, 5, activation='relu')(letters)\n",
        "  letters = MaxPool2D()(letters)\n",
        "  letters = Conv2D(24, 5, activation='relu')(letters)\n",
        "  letters = MaxPool2D()(letters)\n",
        "  letters = Conv2D(20, 3, activation='relu')(letters)\n",
        "  letters = MaxPool2D()(letters)\n",
        "  letters = Flatten()(letters)\n",
        "  letters = Dropout(0.4)(letters)\n",
        "  letters = Dense(128, activation='relu')(letters)\n",
        "  letters = Dense(50, activation='relu')(letters)\n",
        "  letters_output = Dense(26, activation='softmax', name='letter')(letters)\n",
        "\n",
        "  output = tf.keras.layers.Concatenate()([numbers_output, letters_output])\n",
        "  return tf.keras.Model(inputs=inputs, outputs=output)"
      ],
      "execution_count": null,
      "outputs": []
    },
    {
      "cell_type": "markdown",
      "metadata": {
        "id": "NqTYhgigxJSE"
      },
      "source": [
        "#### Run initial model"
      ]
    },
    {
      "cell_type": "code",
      "metadata": {
        "id": "XJlvP8CeYGJo"
      },
      "source": [
        "early_stop = tf.keras.callbacks.EarlyStopping(\n",
        "    monitor='val_loss',\n",
        "    patience=3\n",
        "    )"
      ],
      "execution_count": null,
      "outputs": []
    },
    {
      "cell_type": "code",
      "metadata": {
        "id": "26iO57Cka0GV"
      },
      "source": [
        "submission_2 = make_model_2()\n",
        "\n",
        "submission_2.compile(\n",
        "    loss='categorical_crossentropy',\n",
        "    optimizer=Adam(),\n",
        "    metrics=['accuracy']\n",
        ")\n",
        "\n",
        "submission_2_history = submission_2.fit(\n",
        "    train_data,\n",
        "    train_labels,\n",
        "    shuffle=True,\n",
        "    epochs=15,\n",
        "    batch_size=64,\n",
        "    validation_split=0.1,\n",
        "    callbacks=[\n",
        "               early_stopping\n",
        "    ]\n",
        ")"
      ],
      "execution_count": null,
      "outputs": []
    },
    {
      "cell_type": "code",
      "metadata": {
        "id": "lSaz2uzbbklI"
      },
      "source": [
        "write_out_preds(predictions_2, 'preds_2')"
      ],
      "execution_count": null,
      "outputs": []
    },
    {
      "cell_type": "markdown",
      "metadata": {
        "id": "n0rNWPF_oQ7q"
      },
      "source": [
        "## Model trained with denoise Images before Training"
      ]
    },
    {
      "cell_type": "code",
      "metadata": {
        "id": "banUYtxttc1j"
      },
      "source": [
        "# normalize\n",
        "denoised_train = (denoised_train+np.abs(np.min(denoised_train)))/(np.max(denoised_train)+np.abs(np.min(denoised_train)))"
      ],
      "execution_count": null,
      "outputs": []
    },
    {
      "cell_type": "code",
      "metadata": {
        "id": "ZVJKJ7AboVT-"
      },
      "source": [
        "net = ResNet18()\n",
        "if torch.cuda.is_available():\n",
        "    net.cuda()\n",
        "\n",
        "loss_function = nn.BCELoss()\n",
        "optimizer = optim.SGD(net.parameters(), lr=1e-3, momentum=0.95, weight_decay=1e-5)\n",
        "\n",
        "\n",
        "X_train, X_cv, y_train, y_cv = train_test_split(denoised_train, train_label, test_size = 0.2, random_state = 6996)\n",
        "X_train = torch.from_numpy(X_train)\n",
        "X_train = X_train.view(-1,1,56,56).float()\n",
        "X_cv = torch.from_numpy(X_cv)\n",
        "X_cv = X_cv.view(-1,1,56,56).float()\n",
        "y_train = torch.from_numpy(y_train).type(torch.LongTensor)\n",
        "y_cv = torch.from_numpy(y_cv).type(torch.LongTensor)\n",
        "\n",
        "\n",
        "tranform_aug1 = transforms.Compose([transforms.RandomAffine(\n",
        "    degrees=(-15,0), translate=(0.01, 0.01), fill=0, shear=0.15)])\n",
        "tranform_aug2 = transforms.Compose([transforms.RandomAffine(\n",
        "    degrees=(0,15), translate=(0.01, 0.01), fill=0, shear=0.15)])\n",
        "\n",
        "train_loader = getDataLoader(X_train, y_train, transforms=[None, transform_aug1, transform_aug2])"
      ],
      "execution_count": null,
      "outputs": []
    },
    {
      "cell_type": "code",
      "metadata": {
        "colab": {
          "base_uri": "https://localhost:8080/",
          "height": 1000,
          "referenced_widgets": [
            "faaf324c3730471894fb89a8ce9b5def",
            "d68e72139bf0440aa29a37bc1a921028",
            "4846572a2a8f4bf4b1d92a714082c70d",
            "19c8fea206ec4959a4c956fec9a99a50",
            "45eacf49e8a340e2be5541a05e3eff43",
            "f2c9f4a91dca4b779a88784e7532d54b",
            "7a4f2ad33f1d4a1991519d3e364859d4",
            "18fa9137c459435ba77781bce1ce3562",
            "7e414def802944459eebb34fa45bb240",
            "a1fb97c8d9d540dfb181d132f61224eb",
            "478210d020ae412a979734b6c400054f",
            "f45656a226a04a3295d197b681681b76",
            "75f41203b9ec4032a4fd76a5f3baf39e",
            "d21c6c5a3fdb4fe584a5a0ba585583b0",
            "ae0df110972b4a79ab5addcf8942461f",
            "452341811d6845de8fa5cfa17e1782c6",
            "9bdc4eaa16734b3ca8fbf4c8ae378c48",
            "49357c503d5f40b3b09deb4938d5347b",
            "8037e69beb084a25a78eb17152caad10",
            "e6fabc57c2964ab6b67751cb0bf37f0b",
            "2dd973db2fec40a395f26bcb596ea978",
            "26a3b83acf454d07bac4bbf4a1b8e1f6",
            "788f15fbd889491ab3295950c9f8b7e4",
            "af34d30e27604ec4907f1e34a461b95b",
            "f035bcf87d8e4661abbe1ab08cb8f93b",
            "1a1209653eee46ddbbcd7fd79f451c99",
            "0e16112b9ba74bdbbc7579547699aea8",
            "054bb28f27a24a08a83b0522e4723fcc",
            "9bcaad21b02a444797a4521ea116d62c",
            "370007fb7e254824bf545ec93ea0d560",
            "38ddf00d4c1e4d0bbc5dc4f7a602c24c",
            "7a26c59b368d44b8a0166813ae1d8d7b",
            "d1cb0d443bb441db9354050726a134af",
            "92825f08960d409b9be36150672f6783",
            "a82423d7a3c346eeb7aa552d53d75d6b",
            "de051621b57340209896112328f36398",
            "e0366e3b5cb7416c884eaea8615d3d9d",
            "5908787607874285b4910d1d6d6699c0",
            "9a4c4a581fe54ce695a5905861c2c66c",
            "ce2f0c9aeeb94bfeac4751c69789fda3",
            "64d835706d334a0cb1f861787520cc62",
            "0b8c0fa44bf946b1932bcbae940b03f1",
            "5e51e2f1e5c64ea6995812e0ad3a4b6b",
            "c16bd1b5da3c4acbad2795de7e55b52b",
            "be85f26364874a2d9a4b08fd664252f5",
            "45f2473b8af644cb9c6258b9878d6ef1",
            "23663cce77ec4afbb2cff17841c68704",
            "e3b252fc3930440787cca43095850ddb",
            "e2ef0f2dacfd44df974ad2df68dd5df4",
            "e3facd1159a346628a7ae8b1b97d45b2",
            "dad24be96fc541c9979e1d2a119ebda2",
            "cbb576b6b04f4a96a31a48f02338beb2",
            "f260ff3569214fdcbf43e15808856d7d",
            "d8bef6e0bab34bbdb1c7b57d2a4a2392",
            "fec0103727964582b74bb283054354d4",
            "638de0c5b45e44ebbd691739d608857e",
            "aaa89e5400ba4c0e80a443a5b4403aab",
            "361c4c1948f64883930fa5bda08acbc3",
            "8805e16fe27b43ca8e38540cc5a4cc72",
            "f32c891ca0b74fc796738ee13bfd90ba",
            "4049347f7f474471b6dc31131892ae11",
            "1e9d9306128544cc8a0a0f60d2546b6a",
            "b24eb095fd37461cb38afacbde93aee9",
            "6b3d3b7f8db7407abdd4b68d14aa3b81",
            "2440aff91f4b46e5b6a4bcd086e9bb36",
            "e840228d63af45e4a079d2818bad01af",
            "b7a4b426266c4d7a81d3c063639ae5d2",
            "b0cb3a2f52a94755adf994e2341c4965",
            "f61ea303aee944288ed246221529f026",
            "ab08a674f0b543728a46149efdeed5eb",
            "c61057674e86423aace118bcf66229e4",
            "7adb936b6ebf48bfaf7d07aef6e0cbb0",
            "280a991ce90d4528a9b92a53bd0f0dae",
            "4bb3b598a90d43ebbef6e34f1bd75994",
            "1ab42e51493a4773aaa6aaaacf20a44b",
            "06fc30a2811b425783c9b92a6c375313",
            "0c18c474c34e410282a04646867fc2a0",
            "a4dcee143584481fa1a0f41aee65be8e",
            "120bffb33c6f443fb143bb0a0022478a",
            "392c98c9bd6a40059e6bb0eacce06c8b",
            "17dc92cad1b847ab83a6b82e8f65658e",
            "bc4c14fbb7ca42a3a6c7c849b717eb7f",
            "c497246a418d496e98201638a539585e",
            "5b7f92eab80c48c39af1c8703722d04f",
            "6131e306c3f24d828208196b348d41ab",
            "e7e5b088669c410088c69ac9812f769f",
            "6fa221b4700c4c0f89d5a69441e093fb",
            "1cca1640d16042bf9b23bb8482a53133",
            "ed1fa5959de64506824744cee3d56bd0",
            "d5db8ebde5de46c6aaf688e58ea4c23c",
            "4b6109904752417fb723209d9fa08516",
            "8109a11e9a1847d3b9c259f1b6ad1466",
            "7511270ba29f4d25ad24b22921dd7301",
            "2e4410cb7af64e19ac38e1c14552ee07",
            "e5c3ba4a659b40b592ff800cf2168e98",
            "5298e9829daa4ccc9d029f870e951313",
            "9cab5052a1f746a1935d79f218e82907",
            "530e64d365d94cfcb48ad72435f65306",
            "c8e92ea037694554b79885a7c7d90cbd",
            "15e46612483d42f3b06ba14250e233e7",
            "8201d70ef40848619032dfb0ed6f25a0",
            "99b38e5a08384e33b56ae5d761d5de82",
            "e0b9a7df939d4855bdc007d5c979b092",
            "0b6cf6d023a24f1aa03a95fa5cfab004",
            "0404936d2cf44475af9fa2fc479fef19",
            "46db642826d0423e829f22212909fccb",
            "cefa1b98607c45d1ac7d269cf2f7f79d",
            "e148631334e54995b9800d0b3ede4fae",
            "3c8229b02b354e539d24c4a981eee030",
            "5917b6838c2843e9ad5340da1822b9bf",
            "4d84ab38fe9a406d9f9dc089a5f6fa00",
            "793fdaa840174816a29201375c5bf8f9",
            "d5b792e6087a4a2cbf20be6d6dd8c3a7",
            "7ffef58eff614e4993a2470dad96f284",
            "a9b0c3e0fb2c411bbb340fa4929ab839",
            "35a6db0d2de947aabd835e5b23c26597",
            "ec86402de18b4d01a648886af3d10fa1",
            "2ceb60c1ed59422ba81e1cc5ed73a683",
            "1b78dfa0229d40e8931d31c746957888",
            "5a8cd57cdec7483aabc20981c4b67513",
            "7da652cf07cf4659a8e520202849cedf",
            "d6727717f7814f6880af2fe8c168183d",
            "21a275ec8a0c4e5a984a00a399fe5026",
            "682c7262b8c5494dbfbe64c37100ba2f",
            "ce4b0491696b48ecaed0a76792497aac",
            "e2446b7f05c04507ae537c507445d946",
            "cc35cf16a12b46b7a082b355396db59f",
            "f89fd68df60c45cfa71861518e6230ab",
            "15f87bbb92cd4f9194cb146b979da86f",
            "767390fb69b9407089bb06048996b1dc",
            "51dac27435cc46bea5275e4e6119d2e4",
            "3d37872ea10c40178eb61e9337aabc9f",
            "be6a0e7e2c894085957c4b725220956f",
            "c0f14ffa1f5244a387688894dfa2aa11",
            "fecd095054f3416891570654d26dbe2e",
            "1caa8daaaf444aad9ae13eb68dc776d8",
            "7d953feb19cc49299d58c54826ff89d9",
            "511e912f448342b2a638ef989ae095b8",
            "a53bfb2919a0457e926a7997fb7f6d0c",
            "807f08cc8e554924abf6bd27a0a6acad",
            "4d36fa77417c41ffb3fafe9ca4703199",
            "95b712c28e9c45a59012dc98c2ff332d",
            "a9af5630d4964f6b956b81f8012bb100",
            "b0245160a867489db066a83795f5c77e",
            "0ed6c501320e43388fd1330d77c77b8b",
            "851392576521447eb7d69ddf154ea7a2",
            "40ff2011528d45c6b0cd954d67a089e6",
            "47cef71dd7c84623bdc5437b93e4c43e",
            "2a118a46eed4479d8b77804dc3ad2caf",
            "0a3654cb301446d5831d7684f38c85ae",
            "cd5243b7d62140a1af0e882d75f427eb",
            "dde02516262847f2a6ac7f19730a2e56",
            "b0bbcb3c0a6040a49a40d10ed8f94966",
            "28e8d86524a34d4d911fd4afaf557b27",
            "3eaad3b1a94d4edea30d88ee3b057d59",
            "3d6326d06bc14202ab82aa20a5047686",
            "4e27de3a8b0f46458f589c77943d7b7a",
            "4cc39cd01aa945559f2b50d8b16208aa",
            "0382596054214ad19b253019a2469f47",
            "3430c09abd62447eaf6098b05e5a7232",
            "c82a986189df4ccabbbc47d6c34873c7",
            "1fef831dc4694005ba4073938b663f59",
            "f5f9bcac723a4bcea128ae51ef97f310",
            "7ca19636804c471997611f22cbf4b881",
            "4cf5afdfdbdd4ae8bd3194a8bcf87137"
          ]
        },
        "id": "qwQn4E5eQhnW",
        "outputId": "10e840b0-f05e-409e-d436-7bb014a0e00b"
      },
      "source": [
        "tr_l, tst_l, tr_accu, tst_accu = fit_model(net, train_loader=train_loader, val_loader=val_loader, epochs=15)"
      ],
      "execution_count": null,
      "outputs": [
        {
          "output_type": "display_data",
          "data": {
            "application/vnd.jupyter.widget-view+json": {
              "model_id": "faaf324c3730471894fb89a8ce9b5def",
              "version_minor": 0,
              "version_major": 2
            },
            "text/plain": [
              "  0%|          | 0/1125 [00:00<?, ?it/s]"
            ]
          },
          "metadata": {}
        },
        {
          "output_type": "stream",
          "name": "stdout",
          "text": [
            "[Epoch: 1/15]  [Training Loss: 0.125] \n",
            "[Val Loss: 0.073]  [Val Accuracy: 0.59]\n"
          ]
        },
        {
          "output_type": "display_data",
          "data": {
            "application/vnd.jupyter.widget-view+json": {
              "model_id": "f45656a226a04a3295d197b681681b76",
              "version_minor": 0,
              "version_major": 2
            },
            "text/plain": [
              "  0%|          | 0/1125 [00:00<?, ?it/s]"
            ]
          },
          "metadata": {}
        },
        {
          "output_type": "stream",
          "name": "stdout",
          "text": [
            "[Epoch: 2/15]  [Training Loss: 0.061] \n",
            "[Val Loss: 0.054]  [Val Accuracy: 0.70]\n"
          ]
        },
        {
          "output_type": "display_data",
          "data": {
            "application/vnd.jupyter.widget-view+json": {
              "model_id": "788f15fbd889491ab3295950c9f8b7e4",
              "version_minor": 0,
              "version_major": 2
            },
            "text/plain": [
              "  0%|          | 0/1125 [00:00<?, ?it/s]"
            ]
          },
          "metadata": {}
        },
        {
          "output_type": "stream",
          "name": "stdout",
          "text": [
            "[Epoch: 3/15]  [Training Loss: 0.046] \n",
            "[Val Loss: 0.043]  [Val Accuracy: 0.78]\n"
          ]
        },
        {
          "output_type": "display_data",
          "data": {
            "application/vnd.jupyter.widget-view+json": {
              "model_id": "92825f08960d409b9be36150672f6783",
              "version_minor": 0,
              "version_major": 2
            },
            "text/plain": [
              "  0%|          | 0/1125 [00:00<?, ?it/s]"
            ]
          },
          "metadata": {}
        },
        {
          "output_type": "stream",
          "name": "stdout",
          "text": [
            "[Epoch: 4/15]  [Training Loss: 0.040] \n",
            "[Val Loss: 0.037]  [Val Accuracy: 0.81]\n"
          ]
        },
        {
          "output_type": "display_data",
          "data": {
            "application/vnd.jupyter.widget-view+json": {
              "model_id": "be85f26364874a2d9a4b08fd664252f5",
              "version_minor": 0,
              "version_major": 2
            },
            "text/plain": [
              "  0%|          | 0/1125 [00:00<?, ?it/s]"
            ]
          },
          "metadata": {}
        },
        {
          "output_type": "stream",
          "name": "stdout",
          "text": [
            "[Epoch: 5/15]  [Training Loss: 0.036] \n",
            "[Val Loss: 0.036]  [Val Accuracy: 0.81]\n"
          ]
        },
        {
          "output_type": "display_data",
          "data": {
            "application/vnd.jupyter.widget-view+json": {
              "model_id": "638de0c5b45e44ebbd691739d608857e",
              "version_minor": 0,
              "version_major": 2
            },
            "text/plain": [
              "  0%|          | 0/1125 [00:00<?, ?it/s]"
            ]
          },
          "metadata": {}
        },
        {
          "output_type": "stream",
          "name": "stdout",
          "text": [
            "[Epoch: 6/15]  [Training Loss: 0.033] \n",
            "[Val Loss: 0.036]  [Val Accuracy: 0.82]\n"
          ]
        },
        {
          "output_type": "display_data",
          "data": {
            "application/vnd.jupyter.widget-view+json": {
              "model_id": "b7a4b426266c4d7a81d3c063639ae5d2",
              "version_minor": 0,
              "version_major": 2
            },
            "text/plain": [
              "  0%|          | 0/1125 [00:00<?, ?it/s]"
            ]
          },
          "metadata": {}
        },
        {
          "output_type": "stream",
          "name": "stdout",
          "text": [
            "[Epoch: 7/15]  [Training Loss: 0.032] \n",
            "[Val Loss: 0.037]  [Val Accuracy: 0.81]\n"
          ]
        },
        {
          "output_type": "display_data",
          "data": {
            "application/vnd.jupyter.widget-view+json": {
              "model_id": "a4dcee143584481fa1a0f41aee65be8e",
              "version_minor": 0,
              "version_major": 2
            },
            "text/plain": [
              "  0%|          | 0/1125 [00:00<?, ?it/s]"
            ]
          },
          "metadata": {}
        },
        {
          "output_type": "stream",
          "name": "stdout",
          "text": [
            "[Epoch: 8/15]  [Training Loss: 0.030] \n",
            "[Val Loss: 0.033]  [Val Accuracy: 0.84]\n"
          ]
        },
        {
          "output_type": "display_data",
          "data": {
            "application/vnd.jupyter.widget-view+json": {
              "model_id": "ed1fa5959de64506824744cee3d56bd0",
              "version_minor": 0,
              "version_major": 2
            },
            "text/plain": [
              "  0%|          | 0/1125 [00:00<?, ?it/s]"
            ]
          },
          "metadata": {}
        },
        {
          "output_type": "stream",
          "name": "stdout",
          "text": [
            "[Epoch: 9/15]  [Training Loss: 0.030] \n",
            "[Val Loss: 0.032]  [Val Accuracy: 0.84]\n"
          ]
        },
        {
          "output_type": "display_data",
          "data": {
            "application/vnd.jupyter.widget-view+json": {
              "model_id": "15e46612483d42f3b06ba14250e233e7",
              "version_minor": 0,
              "version_major": 2
            },
            "text/plain": [
              "  0%|          | 0/1125 [00:00<?, ?it/s]"
            ]
          },
          "metadata": {}
        },
        {
          "output_type": "stream",
          "name": "stdout",
          "text": [
            "[Epoch: 10/15]  [Training Loss: 0.029] \n",
            "[Val Loss: 0.031]  [Val Accuracy: 0.84]\n"
          ]
        },
        {
          "output_type": "display_data",
          "data": {
            "application/vnd.jupyter.widget-view+json": {
              "model_id": "4d84ab38fe9a406d9f9dc089a5f6fa00",
              "version_minor": 0,
              "version_major": 2
            },
            "text/plain": [
              "  0%|          | 0/1125 [00:00<?, ?it/s]"
            ]
          },
          "metadata": {}
        },
        {
          "output_type": "stream",
          "name": "stdout",
          "text": [
            "[Epoch: 11/15]  [Training Loss: 0.028] \n",
            "[Val Loss: 0.034]  [Val Accuracy: 0.82]\n"
          ]
        },
        {
          "output_type": "display_data",
          "data": {
            "application/vnd.jupyter.widget-view+json": {
              "model_id": "d6727717f7814f6880af2fe8c168183d",
              "version_minor": 0,
              "version_major": 2
            },
            "text/plain": [
              "  0%|          | 0/1125 [00:00<?, ?it/s]"
            ]
          },
          "metadata": {}
        },
        {
          "output_type": "stream",
          "name": "stdout",
          "text": [
            "[Epoch: 12/15]  [Training Loss: 0.027] \n",
            "[Val Loss: 0.030]  [Val Accuracy: 0.85]\n"
          ]
        },
        {
          "output_type": "display_data",
          "data": {
            "application/vnd.jupyter.widget-view+json": {
              "model_id": "be6a0e7e2c894085957c4b725220956f",
              "version_minor": 0,
              "version_major": 2
            },
            "text/plain": [
              "  0%|          | 0/1125 [00:00<?, ?it/s]"
            ]
          },
          "metadata": {}
        },
        {
          "output_type": "stream",
          "name": "stdout",
          "text": [
            "[Epoch: 13/15]  [Training Loss: 0.027] \n",
            "[Val Loss: 0.030]  [Val Accuracy: 0.85]\n"
          ]
        },
        {
          "output_type": "display_data",
          "data": {
            "application/vnd.jupyter.widget-view+json": {
              "model_id": "b0245160a867489db066a83795f5c77e",
              "version_minor": 0,
              "version_major": 2
            },
            "text/plain": [
              "  0%|          | 0/1125 [00:00<?, ?it/s]"
            ]
          },
          "metadata": {}
        },
        {
          "output_type": "stream",
          "name": "stdout",
          "text": [
            "[Epoch: 14/15]  [Training Loss: 0.027] \n",
            "[Val Loss: 0.031]  [Val Accuracy: 0.84]\n"
          ]
        },
        {
          "output_type": "display_data",
          "data": {
            "application/vnd.jupyter.widget-view+json": {
              "model_id": "3eaad3b1a94d4edea30d88ee3b057d59",
              "version_minor": 0,
              "version_major": 2
            },
            "text/plain": [
              "  0%|          | 0/1125 [00:00<?, ?it/s]"
            ]
          },
          "metadata": {}
        },
        {
          "output_type": "stream",
          "name": "stdout",
          "text": [
            "[Epoch: 15/15]  [Training Loss: 0.027] \n",
            "[Val Loss: 0.032]  [Val Accuracy: 0.84]\n"
          ]
        }
      ]
    },
    {
      "cell_type": "code",
      "metadata": {
        "colab": {
          "base_uri": "https://localhost:8080/",
          "height": 573
        },
        "id": "lpHwmc8Qos0U",
        "outputId": "c8485059-a7ea-4d9e-d13c-f47baf7bbdf3"
      },
      "source": [
        "plot(tr_l, tst_l, tr_accu, tst_accu)"
      ],
      "execution_count": null,
      "outputs": [
        {
          "output_type": "display_data",
          "data": {
            "image/png": "[encoded data removed]",
            "text/plain": [
              "<Figure size 432x288 with 1 Axes>"
            ]
          },
          "metadata": {
            "needs_background": "light"
          }
        },
        {
          "output_type": "display_data",
          "data": {
            "image/png": "[encoded data removed]",
            "text/plain": [
              "<Figure size 432x288 with 1 Axes>"
            ]
          },
          "metadata": {
            "needs_background": "light"
          }
        }
      ]
    }
  ]
}